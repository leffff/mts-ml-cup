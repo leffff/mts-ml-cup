{
 "cells": [
  {
   "cell_type": "code",
   "execution_count": 1,
   "id": "4892701c",
   "metadata": {
    "ExecuteTime": {
     "end_time": "2023-02-02T12:28:14.431711Z",
     "start_time": "2023-02-02T12:28:14.425091Z"
    }
   },
   "outputs": [],
   "source": [
    "import gc\n",
    "import sys\n",
    "import os\n",
    "import warnings\n",
    "\n",
    "sys.path.append(os.path.abspath(\"modules/\"))\n",
    "sys.path.append(os.path.abspath(\"fe_modules/\"))\n",
    "sys.path.append(os.path.abspath(\"seq2seq_modules/\"))\n",
    "\n",
    "os.environ['OPENBLAS_NUM_THREADS'] = '1'\n",
    "warnings.filterwarnings('ignore')"
   ]
  },
  {
   "cell_type": "code",
   "execution_count": 2,
   "id": "c0e8bcea",
   "metadata": {
    "ExecuteTime": {
     "end_time": "2023-02-02T12:28:17.470282Z",
     "start_time": "2023-02-02T12:28:14.651171Z"
    }
   },
   "outputs": [],
   "source": [
    "import pandas as pd\n",
    "import numpy as np\n",
    "import time\n",
    "import polars as pl\n",
    "import scipy\n",
    "import implicit\n",
    "import bisect\n",
    "import sklearn.metrics as m\n",
    "from catboost import CatBoostClassifier, CatBoostRegressor, Pool\n",
    "from sklearn.model_selection import train_test_split\n",
    "from sklearn.calibration import calibration_curve, CalibratedClassifierCV"
   ]
  },
  {
   "cell_type": "code",
   "execution_count": 3,
   "id": "1c7aa5d5",
   "metadata": {
    "ExecuteTime": {
     "end_time": "2023-02-02T12:28:26.405251Z",
     "start_time": "2023-02-02T12:28:26.394474Z"
    }
   },
   "outputs": [],
   "source": [
    "import importlib\n",
    "\n",
    "import modules\n",
    "import fe_modules\n",
    "\n",
    "importlib.reload(modules)\n",
    "importlib.reload(fe_modules)\n",
    "\n",
    "from modules.memory_utils import pandas_reduce_mem_usage, pandas_string_to_cat, my_reset\n",
    "from fe_modules.text_manipulation import get_domain\n",
    "from fe_modules.datetime_features import get_timestamp, get_relative_time, part_of_day_to_hour, add_hour_to_date\n",
    "from fe_modules.preprocessing import clean_os_type"
   ]
  },
  {
   "cell_type": "markdown",
   "id": "965c1531",
   "metadata": {},
   "source": [
    "# Load data"
   ]
  },
  {
   "cell_type": "code",
   "execution_count": 4,
   "id": "ed76998f",
   "metadata": {
    "ExecuteTime": {
     "end_time": "2023-02-02T12:28:30.947423Z",
     "start_time": "2023-02-02T12:28:30.940937Z"
    }
   },
   "outputs": [],
   "source": [
    "LOCAL_DATA_PATH = './data/'\n",
    "SPLIT_SEED = 42"
   ]
  },
  {
   "cell_type": "code",
   "execution_count": 5,
   "id": "67f4618d",
   "metadata": {
    "ExecuteTime": {
     "end_time": "2023-02-02T12:28:44.266904Z",
     "start_time": "2023-02-02T12:28:31.172082Z"
    },
    "scrolled": true
   },
   "outputs": [
    {
     "name": "stdout",
     "output_type": "stream",
     "text": [
      "Memory usage of dataframe is 29562.33 MB\n"
     ]
    },
    {
     "name": "stderr",
     "output_type": "stream",
     "text": [
      "100%|██████████████████████████████████████████████████████████████████████████████████████████████████████████████████████████████████████████████████████████████████████████████████████████| 12/12 [00:03<00:00,  3.46it/s]"
     ]
    },
    {
     "name": "stdout",
     "output_type": "stream",
     "text": [
      "Memory usage after optimization is: 24943.21 MB\n",
      "Decreased by 15.6%\n"
     ]
    },
    {
     "name": "stderr",
     "output_type": "stream",
     "text": [
      "\n"
     ]
    },
    {
     "data": {
      "text/html": [
       "<div>\n",
       "<style scoped>\n",
       "    .dataframe tbody tr th:only-of-type {\n",
       "        vertical-align: middle;\n",
       "    }\n",
       "\n",
       "    .dataframe tbody tr th {\n",
       "        vertical-align: top;\n",
       "    }\n",
       "\n",
       "    .dataframe thead th {\n",
       "        text-align: right;\n",
       "    }\n",
       "</style>\n",
       "<table border=\"1\" class=\"dataframe\">\n",
       "  <thead>\n",
       "    <tr style=\"text-align: right;\">\n",
       "      <th></th>\n",
       "      <th>region_name</th>\n",
       "      <th>city_name</th>\n",
       "      <th>cpe_manufacturer_name</th>\n",
       "      <th>cpe_model_name</th>\n",
       "      <th>url_host</th>\n",
       "      <th>cpe_type_cd</th>\n",
       "      <th>cpe_model_os_type</th>\n",
       "      <th>price</th>\n",
       "      <th>date</th>\n",
       "      <th>part_of_day</th>\n",
       "      <th>request_cnt</th>\n",
       "      <th>user_id</th>\n",
       "    </tr>\n",
       "  </thead>\n",
       "  <tbody>\n",
       "    <tr>\n",
       "      <th>0</th>\n",
       "      <td>Краснодарский край</td>\n",
       "      <td>Краснодар</td>\n",
       "      <td>Apple</td>\n",
       "      <td>iPhone 7</td>\n",
       "      <td>ad.adriver.ru</td>\n",
       "      <td>smartphone</td>\n",
       "      <td>iOS</td>\n",
       "      <td>20368.0</td>\n",
       "      <td>2022-06-15</td>\n",
       "      <td>morning</td>\n",
       "      <td>1</td>\n",
       "      <td>45098</td>\n",
       "    </tr>\n",
       "    <tr>\n",
       "      <th>1</th>\n",
       "      <td>Краснодарский край</td>\n",
       "      <td>Краснодар</td>\n",
       "      <td>Apple</td>\n",
       "      <td>iPhone 7</td>\n",
       "      <td>apple.com</td>\n",
       "      <td>smartphone</td>\n",
       "      <td>iOS</td>\n",
       "      <td>20368.0</td>\n",
       "      <td>2022-06-19</td>\n",
       "      <td>morning</td>\n",
       "      <td>1</td>\n",
       "      <td>45098</td>\n",
       "    </tr>\n",
       "    <tr>\n",
       "      <th>2</th>\n",
       "      <td>Краснодарский край</td>\n",
       "      <td>Краснодар</td>\n",
       "      <td>Apple</td>\n",
       "      <td>iPhone 7</td>\n",
       "      <td>avatars.mds.yandex.net</td>\n",
       "      <td>smartphone</td>\n",
       "      <td>iOS</td>\n",
       "      <td>20368.0</td>\n",
       "      <td>2022-06-12</td>\n",
       "      <td>day</td>\n",
       "      <td>1</td>\n",
       "      <td>45098</td>\n",
       "    </tr>\n",
       "    <tr>\n",
       "      <th>3</th>\n",
       "      <td>Краснодарский край</td>\n",
       "      <td>Краснодар</td>\n",
       "      <td>Apple</td>\n",
       "      <td>iPhone 7</td>\n",
       "      <td>googleads.g.doubleclick.net</td>\n",
       "      <td>smartphone</td>\n",
       "      <td>iOS</td>\n",
       "      <td>20368.0</td>\n",
       "      <td>2022-05-16</td>\n",
       "      <td>day</td>\n",
       "      <td>1</td>\n",
       "      <td>45098</td>\n",
       "    </tr>\n",
       "    <tr>\n",
       "      <th>4</th>\n",
       "      <td>Краснодарский край</td>\n",
       "      <td>Краснодар</td>\n",
       "      <td>Apple</td>\n",
       "      <td>iPhone 7</td>\n",
       "      <td>googleads.g.doubleclick.net</td>\n",
       "      <td>smartphone</td>\n",
       "      <td>iOS</td>\n",
       "      <td>20368.0</td>\n",
       "      <td>2022-05-30</td>\n",
       "      <td>day</td>\n",
       "      <td>1</td>\n",
       "      <td>45098</td>\n",
       "    </tr>\n",
       "    <tr>\n",
       "      <th>...</th>\n",
       "      <td>...</td>\n",
       "      <td>...</td>\n",
       "      <td>...</td>\n",
       "      <td>...</td>\n",
       "      <td>...</td>\n",
       "      <td>...</td>\n",
       "      <td>...</td>\n",
       "      <td>...</td>\n",
       "      <td>...</td>\n",
       "      <td>...</td>\n",
       "      <td>...</td>\n",
       "      <td>...</td>\n",
       "    </tr>\n",
       "    <tr>\n",
       "      <th>322899430</th>\n",
       "      <td>Калужская область</td>\n",
       "      <td>Обнинск</td>\n",
       "      <td>Samsung</td>\n",
       "      <td>Galaxy A30s Dual</td>\n",
       "      <td>avatars.mds.yandex.net</td>\n",
       "      <td>smartphone</td>\n",
       "      <td>Android</td>\n",
       "      <td>16376.0</td>\n",
       "      <td>2021-07-12</td>\n",
       "      <td>morning</td>\n",
       "      <td>1</td>\n",
       "      <td>300964</td>\n",
       "    </tr>\n",
       "    <tr>\n",
       "      <th>322899431</th>\n",
       "      <td>Калужская область</td>\n",
       "      <td>Обнинск</td>\n",
       "      <td>Samsung</td>\n",
       "      <td>Galaxy A30s Dual</td>\n",
       "      <td>googleads.g.doubleclick.net</td>\n",
       "      <td>smartphone</td>\n",
       "      <td>Android</td>\n",
       "      <td>16376.0</td>\n",
       "      <td>2021-06-20</td>\n",
       "      <td>evening</td>\n",
       "      <td>1</td>\n",
       "      <td>300964</td>\n",
       "    </tr>\n",
       "    <tr>\n",
       "      <th>322899432</th>\n",
       "      <td>Калужская область</td>\n",
       "      <td>Обнинск</td>\n",
       "      <td>Samsung</td>\n",
       "      <td>Galaxy A30s Dual</td>\n",
       "      <td>online.sberbank.ru</td>\n",
       "      <td>smartphone</td>\n",
       "      <td>Android</td>\n",
       "      <td>16376.0</td>\n",
       "      <td>2021-08-05</td>\n",
       "      <td>day</td>\n",
       "      <td>1</td>\n",
       "      <td>300964</td>\n",
       "    </tr>\n",
       "    <tr>\n",
       "      <th>322899433</th>\n",
       "      <td>Калужская область</td>\n",
       "      <td>Обнинск</td>\n",
       "      <td>Samsung</td>\n",
       "      <td>Galaxy A30s Dual</td>\n",
       "      <td>s0.2mdn.net</td>\n",
       "      <td>smartphone</td>\n",
       "      <td>Android</td>\n",
       "      <td>16376.0</td>\n",
       "      <td>2021-07-19</td>\n",
       "      <td>evening</td>\n",
       "      <td>1</td>\n",
       "      <td>300964</td>\n",
       "    </tr>\n",
       "    <tr>\n",
       "      <th>322899434</th>\n",
       "      <td>Калужская область</td>\n",
       "      <td>Обнинск</td>\n",
       "      <td>Samsung</td>\n",
       "      <td>Galaxy A30s Dual</td>\n",
       "      <td>zen.yandex.ru</td>\n",
       "      <td>smartphone</td>\n",
       "      <td>Android</td>\n",
       "      <td>16376.0</td>\n",
       "      <td>2021-08-09</td>\n",
       "      <td>night</td>\n",
       "      <td>1</td>\n",
       "      <td>300964</td>\n",
       "    </tr>\n",
       "  </tbody>\n",
       "</table>\n",
       "<p>322899435 rows × 12 columns</p>\n",
       "</div>"
      ],
      "text/plain": [
       "                  region_name  city_name cpe_manufacturer_name  \\\n",
       "0          Краснодарский край  Краснодар                 Apple   \n",
       "1          Краснодарский край  Краснодар                 Apple   \n",
       "2          Краснодарский край  Краснодар                 Apple   \n",
       "3          Краснодарский край  Краснодар                 Apple   \n",
       "4          Краснодарский край  Краснодар                 Apple   \n",
       "...                       ...        ...                   ...   \n",
       "322899430   Калужская область    Обнинск               Samsung   \n",
       "322899431   Калужская область    Обнинск               Samsung   \n",
       "322899432   Калужская область    Обнинск               Samsung   \n",
       "322899433   Калужская область    Обнинск               Samsung   \n",
       "322899434   Калужская область    Обнинск               Samsung   \n",
       "\n",
       "             cpe_model_name                     url_host cpe_type_cd  \\\n",
       "0                  iPhone 7                ad.adriver.ru  smartphone   \n",
       "1                  iPhone 7                    apple.com  smartphone   \n",
       "2                  iPhone 7       avatars.mds.yandex.net  smartphone   \n",
       "3                  iPhone 7  googleads.g.doubleclick.net  smartphone   \n",
       "4                  iPhone 7  googleads.g.doubleclick.net  smartphone   \n",
       "...                     ...                          ...         ...   \n",
       "322899430  Galaxy A30s Dual       avatars.mds.yandex.net  smartphone   \n",
       "322899431  Galaxy A30s Dual  googleads.g.doubleclick.net  smartphone   \n",
       "322899432  Galaxy A30s Dual           online.sberbank.ru  smartphone   \n",
       "322899433  Galaxy A30s Dual                  s0.2mdn.net  smartphone   \n",
       "322899434  Galaxy A30s Dual                zen.yandex.ru  smartphone   \n",
       "\n",
       "          cpe_model_os_type    price        date part_of_day  request_cnt  \\\n",
       "0                       iOS  20368.0  2022-06-15     morning            1   \n",
       "1                       iOS  20368.0  2022-06-19     morning            1   \n",
       "2                       iOS  20368.0  2022-06-12         day            1   \n",
       "3                       iOS  20368.0  2022-05-16         day            1   \n",
       "4                       iOS  20368.0  2022-05-30         day            1   \n",
       "...                     ...      ...         ...         ...          ...   \n",
       "322899430           Android  16376.0  2021-07-12     morning            1   \n",
       "322899431           Android  16376.0  2021-06-20     evening            1   \n",
       "322899432           Android  16376.0  2021-08-05         day            1   \n",
       "322899433           Android  16376.0  2021-07-19     evening            1   \n",
       "322899434           Android  16376.0  2021-08-09       night            1   \n",
       "\n",
       "           user_id  \n",
       "0            45098  \n",
       "1            45098  \n",
       "2            45098  \n",
       "3            45098  \n",
       "4            45098  \n",
       "...            ...  \n",
       "322899430   300964  \n",
       "322899431   300964  \n",
       "322899432   300964  \n",
       "322899433   300964  \n",
       "322899434   300964  \n",
       "\n",
       "[322899435 rows x 12 columns]"
      ]
     },
     "execution_count": 5,
     "metadata": {},
     "output_type": "execute_result"
    }
   ],
   "source": [
    "df = pandas_reduce_mem_usage( \n",
    "        pd.read_parquet(\n",
    "            f'{LOCAL_DATA_PATH}competition_data_final_pqt/'\n",
    "    ))\n",
    "df"
   ]
  },
  {
   "cell_type": "code",
   "execution_count": 29,
   "id": "1c7bd5b1",
   "metadata": {},
   "outputs": [],
   "source": [
    "copy_df = pd.DataFrame({'site_name': df['url_host'].unique()})"
   ]
  },
  {
   "cell_type": "code",
   "execution_count": 30,
   "id": "f2683859",
   "metadata": {},
   "outputs": [
    {
     "data": {
      "text/html": [
       "<div>\n",
       "<style scoped>\n",
       "    .dataframe tbody tr th:only-of-type {\n",
       "        vertical-align: middle;\n",
       "    }\n",
       "\n",
       "    .dataframe tbody tr th {\n",
       "        vertical-align: top;\n",
       "    }\n",
       "\n",
       "    .dataframe thead th {\n",
       "        text-align: right;\n",
       "    }\n",
       "</style>\n",
       "<table border=\"1\" class=\"dataframe\">\n",
       "  <thead>\n",
       "    <tr style=\"text-align: right;\">\n",
       "      <th></th>\n",
       "      <th>site_name</th>\n",
       "    </tr>\n",
       "  </thead>\n",
       "  <tbody>\n",
       "    <tr>\n",
       "      <th>0</th>\n",
       "      <td>ad.adriver.ru</td>\n",
       "    </tr>\n",
       "    <tr>\n",
       "      <th>1</th>\n",
       "      <td>apple.com</td>\n",
       "    </tr>\n",
       "    <tr>\n",
       "      <th>2</th>\n",
       "      <td>avatars.mds.yandex.net</td>\n",
       "    </tr>\n",
       "    <tr>\n",
       "      <th>3</th>\n",
       "      <td>googleads.g.doubleclick.net</td>\n",
       "    </tr>\n",
       "    <tr>\n",
       "      <th>4</th>\n",
       "      <td>i.ytimg.com</td>\n",
       "    </tr>\n",
       "    <tr>\n",
       "      <th>...</th>\n",
       "      <td>...</td>\n",
       "    </tr>\n",
       "    <tr>\n",
       "      <th>199678</th>\n",
       "      <td>poliglot1.com</td>\n",
       "    </tr>\n",
       "    <tr>\n",
       "      <th>199679</th>\n",
       "      <td>reservemaster.ru</td>\n",
       "    </tr>\n",
       "    <tr>\n",
       "      <th>199680</th>\n",
       "      <td>uploadhive.com</td>\n",
       "    </tr>\n",
       "    <tr>\n",
       "      <th>199681</th>\n",
       "      <td>kuzma2012.livejournal.com</td>\n",
       "    </tr>\n",
       "    <tr>\n",
       "      <th>199682</th>\n",
       "      <td>stroitelnye-materialy-v-kurske.ru</td>\n",
       "    </tr>\n",
       "  </tbody>\n",
       "</table>\n",
       "<p>199683 rows × 1 columns</p>\n",
       "</div>"
      ],
      "text/plain": [
       "                                site_name\n",
       "0                           ad.adriver.ru\n",
       "1                               apple.com\n",
       "2                  avatars.mds.yandex.net\n",
       "3             googleads.g.doubleclick.net\n",
       "4                             i.ytimg.com\n",
       "...                                   ...\n",
       "199678                      poliglot1.com\n",
       "199679                   reservemaster.ru\n",
       "199680                     uploadhive.com\n",
       "199681          kuzma2012.livejournal.com\n",
       "199682  stroitelnye-materialy-v-kurske.ru\n",
       "\n",
       "[199683 rows x 1 columns]"
      ]
     },
     "execution_count": 30,
     "metadata": {},
     "output_type": "execute_result"
    }
   ],
   "source": [
    "copy_df"
   ]
  },
  {
   "cell_type": "code",
   "execution_count": 31,
   "id": "38d0c10b",
   "metadata": {},
   "outputs": [
    {
     "name": "stdout",
     "output_type": "stream",
     "text": [
      "<class 'pandas.core.series.Series'>\n",
      "Index: 199683 entries, googleads.g.doubleclick.net to stroitelnye-materialy-v-kurske.ru\n",
      "Series name: url_host\n",
      "Non-Null Count   Dtype\n",
      "--------------   -----\n",
      "199683 non-null  int64\n",
      "dtypes: int64(1)\n",
      "memory usage: 3.0+ MB\n"
     ]
    }
   ],
   "source": [
    "df[\"url_host\"].value_counts().info()"
   ]
  },
  {
   "cell_type": "code",
   "execution_count": 18,
   "id": "2d509491",
   "metadata": {},
   "outputs": [],
   "source": [
    "copy_df['counts'] = df[\"url_host\"].value_counts()"
   ]
  },
  {
   "cell_type": "code",
   "execution_count": 52,
   "id": "bd3ce9c8",
   "metadata": {},
   "outputs": [],
   "source": [
    "copy_df = pd.DataFrame(df[\"url_host\"].value_counts()).rename(columns={'url_host':'counts'})\n",
    "copy_df[\"url_host\"] = copy_df.index\n",
    "copy_df = copy_df.sort_values(by='counts', ascending=False)"
   ]
  },
  {
   "cell_type": "code",
   "execution_count": 53,
   "id": "03dade84",
   "metadata": {},
   "outputs": [],
   "source": [
    "from tqdm import tqdm"
   ]
  },
  {
   "cell_type": "code",
   "execution_count": 54,
   "id": "ba9c5304",
   "metadata": {},
   "outputs": [
    {
     "name": "stderr",
     "output_type": "stream",
     "text": [
      "100%|█████████████████████████████████████████████████████████████████████████████████████████████████████████████████████████████████████████████████████████████████████████████| 199683/199683 [00:00<00:00, 4166220.82it/s]\n"
     ]
    }
   ],
   "source": [
    "x = list(range(len(copy_df.counts)))\n",
    "y = list(copy_df.counts.apply(lambda y: y / copy_df.counts.sum()))\n",
    "summ = 0\n",
    "for i in  tqdm(range(len(y))):\n",
    "    summ += y[i]\n",
    "    y[i] = summ"
   ]
  },
  {
   "cell_type": "code",
   "execution_count": 57,
   "id": "35e154b7",
   "metadata": {},
   "outputs": [
    {
     "data": {
      "text/plain": [
       "<seaborn.axisgrid.FacetGrid at 0x7fce875e6e60>"
      ]
     },
     "execution_count": 57,
     "metadata": {},
     "output_type": "execute_result"
    },
    {
     "data": {
      "image/png": "[encoded data removed]",
      "text/plain": [
       "<Figure size 500x500 with 1 Axes>"
      ]
     },
     "metadata": {},
     "output_type": "display_data"
    }
   ],
   "source": [
    "import seaborn as sns    \n",
    "\n",
    "sns.relplot(x=x, y=y)"
   ]
  },
  {
   "cell_type": "code",
   "execution_count": 62,
   "id": "518c0920",
   "metadata": {},
   "outputs": [
    {
     "data": {
      "text/plain": [
       "0.9926991479560867"
      ]
     },
     "execution_count": 62,
     "metadata": {},
     "output_type": "execute_result"
    }
   ],
   "source": [
    "y[10000]"
   ]
  },
  {
   "cell_type": "code",
   "execution_count": 65,
   "id": "1988a58f",
   "metadata": {},
   "outputs": [],
   "source": [
    "copy_df[:10_000][\"url_host\"].to_csv(\"top_10k_urls.csv\", index=False)"
   ]
  },
  {
   "cell_type": "code",
   "execution_count": null,
   "id": "895c7681",
   "metadata": {},
   "outputs": [],
   "source": []
  }
 ],
 "metadata": {
  "hide_input": false,
  "kernelspec": {
   "display_name": "Python 3 (ipykernel)",
   "language": "python",
   "name": "python3"
  },
  "language_info": {
   "codemirror_mode": {
    "name": "ipython",
    "version": 3
   },
   "file_extension": ".py",
   "mimetype": "text/x-python",
   "name": "python",
   "nbconvert_exporter": "python",
   "pygments_lexer": "ipython3",
   "version": "3.10.6"
  },
  "toc": {
   "base_numbering": 1,
   "nav_menu": {},
   "number_sections": true,
   "sideBar": true,
   "skip_h1_title": false,
   "title_cell": "Table of Contents",
   "title_sidebar": "Contents",
   "toc_cell": false,
   "toc_position": {},
   "toc_section_display": true,
   "toc_window_display": false
  },
  "varInspector": {
   "cols": {
    "lenName": 16,
    "lenType": 16,
    "lenVar": 40
   },
   "kernels_config": {
    "python": {
     "delete_cmd_postfix": "",
     "delete_cmd_prefix": "del ",
     "library": "var_list.py",
     "varRefreshCmd": "print(var_dic_list())"
    },
    "r": {
     "delete_cmd_postfix": ") ",
     "delete_cmd_prefix": "rm(",
     "library": "var_list.r",
     "varRefreshCmd": "cat(var_dic_list()) "
    }
   },
   "types_to_exclude": [
    "module",
    "function",
    "builtin_function_or_method",
    "instance",
    "_Feature"
   ],
   "window_display": false
  }
 },
 "nbformat": 4,
 "nbformat_minor": 5
}
