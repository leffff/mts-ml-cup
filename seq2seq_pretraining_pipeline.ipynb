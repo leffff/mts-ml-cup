{
 "cells": [
  {
   "cell_type": "markdown",
   "id": "3c646f0c",
   "metadata": {},
   "source": [
    "# seq2seq"
   ]
  },
  {
   "cell_type": "code",
   "execution_count": 3,
   "id": "88993512",
   "metadata": {},
   "outputs": [],
   "source": [
    "import gc\n",
    "import sys\n",
    "import os\n",
    "import warnings\n",
    "from tqdm import tqdm\n",
    "\n",
    "sys.path.append(os.path.abspath(\"modules/\"))\n",
    "sys.path.append(os.path.abspath(\"fe_modules/\"))\n",
    "sys.path.append(os.path.abspath(\"seq2seq_modules/\"))\n",
    "\n",
    "os.environ['OPENBLAS_NUM_THREADS'] = '1'\n",
    "warnings.filterwarnings('ignore')\n",
    "tqdm.pandas()"
   ]
  },
  {
   "cell_type": "code",
   "execution_count": 4,
   "id": "179dfb36",
   "metadata": {},
   "outputs": [],
   "source": [
    "import pandas as pd\n",
    "import numpy as np\n",
    "import time\n",
    "import polars as pl\n",
    "import scipy\n",
    "import implicit\n",
    "import bisect\n",
    "import sklearn.metrics as m\n",
    "from catboost import CatBoostClassifier, CatBoostRegressor, Pool\n",
    "\n",
    "from sklearn.model_selection import train_test_split\n",
    "from sklearn.calibration import calibration_curve, CalibratedClassifierCV\n",
    "from sklearn.utils.class_weight import compute_class_weight\n",
    "\n",
    "import torch\n",
    "from torch.utils.data import TensorDataset, DataLoader\n",
    "from torch import nn\n",
    "\n",
    "from transformers import get_constant_schedule"
   ]
  },
  {
   "cell_type": "code",
   "execution_count": 5,
   "id": "08884ce0",
   "metadata": {},
   "outputs": [],
   "source": [
    "import importlib\n",
    "\n",
    "import modules\n",
    "import fe_modules\n",
    "import seq2seq_modules\n",
    "\n",
    "importlib.reload(modules)\n",
    "importlib.reload(fe_modules)\n",
    "importlib.reload(seq2seq_modules)\n",
    "\n",
    "from modules.memory_utils import pandas_reduce_mem_usage, pandas_string_to_cat, my_reset\n",
    "from seq2seq_modules.preprocessing import PandasPreprocessor\n",
    "from seq2seq_modules.models import LSTMModel\n",
    "from seq2seq_modules.weight_initialization import weights_init_uniform_rule\n",
    "from seq2seq_modules.loops import cross_validation, single_model_training\n",
    "from seq2seq_modules.utils import age_bucket\n",
    "from seq2seq_modules.metrics import AGE_METRIC"
   ]
  },
  {
   "cell_type": "markdown",
   "id": "47431eb8",
   "metadata": {},
   "source": [
    "## Read and process"
   ]
  },
  {
   "cell_type": "code",
   "execution_count": 6,
   "id": "a17c3983",
   "metadata": {},
   "outputs": [],
   "source": [
    "LOCAL_DATA_PATH = './data/'\n",
    "SPLIT_SEED = 42"
   ]
  },
  {
   "cell_type": "code",
   "execution_count": 7,
   "id": "7ac71fff",
   "metadata": {},
   "outputs": [],
   "source": [
    "ids = [\"user_id\"]\n",
    "\n",
    "cat_features = [\n",
    "    \"region_name\",\n",
    "    \"city_name\",\n",
    "    \"cpe_manufacturer_name\",\n",
    "    \"cpe_model_name\",\n",
    "    \"url_host\",\n",
    "    \"cpe_type_cd\",\n",
    "    \"cpe_model_os_type\",\n",
    "    \"part_of_day\",\n",
    "    \"request_cnt\",\n",
    "    \"domain\"\n",
    "]\n",
    "\n",
    "continous_features = [\n",
    "    \"price\",\n",
    "    \"timestamp\",\n",
    "    \"relative_date\"\n",
    "]"
   ]
  },
  {
   "cell_type": "code",
   "execution_count": 6,
   "id": "8bd60063",
   "metadata": {},
   "outputs": [
    {
     "name": "stdout",
     "output_type": "stream",
     "text": [
      "Memory usage of dataframe is 13549.40 MB\n"
     ]
    },
    {
     "name": "stderr",
     "output_type": "stream",
     "text": [
      "100%|██████████████████████████████████████████████████████████████████████████████████████████████████████████████████████████████████████████████████████████████████████████████████████████| 14/14 [00:03<00:00,  3.91it/s]"
     ]
    },
    {
     "name": "stdout",
     "output_type": "stream",
     "text": [
      "Memory usage after optimization is: 12317.64 MB\n",
      "Decreased by 9.1%\n"
     ]
    },
    {
     "name": "stderr",
     "output_type": "stream",
     "text": [
      "\n"
     ]
    },
    {
     "data": {
      "text/html": [
       "<div>\n",
       "<style scoped>\n",
       "    .dataframe tbody tr th:only-of-type {\n",
       "        vertical-align: middle;\n",
       "    }\n",
       "\n",
       "    .dataframe tbody tr th {\n",
       "        vertical-align: top;\n",
       "    }\n",
       "\n",
       "    .dataframe thead th {\n",
       "        text-align: right;\n",
       "    }\n",
       "</style>\n",
       "<table border=\"1\" class=\"dataframe\">\n",
       "  <thead>\n",
       "    <tr style=\"text-align: right;\">\n",
       "      <th></th>\n",
       "      <th>region_name</th>\n",
       "      <th>city_name</th>\n",
       "      <th>cpe_manufacturer_name</th>\n",
       "      <th>cpe_model_name</th>\n",
       "      <th>url_host</th>\n",
       "      <th>cpe_type_cd</th>\n",
       "      <th>cpe_model_os_type</th>\n",
       "      <th>price</th>\n",
       "      <th>part_of_day</th>\n",
       "      <th>request_cnt</th>\n",
       "      <th>user_id</th>\n",
       "      <th>domain</th>\n",
       "      <th>timestamp</th>\n",
       "      <th>relative_date</th>\n",
       "    </tr>\n",
       "  </thead>\n",
       "  <tbody>\n",
       "    <tr>\n",
       "      <th>0</th>\n",
       "      <td>21</td>\n",
       "      <td>409</td>\n",
       "      <td>1</td>\n",
       "      <td>589</td>\n",
       "      <td>5788</td>\n",
       "      <td>2</td>\n",
       "      <td>1</td>\n",
       "      <td>20368.0</td>\n",
       "      <td>2</td>\n",
       "      <td>1</td>\n",
       "      <td>45098</td>\n",
       "      <td>761</td>\n",
       "      <td>165525120.0</td>\n",
       "      <td>3888.0</td>\n",
       "    </tr>\n",
       "    <tr>\n",
       "      <th>1</th>\n",
       "      <td>21</td>\n",
       "      <td>409</td>\n",
       "      <td>1</td>\n",
       "      <td>589</td>\n",
       "      <td>12900</td>\n",
       "      <td>2</td>\n",
       "      <td>1</td>\n",
       "      <td>20368.0</td>\n",
       "      <td>2</td>\n",
       "      <td>1</td>\n",
       "      <td>45098</td>\n",
       "      <td>549</td>\n",
       "      <td>165559680.0</td>\n",
       "      <td>432.0</td>\n",
       "    </tr>\n",
       "    <tr>\n",
       "      <th>2</th>\n",
       "      <td>21</td>\n",
       "      <td>409</td>\n",
       "      <td>1</td>\n",
       "      <td>589</td>\n",
       "      <td>17626</td>\n",
       "      <td>2</td>\n",
       "      <td>1</td>\n",
       "      <td>20368.0</td>\n",
       "      <td>0</td>\n",
       "      <td>1</td>\n",
       "      <td>45098</td>\n",
       "      <td>712</td>\n",
       "      <td>165499200.0</td>\n",
       "      <td>6264.0</td>\n",
       "    </tr>\n",
       "    <tr>\n",
       "      <th>3</th>\n",
       "      <td>21</td>\n",
       "      <td>409</td>\n",
       "      <td>1</td>\n",
       "      <td>589</td>\n",
       "      <td>59366</td>\n",
       "      <td>2</td>\n",
       "      <td>1</td>\n",
       "      <td>20368.0</td>\n",
       "      <td>0</td>\n",
       "      <td>1</td>\n",
       "      <td>45098</td>\n",
       "      <td>712</td>\n",
       "      <td>165265920.0</td>\n",
       "      <td>29592.0</td>\n",
       "    </tr>\n",
       "    <tr>\n",
       "      <th>4</th>\n",
       "      <td>21</td>\n",
       "      <td>409</td>\n",
       "      <td>1</td>\n",
       "      <td>589</td>\n",
       "      <td>59366</td>\n",
       "      <td>2</td>\n",
       "      <td>1</td>\n",
       "      <td>20368.0</td>\n",
       "      <td>0</td>\n",
       "      <td>1</td>\n",
       "      <td>45098</td>\n",
       "      <td>712</td>\n",
       "      <td>165386880.0</td>\n",
       "      <td>17496.0</td>\n",
       "    </tr>\n",
       "  </tbody>\n",
       "</table>\n",
       "</div>"
      ],
      "text/plain": [
       "   region_name  city_name  cpe_manufacturer_name  cpe_model_name  url_host  \\\n",
       "0           21        409                      1             589      5788   \n",
       "1           21        409                      1             589     12900   \n",
       "2           21        409                      1             589     17626   \n",
       "3           21        409                      1             589     59366   \n",
       "4           21        409                      1             589     59366   \n",
       "\n",
       "   cpe_type_cd  cpe_model_os_type    price  part_of_day  request_cnt  user_id  \\\n",
       "0            2                  1  20368.0            2            1    45098   \n",
       "1            2                  1  20368.0            2            1    45098   \n",
       "2            2                  1  20368.0            0            1    45098   \n",
       "3            2                  1  20368.0            0            1    45098   \n",
       "4            2                  1  20368.0            0            1    45098   \n",
       "\n",
       "   domain    timestamp  relative_date  \n",
       "0     761  165525120.0         3888.0  \n",
       "1     549  165559680.0          432.0  \n",
       "2     712  165499200.0         6264.0  \n",
       "3     712  165265920.0        29592.0  \n",
       "4     712  165386880.0        17496.0  "
      ]
     },
     "execution_count": 6,
     "metadata": {},
     "output_type": "execute_result"
    }
   ],
   "source": [
    "df = pandas_reduce_mem_usage(\n",
    "    pd.read_parquet(\"seq2seq_data/version_1.parquet.gzip\")\n",
    ")\n",
    "df.head()"
   ]
  }
 ],
 "metadata": {
  "hide_input": false,
  "kernelspec": {
   "display_name": "Python 3 (ipykernel)",
   "language": "python",
   "name": "python3"
  },
  "language_info": {
   "codemirror_mode": {
    "name": "ipython",
    "version": 3
   },
   "file_extension": ".py",
   "mimetype": "text/x-python",
   "name": "python",
   "nbconvert_exporter": "python",
   "pygments_lexer": "ipython3",
   "version": "3.10.6"
  },
  "toc": {
   "base_numbering": 1,
   "nav_menu": {},
   "number_sections": true,
   "sideBar": true,
   "skip_h1_title": false,
   "title_cell": "Table of Contents",
   "title_sidebar": "Contents",
   "toc_cell": false,
   "toc_position": {},
   "toc_section_display": true,
   "toc_window_display": false
  },
  "varInspector": {
   "cols": {
    "lenName": 16,
    "lenType": 16,
    "lenVar": 40
   },
   "kernels_config": {
    "python": {
     "delete_cmd_postfix": "",
     "delete_cmd_prefix": "del ",
     "library": "var_list.py",
     "varRefreshCmd": "print(var_dic_list())"
    },
    "r": {
     "delete_cmd_postfix": ") ",
     "delete_cmd_prefix": "rm(",
     "library": "var_list.r",
     "varRefreshCmd": "cat(var_dic_list()) "
    }
   },
   "types_to_exclude": [
    "module",
    "function",
    "builtin_function_or_method",
    "instance",
    "_Feature"
   ],
   "window_display": false
  }
 },
 "nbformat": 4,
 "nbformat_minor": 5
}
