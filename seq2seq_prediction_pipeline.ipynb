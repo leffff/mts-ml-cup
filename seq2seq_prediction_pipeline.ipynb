{
 "cells": [
  {
   "cell_type": "markdown",
   "id": "3c646f0c",
   "metadata": {},
   "source": [
    "# seq2seq"
   ]
  },
  {
   "cell_type": "code",
   "execution_count": 28,
   "id": "88993512",
   "metadata": {},
   "outputs": [],
   "source": [
    "import gc\n",
    "import sys\n",
    "import os\n",
    "import warnings\n",
    "from tqdm import tqdm\n",
    "\n",
    "sys.path.append(os.path.abspath(\"modules/\"))\n",
    "sys.path.append(os.path.abspath(\"fe_modules/\"))\n",
    "sys.path.append(os.path.abspath(\"seq2seq_modules/\"))\n",
    "\n",
    "os.environ['OPENBLAS_NUM_THREADS'] = '1'\n",
    "warnings.filterwarnings('ignore')\n",
    "tqdm.pandas()"
   ]
  },
  {
   "cell_type": "code",
   "execution_count": 29,
   "id": "179dfb36",
   "metadata": {},
   "outputs": [],
   "source": [
    "import pandas as pd\n",
    "import numpy as np\n",
    "import time\n",
    "import polars as pl\n",
    "import scipy\n",
    "import implicit\n",
    "import bisect\n",
    "import sklearn.metrics as m\n",
    "import joblib\n",
    "from catboost import CatBoostClassifier, CatBoostRegressor, Pool\n",
    "\n",
    "from sklearn.model_selection import train_test_split\n",
    "from sklearn.calibration import calibration_curve, CalibratedClassifierCV\n",
    "from sklearn.utils.class_weight import compute_class_weight\n",
    "\n",
    "import torch\n",
    "from torch.utils.data import TensorDataset, DataLoader\n",
    "from torch import nn\n",
    "\n",
    "from transformers import get_constant_schedule"
   ]
  },
  {
   "cell_type": "code",
   "execution_count": 30,
   "id": "08884ce0",
   "metadata": {},
   "outputs": [],
   "source": [
    "import importlib\n",
    "\n",
    "import modules\n",
    "import fe_modules\n",
    "import seq2seq_modules\n",
    "\n",
    "importlib.reload(modules)\n",
    "importlib.reload(fe_modules)\n",
    "importlib.reload(seq2seq_modules)\n",
    "\n",
    "from modules.memory_utils import pandas_reduce_mem_usage, pandas_string_to_cat\n",
    "from seq2seq_modules.data import TestDataset\n",
    "from seq2seq_modules.models import LSTMModel\n",
    "from seq2seq_modules.weight_initialization import weights_init_uniform_rule\n",
    "from seq2seq_modules.loops import cross_validation, single_model_training\n",
    "from seq2seq_modules.utils import age_bucket\n",
    "from seq2seq_modules.metrics import AGE_METRIC\n",
    "from seq2seq_modules.utils import fix_random_state"
   ]
  },
  {
   "cell_type": "code",
   "execution_count": 31,
   "id": "090b68f5",
   "metadata": {},
   "outputs": [],
   "source": [
    "def my_reset(*varnames):\n",
    "    \"\"\"\n",
    "    varnames are what you want to keep\n",
    "    \"\"\"\n",
    "    globals_ = globals()\n",
    "    to_save = {v: globals_[v] for v in varnames}\n",
    "    to_save['my_reset'] = my_reset  # lets keep this function by default\n",
    "    del globals_\n",
    "    get_ipython().magic(\"reset\")\n",
    "    globals().update(to_save)"
   ]
  },
  {
   "cell_type": "markdown",
   "id": "47431eb8",
   "metadata": {},
   "source": [
    "## Read and process"
   ]
  },
  {
   "cell_type": "code",
   "execution_count": 32,
   "id": "a17c3983",
   "metadata": {},
   "outputs": [],
   "source": [
    "LOCAL_DATA_PATH = './data/'\n",
    "SEED = 42\n",
    "fix_random_state(SEED)"
   ]
  },
  {
   "cell_type": "code",
   "execution_count": 33,
   "id": "7ac71fff",
   "metadata": {},
   "outputs": [],
   "source": [
    "ids = [\"user_id\"]\n",
    "\n",
    "cat_features = [\n",
    "    \"region_name\",\n",
    "    \"city_name\",\n",
    "    \"cpe_manufacturer_name\",\n",
    "    \"cpe_model_name\",\n",
    "    \"url_host\",\n",
    "    \"cpe_type_cd\",\n",
    "    \"cpe_model_os_type\",\n",
    "    \"part_of_day\",\n",
    "    \"domain\",\n",
    "    \"capital_marker\"\n",
    "]\n",
    "\n",
    "continous_features = [\n",
    "    \"request_cnt\",\n",
    "    \"price\",\n",
    "    \"timestamp\",\n",
    "    \"relative_timestamp\",\n",
    "    \"geo_lat\",\n",
    "    \"geo_lon\",\n",
    "    \"population\",\n",
    "    \"timezone\",\n",
    "    \"dist_to_Moscow\",\n",
    "    \"dist_to_SaintP\",\n",
    "    \"dist_to_Novosibirsk\",\n",
    "    \"dist_to_Ekaterinburg\",\n",
    "    \"dist_to_Vladivostok\",\n",
    "]"
   ]
  },
  {
   "cell_type": "code",
   "execution_count": 7,
   "id": "8bd60063",
   "metadata": {},
   "outputs": [
    {
     "name": "stdout",
     "output_type": "stream",
     "text": [
      "Memory usage of dataframe is 26346.12 MB\n"
     ]
    },
    {
     "data": {
      "application/vnd.jupyter.widget-view+json": {
       "model_id": "2fc8cd97f193411aae1fa43a5658eade",
       "version_major": 2,
       "version_minor": 0
      },
      "text/plain": [
       "  0%|          | 0/30 [00:00<?, ?it/s]"
      ]
     },
     "metadata": {},
     "output_type": "display_data"
    },
    {
     "name": "stdout",
     "output_type": "stream",
     "text": [
      "Memory usage after optimization is: 26346.12 MB\n",
      "Decreased by 0.0%\n"
     ]
    },
    {
     "data": {
      "text/html": [
       "<div>\n",
       "<style scoped>\n",
       "    .dataframe tbody tr th:only-of-type {\n",
       "        vertical-align: middle;\n",
       "    }\n",
       "\n",
       "    .dataframe tbody tr th {\n",
       "        vertical-align: top;\n",
       "    }\n",
       "\n",
       "    .dataframe thead th {\n",
       "        text-align: right;\n",
       "    }\n",
       "</style>\n",
       "<table border=\"1\" class=\"dataframe\">\n",
       "  <thead>\n",
       "    <tr style=\"text-align: right;\">\n",
       "      <th></th>\n",
       "      <th>region_name</th>\n",
       "      <th>city_name</th>\n",
       "      <th>cpe_manufacturer_name</th>\n",
       "      <th>cpe_model_name</th>\n",
       "      <th>url_host</th>\n",
       "      <th>cpe_type_cd</th>\n",
       "      <th>cpe_model_os_type</th>\n",
       "      <th>price</th>\n",
       "      <th>part_of_day</th>\n",
       "      <th>request_cnt</th>\n",
       "      <th>...</th>\n",
       "      <th>timezone</th>\n",
       "      <th>geo_lat</th>\n",
       "      <th>geo_lon</th>\n",
       "      <th>population</th>\n",
       "      <th>dist_to_Moscow</th>\n",
       "      <th>dist_to_SaintP</th>\n",
       "      <th>dist_to_Novosibirsk</th>\n",
       "      <th>dist_to_Ekaterinburg</th>\n",
       "      <th>dist_to_Vladivostok</th>\n",
       "      <th>domain</th>\n",
       "    </tr>\n",
       "  </thead>\n",
       "  <tbody>\n",
       "    <tr>\n",
       "      <th>0</th>\n",
       "      <td>21</td>\n",
       "      <td>409</td>\n",
       "      <td>1</td>\n",
       "      <td>589</td>\n",
       "      <td>5788</td>\n",
       "      <td>2</td>\n",
       "      <td>1</td>\n",
       "      <td>20368.0</td>\n",
       "      <td>2</td>\n",
       "      <td>1</td>\n",
       "      <td>...</td>\n",
       "      <td>3</td>\n",
       "      <td>45.040161</td>\n",
       "      <td>38.975964</td>\n",
       "      <td>744933</td>\n",
       "      <td>1195.817871</td>\n",
       "      <td>1755.62085</td>\n",
       "      <td>3275.137451</td>\n",
       "      <td>1992.558472</td>\n",
       "      <td>6999.525391</td>\n",
       "      <td>761</td>\n",
       "    </tr>\n",
       "    <tr>\n",
       "      <th>1</th>\n",
       "      <td>21</td>\n",
       "      <td>409</td>\n",
       "      <td>1</td>\n",
       "      <td>589</td>\n",
       "      <td>12900</td>\n",
       "      <td>2</td>\n",
       "      <td>1</td>\n",
       "      <td>20368.0</td>\n",
       "      <td>2</td>\n",
       "      <td>1</td>\n",
       "      <td>...</td>\n",
       "      <td>3</td>\n",
       "      <td>45.040161</td>\n",
       "      <td>38.975964</td>\n",
       "      <td>744933</td>\n",
       "      <td>1195.817871</td>\n",
       "      <td>1755.62085</td>\n",
       "      <td>3275.137451</td>\n",
       "      <td>1992.558472</td>\n",
       "      <td>6999.525391</td>\n",
       "      <td>549</td>\n",
       "    </tr>\n",
       "    <tr>\n",
       "      <th>2</th>\n",
       "      <td>21</td>\n",
       "      <td>409</td>\n",
       "      <td>1</td>\n",
       "      <td>589</td>\n",
       "      <td>17626</td>\n",
       "      <td>2</td>\n",
       "      <td>1</td>\n",
       "      <td>20368.0</td>\n",
       "      <td>0</td>\n",
       "      <td>1</td>\n",
       "      <td>...</td>\n",
       "      <td>3</td>\n",
       "      <td>45.040161</td>\n",
       "      <td>38.975964</td>\n",
       "      <td>744933</td>\n",
       "      <td>1195.817871</td>\n",
       "      <td>1755.62085</td>\n",
       "      <td>3275.137451</td>\n",
       "      <td>1992.558472</td>\n",
       "      <td>6999.525391</td>\n",
       "      <td>712</td>\n",
       "    </tr>\n",
       "    <tr>\n",
       "      <th>3</th>\n",
       "      <td>21</td>\n",
       "      <td>409</td>\n",
       "      <td>1</td>\n",
       "      <td>589</td>\n",
       "      <td>59366</td>\n",
       "      <td>2</td>\n",
       "      <td>1</td>\n",
       "      <td>20368.0</td>\n",
       "      <td>0</td>\n",
       "      <td>1</td>\n",
       "      <td>...</td>\n",
       "      <td>3</td>\n",
       "      <td>45.040161</td>\n",
       "      <td>38.975964</td>\n",
       "      <td>744933</td>\n",
       "      <td>1195.817871</td>\n",
       "      <td>1755.62085</td>\n",
       "      <td>3275.137451</td>\n",
       "      <td>1992.558472</td>\n",
       "      <td>6999.525391</td>\n",
       "      <td>712</td>\n",
       "    </tr>\n",
       "    <tr>\n",
       "      <th>4</th>\n",
       "      <td>21</td>\n",
       "      <td>409</td>\n",
       "      <td>1</td>\n",
       "      <td>589</td>\n",
       "      <td>59366</td>\n",
       "      <td>2</td>\n",
       "      <td>1</td>\n",
       "      <td>20368.0</td>\n",
       "      <td>0</td>\n",
       "      <td>1</td>\n",
       "      <td>...</td>\n",
       "      <td>3</td>\n",
       "      <td>45.040161</td>\n",
       "      <td>38.975964</td>\n",
       "      <td>744933</td>\n",
       "      <td>1195.817871</td>\n",
       "      <td>1755.62085</td>\n",
       "      <td>3275.137451</td>\n",
       "      <td>1992.558472</td>\n",
       "      <td>6999.525391</td>\n",
       "      <td>712</td>\n",
       "    </tr>\n",
       "  </tbody>\n",
       "</table>\n",
       "<p>5 rows × 30 columns</p>\n",
       "</div>"
      ],
      "text/plain": [
       "   region_name  city_name  cpe_manufacturer_name  cpe_model_name  url_host  \\\n",
       "0           21        409                      1             589      5788   \n",
       "1           21        409                      1             589     12900   \n",
       "2           21        409                      1             589     17626   \n",
       "3           21        409                      1             589     59366   \n",
       "4           21        409                      1             589     59366   \n",
       "\n",
       "   cpe_type_cd  cpe_model_os_type    price  part_of_day  request_cnt  ...  \\\n",
       "0            2                  1  20368.0            2            1  ...   \n",
       "1            2                  1  20368.0            2            1  ...   \n",
       "2            2                  1  20368.0            0            1  ...   \n",
       "3            2                  1  20368.0            0            1  ...   \n",
       "4            2                  1  20368.0            0            1  ...   \n",
       "\n",
       "   timezone    geo_lat    geo_lon  population  dist_to_Moscow  dist_to_SaintP  \\\n",
       "0         3  45.040161  38.975964      744933     1195.817871      1755.62085   \n",
       "1         3  45.040161  38.975964      744933     1195.817871      1755.62085   \n",
       "2         3  45.040161  38.975964      744933     1195.817871      1755.62085   \n",
       "3         3  45.040161  38.975964      744933     1195.817871      1755.62085   \n",
       "4         3  45.040161  38.975964      744933     1195.817871      1755.62085   \n",
       "\n",
       "   dist_to_Novosibirsk  dist_to_Ekaterinburg  dist_to_Vladivostok  domain  \n",
       "0          3275.137451           1992.558472          6999.525391     761  \n",
       "1          3275.137451           1992.558472          6999.525391     549  \n",
       "2          3275.137451           1992.558472          6999.525391     712  \n",
       "3          3275.137451           1992.558472          6999.525391     712  \n",
       "4          3275.137451           1992.558472          6999.525391     712  \n",
       "\n",
       "[5 rows x 30 columns]"
      ]
     },
     "execution_count": 7,
     "metadata": {},
     "output_type": "execute_result"
    }
   ],
   "source": [
    "df = pandas_reduce_mem_usage(\n",
    "    pd.read_parquet(\"seq2seq_data/stages/stage_2.parquet.gzip\")\n",
    ")\n",
    "df.head()"
   ]
  },
  {
   "cell_type": "code",
   "execution_count": 8,
   "id": "f2908bf7",
   "metadata": {
    "scrolled": true
   },
   "outputs": [
    {
     "data": {
      "text/html": [
       "<div>\n",
       "<style scoped>\n",
       "    .dataframe tbody tr th:only-of-type {\n",
       "        vertical-align: middle;\n",
       "    }\n",
       "\n",
       "    .dataframe tbody tr th {\n",
       "        vertical-align: top;\n",
       "    }\n",
       "\n",
       "    .dataframe thead th {\n",
       "        text-align: right;\n",
       "    }\n",
       "</style>\n",
       "<table border=\"1\" class=\"dataframe\">\n",
       "  <thead>\n",
       "    <tr style=\"text-align: right;\">\n",
       "      <th></th>\n",
       "      <th>user_id</th>\n",
       "    </tr>\n",
       "  </thead>\n",
       "  <tbody>\n",
       "    <tr>\n",
       "      <th>221301</th>\n",
       "      <td>221301</td>\n",
       "    </tr>\n",
       "    <tr>\n",
       "      <th>31271</th>\n",
       "      <td>31271</td>\n",
       "    </tr>\n",
       "    <tr>\n",
       "      <th>211594</th>\n",
       "      <td>211594</td>\n",
       "    </tr>\n",
       "    <tr>\n",
       "      <th>253119</th>\n",
       "      <td>253119</td>\n",
       "    </tr>\n",
       "    <tr>\n",
       "      <th>192578</th>\n",
       "      <td>192578</td>\n",
       "    </tr>\n",
       "    <tr>\n",
       "      <th>...</th>\n",
       "      <td>...</td>\n",
       "    </tr>\n",
       "    <tr>\n",
       "      <th>145307</th>\n",
       "      <td>415284</td>\n",
       "    </tr>\n",
       "    <tr>\n",
       "      <th>145308</th>\n",
       "      <td>415285</td>\n",
       "    </tr>\n",
       "    <tr>\n",
       "      <th>145309</th>\n",
       "      <td>415286</td>\n",
       "    </tr>\n",
       "    <tr>\n",
       "      <th>145312</th>\n",
       "      <td>415306</td>\n",
       "    </tr>\n",
       "    <tr>\n",
       "      <th>145315</th>\n",
       "      <td>415315</td>\n",
       "    </tr>\n",
       "  </tbody>\n",
       "</table>\n",
       "<p>144724 rows × 1 columns</p>\n",
       "</div>"
      ],
      "text/plain": [
       "        user_id\n",
       "221301   221301\n",
       "31271     31271\n",
       "211594   211594\n",
       "253119   253119\n",
       "192578   192578\n",
       "...         ...\n",
       "145307   415284\n",
       "145308   415285\n",
       "145309   415286\n",
       "145312   415306\n",
       "145315   415315\n",
       "\n",
       "[144724 rows x 1 columns]"
      ]
     },
     "execution_count": 8,
     "metadata": {},
     "output_type": "execute_result"
    }
   ],
   "source": [
    "needed_ids = pd.read_parquet(\n",
    "             f'{LOCAL_DATA_PATH}submit_2.pqt'\n",
    "         )\n",
    "\n",
    "needed_ids"
   ]
  },
  {
   "cell_type": "code",
   "execution_count": 9,
   "id": "a348681b",
   "metadata": {},
   "outputs": [
    {
     "data": {
      "text/html": [
       "<div>\n",
       "<style scoped>\n",
       "    .dataframe tbody tr th:only-of-type {\n",
       "        vertical-align: middle;\n",
       "    }\n",
       "\n",
       "    .dataframe tbody tr th {\n",
       "        vertical-align: top;\n",
       "    }\n",
       "\n",
       "    .dataframe thead th {\n",
       "        text-align: right;\n",
       "    }\n",
       "</style>\n",
       "<table border=\"1\" class=\"dataframe\">\n",
       "  <thead>\n",
       "    <tr style=\"text-align: right;\">\n",
       "      <th></th>\n",
       "      <th>user_id</th>\n",
       "      <th>region_name</th>\n",
       "      <th>city_name</th>\n",
       "      <th>cpe_manufacturer_name</th>\n",
       "      <th>cpe_model_name</th>\n",
       "      <th>url_host</th>\n",
       "      <th>cpe_type_cd</th>\n",
       "      <th>cpe_model_os_type</th>\n",
       "      <th>price</th>\n",
       "      <th>part_of_day</th>\n",
       "      <th>...</th>\n",
       "      <th>timezone</th>\n",
       "      <th>geo_lat</th>\n",
       "      <th>geo_lon</th>\n",
       "      <th>population</th>\n",
       "      <th>dist_to_Moscow</th>\n",
       "      <th>dist_to_SaintP</th>\n",
       "      <th>dist_to_Novosibirsk</th>\n",
       "      <th>dist_to_Ekaterinburg</th>\n",
       "      <th>dist_to_Vladivostok</th>\n",
       "      <th>domain</th>\n",
       "    </tr>\n",
       "  </thead>\n",
       "  <tbody>\n",
       "    <tr>\n",
       "      <th>0</th>\n",
       "      <td>221301</td>\n",
       "      <td>44</td>\n",
       "      <td>894</td>\n",
       "      <td>1</td>\n",
       "      <td>593</td>\n",
       "      <td>59366</td>\n",
       "      <td>2</td>\n",
       "      <td>1</td>\n",
       "      <td>6240.0</td>\n",
       "      <td>0</td>\n",
       "      <td>...</td>\n",
       "      <td>5</td>\n",
       "      <td>54.734943</td>\n",
       "      <td>55.957848</td>\n",
       "      <td>1062300</td>\n",
       "      <td>1168.546509</td>\n",
       "      <td>1636.681519</td>\n",
       "      <td>1720.041016</td>\n",
       "      <td>373.426453</td>\n",
       "      <td>5426.129395</td>\n",
       "      <td>712</td>\n",
       "    </tr>\n",
       "    <tr>\n",
       "      <th>1</th>\n",
       "      <td>221301</td>\n",
       "      <td>44</td>\n",
       "      <td>894</td>\n",
       "      <td>1</td>\n",
       "      <td>593</td>\n",
       "      <td>160869</td>\n",
       "      <td>2</td>\n",
       "      <td>1</td>\n",
       "      <td>6240.0</td>\n",
       "      <td>2</td>\n",
       "      <td>...</td>\n",
       "      <td>5</td>\n",
       "      <td>54.734943</td>\n",
       "      <td>55.957848</td>\n",
       "      <td>1062300</td>\n",
       "      <td>1168.546509</td>\n",
       "      <td>1636.681519</td>\n",
       "      <td>1720.041016</td>\n",
       "      <td>373.426453</td>\n",
       "      <td>5426.129395</td>\n",
       "      <td>549</td>\n",
       "    </tr>\n",
       "    <tr>\n",
       "      <th>2</th>\n",
       "      <td>221301</td>\n",
       "      <td>44</td>\n",
       "      <td>894</td>\n",
       "      <td>1</td>\n",
       "      <td>593</td>\n",
       "      <td>197762</td>\n",
       "      <td>2</td>\n",
       "      <td>1</td>\n",
       "      <td>20196.0</td>\n",
       "      <td>1</td>\n",
       "      <td>...</td>\n",
       "      <td>5</td>\n",
       "      <td>54.734943</td>\n",
       "      <td>55.957848</td>\n",
       "      <td>1062300</td>\n",
       "      <td>1168.546509</td>\n",
       "      <td>1636.681519</td>\n",
       "      <td>1720.041016</td>\n",
       "      <td>373.426453</td>\n",
       "      <td>5426.129395</td>\n",
       "      <td>761</td>\n",
       "    </tr>\n",
       "    <tr>\n",
       "      <th>3</th>\n",
       "      <td>221301</td>\n",
       "      <td>44</td>\n",
       "      <td>894</td>\n",
       "      <td>1</td>\n",
       "      <td>593</td>\n",
       "      <td>5790</td>\n",
       "      <td>2</td>\n",
       "      <td>1</td>\n",
       "      <td>6240.0</td>\n",
       "      <td>3</td>\n",
       "      <td>...</td>\n",
       "      <td>5</td>\n",
       "      <td>54.734943</td>\n",
       "      <td>55.957848</td>\n",
       "      <td>1062300</td>\n",
       "      <td>1168.546509</td>\n",
       "      <td>1636.681519</td>\n",
       "      <td>1720.041016</td>\n",
       "      <td>373.426453</td>\n",
       "      <td>5426.129395</td>\n",
       "      <td>761</td>\n",
       "    </tr>\n",
       "    <tr>\n",
       "      <th>4</th>\n",
       "      <td>221301</td>\n",
       "      <td>44</td>\n",
       "      <td>894</td>\n",
       "      <td>1</td>\n",
       "      <td>593</td>\n",
       "      <td>68348</td>\n",
       "      <td>2</td>\n",
       "      <td>1</td>\n",
       "      <td>20196.0</td>\n",
       "      <td>2</td>\n",
       "      <td>...</td>\n",
       "      <td>5</td>\n",
       "      <td>54.734943</td>\n",
       "      <td>55.957848</td>\n",
       "      <td>1062300</td>\n",
       "      <td>1168.546509</td>\n",
       "      <td>1636.681519</td>\n",
       "      <td>1720.041016</td>\n",
       "      <td>373.426453</td>\n",
       "      <td>5426.129395</td>\n",
       "      <td>549</td>\n",
       "    </tr>\n",
       "  </tbody>\n",
       "</table>\n",
       "<p>5 rows × 30 columns</p>\n",
       "</div>"
      ],
      "text/plain": [
       "   user_id  region_name  city_name  cpe_manufacturer_name  cpe_model_name  \\\n",
       "0   221301           44        894                      1             593   \n",
       "1   221301           44        894                      1             593   \n",
       "2   221301           44        894                      1             593   \n",
       "3   221301           44        894                      1             593   \n",
       "4   221301           44        894                      1             593   \n",
       "\n",
       "   url_host  cpe_type_cd  cpe_model_os_type    price  part_of_day  ...  \\\n",
       "0     59366            2                  1   6240.0            0  ...   \n",
       "1    160869            2                  1   6240.0            2  ...   \n",
       "2    197762            2                  1  20196.0            1  ...   \n",
       "3      5790            2                  1   6240.0            3  ...   \n",
       "4     68348            2                  1  20196.0            2  ...   \n",
       "\n",
       "   timezone    geo_lat    geo_lon  population  dist_to_Moscow  dist_to_SaintP  \\\n",
       "0         5  54.734943  55.957848     1062300     1168.546509     1636.681519   \n",
       "1         5  54.734943  55.957848     1062300     1168.546509     1636.681519   \n",
       "2         5  54.734943  55.957848     1062300     1168.546509     1636.681519   \n",
       "3         5  54.734943  55.957848     1062300     1168.546509     1636.681519   \n",
       "4         5  54.734943  55.957848     1062300     1168.546509     1636.681519   \n",
       "\n",
       "   dist_to_Novosibirsk  dist_to_Ekaterinburg  dist_to_Vladivostok  domain  \n",
       "0          1720.041016            373.426453          5426.129395     712  \n",
       "1          1720.041016            373.426453          5426.129395     549  \n",
       "2          1720.041016            373.426453          5426.129395     761  \n",
       "3          1720.041016            373.426453          5426.129395     761  \n",
       "4          1720.041016            373.426453          5426.129395     549  \n",
       "\n",
       "[5 rows x 30 columns]"
      ]
     },
     "execution_count": 9,
     "metadata": {},
     "output_type": "execute_result"
    }
   ],
   "source": [
    "df = needed_ids.merge(df, how=\"left\", on=\"user_id\")\n",
    "df.head()"
   ]
  },
  {
   "cell_type": "code",
   "execution_count": 10,
   "id": "3decfe44",
   "metadata": {},
   "outputs": [],
   "source": [
    "LOCAL_DATA_PATH = './data/'\n",
    "SPLIT_SEED = 42"
   ]
  },
  {
   "cell_type": "code",
   "execution_count": 11,
   "id": "9fa5da81",
   "metadata": {},
   "outputs": [],
   "source": [
    "MODEL_ZOO = \"model_zoo/\"\n",
    "\n",
    "age_cbe = joblib.load(f\"{MODEL_ZOO}/age_cbe.joblib\")\n",
    "is_male_cbe = joblib.load(f\"{MODEL_ZOO}/is_male_cbe.joblib\")"
   ]
  },
  {
   "cell_type": "code",
   "execution_count": 13,
   "id": "f638430f",
   "metadata": {},
   "outputs": [
    {
     "name": "stdout",
     "output_type": "stream",
     "text": [
      "Once deleted, variables cannot be recovered. Proceed (y/[n])? н\n",
      "Once deleted, variables cannot be recovered. Proceed (y/[n])? y\n"
     ]
    }
   ],
   "source": [
    "my_reset(\"df\", \"is_male_cbe\", \"age_cbe\")"
   ]
  },
  {
   "cell_type": "code",
   "execution_count": 18,
   "id": "b1b584de",
   "metadata": {
    "scrolled": true
   },
   "outputs": [
    {
     "name": "stdout",
     "output_type": "stream",
     "text": [
      "Memory usage of dataframe is 16167.49 MB\n"
     ]
    },
    {
     "data": {
      "application/vnd.jupyter.widget-view+json": {
       "model_id": "91e6077b6e0849409c0c6dd2421741a5",
       "version_major": 2,
       "version_minor": 0
      },
      "text/plain": [
       "  0%|          | 0/30 [00:00<?, ?it/s]"
      ]
     },
     "metadata": {},
     "output_type": "display_data"
    },
    {
     "name": "stdout",
     "output_type": "stream",
     "text": [
      "Memory usage after optimization is: 15733.47 MB\n",
      "Decreased by 2.7%\n",
      "Memory usage of dataframe is 16167.49 MB\n"
     ]
    },
    {
     "data": {
      "application/vnd.jupyter.widget-view+json": {
       "model_id": "1e1f0320970249868e90d8fca9710ee6",
       "version_major": 2,
       "version_minor": 0
      },
      "text/plain": [
       "  0%|          | 0/30 [00:00<?, ?it/s]"
      ]
     },
     "metadata": {},
     "output_type": "display_data"
    },
    {
     "name": "stdout",
     "output_type": "stream",
     "text": [
      "Memory usage after optimization is: 15733.47 MB\n",
      "Decreased by 2.7%\n",
      "Memory usage of dataframe is 16167.49 MB\n"
     ]
    },
    {
     "data": {
      "application/vnd.jupyter.widget-view+json": {
       "model_id": "4ae3f63d1ef64643bfaa20710cac393c",
       "version_major": 2,
       "version_minor": 0
      },
      "text/plain": [
       "  0%|          | 0/30 [00:00<?, ?it/s]"
      ]
     },
     "metadata": {},
     "output_type": "display_data"
    },
    {
     "name": "stdout",
     "output_type": "stream",
     "text": [
      "Memory usage after optimization is: 15733.47 MB\n",
      "Decreased by 2.7%\n",
      "Memory usage of dataframe is 16167.49 MB\n"
     ]
    },
    {
     "data": {
      "application/vnd.jupyter.widget-view+json": {
       "model_id": "1453406e2efc4c2e89993d38c5fdc21f",
       "version_major": 2,
       "version_minor": 0
      },
      "text/plain": [
       "  0%|          | 0/30 [00:00<?, ?it/s]"
      ]
     },
     "metadata": {},
     "output_type": "display_data"
    },
    {
     "name": "stdout",
     "output_type": "stream",
     "text": [
      "Memory usage after optimization is: 15733.47 MB\n",
      "Decreased by 2.7%\n",
      "Memory usage of dataframe is 16167.49 MB\n"
     ]
    },
    {
     "data": {
      "application/vnd.jupyter.widget-view+json": {
       "model_id": "fd80be8bc39d48c3b68a3b054c9ab243",
       "version_major": 2,
       "version_minor": 0
      },
      "text/plain": [
       "  0%|          | 0/30 [00:00<?, ?it/s]"
      ]
     },
     "metadata": {},
     "output_type": "display_data"
    },
    {
     "name": "stdout",
     "output_type": "stream",
     "text": [
      "Memory usage after optimization is: 15733.47 MB\n",
      "Decreased by 2.7%\n"
     ]
    },
    {
     "data": {
      "text/html": [
       "<div>\n",
       "<style scoped>\n",
       "    .dataframe tbody tr th:only-of-type {\n",
       "        vertical-align: middle;\n",
       "    }\n",
       "\n",
       "    .dataframe tbody tr th {\n",
       "        vertical-align: top;\n",
       "    }\n",
       "\n",
       "    .dataframe thead th {\n",
       "        text-align: right;\n",
       "    }\n",
       "</style>\n",
       "<table border=\"1\" class=\"dataframe\">\n",
       "  <thead>\n",
       "    <tr style=\"text-align: right;\">\n",
       "      <th></th>\n",
       "      <th>user_id</th>\n",
       "      <th>region_name</th>\n",
       "      <th>city_name</th>\n",
       "      <th>cpe_manufacturer_name</th>\n",
       "      <th>cpe_model_name</th>\n",
       "      <th>url_host</th>\n",
       "      <th>cpe_type_cd</th>\n",
       "      <th>cpe_model_os_type</th>\n",
       "      <th>price</th>\n",
       "      <th>part_of_day</th>\n",
       "      <th>...</th>\n",
       "      <th>timezone</th>\n",
       "      <th>geo_lat</th>\n",
       "      <th>geo_lon</th>\n",
       "      <th>population</th>\n",
       "      <th>dist_to_Moscow</th>\n",
       "      <th>dist_to_SaintP</th>\n",
       "      <th>dist_to_Novosibirsk</th>\n",
       "      <th>dist_to_Ekaterinburg</th>\n",
       "      <th>dist_to_Vladivostok</th>\n",
       "      <th>domain</th>\n",
       "    </tr>\n",
       "  </thead>\n",
       "  <tbody>\n",
       "    <tr>\n",
       "      <th>0</th>\n",
       "      <td>221301</td>\n",
       "      <td>0.500012</td>\n",
       "      <td>0.524168</td>\n",
       "      <td>0.49747</td>\n",
       "      <td>0.673992</td>\n",
       "      <td>0.522320</td>\n",
       "      <td>0.520257</td>\n",
       "      <td>0.49747</td>\n",
       "      <td>6240.0</td>\n",
       "      <td>0.510338</td>\n",
       "      <td>...</td>\n",
       "      <td>5</td>\n",
       "      <td>54.734943</td>\n",
       "      <td>55.957848</td>\n",
       "      <td>1062300</td>\n",
       "      <td>1168.546509</td>\n",
       "      <td>1636.681519</td>\n",
       "      <td>1720.041016</td>\n",
       "      <td>373.426453</td>\n",
       "      <td>5426.129395</td>\n",
       "      <td>0.527697</td>\n",
       "    </tr>\n",
       "    <tr>\n",
       "      <th>1</th>\n",
       "      <td>221301</td>\n",
       "      <td>0.500012</td>\n",
       "      <td>0.524168</td>\n",
       "      <td>0.49747</td>\n",
       "      <td>0.673992</td>\n",
       "      <td>0.516654</td>\n",
       "      <td>0.520257</td>\n",
       "      <td>0.49747</td>\n",
       "      <td>6240.0</td>\n",
       "      <td>0.525272</td>\n",
       "      <td>...</td>\n",
       "      <td>5</td>\n",
       "      <td>54.734943</td>\n",
       "      <td>55.957848</td>\n",
       "      <td>1062300</td>\n",
       "      <td>1168.546509</td>\n",
       "      <td>1636.681519</td>\n",
       "      <td>1720.041016</td>\n",
       "      <td>373.426453</td>\n",
       "      <td>5426.129395</td>\n",
       "      <td>0.516202</td>\n",
       "    </tr>\n",
       "    <tr>\n",
       "      <th>2</th>\n",
       "      <td>221301</td>\n",
       "      <td>0.500012</td>\n",
       "      <td>0.524168</td>\n",
       "      <td>0.49747</td>\n",
       "      <td>0.673992</td>\n",
       "      <td>0.544248</td>\n",
       "      <td>0.520257</td>\n",
       "      <td>0.49747</td>\n",
       "      <td>20196.0</td>\n",
       "      <td>0.513347</td>\n",
       "      <td>...</td>\n",
       "      <td>5</td>\n",
       "      <td>54.734943</td>\n",
       "      <td>55.957848</td>\n",
       "      <td>1062300</td>\n",
       "      <td>1168.546509</td>\n",
       "      <td>1636.681519</td>\n",
       "      <td>1720.041016</td>\n",
       "      <td>373.426453</td>\n",
       "      <td>5426.129395</td>\n",
       "      <td>0.520483</td>\n",
       "    </tr>\n",
       "    <tr>\n",
       "      <th>3</th>\n",
       "      <td>221301</td>\n",
       "      <td>0.500012</td>\n",
       "      <td>0.524168</td>\n",
       "      <td>0.49747</td>\n",
       "      <td>0.673992</td>\n",
       "      <td>0.507646</td>\n",
       "      <td>0.520257</td>\n",
       "      <td>0.49747</td>\n",
       "      <td>6240.0</td>\n",
       "      <td>0.558631</td>\n",
       "      <td>...</td>\n",
       "      <td>5</td>\n",
       "      <td>54.734943</td>\n",
       "      <td>55.957848</td>\n",
       "      <td>1062300</td>\n",
       "      <td>1168.546509</td>\n",
       "      <td>1636.681519</td>\n",
       "      <td>1720.041016</td>\n",
       "      <td>373.426453</td>\n",
       "      <td>5426.129395</td>\n",
       "      <td>0.520483</td>\n",
       "    </tr>\n",
       "    <tr>\n",
       "      <th>4</th>\n",
       "      <td>221301</td>\n",
       "      <td>0.500012</td>\n",
       "      <td>0.524168</td>\n",
       "      <td>0.49747</td>\n",
       "      <td>0.673992</td>\n",
       "      <td>0.426310</td>\n",
       "      <td>0.520257</td>\n",
       "      <td>0.49747</td>\n",
       "      <td>20196.0</td>\n",
       "      <td>0.525272</td>\n",
       "      <td>...</td>\n",
       "      <td>5</td>\n",
       "      <td>54.734943</td>\n",
       "      <td>55.957848</td>\n",
       "      <td>1062300</td>\n",
       "      <td>1168.546509</td>\n",
       "      <td>1636.681519</td>\n",
       "      <td>1720.041016</td>\n",
       "      <td>373.426453</td>\n",
       "      <td>5426.129395</td>\n",
       "      <td>0.516202</td>\n",
       "    </tr>\n",
       "  </tbody>\n",
       "</table>\n",
       "<p>5 rows × 30 columns</p>\n",
       "</div>"
      ],
      "text/plain": [
       "   user_id  region_name  city_name  cpe_manufacturer_name  cpe_model_name  \\\n",
       "0   221301     0.500012   0.524168                0.49747        0.673992   \n",
       "1   221301     0.500012   0.524168                0.49747        0.673992   \n",
       "2   221301     0.500012   0.524168                0.49747        0.673992   \n",
       "3   221301     0.500012   0.524168                0.49747        0.673992   \n",
       "4   221301     0.500012   0.524168                0.49747        0.673992   \n",
       "\n",
       "   url_host  cpe_type_cd  cpe_model_os_type    price  part_of_day  ...  \\\n",
       "0  0.522320     0.520257            0.49747   6240.0     0.510338  ...   \n",
       "1  0.516654     0.520257            0.49747   6240.0     0.525272  ...   \n",
       "2  0.544248     0.520257            0.49747  20196.0     0.513347  ...   \n",
       "3  0.507646     0.520257            0.49747   6240.0     0.558631  ...   \n",
       "4  0.426310     0.520257            0.49747  20196.0     0.525272  ...   \n",
       "\n",
       "   timezone    geo_lat    geo_lon  population  dist_to_Moscow  dist_to_SaintP  \\\n",
       "0         5  54.734943  55.957848     1062300     1168.546509     1636.681519   \n",
       "1         5  54.734943  55.957848     1062300     1168.546509     1636.681519   \n",
       "2         5  54.734943  55.957848     1062300     1168.546509     1636.681519   \n",
       "3         5  54.734943  55.957848     1062300     1168.546509     1636.681519   \n",
       "4         5  54.734943  55.957848     1062300     1168.546509     1636.681519   \n",
       "\n",
       "   dist_to_Novosibirsk  dist_to_Ekaterinburg  dist_to_Vladivostok    domain  \n",
       "0          1720.041016            373.426453          5426.129395  0.527697  \n",
       "1          1720.041016            373.426453          5426.129395  0.516202  \n",
       "2          1720.041016            373.426453          5426.129395  0.520483  \n",
       "3          1720.041016            373.426453          5426.129395  0.520483  \n",
       "4          1720.041016            373.426453          5426.129395  0.516202  \n",
       "\n",
       "[5 rows x 30 columns]"
      ]
     },
     "execution_count": 18,
     "metadata": {},
     "output_type": "execute_result"
    }
   ],
   "source": [
    "is_male_df = is_male_cbe.transform(df)\n",
    "is_male_df.head()"
   ]
  },
  {
   "cell_type": "code",
   "execution_count": 26,
   "id": "a7808862",
   "metadata": {},
   "outputs": [
    {
     "data": {
      "application/vnd.jupyter.widget-view+json": {
       "model_id": "4581ed5723944e9795736347ed564b72",
       "version_major": 2,
       "version_minor": 0
      },
      "text/plain": [
       "  0%|          | 0/113777491 [00:00<?, ?it/s]"
      ]
     },
     "metadata": {},
     "output_type": "display_data"
    }
   ],
   "source": [
    "is_male_dataset = TestDataset(\n",
    "         is_male_df,\n",
    "         agg_column=\"user_id\", \n",
    "         time_column=\"timestamp\",\n",
    "         cat_features=[],\n",
    "         cont_features=continous_features + cat_features,\n",
    "         max_len=1024,\n",
    "         padding_side=\"left\",\n",
    ")\n",
    "user_ids = is_male_dataset.get_agg_col()"
   ]
  },
  {
   "cell_type": "code",
   "execution_count": 34,
   "id": "a6ea2e12",
   "metadata": {},
   "outputs": [
    {
     "name": "stdout",
     "output_type": "stream",
     "text": [
      "Memory usage of dataframe is 16167.49 MB\n"
     ]
    },
    {
     "data": {
      "application/vnd.jupyter.widget-view+json": {
       "model_id": "0929c9e5af274608b1b63ae7d355d6ec",
       "version_major": 2,
       "version_minor": 0
      },
      "text/plain": [
       "  0%|          | 0/30 [00:00<?, ?it/s]"
      ]
     },
     "metadata": {},
     "output_type": "display_data"
    },
    {
     "name": "stdout",
     "output_type": "stream",
     "text": [
      "Memory usage after optimization is: 15733.47 MB\n",
      "Decreased by 2.7%\n",
      "Memory usage of dataframe is 16167.49 MB\n"
     ]
    },
    {
     "data": {
      "application/vnd.jupyter.widget-view+json": {
       "model_id": "ef20b1f4423f4df5a7b3822ee6911070",
       "version_major": 2,
       "version_minor": 0
      },
      "text/plain": [
       "  0%|          | 0/30 [00:00<?, ?it/s]"
      ]
     },
     "metadata": {},
     "output_type": "display_data"
    },
    {
     "name": "stdout",
     "output_type": "stream",
     "text": [
      "Memory usage after optimization is: 15733.47 MB\n",
      "Decreased by 2.7%\n",
      "Memory usage of dataframe is 16167.49 MB\n"
     ]
    },
    {
     "data": {
      "application/vnd.jupyter.widget-view+json": {
       "model_id": "9454f2716ef7433f98ce42fcf84302b3",
       "version_major": 2,
       "version_minor": 0
      },
      "text/plain": [
       "  0%|          | 0/30 [00:00<?, ?it/s]"
      ]
     },
     "metadata": {},
     "output_type": "display_data"
    },
    {
     "name": "stdout",
     "output_type": "stream",
     "text": [
      "Memory usage after optimization is: 15733.47 MB\n",
      "Decreased by 2.7%\n",
      "Memory usage of dataframe is 16167.49 MB\n"
     ]
    },
    {
     "data": {
      "application/vnd.jupyter.widget-view+json": {
       "model_id": "3fc28888c07245e3bf069484aead37bf",
       "version_major": 2,
       "version_minor": 0
      },
      "text/plain": [
       "  0%|          | 0/30 [00:00<?, ?it/s]"
      ]
     },
     "metadata": {},
     "output_type": "display_data"
    },
    {
     "name": "stdout",
     "output_type": "stream",
     "text": [
      "Memory usage after optimization is: 15733.47 MB\n",
      "Decreased by 2.7%\n",
      "Memory usage of dataframe is 16167.49 MB\n"
     ]
    },
    {
     "data": {
      "application/vnd.jupyter.widget-view+json": {
       "model_id": "541569a9fcaa4f6ab15e10b42964ea99",
       "version_major": 2,
       "version_minor": 0
      },
      "text/plain": [
       "  0%|          | 0/30 [00:00<?, ?it/s]"
      ]
     },
     "metadata": {},
     "output_type": "display_data"
    },
    {
     "name": "stdout",
     "output_type": "stream",
     "text": [
      "Memory usage after optimization is: 15733.47 MB\n",
      "Decreased by 2.7%\n"
     ]
    },
    {
     "data": {
      "text/html": [
       "<div>\n",
       "<style scoped>\n",
       "    .dataframe tbody tr th:only-of-type {\n",
       "        vertical-align: middle;\n",
       "    }\n",
       "\n",
       "    .dataframe tbody tr th {\n",
       "        vertical-align: top;\n",
       "    }\n",
       "\n",
       "    .dataframe thead th {\n",
       "        text-align: right;\n",
       "    }\n",
       "</style>\n",
       "<table border=\"1\" class=\"dataframe\">\n",
       "  <thead>\n",
       "    <tr style=\"text-align: right;\">\n",
       "      <th></th>\n",
       "      <th>user_id</th>\n",
       "      <th>region_name</th>\n",
       "      <th>city_name</th>\n",
       "      <th>cpe_manufacturer_name</th>\n",
       "      <th>cpe_model_name</th>\n",
       "      <th>url_host</th>\n",
       "      <th>cpe_type_cd</th>\n",
       "      <th>cpe_model_os_type</th>\n",
       "      <th>price</th>\n",
       "      <th>part_of_day</th>\n",
       "      <th>...</th>\n",
       "      <th>timezone</th>\n",
       "      <th>geo_lat</th>\n",
       "      <th>geo_lon</th>\n",
       "      <th>population</th>\n",
       "      <th>dist_to_Moscow</th>\n",
       "      <th>dist_to_SaintP</th>\n",
       "      <th>dist_to_Novosibirsk</th>\n",
       "      <th>dist_to_Ekaterinburg</th>\n",
       "      <th>dist_to_Vladivostok</th>\n",
       "      <th>domain</th>\n",
       "    </tr>\n",
       "  </thead>\n",
       "  <tbody>\n",
       "    <tr>\n",
       "      <th>0</th>\n",
       "      <td>221301</td>\n",
       "      <td>37.102139</td>\n",
       "      <td>37.102139</td>\n",
       "      <td>37.102139</td>\n",
       "      <td>37.102139</td>\n",
       "      <td>37.102139</td>\n",
       "      <td>37.102139</td>\n",
       "      <td>37.102139</td>\n",
       "      <td>6240.0</td>\n",
       "      <td>37.102139</td>\n",
       "      <td>...</td>\n",
       "      <td>5</td>\n",
       "      <td>54.734943</td>\n",
       "      <td>55.957848</td>\n",
       "      <td>1062300</td>\n",
       "      <td>1168.546509</td>\n",
       "      <td>1636.681519</td>\n",
       "      <td>1720.041016</td>\n",
       "      <td>373.426453</td>\n",
       "      <td>5426.129395</td>\n",
       "      <td>37.102139</td>\n",
       "    </tr>\n",
       "    <tr>\n",
       "      <th>1</th>\n",
       "      <td>221301</td>\n",
       "      <td>37.102139</td>\n",
       "      <td>37.102139</td>\n",
       "      <td>37.102139</td>\n",
       "      <td>37.102139</td>\n",
       "      <td>37.102139</td>\n",
       "      <td>37.102139</td>\n",
       "      <td>37.102139</td>\n",
       "      <td>6240.0</td>\n",
       "      <td>37.102139</td>\n",
       "      <td>...</td>\n",
       "      <td>5</td>\n",
       "      <td>54.734943</td>\n",
       "      <td>55.957848</td>\n",
       "      <td>1062300</td>\n",
       "      <td>1168.546509</td>\n",
       "      <td>1636.681519</td>\n",
       "      <td>1720.041016</td>\n",
       "      <td>373.426453</td>\n",
       "      <td>5426.129395</td>\n",
       "      <td>37.102139</td>\n",
       "    </tr>\n",
       "    <tr>\n",
       "      <th>2</th>\n",
       "      <td>221301</td>\n",
       "      <td>37.102139</td>\n",
       "      <td>37.102139</td>\n",
       "      <td>37.102139</td>\n",
       "      <td>37.102139</td>\n",
       "      <td>37.102139</td>\n",
       "      <td>37.102139</td>\n",
       "      <td>37.102139</td>\n",
       "      <td>20196.0</td>\n",
       "      <td>37.102139</td>\n",
       "      <td>...</td>\n",
       "      <td>5</td>\n",
       "      <td>54.734943</td>\n",
       "      <td>55.957848</td>\n",
       "      <td>1062300</td>\n",
       "      <td>1168.546509</td>\n",
       "      <td>1636.681519</td>\n",
       "      <td>1720.041016</td>\n",
       "      <td>373.426453</td>\n",
       "      <td>5426.129395</td>\n",
       "      <td>37.102139</td>\n",
       "    </tr>\n",
       "    <tr>\n",
       "      <th>3</th>\n",
       "      <td>221301</td>\n",
       "      <td>37.102139</td>\n",
       "      <td>37.102139</td>\n",
       "      <td>37.102139</td>\n",
       "      <td>37.102139</td>\n",
       "      <td>37.102139</td>\n",
       "      <td>37.102139</td>\n",
       "      <td>37.102139</td>\n",
       "      <td>6240.0</td>\n",
       "      <td>37.102139</td>\n",
       "      <td>...</td>\n",
       "      <td>5</td>\n",
       "      <td>54.734943</td>\n",
       "      <td>55.957848</td>\n",
       "      <td>1062300</td>\n",
       "      <td>1168.546509</td>\n",
       "      <td>1636.681519</td>\n",
       "      <td>1720.041016</td>\n",
       "      <td>373.426453</td>\n",
       "      <td>5426.129395</td>\n",
       "      <td>37.102139</td>\n",
       "    </tr>\n",
       "    <tr>\n",
       "      <th>4</th>\n",
       "      <td>221301</td>\n",
       "      <td>37.102139</td>\n",
       "      <td>37.102139</td>\n",
       "      <td>37.102139</td>\n",
       "      <td>37.102139</td>\n",
       "      <td>37.102139</td>\n",
       "      <td>37.102139</td>\n",
       "      <td>37.102139</td>\n",
       "      <td>20196.0</td>\n",
       "      <td>37.102139</td>\n",
       "      <td>...</td>\n",
       "      <td>5</td>\n",
       "      <td>54.734943</td>\n",
       "      <td>55.957848</td>\n",
       "      <td>1062300</td>\n",
       "      <td>1168.546509</td>\n",
       "      <td>1636.681519</td>\n",
       "      <td>1720.041016</td>\n",
       "      <td>373.426453</td>\n",
       "      <td>5426.129395</td>\n",
       "      <td>37.102139</td>\n",
       "    </tr>\n",
       "  </tbody>\n",
       "</table>\n",
       "<p>5 rows × 30 columns</p>\n",
       "</div>"
      ],
      "text/plain": [
       "   user_id  region_name  city_name  cpe_manufacturer_name  cpe_model_name  \\\n",
       "0   221301    37.102139  37.102139              37.102139       37.102139   \n",
       "1   221301    37.102139  37.102139              37.102139       37.102139   \n",
       "2   221301    37.102139  37.102139              37.102139       37.102139   \n",
       "3   221301    37.102139  37.102139              37.102139       37.102139   \n",
       "4   221301    37.102139  37.102139              37.102139       37.102139   \n",
       "\n",
       "    url_host  cpe_type_cd  cpe_model_os_type    price  part_of_day  ...  \\\n",
       "0  37.102139    37.102139          37.102139   6240.0    37.102139  ...   \n",
       "1  37.102139    37.102139          37.102139   6240.0    37.102139  ...   \n",
       "2  37.102139    37.102139          37.102139  20196.0    37.102139  ...   \n",
       "3  37.102139    37.102139          37.102139   6240.0    37.102139  ...   \n",
       "4  37.102139    37.102139          37.102139  20196.0    37.102139  ...   \n",
       "\n",
       "   timezone    geo_lat    geo_lon  population  dist_to_Moscow  dist_to_SaintP  \\\n",
       "0         5  54.734943  55.957848     1062300     1168.546509     1636.681519   \n",
       "1         5  54.734943  55.957848     1062300     1168.546509     1636.681519   \n",
       "2         5  54.734943  55.957848     1062300     1168.546509     1636.681519   \n",
       "3         5  54.734943  55.957848     1062300     1168.546509     1636.681519   \n",
       "4         5  54.734943  55.957848     1062300     1168.546509     1636.681519   \n",
       "\n",
       "   dist_to_Novosibirsk  dist_to_Ekaterinburg  dist_to_Vladivostok     domain  \n",
       "0          1720.041016            373.426453          5426.129395  37.102139  \n",
       "1          1720.041016            373.426453          5426.129395  37.102139  \n",
       "2          1720.041016            373.426453          5426.129395  37.102139  \n",
       "3          1720.041016            373.426453          5426.129395  37.102139  \n",
       "4          1720.041016            373.426453          5426.129395  37.102139  \n",
       "\n",
       "[5 rows x 30 columns]"
      ]
     },
     "execution_count": 34,
     "metadata": {},
     "output_type": "execute_result"
    }
   ],
   "source": [
    "age_df = age_cbe.transform(df)\n",
    "age_df.head()"
   ]
  },
  {
   "cell_type": "code",
   "execution_count": 35,
   "id": "4377d30b",
   "metadata": {},
   "outputs": [
    {
     "data": {
      "application/vnd.jupyter.widget-view+json": {
       "model_id": "2325669d0479459b831c6ffa88261728",
       "version_major": 2,
       "version_minor": 0
      },
      "text/plain": [
       "  0%|          | 0/113777491 [00:00<?, ?it/s]"
      ]
     },
     "metadata": {},
     "output_type": "display_data"
    }
   ],
   "source": [
    "age_dataset = TestDataset(\n",
    "         age_df,\n",
    "         agg_column=\"user_id\", \n",
    "         time_column=\"timestamp\",\n",
    "         cat_features=[],\n",
    "         cont_features=continous_features + cat_features,\n",
    "         max_len=1024,\n",
    "         padding_side=\"left\",\n",
    ")\n",
    "user_ids = is_male_dataset.get_agg_col()"
   ]
  },
  {
   "cell_type": "code",
   "execution_count": 36,
   "id": "190808f9",
   "metadata": {},
   "outputs": [
    {
     "data": {
      "text/plain": [
       "(<seq2seq_modules.data.TestDataset at 0x7fcb5b7d7ac0>,\n",
       " <seq2seq_modules.data.TestDataset at 0x7fcb5b7d6e60>)"
      ]
     },
     "execution_count": 36,
     "metadata": {},
     "output_type": "execute_result"
    }
   ],
   "source": [
    "is_male_dataset, age_dataset"
   ]
  },
  {
   "cell_type": "code",
   "execution_count": 37,
   "id": "4a0c584a",
   "metadata": {},
   "outputs": [
    {
     "data": {
      "text/html": [
       "<div>\n",
       "<style scoped>\n",
       "    .dataframe tbody tr th:only-of-type {\n",
       "        vertical-align: middle;\n",
       "    }\n",
       "\n",
       "    .dataframe tbody tr th {\n",
       "        vertical-align: top;\n",
       "    }\n",
       "\n",
       "    .dataframe thead th {\n",
       "        text-align: right;\n",
       "    }\n",
       "</style>\n",
       "<table border=\"1\" class=\"dataframe\">\n",
       "  <thead>\n",
       "    <tr style=\"text-align: right;\">\n",
       "      <th></th>\n",
       "      <th>user_id</th>\n",
       "      <th>region_name</th>\n",
       "      <th>city_name</th>\n",
       "      <th>cpe_manufacturer_name</th>\n",
       "      <th>cpe_model_name</th>\n",
       "      <th>url_host</th>\n",
       "      <th>cpe_type_cd</th>\n",
       "      <th>cpe_model_os_type</th>\n",
       "      <th>price</th>\n",
       "      <th>part_of_day</th>\n",
       "      <th>...</th>\n",
       "      <th>timezone</th>\n",
       "      <th>geo_lat</th>\n",
       "      <th>geo_lon</th>\n",
       "      <th>population</th>\n",
       "      <th>dist_to_Moscow</th>\n",
       "      <th>dist_to_SaintP</th>\n",
       "      <th>dist_to_Novosibirsk</th>\n",
       "      <th>dist_to_Ekaterinburg</th>\n",
       "      <th>dist_to_Vladivostok</th>\n",
       "      <th>domain</th>\n",
       "    </tr>\n",
       "  </thead>\n",
       "  <tbody>\n",
       "    <tr>\n",
       "      <th>0</th>\n",
       "      <td>221301</td>\n",
       "      <td>37.102139</td>\n",
       "      <td>37.102139</td>\n",
       "      <td>37.102139</td>\n",
       "      <td>37.102139</td>\n",
       "      <td>37.102139</td>\n",
       "      <td>37.102139</td>\n",
       "      <td>37.102139</td>\n",
       "      <td>6240.0</td>\n",
       "      <td>37.102139</td>\n",
       "      <td>...</td>\n",
       "      <td>5</td>\n",
       "      <td>54.734943</td>\n",
       "      <td>55.957848</td>\n",
       "      <td>1062300</td>\n",
       "      <td>1168.546509</td>\n",
       "      <td>1636.681519</td>\n",
       "      <td>1720.041016</td>\n",
       "      <td>373.426453</td>\n",
       "      <td>5426.129395</td>\n",
       "      <td>37.102139</td>\n",
       "    </tr>\n",
       "    <tr>\n",
       "      <th>1</th>\n",
       "      <td>221301</td>\n",
       "      <td>37.102139</td>\n",
       "      <td>37.102139</td>\n",
       "      <td>37.102139</td>\n",
       "      <td>37.102139</td>\n",
       "      <td>37.102139</td>\n",
       "      <td>37.102139</td>\n",
       "      <td>37.102139</td>\n",
       "      <td>6240.0</td>\n",
       "      <td>37.102139</td>\n",
       "      <td>...</td>\n",
       "      <td>5</td>\n",
       "      <td>54.734943</td>\n",
       "      <td>55.957848</td>\n",
       "      <td>1062300</td>\n",
       "      <td>1168.546509</td>\n",
       "      <td>1636.681519</td>\n",
       "      <td>1720.041016</td>\n",
       "      <td>373.426453</td>\n",
       "      <td>5426.129395</td>\n",
       "      <td>37.102139</td>\n",
       "    </tr>\n",
       "    <tr>\n",
       "      <th>2</th>\n",
       "      <td>221301</td>\n",
       "      <td>37.102139</td>\n",
       "      <td>37.102139</td>\n",
       "      <td>37.102139</td>\n",
       "      <td>37.102139</td>\n",
       "      <td>37.102139</td>\n",
       "      <td>37.102139</td>\n",
       "      <td>37.102139</td>\n",
       "      <td>20196.0</td>\n",
       "      <td>37.102139</td>\n",
       "      <td>...</td>\n",
       "      <td>5</td>\n",
       "      <td>54.734943</td>\n",
       "      <td>55.957848</td>\n",
       "      <td>1062300</td>\n",
       "      <td>1168.546509</td>\n",
       "      <td>1636.681519</td>\n",
       "      <td>1720.041016</td>\n",
       "      <td>373.426453</td>\n",
       "      <td>5426.129395</td>\n",
       "      <td>37.102139</td>\n",
       "    </tr>\n",
       "    <tr>\n",
       "      <th>3</th>\n",
       "      <td>221301</td>\n",
       "      <td>37.102139</td>\n",
       "      <td>37.102139</td>\n",
       "      <td>37.102139</td>\n",
       "      <td>37.102139</td>\n",
       "      <td>37.102139</td>\n",
       "      <td>37.102139</td>\n",
       "      <td>37.102139</td>\n",
       "      <td>6240.0</td>\n",
       "      <td>37.102139</td>\n",
       "      <td>...</td>\n",
       "      <td>5</td>\n",
       "      <td>54.734943</td>\n",
       "      <td>55.957848</td>\n",
       "      <td>1062300</td>\n",
       "      <td>1168.546509</td>\n",
       "      <td>1636.681519</td>\n",
       "      <td>1720.041016</td>\n",
       "      <td>373.426453</td>\n",
       "      <td>5426.129395</td>\n",
       "      <td>37.102139</td>\n",
       "    </tr>\n",
       "    <tr>\n",
       "      <th>4</th>\n",
       "      <td>221301</td>\n",
       "      <td>37.102139</td>\n",
       "      <td>37.102139</td>\n",
       "      <td>37.102139</td>\n",
       "      <td>37.102139</td>\n",
       "      <td>37.102139</td>\n",
       "      <td>37.102139</td>\n",
       "      <td>37.102139</td>\n",
       "      <td>20196.0</td>\n",
       "      <td>37.102139</td>\n",
       "      <td>...</td>\n",
       "      <td>5</td>\n",
       "      <td>54.734943</td>\n",
       "      <td>55.957848</td>\n",
       "      <td>1062300</td>\n",
       "      <td>1168.546509</td>\n",
       "      <td>1636.681519</td>\n",
       "      <td>1720.041016</td>\n",
       "      <td>373.426453</td>\n",
       "      <td>5426.129395</td>\n",
       "      <td>37.102139</td>\n",
       "    </tr>\n",
       "  </tbody>\n",
       "</table>\n",
       "<p>5 rows × 30 columns</p>\n",
       "</div>"
      ],
      "text/plain": [
       "   user_id  region_name  city_name  cpe_manufacturer_name  cpe_model_name  \\\n",
       "0   221301    37.102139  37.102139              37.102139       37.102139   \n",
       "1   221301    37.102139  37.102139              37.102139       37.102139   \n",
       "2   221301    37.102139  37.102139              37.102139       37.102139   \n",
       "3   221301    37.102139  37.102139              37.102139       37.102139   \n",
       "4   221301    37.102139  37.102139              37.102139       37.102139   \n",
       "\n",
       "    url_host  cpe_type_cd  cpe_model_os_type    price  part_of_day  ...  \\\n",
       "0  37.102139    37.102139          37.102139   6240.0    37.102139  ...   \n",
       "1  37.102139    37.102139          37.102139   6240.0    37.102139  ...   \n",
       "2  37.102139    37.102139          37.102139  20196.0    37.102139  ...   \n",
       "3  37.102139    37.102139          37.102139   6240.0    37.102139  ...   \n",
       "4  37.102139    37.102139          37.102139  20196.0    37.102139  ...   \n",
       "\n",
       "   timezone    geo_lat    geo_lon  population  dist_to_Moscow  dist_to_SaintP  \\\n",
       "0         5  54.734943  55.957848     1062300     1168.546509     1636.681519   \n",
       "1         5  54.734943  55.957848     1062300     1168.546509     1636.681519   \n",
       "2         5  54.734943  55.957848     1062300     1168.546509     1636.681519   \n",
       "3         5  54.734943  55.957848     1062300     1168.546509     1636.681519   \n",
       "4         5  54.734943  55.957848     1062300     1168.546509     1636.681519   \n",
       "\n",
       "   dist_to_Novosibirsk  dist_to_Ekaterinburg  dist_to_Vladivostok     domain  \n",
       "0          1720.041016            373.426453          5426.129395  37.102139  \n",
       "1          1720.041016            373.426453          5426.129395  37.102139  \n",
       "2          1720.041016            373.426453          5426.129395  37.102139  \n",
       "3          1720.041016            373.426453          5426.129395  37.102139  \n",
       "4          1720.041016            373.426453          5426.129395  37.102139  \n",
       "\n",
       "[5 rows x 30 columns]"
      ]
     },
     "execution_count": 37,
     "metadata": {},
     "output_type": "execute_result"
    }
   ],
   "source": [
    "df.head()"
   ]
  },
  {
   "cell_type": "markdown",
   "id": "78f36334",
   "metadata": {},
   "source": [
    "## Feed to the model"
   ]
  },
  {
   "cell_type": "code",
   "execution_count": 38,
   "id": "23b5e8a3",
   "metadata": {
    "scrolled": true
   },
   "outputs": [
    {
     "name": "stderr",
     "output_type": "stream",
     "text": [
      "100%|███████████████████████████████████████| 23/23 [00:00<00:00, 333802.74it/s]\n"
     ]
    }
   ],
   "source": [
    "cat_feature_indexes = []\n",
    "cont_feature_indexes = []\n",
    "vocab_sizes = {}\n",
    "\n",
    "# for i in tqdm(range(len(cat_features))):\n",
    "#     cat_feature_indexes.append(i)\n",
    "#     vocab_sizes[i] = int(df[cat_features[i]].max() + 1)\n",
    "\n",
    "for i in tqdm(range(len(continous_features + cat_features))):\n",
    "    cont_feature_indexes.append(i)"
   ]
  },
  {
   "cell_type": "code",
   "execution_count": 39,
   "id": "bf38c683",
   "metadata": {},
   "outputs": [],
   "source": [
    "import joblib\n",
    "\n",
    "MODEL_ZOO = \"model_zoo/\"\n",
    "\n",
    "age_embedding_extractor = joblib.load(f\"{MODEL_ZOO}/age_lstm_with_cbe.joblib\")\n",
    "is_male_embedding_extractor = joblib.load(f\"{MODEL_ZOO}/is_male_baseline.joblib\")"
   ]
  },
  {
   "cell_type": "code",
   "execution_count": 40,
   "id": "68ff0136",
   "metadata": {},
   "outputs": [
    {
     "data": {
      "application/vnd.jupyter.widget-view+json": {
       "model_id": "ae249989b6c64e51b49607569582597d",
       "version_major": 2,
       "version_minor": 0
      },
      "text/plain": [
       "  0%|          | 0/4523 [00:00<?, ?it/s]"
      ]
     },
     "metadata": {},
     "output_type": "display_data"
    },
    {
     "data": {
      "application/vnd.jupyter.widget-view+json": {
       "model_id": "0042ba792b954473acfae2aeb6557927",
       "version_major": 2,
       "version_minor": 0
      },
      "text/plain": [
       "  0%|          | 0/4523 [00:00<?, ?it/s]"
      ]
     },
     "metadata": {},
     "output_type": "display_data"
    },
    {
     "data": {
      "application/vnd.jupyter.widget-view+json": {
       "model_id": "2a701bdaae5c4e82b048f69b364702cf",
       "version_major": 2,
       "version_minor": 0
      },
      "text/plain": [
       "  0%|          | 0/4523 [00:00<?, ?it/s]"
      ]
     },
     "metadata": {},
     "output_type": "display_data"
    },
    {
     "data": {
      "application/vnd.jupyter.widget-view+json": {
       "model_id": "0d14f6b4a7b041118ac4aa329dcd8664",
       "version_major": 2,
       "version_minor": 0
      },
      "text/plain": [
       "  0%|          | 0/4523 [00:00<?, ?it/s]"
      ]
     },
     "metadata": {},
     "output_type": "display_data"
    },
    {
     "data": {
      "application/vnd.jupyter.widget-view+json": {
       "model_id": "3f41c3d1fccc4004a410a13e852d8909",
       "version_major": 2,
       "version_minor": 0
      },
      "text/plain": [
       "  0%|          | 0/4523 [00:00<?, ?it/s]"
      ]
     },
     "metadata": {},
     "output_type": "display_data"
    },
    {
     "data": {
      "application/vnd.jupyter.widget-view+json": {
       "model_id": "71f5e0e944014dec9bc0a4c79b508533",
       "version_major": 2,
       "version_minor": 0
      },
      "text/plain": [
       "  0%|          | 0/4523 [00:00<?, ?it/s]"
      ]
     },
     "metadata": {},
     "output_type": "display_data"
    }
   ],
   "source": [
    "age_embeddings_df, age_logits_df = age_embedding_extractor.transform(age_dataset, user_ids)"
   ]
  },
  {
   "cell_type": "code",
   "execution_count": 41,
   "id": "2e7e98bd",
   "metadata": {},
   "outputs": [
    {
     "data": {
      "application/vnd.jupyter.widget-view+json": {
       "model_id": "ade8c20faebc431c96505970f7751ecc",
       "version_major": 2,
       "version_minor": 0
      },
      "text/plain": [
       "  0%|          | 0/4523 [00:00<?, ?it/s]"
      ]
     },
     "metadata": {},
     "output_type": "display_data"
    },
    {
     "data": {
      "application/vnd.jupyter.widget-view+json": {
       "model_id": "1aa8cc5c596343568e4834a2a43a3a4f",
       "version_major": 2,
       "version_minor": 0
      },
      "text/plain": [
       "  0%|          | 0/4523 [00:00<?, ?it/s]"
      ]
     },
     "metadata": {},
     "output_type": "display_data"
    },
    {
     "data": {
      "application/vnd.jupyter.widget-view+json": {
       "model_id": "abf4855618d74d2fb1d595e68f02724d",
       "version_major": 2,
       "version_minor": 0
      },
      "text/plain": [
       "  0%|          | 0/4523 [00:00<?, ?it/s]"
      ]
     },
     "metadata": {},
     "output_type": "display_data"
    },
    {
     "data": {
      "application/vnd.jupyter.widget-view+json": {
       "model_id": "7776d5c5b9eb4d2ab7a05e3d62bb1b37",
       "version_major": 2,
       "version_minor": 0
      },
      "text/plain": [
       "  0%|          | 0/4523 [00:00<?, ?it/s]"
      ]
     },
     "metadata": {},
     "output_type": "display_data"
    },
    {
     "data": {
      "application/vnd.jupyter.widget-view+json": {
       "model_id": "1aab0e1460fe482eb12067f0d99091df",
       "version_major": 2,
       "version_minor": 0
      },
      "text/plain": [
       "  0%|          | 0/4523 [00:00<?, ?it/s]"
      ]
     },
     "metadata": {},
     "output_type": "display_data"
    }
   ],
   "source": [
    "is_male_embeddings_df, is_male_logits_df = is_male_embedding_extractor.transform(is_male_dataset, user_ids)"
   ]
  },
  {
   "cell_type": "code",
   "execution_count": 44,
   "id": "6b69197d",
   "metadata": {},
   "outputs": [],
   "source": [
    "is_male_embeddings_df.to_parquet(f\"test_is_male_embeddings.parquet.gzip\",\n",
    "                                  compression='gzip')\n",
    "age_embeddings_df.to_parquet(f\"test_age_embeddings.parquet.gzip\",\n",
    "                                  compression='gzip')"
   ]
  },
  {
   "cell_type": "code",
   "execution_count": 48,
   "id": "788d4842",
   "metadata": {},
   "outputs": [],
   "source": [
    "is_male_logits_df.to_parquet(f\"test_is_male_logits.parquet.gzip\",\n",
    "                                  compression='gzip')\n",
    "age_logits_df.to_parquet(f\"test_age_logits.parquet.gzip\",\n",
    "                                  compression='gzip')"
   ]
  },
  {
   "cell_type": "code",
   "execution_count": 42,
   "id": "4e61e3a6",
   "metadata": {},
   "outputs": [],
   "source": [
    "is_male_logits_df"
   ]
  },
  {
   "cell_type": "code",
   "execution_count": 43,
   "id": "88954d3a",
   "metadata": {},
   "outputs": [],
   "source": [
    "age_logits_df"
   ]
  },
  {
   "cell_type": "code",
   "execution_count": 22,
   "id": "04a9959a",
   "metadata": {},
   "outputs": [],
   "source": [
    "def merge_predictions(is_male, age):\n",
    "    is_male_proba = is_male[\"target_feature_1\"].to_numpy()\n",
    "    age_class = age[[feature for feature in age.columns if \"feature\" in feature]].to_numpy().argmax(axis=1)\n",
    "    \n",
    "    final_df = pd.DataFrame({\"user_id\": age[\"user_id\"], \"age\": age_class, \"is_male\": is_male_proba})\n",
    "    return final_df"
   ]
  },
  {
   "cell_type": "code",
   "execution_count": 23,
   "id": "16ec9a51",
   "metadata": {},
   "outputs": [
    {
     "data": {
      "text/html": [
       "<div>\n",
       "<style scoped>\n",
       "    .dataframe tbody tr th:only-of-type {\n",
       "        vertical-align: middle;\n",
       "    }\n",
       "\n",
       "    .dataframe tbody tr th {\n",
       "        vertical-align: top;\n",
       "    }\n",
       "\n",
       "    .dataframe thead th {\n",
       "        text-align: right;\n",
       "    }\n",
       "</style>\n",
       "<table border=\"1\" class=\"dataframe\">\n",
       "  <thead>\n",
       "    <tr style=\"text-align: right;\">\n",
       "      <th></th>\n",
       "      <th>user_id</th>\n",
       "      <th>age</th>\n",
       "      <th>is_male</th>\n",
       "    </tr>\n",
       "  </thead>\n",
       "  <tbody>\n",
       "    <tr>\n",
       "      <th>0</th>\n",
       "      <td>6</td>\n",
       "      <td>2</td>\n",
       "      <td>0.321732</td>\n",
       "    </tr>\n",
       "    <tr>\n",
       "      <th>1</th>\n",
       "      <td>7</td>\n",
       "      <td>3</td>\n",
       "      <td>0.637350</td>\n",
       "    </tr>\n",
       "    <tr>\n",
       "      <th>2</th>\n",
       "      <td>9</td>\n",
       "      <td>1</td>\n",
       "      <td>0.276358</td>\n",
       "    </tr>\n",
       "    <tr>\n",
       "      <th>3</th>\n",
       "      <td>10</td>\n",
       "      <td>2</td>\n",
       "      <td>0.271077</td>\n",
       "    </tr>\n",
       "    <tr>\n",
       "      <th>4</th>\n",
       "      <td>11</td>\n",
       "      <td>6</td>\n",
       "      <td>0.723262</td>\n",
       "    </tr>\n",
       "    <tr>\n",
       "      <th>...</th>\n",
       "      <td>...</td>\n",
       "      <td>...</td>\n",
       "      <td>...</td>\n",
       "    </tr>\n",
       "    <tr>\n",
       "      <th>144719</th>\n",
       "      <td>415306</td>\n",
       "      <td>6</td>\n",
       "      <td>0.553725</td>\n",
       "    </tr>\n",
       "    <tr>\n",
       "      <th>144720</th>\n",
       "      <td>415310</td>\n",
       "      <td>6</td>\n",
       "      <td>0.506669</td>\n",
       "    </tr>\n",
       "    <tr>\n",
       "      <th>144721</th>\n",
       "      <td>415314</td>\n",
       "      <td>0</td>\n",
       "      <td>0.501669</td>\n",
       "    </tr>\n",
       "    <tr>\n",
       "      <th>144722</th>\n",
       "      <td>415315</td>\n",
       "      <td>6</td>\n",
       "      <td>0.500138</td>\n",
       "    </tr>\n",
       "    <tr>\n",
       "      <th>144723</th>\n",
       "      <td>415316</td>\n",
       "      <td>6</td>\n",
       "      <td>0.535564</td>\n",
       "    </tr>\n",
       "  </tbody>\n",
       "</table>\n",
       "<p>144724 rows × 3 columns</p>\n",
       "</div>"
      ],
      "text/plain": [
       "        user_id  age   is_male\n",
       "0             6    2  0.321732\n",
       "1             7    3  0.637350\n",
       "2             9    1  0.276358\n",
       "3            10    2  0.271077\n",
       "4            11    6  0.723262\n",
       "...         ...  ...       ...\n",
       "144719   415306    6  0.553725\n",
       "144720   415310    6  0.506669\n",
       "144721   415314    0  0.501669\n",
       "144722   415315    6  0.500138\n",
       "144723   415316    6  0.535564\n",
       "\n",
       "[144724 rows x 3 columns]"
      ]
     },
     "execution_count": 23,
     "metadata": {},
     "output_type": "execute_result"
    }
   ],
   "source": [
    "final_df = merge_predictions(is_male_logits_df, age_logits_df)\n",
    "final_df"
   ]
  },
  {
   "cell_type": "code",
   "execution_count": 24,
   "id": "fb439cd4",
   "metadata": {},
   "outputs": [],
   "source": [
    "final_df.to_csv(\"submission_1.csv\", index=False)"
   ]
  }
 ],
 "metadata": {
  "hide_input": false,
  "kernelspec": {
   "display_name": "Python 3 (ipykernel)",
   "language": "python",
   "name": "python3"
  },
  "language_info": {
   "codemirror_mode": {
    "name": "ipython",
    "version": 3
   },
   "file_extension": ".py",
   "mimetype": "text/x-python",
   "name": "python",
   "nbconvert_exporter": "python",
   "pygments_lexer": "ipython3",
   "version": "3.10.6"
  },
  "toc": {
   "base_numbering": 1,
   "nav_menu": {},
   "number_sections": true,
   "sideBar": true,
   "skip_h1_title": false,
   "title_cell": "Table of Contents",
   "title_sidebar": "Contents",
   "toc_cell": false,
   "toc_position": {},
   "toc_section_display": true,
   "toc_window_display": false
  },
  "varInspector": {
   "cols": {
    "lenName": 16,
    "lenType": 16,
    "lenVar": 40
   },
   "kernels_config": {
    "python": {
     "delete_cmd_postfix": "",
     "delete_cmd_prefix": "del ",
     "library": "var_list.py",
     "varRefreshCmd": "print(var_dic_list())"
    },
    "r": {
     "delete_cmd_postfix": ") ",
     "delete_cmd_prefix": "rm(",
     "library": "var_list.r",
     "varRefreshCmd": "cat(var_dic_list()) "
    }
   },
   "types_to_exclude": [
    "module",
    "function",
    "builtin_function_or_method",
    "instance",
    "_Feature"
   ],
   "window_display": false
  }
 },
 "nbformat": 4,
 "nbformat_minor": 5
}
