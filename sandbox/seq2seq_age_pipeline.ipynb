{
 "cells": [
  {
   "cell_type": "markdown",
   "id": "3c646f0c",
   "metadata": {},
   "source": [
    "# seq2seq"
   ]
  },
  {
   "cell_type": "code",
   "execution_count": 12,
   "id": "88993512",
   "metadata": {},
   "outputs": [],
   "source": [
    "import gc\n",
    "import sys\n",
    "import os\n",
    "import warnings\n",
    "from tqdm import tqdm\n",
    "\n",
    "sys.path.append(os.path.abspath(\"../\"))\n",
    "os.environ['OPENBLAS_NUM_THREADS'] = '1'\n",
    "warnings.filterwarnings('ignore')\n",
    "tqdm.pandas()"
   ]
  },
  {
   "cell_type": "code",
   "execution_count": 13,
   "id": "179dfb36",
   "metadata": {},
   "outputs": [],
   "source": [
    "import pandas as pd\n",
    "import numpy as np\n",
    "import time\n",
    "import polars as pl\n",
    "import scipy\n",
    "import implicit\n",
    "import bisect\n",
    "import sklearn.metrics as m\n",
    "from catboost import CatBoostClassifier, CatBoostRegressor, Pool\n",
    "\n",
    "from sklearn.model_selection import train_test_split\n",
    "from sklearn.calibration import calibration_curve, CalibratedClassifierCV\n",
    "from sklearn.utils.class_weight import compute_class_weight\n",
    "\n",
    "import torch\n",
    "from torch.utils.data import TensorDataset, DataLoader\n",
    "from torch import nn\n",
    "\n",
    "from transformers import get_constant_schedule"
   ]
  },
  {
   "cell_type": "code",
   "execution_count": 14,
   "id": "08884ce0",
   "metadata": {},
   "outputs": [],
   "source": [
    "import importlib\n",
    "\n",
    "import modules\n",
    "import fe_modules\n",
    "import seq2seq_modules\n",
    "\n",
    "importlib.reload(modules)\n",
    "importlib.reload(fe_modules)\n",
    "importlib.reload(seq2seq_modules)\n",
    "\n",
    "from modules.memory_utils import pandas_reduce_mem_usage, pandas_string_to_cat\n",
    "from seq2seq_modules.models import LSTMModel\n",
    "from seq2seq_modules.weight_initialization import weights_init_uniform_rule\n",
    "from seq2seq_modules.loops import cross_validation, single_model_training\n",
    "from seq2seq_modules.utils import age_bucket\n",
    "from seq2seq_modules.metrics import AGE_METRIC\n",
    "from fe_modules.encoders import CatBoostEncoderWrapper"
   ]
  },
  {
   "cell_type": "code",
   "execution_count": 15,
   "id": "93fc0bad",
   "metadata": {},
   "outputs": [],
   "source": [
    "def my_reset(*varnames):\n",
    "    \"\"\"\n",
    "    varnames are what you want to keep\n",
    "    \"\"\"\n",
    "    globals_ = globals()\n",
    "    to_save = {v: globals_[v] for v in varnames}\n",
    "    to_save['my_reset'] = my_reset  # lets keep this function by default\n",
    "    del globals_\n",
    "    get_ipython().magic(\"reset\")\n",
    "    globals().update(to_save)"
   ]
  },
  {
   "cell_type": "markdown",
   "id": "47431eb8",
   "metadata": {},
   "source": [
    "## Read and process"
   ]
  },
  {
   "cell_type": "code",
   "execution_count": 23,
   "id": "a17c3983",
   "metadata": {},
   "outputs": [],
   "source": [
    "DATA_PATH = '../data/'\n",
    "SEQ2SEQ_DATA_PATH = '../seq2seq_data/'\n",
    "\n",
    "SPLIT_SEED = 42"
   ]
  },
  {
   "cell_type": "code",
   "execution_count": 8,
   "id": "8bd60063",
   "metadata": {},
   "outputs": [
    {
     "name": "stdout",
     "output_type": "stream",
     "text": [
      "Memory usage of dataframe is 26346.12 MB\n"
     ]
    },
    {
     "data": {
      "application/vnd.jupyter.widget-view+json": {
       "model_id": "cf9c0eb32c414f769d237c2df8437e57",
       "version_major": 2,
       "version_minor": 0
      },
      "text/plain": [
       "  0%|          | 0/30 [00:00<?, ?it/s]"
      ]
     },
     "metadata": {},
     "output_type": "display_data"
    },
    {
     "name": "stdout",
     "output_type": "stream",
     "text": [
      "Memory usage after optimization is: 26346.12 MB\n",
      "Decreased by 0.0%\n"
     ]
    },
    {
     "data": {
      "text/html": [
       "<div>\n",
       "<style scoped>\n",
       "    .dataframe tbody tr th:only-of-type {\n",
       "        vertical-align: middle;\n",
       "    }\n",
       "\n",
       "    .dataframe tbody tr th {\n",
       "        vertical-align: top;\n",
       "    }\n",
       "\n",
       "    .dataframe thead th {\n",
       "        text-align: right;\n",
       "    }\n",
       "</style>\n",
       "<table border=\"1\" class=\"dataframe\">\n",
       "  <thead>\n",
       "    <tr style=\"text-align: right;\">\n",
       "      <th></th>\n",
       "      <th>region_name</th>\n",
       "      <th>city_name</th>\n",
       "      <th>cpe_manufacturer_name</th>\n",
       "      <th>cpe_model_name</th>\n",
       "      <th>url_host</th>\n",
       "      <th>cpe_type_cd</th>\n",
       "      <th>cpe_model_os_type</th>\n",
       "      <th>price</th>\n",
       "      <th>part_of_day</th>\n",
       "      <th>request_cnt</th>\n",
       "      <th>...</th>\n",
       "      <th>timezone</th>\n",
       "      <th>geo_lat</th>\n",
       "      <th>geo_lon</th>\n",
       "      <th>population</th>\n",
       "      <th>dist_to_Moscow</th>\n",
       "      <th>dist_to_SaintP</th>\n",
       "      <th>dist_to_Novosibirsk</th>\n",
       "      <th>dist_to_Ekaterinburg</th>\n",
       "      <th>dist_to_Vladivostok</th>\n",
       "      <th>domain</th>\n",
       "    </tr>\n",
       "  </thead>\n",
       "  <tbody>\n",
       "    <tr>\n",
       "      <th>0</th>\n",
       "      <td>21</td>\n",
       "      <td>409</td>\n",
       "      <td>1</td>\n",
       "      <td>589</td>\n",
       "      <td>5788</td>\n",
       "      <td>2</td>\n",
       "      <td>1</td>\n",
       "      <td>20368.0</td>\n",
       "      <td>2</td>\n",
       "      <td>1</td>\n",
       "      <td>...</td>\n",
       "      <td>3</td>\n",
       "      <td>45.040161</td>\n",
       "      <td>38.975964</td>\n",
       "      <td>744933</td>\n",
       "      <td>1195.817871</td>\n",
       "      <td>1755.62085</td>\n",
       "      <td>3275.137451</td>\n",
       "      <td>1992.558472</td>\n",
       "      <td>6999.525391</td>\n",
       "      <td>761</td>\n",
       "    </tr>\n",
       "    <tr>\n",
       "      <th>1</th>\n",
       "      <td>21</td>\n",
       "      <td>409</td>\n",
       "      <td>1</td>\n",
       "      <td>589</td>\n",
       "      <td>12900</td>\n",
       "      <td>2</td>\n",
       "      <td>1</td>\n",
       "      <td>20368.0</td>\n",
       "      <td>2</td>\n",
       "      <td>1</td>\n",
       "      <td>...</td>\n",
       "      <td>3</td>\n",
       "      <td>45.040161</td>\n",
       "      <td>38.975964</td>\n",
       "      <td>744933</td>\n",
       "      <td>1195.817871</td>\n",
       "      <td>1755.62085</td>\n",
       "      <td>3275.137451</td>\n",
       "      <td>1992.558472</td>\n",
       "      <td>6999.525391</td>\n",
       "      <td>549</td>\n",
       "    </tr>\n",
       "    <tr>\n",
       "      <th>2</th>\n",
       "      <td>21</td>\n",
       "      <td>409</td>\n",
       "      <td>1</td>\n",
       "      <td>589</td>\n",
       "      <td>17626</td>\n",
       "      <td>2</td>\n",
       "      <td>1</td>\n",
       "      <td>20368.0</td>\n",
       "      <td>0</td>\n",
       "      <td>1</td>\n",
       "      <td>...</td>\n",
       "      <td>3</td>\n",
       "      <td>45.040161</td>\n",
       "      <td>38.975964</td>\n",
       "      <td>744933</td>\n",
       "      <td>1195.817871</td>\n",
       "      <td>1755.62085</td>\n",
       "      <td>3275.137451</td>\n",
       "      <td>1992.558472</td>\n",
       "      <td>6999.525391</td>\n",
       "      <td>712</td>\n",
       "    </tr>\n",
       "    <tr>\n",
       "      <th>3</th>\n",
       "      <td>21</td>\n",
       "      <td>409</td>\n",
       "      <td>1</td>\n",
       "      <td>589</td>\n",
       "      <td>59366</td>\n",
       "      <td>2</td>\n",
       "      <td>1</td>\n",
       "      <td>20368.0</td>\n",
       "      <td>0</td>\n",
       "      <td>1</td>\n",
       "      <td>...</td>\n",
       "      <td>3</td>\n",
       "      <td>45.040161</td>\n",
       "      <td>38.975964</td>\n",
       "      <td>744933</td>\n",
       "      <td>1195.817871</td>\n",
       "      <td>1755.62085</td>\n",
       "      <td>3275.137451</td>\n",
       "      <td>1992.558472</td>\n",
       "      <td>6999.525391</td>\n",
       "      <td>712</td>\n",
       "    </tr>\n",
       "    <tr>\n",
       "      <th>4</th>\n",
       "      <td>21</td>\n",
       "      <td>409</td>\n",
       "      <td>1</td>\n",
       "      <td>589</td>\n",
       "      <td>59366</td>\n",
       "      <td>2</td>\n",
       "      <td>1</td>\n",
       "      <td>20368.0</td>\n",
       "      <td>0</td>\n",
       "      <td>1</td>\n",
       "      <td>...</td>\n",
       "      <td>3</td>\n",
       "      <td>45.040161</td>\n",
       "      <td>38.975964</td>\n",
       "      <td>744933</td>\n",
       "      <td>1195.817871</td>\n",
       "      <td>1755.62085</td>\n",
       "      <td>3275.137451</td>\n",
       "      <td>1992.558472</td>\n",
       "      <td>6999.525391</td>\n",
       "      <td>712</td>\n",
       "    </tr>\n",
       "  </tbody>\n",
       "</table>\n",
       "<p>5 rows × 30 columns</p>\n",
       "</div>"
      ],
      "text/plain": [
       "   region_name  city_name  cpe_manufacturer_name  cpe_model_name  url_host  \\\n",
       "0           21        409                      1             589      5788   \n",
       "1           21        409                      1             589     12900   \n",
       "2           21        409                      1             589     17626   \n",
       "3           21        409                      1             589     59366   \n",
       "4           21        409                      1             589     59366   \n",
       "\n",
       "   cpe_type_cd  cpe_model_os_type    price  part_of_day  request_cnt  ...  \\\n",
       "0            2                  1  20368.0            2            1  ...   \n",
       "1            2                  1  20368.0            2            1  ...   \n",
       "2            2                  1  20368.0            0            1  ...   \n",
       "3            2                  1  20368.0            0            1  ...   \n",
       "4            2                  1  20368.0            0            1  ...   \n",
       "\n",
       "   timezone    geo_lat    geo_lon  population  dist_to_Moscow  dist_to_SaintP  \\\n",
       "0         3  45.040161  38.975964      744933     1195.817871      1755.62085   \n",
       "1         3  45.040161  38.975964      744933     1195.817871      1755.62085   \n",
       "2         3  45.040161  38.975964      744933     1195.817871      1755.62085   \n",
       "3         3  45.040161  38.975964      744933     1195.817871      1755.62085   \n",
       "4         3  45.040161  38.975964      744933     1195.817871      1755.62085   \n",
       "\n",
       "   dist_to_Novosibirsk  dist_to_Ekaterinburg  dist_to_Vladivostok  domain  \n",
       "0          3275.137451           1992.558472          6999.525391     761  \n",
       "1          3275.137451           1992.558472          6999.525391     549  \n",
       "2          3275.137451           1992.558472          6999.525391     712  \n",
       "3          3275.137451           1992.558472          6999.525391     712  \n",
       "4          3275.137451           1992.558472          6999.525391     712  \n",
       "\n",
       "[5 rows x 30 columns]"
      ]
     },
     "execution_count": 8,
     "metadata": {},
     "output_type": "execute_result"
    }
   ],
   "source": [
    "df = pandas_reduce_mem_usage(\n",
    "    pd.read_parquet(f\"{SEQ2SEQ_DATA_PATH}/stages/stage_2.parquet.gzip\")\n",
    ")\n",
    "df.head()"
   ]
  },
  {
   "cell_type": "code",
   "execution_count": 9,
   "id": "f2908bf7",
   "metadata": {
    "scrolled": true
   },
   "outputs": [
    {
     "name": "stdout",
     "output_type": "stream",
     "text": [
      "Memory usage of dataframe is 6.18 MB\n"
     ]
    },
    {
     "data": {
      "application/vnd.jupyter.widget-view+json": {
       "model_id": "3114a238d5f44459af87033ba3090b06",
       "version_major": 2,
       "version_minor": 0
      },
      "text/plain": [
       "  0%|          | 0/2 [00:00<?, ?it/s]"
      ]
     },
     "metadata": {},
     "output_type": "display_data"
    },
    {
     "name": "stdout",
     "output_type": "stream",
     "text": [
      "Memory usage after optimization is: 5.15 MB\n",
      "Decreased by 16.7%\n"
     ]
    },
    {
     "data": {
      "text/html": [
       "<div>\n",
       "<style scoped>\n",
       "    .dataframe tbody tr th:only-of-type {\n",
       "        vertical-align: middle;\n",
       "    }\n",
       "\n",
       "    .dataframe tbody tr th {\n",
       "        vertical-align: top;\n",
       "    }\n",
       "\n",
       "    .dataframe thead th {\n",
       "        text-align: right;\n",
       "    }\n",
       "</style>\n",
       "<table border=\"1\" class=\"dataframe\">\n",
       "  <thead>\n",
       "    <tr style=\"text-align: right;\">\n",
       "      <th></th>\n",
       "      <th>user_id</th>\n",
       "      <th>age</th>\n",
       "    </tr>\n",
       "  </thead>\n",
       "  <tbody>\n",
       "    <tr>\n",
       "      <th>350459</th>\n",
       "      <td>350459</td>\n",
       "      <td>31.0</td>\n",
       "    </tr>\n",
       "    <tr>\n",
       "      <th>188276</th>\n",
       "      <td>188276</td>\n",
       "      <td>35.0</td>\n",
       "    </tr>\n",
       "    <tr>\n",
       "      <th>99002</th>\n",
       "      <td>99002</td>\n",
       "      <td>41.0</td>\n",
       "    </tr>\n",
       "    <tr>\n",
       "      <th>155506</th>\n",
       "      <td>155506</td>\n",
       "      <td>33.0</td>\n",
       "    </tr>\n",
       "    <tr>\n",
       "      <th>213873</th>\n",
       "      <td>213873</td>\n",
       "      <td>54.0</td>\n",
       "    </tr>\n",
       "    <tr>\n",
       "      <th>...</th>\n",
       "      <td>...</td>\n",
       "      <td>...</td>\n",
       "    </tr>\n",
       "    <tr>\n",
       "      <th>225374</th>\n",
       "      <td>225374</td>\n",
       "      <td>49.0</td>\n",
       "    </tr>\n",
       "    <tr>\n",
       "      <th>25776</th>\n",
       "      <td>25776</td>\n",
       "      <td>22.0</td>\n",
       "    </tr>\n",
       "    <tr>\n",
       "      <th>148131</th>\n",
       "      <td>148131</td>\n",
       "      <td>28.0</td>\n",
       "    </tr>\n",
       "    <tr>\n",
       "      <th>205570</th>\n",
       "      <td>205570</td>\n",
       "      <td>28.0</td>\n",
       "    </tr>\n",
       "    <tr>\n",
       "      <th>103148</th>\n",
       "      <td>103148</td>\n",
       "      <td>68.0</td>\n",
       "    </tr>\n",
       "  </tbody>\n",
       "</table>\n",
       "<p>270000 rows × 2 columns</p>\n",
       "</div>"
      ],
      "text/plain": [
       "        user_id   age\n",
       "350459   350459  31.0\n",
       "188276   188276  35.0\n",
       "99002     99002  41.0\n",
       "155506   155506  33.0\n",
       "213873   213873  54.0\n",
       "...         ...   ...\n",
       "225374   225374  49.0\n",
       "25776     25776  22.0\n",
       "148131   148131  28.0\n",
       "205570   205570  28.0\n",
       "103148   103148  68.0\n",
       "\n",
       "[270000 rows x 2 columns]"
      ]
     },
     "execution_count": 9,
     "metadata": {},
     "output_type": "execute_result"
    }
   ],
   "source": [
    "target = pandas_reduce_mem_usage(\n",
    "    pd.read_parquet(\n",
    "        f'{DATA_PATH}public_train.pqt', columns=[\"user_id\", \"age\"]\n",
    "    )\n",
    ")\n",
    "target"
   ]
  },
  {
   "cell_type": "code",
   "execution_count": 10,
   "id": "a348681b",
   "metadata": {},
   "outputs": [
    {
     "name": "stdout",
     "output_type": "stream",
     "text": [
      "Memory usage of dataframe is 18833.19 MB\n"
     ]
    },
    {
     "data": {
      "application/vnd.jupyter.widget-view+json": {
       "model_id": "50e8a5f52a7a47b99a2a5932ef379143",
       "version_major": 2,
       "version_minor": 0
      },
      "text/plain": [
       "  0%|          | 0/31 [00:00<?, ?it/s]"
      ]
     },
     "metadata": {},
     "output_type": "display_data"
    },
    {
     "name": "stdout",
     "output_type": "stream",
     "text": [
      "Memory usage after optimization is: 18833.19 MB\n",
      "Decreased by 0.0%\n"
     ]
    },
    {
     "data": {
      "text/html": [
       "<div>\n",
       "<style scoped>\n",
       "    .dataframe tbody tr th:only-of-type {\n",
       "        vertical-align: middle;\n",
       "    }\n",
       "\n",
       "    .dataframe tbody tr th {\n",
       "        vertical-align: top;\n",
       "    }\n",
       "\n",
       "    .dataframe thead th {\n",
       "        text-align: right;\n",
       "    }\n",
       "</style>\n",
       "<table border=\"1\" class=\"dataframe\">\n",
       "  <thead>\n",
       "    <tr style=\"text-align: right;\">\n",
       "      <th></th>\n",
       "      <th>region_name</th>\n",
       "      <th>city_name</th>\n",
       "      <th>cpe_manufacturer_name</th>\n",
       "      <th>cpe_model_name</th>\n",
       "      <th>url_host</th>\n",
       "      <th>cpe_type_cd</th>\n",
       "      <th>cpe_model_os_type</th>\n",
       "      <th>price</th>\n",
       "      <th>part_of_day</th>\n",
       "      <th>request_cnt</th>\n",
       "      <th>...</th>\n",
       "      <th>geo_lat</th>\n",
       "      <th>geo_lon</th>\n",
       "      <th>population</th>\n",
       "      <th>dist_to_Moscow</th>\n",
       "      <th>dist_to_SaintP</th>\n",
       "      <th>dist_to_Novosibirsk</th>\n",
       "      <th>dist_to_Ekaterinburg</th>\n",
       "      <th>dist_to_Vladivostok</th>\n",
       "      <th>domain</th>\n",
       "      <th>age</th>\n",
       "    </tr>\n",
       "  </thead>\n",
       "  <tbody>\n",
       "    <tr>\n",
       "      <th>2272</th>\n",
       "      <td>60</td>\n",
       "      <td>732</td>\n",
       "      <td>27</td>\n",
       "      <td>211</td>\n",
       "      <td>5790</td>\n",
       "      <td>2</td>\n",
       "      <td>0</td>\n",
       "      <td>74259.0</td>\n",
       "      <td>3</td>\n",
       "      <td>1</td>\n",
       "      <td>...</td>\n",
       "      <td>59.939133</td>\n",
       "      <td>30.315901</td>\n",
       "      <td>4848742</td>\n",
       "      <td>635.758972</td>\n",
       "      <td>0.024454</td>\n",
       "      <td>3115.404541</td>\n",
       "      <td>1787.926147</td>\n",
       "      <td>6555.964355</td>\n",
       "      <td>761</td>\n",
       "      <td>35.0</td>\n",
       "    </tr>\n",
       "    <tr>\n",
       "      <th>2273</th>\n",
       "      <td>60</td>\n",
       "      <td>732</td>\n",
       "      <td>27</td>\n",
       "      <td>211</td>\n",
       "      <td>65865</td>\n",
       "      <td>2</td>\n",
       "      <td>0</td>\n",
       "      <td>74259.0</td>\n",
       "      <td>0</td>\n",
       "      <td>3</td>\n",
       "      <td>...</td>\n",
       "      <td>59.939133</td>\n",
       "      <td>30.315901</td>\n",
       "      <td>4848742</td>\n",
       "      <td>635.758972</td>\n",
       "      <td>0.024454</td>\n",
       "      <td>3115.404541</td>\n",
       "      <td>1787.926147</td>\n",
       "      <td>6555.964355</td>\n",
       "      <td>549</td>\n",
       "      <td>35.0</td>\n",
       "    </tr>\n",
       "    <tr>\n",
       "      <th>2274</th>\n",
       "      <td>60</td>\n",
       "      <td>732</td>\n",
       "      <td>27</td>\n",
       "      <td>211</td>\n",
       "      <td>111474</td>\n",
       "      <td>2</td>\n",
       "      <td>0</td>\n",
       "      <td>74259.0</td>\n",
       "      <td>0</td>\n",
       "      <td>3</td>\n",
       "      <td>...</td>\n",
       "      <td>59.939133</td>\n",
       "      <td>30.315901</td>\n",
       "      <td>4848742</td>\n",
       "      <td>635.758972</td>\n",
       "      <td>0.024454</td>\n",
       "      <td>3115.404541</td>\n",
       "      <td>1787.926147</td>\n",
       "      <td>6555.964355</td>\n",
       "      <td>761</td>\n",
       "      <td>35.0</td>\n",
       "    </tr>\n",
       "    <tr>\n",
       "      <th>2275</th>\n",
       "      <td>14</td>\n",
       "      <td>311</td>\n",
       "      <td>27</td>\n",
       "      <td>211</td>\n",
       "      <td>111474</td>\n",
       "      <td>2</td>\n",
       "      <td>0</td>\n",
       "      <td>74259.0</td>\n",
       "      <td>1</td>\n",
       "      <td>2</td>\n",
       "      <td>...</td>\n",
       "      <td>54.707470</td>\n",
       "      <td>20.507324</td>\n",
       "      <td>431491</td>\n",
       "      <td>1092.055054</td>\n",
       "      <td>828.233154</td>\n",
       "      <td>3870.873535</td>\n",
       "      <td>2490.750244</td>\n",
       "      <td>7378.328613</td>\n",
       "      <td>761</td>\n",
       "      <td>35.0</td>\n",
       "    </tr>\n",
       "    <tr>\n",
       "      <th>2276</th>\n",
       "      <td>60</td>\n",
       "      <td>732</td>\n",
       "      <td>27</td>\n",
       "      <td>211</td>\n",
       "      <td>125409</td>\n",
       "      <td>2</td>\n",
       "      <td>0</td>\n",
       "      <td>74259.0</td>\n",
       "      <td>0</td>\n",
       "      <td>1</td>\n",
       "      <td>...</td>\n",
       "      <td>59.939133</td>\n",
       "      <td>30.315901</td>\n",
       "      <td>4848742</td>\n",
       "      <td>635.758972</td>\n",
       "      <td>0.024454</td>\n",
       "      <td>3115.404541</td>\n",
       "      <td>1787.926147</td>\n",
       "      <td>6555.964355</td>\n",
       "      <td>549</td>\n",
       "      <td>35.0</td>\n",
       "    </tr>\n",
       "  </tbody>\n",
       "</table>\n",
       "<p>5 rows × 31 columns</p>\n",
       "</div>"
      ],
      "text/plain": [
       "      region_name  city_name  cpe_manufacturer_name  cpe_model_name  url_host  \\\n",
       "2272           60        732                     27             211      5790   \n",
       "2273           60        732                     27             211     65865   \n",
       "2274           60        732                     27             211    111474   \n",
       "2275           14        311                     27             211    111474   \n",
       "2276           60        732                     27             211    125409   \n",
       "\n",
       "      cpe_type_cd  cpe_model_os_type    price  part_of_day  request_cnt  ...  \\\n",
       "2272            2                  0  74259.0            3            1  ...   \n",
       "2273            2                  0  74259.0            0            3  ...   \n",
       "2274            2                  0  74259.0            0            3  ...   \n",
       "2275            2                  0  74259.0            1            2  ...   \n",
       "2276            2                  0  74259.0            0            1  ...   \n",
       "\n",
       "        geo_lat    geo_lon  population  dist_to_Moscow  dist_to_SaintP  \\\n",
       "2272  59.939133  30.315901     4848742      635.758972        0.024454   \n",
       "2273  59.939133  30.315901     4848742      635.758972        0.024454   \n",
       "2274  59.939133  30.315901     4848742      635.758972        0.024454   \n",
       "2275  54.707470  20.507324      431491     1092.055054      828.233154   \n",
       "2276  59.939133  30.315901     4848742      635.758972        0.024454   \n",
       "\n",
       "      dist_to_Novosibirsk  dist_to_Ekaterinburg  dist_to_Vladivostok  domain  \\\n",
       "2272          3115.404541           1787.926147          6555.964355     761   \n",
       "2273          3115.404541           1787.926147          6555.964355     549   \n",
       "2274          3115.404541           1787.926147          6555.964355     761   \n",
       "2275          3870.873535           2490.750244          7378.328613     761   \n",
       "2276          3115.404541           1787.926147          6555.964355     549   \n",
       "\n",
       "       age  \n",
       "2272  35.0  \n",
       "2273  35.0  \n",
       "2274  35.0  \n",
       "2275  35.0  \n",
       "2276  35.0  \n",
       "\n",
       "[5 rows x 31 columns]"
      ]
     },
     "execution_count": 10,
     "metadata": {},
     "output_type": "execute_result"
    }
   ],
   "source": [
    "df = pandas_reduce_mem_usage(df.merge(target, how=\"left\", on=\"user_id\").dropna(subset=[\"age\"]))\n",
    "df.head()"
   ]
  },
  {
   "cell_type": "code",
   "execution_count": 11,
   "id": "6b1d2e9d",
   "metadata": {},
   "outputs": [
    {
     "name": "stdout",
     "output_type": "stream",
     "text": [
      "Once deleted, variables cannot be recovered. Proceed (y/[n])? y\n"
     ]
    }
   ],
   "source": [
    "my_reset(\"df\")"
   ]
  },
  {
   "cell_type": "code",
   "execution_count": 16,
   "id": "a9e65c5a",
   "metadata": {},
   "outputs": [],
   "source": [
    "ids = [\"user_id\"]\n",
    "\n",
    "cat_features = [\n",
    "    \"region_name\",\n",
    "    \"city_name\",\n",
    "    \"cpe_manufacturer_name\",\n",
    "    \"cpe_model_name\",\n",
    "    \"url_host\",\n",
    "    \"cpe_type_cd\",\n",
    "    \"cpe_model_os_type\",\n",
    "    \"part_of_day\",\n",
    "    \"domain\",\n",
    "    \"capital_marker\"\n",
    "]\n",
    "\n",
    "continous_features = [\n",
    "    \"request_cnt\",\n",
    "    \"price\",\n",
    "    \"timestamp\",\n",
    "    \"relative_timestamp\",\n",
    "    \"geo_lat\",\n",
    "    \"geo_lon\",\n",
    "    \"population\",\n",
    "    \"timezone\",\n",
    "    \"dist_to_Moscow\",\n",
    "    \"dist_to_SaintP\",\n",
    "    \"dist_to_Novosibirsk\",\n",
    "    \"dist_to_Ekaterinburg\",\n",
    "    \"dist_to_Vladivostok\",\n",
    "]"
   ]
  },
  {
   "cell_type": "code",
   "execution_count": 17,
   "id": "c8bde186",
   "metadata": {},
   "outputs": [],
   "source": [
    "cbe = CatBoostEncoderWrapper(cat_features=cat_features, sort_col=\"timestamp\")"
   ]
  },
  {
   "cell_type": "code",
   "execution_count": 18,
   "id": "23a9f4cf",
   "metadata": {},
   "outputs": [],
   "source": [
    "df = cbe.fit_transform(df, target_col=\"age\")"
   ]
  },
  {
   "cell_type": "code",
   "execution_count": 19,
   "id": "b0dbb628",
   "metadata": {},
   "outputs": [
    {
     "data": {
      "text/html": [
       "<div>\n",
       "<style scoped>\n",
       "    .dataframe tbody tr th:only-of-type {\n",
       "        vertical-align: middle;\n",
       "    }\n",
       "\n",
       "    .dataframe tbody tr th {\n",
       "        vertical-align: top;\n",
       "    }\n",
       "\n",
       "    .dataframe thead th {\n",
       "        text-align: right;\n",
       "    }\n",
       "</style>\n",
       "<table border=\"1\" class=\"dataframe\">\n",
       "  <thead>\n",
       "    <tr style=\"text-align: right;\">\n",
       "      <th></th>\n",
       "      <th>region_name</th>\n",
       "      <th>city_name</th>\n",
       "      <th>cpe_manufacturer_name</th>\n",
       "      <th>cpe_model_name</th>\n",
       "      <th>url_host</th>\n",
       "      <th>cpe_type_cd</th>\n",
       "      <th>cpe_model_os_type</th>\n",
       "      <th>price</th>\n",
       "      <th>part_of_day</th>\n",
       "      <th>request_cnt</th>\n",
       "      <th>...</th>\n",
       "      <th>geo_lat</th>\n",
       "      <th>geo_lon</th>\n",
       "      <th>population</th>\n",
       "      <th>dist_to_Moscow</th>\n",
       "      <th>dist_to_SaintP</th>\n",
       "      <th>dist_to_Novosibirsk</th>\n",
       "      <th>dist_to_Ekaterinburg</th>\n",
       "      <th>dist_to_Vladivostok</th>\n",
       "      <th>domain</th>\n",
       "      <th>age</th>\n",
       "    </tr>\n",
       "  </thead>\n",
       "  <tbody>\n",
       "    <tr>\n",
       "      <th>283148079</th>\n",
       "      <td>36.770563</td>\n",
       "      <td>38.356340</td>\n",
       "      <td>39.446444</td>\n",
       "      <td>38.262665</td>\n",
       "      <td>32.685074</td>\n",
       "      <td>37.097842</td>\n",
       "      <td>39.726215</td>\n",
       "      <td>15202.0</td>\n",
       "      <td>36.459209</td>\n",
       "      <td>1</td>\n",
       "      <td>...</td>\n",
       "      <td>53.454575</td>\n",
       "      <td>56.043877</td>\n",
       "      <td>66259</td>\n",
       "      <td>1214.075073</td>\n",
       "      <td>1719.235229</td>\n",
       "      <td>1749.992432</td>\n",
       "      <td>475.361786</td>\n",
       "      <td>5469.489746</td>\n",
       "      <td>35.600496</td>\n",
       "      <td>49.0</td>\n",
       "    </tr>\n",
       "    <tr>\n",
       "      <th>55415156</th>\n",
       "      <td>36.398467</td>\n",
       "      <td>35.678600</td>\n",
       "      <td>39.985874</td>\n",
       "      <td>41.581594</td>\n",
       "      <td>36.300617</td>\n",
       "      <td>37.097842</td>\n",
       "      <td>39.726215</td>\n",
       "      <td>12919.0</td>\n",
       "      <td>36.459209</td>\n",
       "      <td>1</td>\n",
       "      <td>...</td>\n",
       "      <td>47.411919</td>\n",
       "      <td>40.104210</td>\n",
       "      <td>169039</td>\n",
       "      <td>944.039307</td>\n",
       "      <td>1533.198975</td>\n",
       "      <td>3055.624268</td>\n",
       "      <td>1740.776978</td>\n",
       "      <td>6779.533691</td>\n",
       "      <td>38.174047</td>\n",
       "      <td>38.0</td>\n",
       "    </tr>\n",
       "    <tr>\n",
       "      <th>237055563</th>\n",
       "      <td>36.272424</td>\n",
       "      <td>35.128224</td>\n",
       "      <td>32.931036</td>\n",
       "      <td>32.078329</td>\n",
       "      <td>37.829524</td>\n",
       "      <td>37.097842</td>\n",
       "      <td>32.931036</td>\n",
       "      <td>51521.0</td>\n",
       "      <td>36.459209</td>\n",
       "      <td>1</td>\n",
       "      <td>...</td>\n",
       "      <td>61.254108</td>\n",
       "      <td>73.396156</td>\n",
       "      <td>306703</td>\n",
       "      <td>2143.172852</td>\n",
       "      <td>2322.031982</td>\n",
       "      <td>889.938171</td>\n",
       "      <td>881.775757</td>\n",
       "      <td>4290.968262</td>\n",
       "      <td>35.600496</td>\n",
       "      <td>39.0</td>\n",
       "    </tr>\n",
       "    <tr>\n",
       "      <th>237055441</th>\n",
       "      <td>36.272424</td>\n",
       "      <td>35.128224</td>\n",
       "      <td>32.931036</td>\n",
       "      <td>32.078329</td>\n",
       "      <td>34.183270</td>\n",
       "      <td>37.097842</td>\n",
       "      <td>32.931036</td>\n",
       "      <td>51521.0</td>\n",
       "      <td>36.459209</td>\n",
       "      <td>1</td>\n",
       "      <td>...</td>\n",
       "      <td>61.254108</td>\n",
       "      <td>73.396156</td>\n",
       "      <td>306703</td>\n",
       "      <td>2143.172852</td>\n",
       "      <td>2322.031982</td>\n",
       "      <td>889.938171</td>\n",
       "      <td>881.775757</td>\n",
       "      <td>4290.968262</td>\n",
       "      <td>38.174047</td>\n",
       "      <td>39.0</td>\n",
       "    </tr>\n",
       "    <tr>\n",
       "      <th>237055408</th>\n",
       "      <td>36.272424</td>\n",
       "      <td>35.128224</td>\n",
       "      <td>32.931036</td>\n",
       "      <td>32.078329</td>\n",
       "      <td>37.592145</td>\n",
       "      <td>37.097842</td>\n",
       "      <td>32.931036</td>\n",
       "      <td>51521.0</td>\n",
       "      <td>36.459209</td>\n",
       "      <td>1</td>\n",
       "      <td>...</td>\n",
       "      <td>61.254108</td>\n",
       "      <td>73.396156</td>\n",
       "      <td>306703</td>\n",
       "      <td>2143.172852</td>\n",
       "      <td>2322.031982</td>\n",
       "      <td>889.938171</td>\n",
       "      <td>881.775757</td>\n",
       "      <td>4290.968262</td>\n",
       "      <td>38.174047</td>\n",
       "      <td>39.0</td>\n",
       "    </tr>\n",
       "  </tbody>\n",
       "</table>\n",
       "<p>5 rows × 31 columns</p>\n",
       "</div>"
      ],
      "text/plain": [
       "           region_name  city_name  cpe_manufacturer_name  cpe_model_name  \\\n",
       "283148079    36.770563  38.356340              39.446444       38.262665   \n",
       "55415156     36.398467  35.678600              39.985874       41.581594   \n",
       "237055563    36.272424  35.128224              32.931036       32.078329   \n",
       "237055441    36.272424  35.128224              32.931036       32.078329   \n",
       "237055408    36.272424  35.128224              32.931036       32.078329   \n",
       "\n",
       "            url_host  cpe_type_cd  cpe_model_os_type    price  part_of_day  \\\n",
       "283148079  32.685074    37.097842          39.726215  15202.0    36.459209   \n",
       "55415156   36.300617    37.097842          39.726215  12919.0    36.459209   \n",
       "237055563  37.829524    37.097842          32.931036  51521.0    36.459209   \n",
       "237055441  34.183270    37.097842          32.931036  51521.0    36.459209   \n",
       "237055408  37.592145    37.097842          32.931036  51521.0    36.459209   \n",
       "\n",
       "           request_cnt  ...    geo_lat    geo_lon  population  dist_to_Moscow  \\\n",
       "283148079            1  ...  53.454575  56.043877       66259     1214.075073   \n",
       "55415156             1  ...  47.411919  40.104210      169039      944.039307   \n",
       "237055563            1  ...  61.254108  73.396156      306703     2143.172852   \n",
       "237055441            1  ...  61.254108  73.396156      306703     2143.172852   \n",
       "237055408            1  ...  61.254108  73.396156      306703     2143.172852   \n",
       "\n",
       "           dist_to_SaintP  dist_to_Novosibirsk  dist_to_Ekaterinburg  \\\n",
       "283148079     1719.235229          1749.992432            475.361786   \n",
       "55415156      1533.198975          3055.624268           1740.776978   \n",
       "237055563     2322.031982           889.938171            881.775757   \n",
       "237055441     2322.031982           889.938171            881.775757   \n",
       "237055408     2322.031982           889.938171            881.775757   \n",
       "\n",
       "           dist_to_Vladivostok     domain   age  \n",
       "283148079          5469.489746  35.600496  49.0  \n",
       "55415156           6779.533691  38.174047  38.0  \n",
       "237055563          4290.968262  35.600496  39.0  \n",
       "237055441          4290.968262  38.174047  39.0  \n",
       "237055408          4290.968262  38.174047  39.0  \n",
       "\n",
       "[5 rows x 31 columns]"
      ]
     },
     "execution_count": 19,
     "metadata": {},
     "output_type": "execute_result"
    }
   ],
   "source": [
    "df.head()"
   ]
  },
  {
   "cell_type": "code",
   "execution_count": 20,
   "id": "5ebf1d51",
   "metadata": {},
   "outputs": [],
   "source": [
    "cbe.save(\"../model_zoo\", \"age_cbe\")"
   ]
  },
  {
   "cell_type": "code",
   "execution_count": 21,
   "id": "1f8cbda8",
   "metadata": {},
   "outputs": [
    {
     "name": "stderr",
     "output_type": "stream",
     "text": [
      "100%|████████████████████████| 214652540/214652540 [02:12<00:00, 1619275.24it/s]\n"
     ]
    },
    {
     "name": "stdout",
     "output_type": "stream",
     "text": [
      "Memory usage of dataframe is 31320.42 MB\n"
     ]
    },
    {
     "data": {
      "application/vnd.jupyter.widget-view+json": {
       "model_id": "17fbd616b3db4225a834b0fc2e6b2d6c",
       "version_major": 2,
       "version_minor": 0
      },
      "text/plain": [
       "  0%|          | 0/31 [00:00<?, ?it/s]"
      ]
     },
     "metadata": {},
     "output_type": "display_data"
    },
    {
     "name": "stdout",
     "output_type": "stream",
     "text": [
      "Memory usage after optimization is: 29887.46 MB\n",
      "Decreased by 4.6%\n"
     ]
    },
    {
     "data": {
      "text/html": [
       "<div>\n",
       "<style scoped>\n",
       "    .dataframe tbody tr th:only-of-type {\n",
       "        vertical-align: middle;\n",
       "    }\n",
       "\n",
       "    .dataframe tbody tr th {\n",
       "        vertical-align: top;\n",
       "    }\n",
       "\n",
       "    .dataframe thead th {\n",
       "        text-align: right;\n",
       "    }\n",
       "</style>\n",
       "<table border=\"1\" class=\"dataframe\">\n",
       "  <thead>\n",
       "    <tr style=\"text-align: right;\">\n",
       "      <th></th>\n",
       "      <th>region_name</th>\n",
       "      <th>city_name</th>\n",
       "      <th>cpe_manufacturer_name</th>\n",
       "      <th>cpe_model_name</th>\n",
       "      <th>url_host</th>\n",
       "      <th>cpe_type_cd</th>\n",
       "      <th>cpe_model_os_type</th>\n",
       "      <th>price</th>\n",
       "      <th>part_of_day</th>\n",
       "      <th>request_cnt</th>\n",
       "      <th>...</th>\n",
       "      <th>geo_lat</th>\n",
       "      <th>geo_lon</th>\n",
       "      <th>population</th>\n",
       "      <th>dist_to_Moscow</th>\n",
       "      <th>dist_to_SaintP</th>\n",
       "      <th>dist_to_Novosibirsk</th>\n",
       "      <th>dist_to_Ekaterinburg</th>\n",
       "      <th>dist_to_Vladivostok</th>\n",
       "      <th>domain</th>\n",
       "      <th>age</th>\n",
       "    </tr>\n",
       "  </thead>\n",
       "  <tbody>\n",
       "    <tr>\n",
       "      <th>283148079</th>\n",
       "      <td>36.770563</td>\n",
       "      <td>38.356340</td>\n",
       "      <td>39.446444</td>\n",
       "      <td>38.262665</td>\n",
       "      <td>32.685074</td>\n",
       "      <td>37.097842</td>\n",
       "      <td>39.726215</td>\n",
       "      <td>15202.0</td>\n",
       "      <td>36.459209</td>\n",
       "      <td>1</td>\n",
       "      <td>...</td>\n",
       "      <td>53.454575</td>\n",
       "      <td>56.043877</td>\n",
       "      <td>66259</td>\n",
       "      <td>1214.075073</td>\n",
       "      <td>1719.235229</td>\n",
       "      <td>1749.992432</td>\n",
       "      <td>475.361786</td>\n",
       "      <td>5469.489746</td>\n",
       "      <td>35.600496</td>\n",
       "      <td>3</td>\n",
       "    </tr>\n",
       "    <tr>\n",
       "      <th>55415156</th>\n",
       "      <td>36.398467</td>\n",
       "      <td>35.678600</td>\n",
       "      <td>39.985874</td>\n",
       "      <td>41.581594</td>\n",
       "      <td>36.300617</td>\n",
       "      <td>37.097842</td>\n",
       "      <td>39.726215</td>\n",
       "      <td>12919.0</td>\n",
       "      <td>36.459209</td>\n",
       "      <td>1</td>\n",
       "      <td>...</td>\n",
       "      <td>47.411919</td>\n",
       "      <td>40.104210</td>\n",
       "      <td>169039</td>\n",
       "      <td>944.039307</td>\n",
       "      <td>1533.198975</td>\n",
       "      <td>3055.624268</td>\n",
       "      <td>1740.776978</td>\n",
       "      <td>6779.533691</td>\n",
       "      <td>38.174047</td>\n",
       "      <td>2</td>\n",
       "    </tr>\n",
       "    <tr>\n",
       "      <th>237055563</th>\n",
       "      <td>36.272424</td>\n",
       "      <td>35.128224</td>\n",
       "      <td>32.931036</td>\n",
       "      <td>32.078329</td>\n",
       "      <td>37.829524</td>\n",
       "      <td>37.097842</td>\n",
       "      <td>32.931036</td>\n",
       "      <td>51521.0</td>\n",
       "      <td>36.459209</td>\n",
       "      <td>1</td>\n",
       "      <td>...</td>\n",
       "      <td>61.254108</td>\n",
       "      <td>73.396156</td>\n",
       "      <td>306703</td>\n",
       "      <td>2143.172852</td>\n",
       "      <td>2322.031982</td>\n",
       "      <td>889.938171</td>\n",
       "      <td>881.775757</td>\n",
       "      <td>4290.968262</td>\n",
       "      <td>35.600496</td>\n",
       "      <td>2</td>\n",
       "    </tr>\n",
       "    <tr>\n",
       "      <th>237055441</th>\n",
       "      <td>36.272424</td>\n",
       "      <td>35.128224</td>\n",
       "      <td>32.931036</td>\n",
       "      <td>32.078329</td>\n",
       "      <td>34.183270</td>\n",
       "      <td>37.097842</td>\n",
       "      <td>32.931036</td>\n",
       "      <td>51521.0</td>\n",
       "      <td>36.459209</td>\n",
       "      <td>1</td>\n",
       "      <td>...</td>\n",
       "      <td>61.254108</td>\n",
       "      <td>73.396156</td>\n",
       "      <td>306703</td>\n",
       "      <td>2143.172852</td>\n",
       "      <td>2322.031982</td>\n",
       "      <td>889.938171</td>\n",
       "      <td>881.775757</td>\n",
       "      <td>4290.968262</td>\n",
       "      <td>38.174047</td>\n",
       "      <td>2</td>\n",
       "    </tr>\n",
       "    <tr>\n",
       "      <th>237055408</th>\n",
       "      <td>36.272424</td>\n",
       "      <td>35.128224</td>\n",
       "      <td>32.931036</td>\n",
       "      <td>32.078329</td>\n",
       "      <td>37.592145</td>\n",
       "      <td>37.097842</td>\n",
       "      <td>32.931036</td>\n",
       "      <td>51521.0</td>\n",
       "      <td>36.459209</td>\n",
       "      <td>1</td>\n",
       "      <td>...</td>\n",
       "      <td>61.254108</td>\n",
       "      <td>73.396156</td>\n",
       "      <td>306703</td>\n",
       "      <td>2143.172852</td>\n",
       "      <td>2322.031982</td>\n",
       "      <td>889.938171</td>\n",
       "      <td>881.775757</td>\n",
       "      <td>4290.968262</td>\n",
       "      <td>38.174047</td>\n",
       "      <td>2</td>\n",
       "    </tr>\n",
       "  </tbody>\n",
       "</table>\n",
       "<p>5 rows × 31 columns</p>\n",
       "</div>"
      ],
      "text/plain": [
       "           region_name  city_name  cpe_manufacturer_name  cpe_model_name  \\\n",
       "283148079    36.770563  38.356340              39.446444       38.262665   \n",
       "55415156     36.398467  35.678600              39.985874       41.581594   \n",
       "237055563    36.272424  35.128224              32.931036       32.078329   \n",
       "237055441    36.272424  35.128224              32.931036       32.078329   \n",
       "237055408    36.272424  35.128224              32.931036       32.078329   \n",
       "\n",
       "            url_host  cpe_type_cd  cpe_model_os_type    price  part_of_day  \\\n",
       "283148079  32.685074    37.097842          39.726215  15202.0    36.459209   \n",
       "55415156   36.300617    37.097842          39.726215  12919.0    36.459209   \n",
       "237055563  37.829524    37.097842          32.931036  51521.0    36.459209   \n",
       "237055441  34.183270    37.097842          32.931036  51521.0    36.459209   \n",
       "237055408  37.592145    37.097842          32.931036  51521.0    36.459209   \n",
       "\n",
       "           request_cnt  ...    geo_lat    geo_lon  population  dist_to_Moscow  \\\n",
       "283148079            1  ...  53.454575  56.043877       66259     1214.075073   \n",
       "55415156             1  ...  47.411919  40.104210      169039      944.039307   \n",
       "237055563            1  ...  61.254108  73.396156      306703     2143.172852   \n",
       "237055441            1  ...  61.254108  73.396156      306703     2143.172852   \n",
       "237055408            1  ...  61.254108  73.396156      306703     2143.172852   \n",
       "\n",
       "           dist_to_SaintP  dist_to_Novosibirsk  dist_to_Ekaterinburg  \\\n",
       "283148079     1719.235229          1749.992432            475.361786   \n",
       "55415156      1533.198975          3055.624268           1740.776978   \n",
       "237055563     2322.031982           889.938171            881.775757   \n",
       "237055441     2322.031982           889.938171            881.775757   \n",
       "237055408     2322.031982           889.938171            881.775757   \n",
       "\n",
       "           dist_to_Vladivostok     domain  age  \n",
       "283148079          5469.489746  35.600496    3  \n",
       "55415156           6779.533691  38.174047    2  \n",
       "237055563          4290.968262  35.600496    2  \n",
       "237055441          4290.968262  38.174047    2  \n",
       "237055408          4290.968262  38.174047    2  \n",
       "\n",
       "[5 rows x 31 columns]"
      ]
     },
     "execution_count": 21,
     "metadata": {},
     "output_type": "execute_result"
    }
   ],
   "source": [
    "df[\"age\"] = df[\"age\"].progress_apply(age_bucket)\n",
    "df = pandas_reduce_mem_usage(df)\n",
    "df.head()"
   ]
  },
  {
   "cell_type": "code",
   "execution_count": 24,
   "id": "9ed6ad3b",
   "metadata": {},
   "outputs": [],
   "source": [
    "df.to_parquet(f\"{SEQ2SEQ_DATA_PATH}/version_5_age.parquet.gzip\",\n",
    "              compression='gzip')"
   ]
  },
  {
   "cell_type": "markdown",
   "id": "019dc87e",
   "metadata": {},
   "source": [
    "## Make torch Dataset"
   ]
  },
  {
   "cell_type": "code",
   "execution_count": 1,
   "id": "a9a9b4b8",
   "metadata": {},
   "outputs": [],
   "source": [
    "import gc\n",
    "import sys\n",
    "import os\n",
    "import warnings\n",
    "from tqdm import tqdm\n",
    "\n",
    "sys.path.append(os.path.abspath(\"../\"))\n",
    "os.environ['OPENBLAS_NUM_THREADS'] = '1'\n",
    "warnings.filterwarnings('ignore')\n",
    "tqdm.pandas()"
   ]
  },
  {
   "cell_type": "code",
   "execution_count": 2,
   "id": "1be69dfc",
   "metadata": {},
   "outputs": [],
   "source": [
    "import pandas as pd\n",
    "import numpy as np\n",
    "import time\n",
    "import polars as pl\n",
    "import scipy\n",
    "import implicit\n",
    "import bisect\n",
    "import sklearn.metrics as m\n",
    "from catboost import CatBoostClassifier, CatBoostRegressor, Pool\n",
    "\n",
    "from sklearn.model_selection import train_test_split\n",
    "from sklearn.calibration import calibration_curve, CalibratedClassifierCV\n",
    "from sklearn.utils.class_weight import compute_class_weight\n",
    "\n",
    "import torch\n",
    "from torch.utils.data import TensorDataset, DataLoader\n",
    "from torch import nn\n",
    "\n",
    "from torch.optim.lr_scheduler import ReduceLROnPlateau\n",
    "from transformers import get_constant_schedule, get_cosine_schedule_with_warmup"
   ]
  },
  {
   "cell_type": "code",
   "execution_count": 3,
   "id": "5b1b7d8a",
   "metadata": {},
   "outputs": [],
   "source": [
    "import importlib\n",
    "\n",
    "import modules\n",
    "import fe_modules\n",
    "import seq2seq_modules\n",
    "\n",
    "importlib.reload(modules)\n",
    "importlib.reload(fe_modules)\n",
    "importlib.reload(seq2seq_modules)\n",
    "\n",
    "from modules.memory_utils import pandas_reduce_mem_usage, pandas_string_to_cat\n",
    "from seq2seq_modules.models import LSTMModel, StarterBERTModel, AttentionPoolingBERTModel\n",
    "from seq2seq_modules.data import TargetDataset\n",
    "from seq2seq_modules.weight_initialization import weights_init_uniform_rule, weights_init_xavier\n",
    "from seq2seq_modules.loops import cross_validation, single_model_training\n",
    "from seq2seq_modules.trainer import CVTrainer\n",
    "from seq2seq_modules.utils import age_bucket\n",
    "from seq2seq_modules.metrics import AGE_METRIC\n",
    "from seq2seq_modules.utils import fix_random_state"
   ]
  },
  {
   "cell_type": "code",
   "execution_count": 4,
   "id": "3decfe44",
   "metadata": {},
   "outputs": [],
   "source": [
    "LOCAL_DATA_PATH = '../seq2seq_data/'\n",
    "SEED = 42\n",
    "fix_random_state(SEED)"
   ]
  },
  {
   "cell_type": "code",
   "execution_count": 5,
   "id": "71987699",
   "metadata": {},
   "outputs": [],
   "source": [
    "ids = [\"user_id\"]\n",
    "\n",
    "cat_features = [\n",
    "    \"region_name\",\n",
    "    \"city_name\",\n",
    "    \"cpe_manufacturer_name\",\n",
    "    \"cpe_model_name\",\n",
    "    \"url_host\",\n",
    "    \"cpe_type_cd\",\n",
    "    \"cpe_model_os_type\",\n",
    "    \"part_of_day\",\n",
    "    \"domain\",\n",
    "    \"capital_marker\"\n",
    "]\n",
    "\n",
    "continous_features = [\n",
    "    \"request_cnt\",\n",
    "    \"price\",\n",
    "    \"timestamp\",\n",
    "    \"relative_timestamp\",\n",
    "    \"geo_lat\",\n",
    "    \"geo_lon\",\n",
    "    \"population\",\n",
    "    \"timezone\",\n",
    "    \"dist_to_Moscow\",\n",
    "    \"dist_to_SaintP\",\n",
    "    \"dist_to_Novosibirsk\",\n",
    "    \"dist_to_Ekaterinburg\",\n",
    "    \"dist_to_Vladivostok\",\n",
    "]"
   ]
  },
  {
   "cell_type": "code",
   "execution_count": 6,
   "id": "15aef6c1",
   "metadata": {
    "scrolled": true
   },
   "outputs": [
    {
     "name": "stdout",
     "output_type": "stream",
     "text": [
      "Memory usage of dataframe is 29887.46 MB\n"
     ]
    },
    {
     "data": {
      "application/vnd.jupyter.widget-view+json": {
       "model_id": "210946005ba642cf9d3c10ffe0543b3c",
       "version_major": 2,
       "version_minor": 0
      },
      "text/plain": [
       "  0%|          | 0/31 [00:00<?, ?it/s]"
      ]
     },
     "metadata": {},
     "output_type": "display_data"
    },
    {
     "name": "stdout",
     "output_type": "stream",
     "text": [
      "Memory usage after optimization is: 29887.46 MB\n",
      "Decreased by 0.0%\n"
     ]
    },
    {
     "data": {
      "text/html": [
       "<div>\n",
       "<style scoped>\n",
       "    .dataframe tbody tr th:only-of-type {\n",
       "        vertical-align: middle;\n",
       "    }\n",
       "\n",
       "    .dataframe tbody tr th {\n",
       "        vertical-align: top;\n",
       "    }\n",
       "\n",
       "    .dataframe thead th {\n",
       "        text-align: right;\n",
       "    }\n",
       "</style>\n",
       "<table border=\"1\" class=\"dataframe\">\n",
       "  <thead>\n",
       "    <tr style=\"text-align: right;\">\n",
       "      <th></th>\n",
       "      <th>region_name</th>\n",
       "      <th>city_name</th>\n",
       "      <th>cpe_manufacturer_name</th>\n",
       "      <th>cpe_model_name</th>\n",
       "      <th>url_host</th>\n",
       "      <th>cpe_type_cd</th>\n",
       "      <th>cpe_model_os_type</th>\n",
       "      <th>price</th>\n",
       "      <th>part_of_day</th>\n",
       "      <th>request_cnt</th>\n",
       "      <th>...</th>\n",
       "      <th>geo_lat</th>\n",
       "      <th>geo_lon</th>\n",
       "      <th>population</th>\n",
       "      <th>dist_to_Moscow</th>\n",
       "      <th>dist_to_SaintP</th>\n",
       "      <th>dist_to_Novosibirsk</th>\n",
       "      <th>dist_to_Ekaterinburg</th>\n",
       "      <th>dist_to_Vladivostok</th>\n",
       "      <th>domain</th>\n",
       "      <th>age</th>\n",
       "    </tr>\n",
       "  </thead>\n",
       "  <tbody>\n",
       "    <tr>\n",
       "      <th>283148079</th>\n",
       "      <td>36.770563</td>\n",
       "      <td>38.356340</td>\n",
       "      <td>39.446444</td>\n",
       "      <td>38.262665</td>\n",
       "      <td>32.685074</td>\n",
       "      <td>37.097842</td>\n",
       "      <td>39.726215</td>\n",
       "      <td>15202.0</td>\n",
       "      <td>36.459209</td>\n",
       "      <td>1</td>\n",
       "      <td>...</td>\n",
       "      <td>53.454575</td>\n",
       "      <td>56.043877</td>\n",
       "      <td>66259</td>\n",
       "      <td>1214.075073</td>\n",
       "      <td>1719.235229</td>\n",
       "      <td>1749.992432</td>\n",
       "      <td>475.361786</td>\n",
       "      <td>5469.489746</td>\n",
       "      <td>35.600496</td>\n",
       "      <td>3</td>\n",
       "    </tr>\n",
       "    <tr>\n",
       "      <th>55415156</th>\n",
       "      <td>36.398467</td>\n",
       "      <td>35.678600</td>\n",
       "      <td>39.985874</td>\n",
       "      <td>41.581594</td>\n",
       "      <td>36.300617</td>\n",
       "      <td>37.097842</td>\n",
       "      <td>39.726215</td>\n",
       "      <td>12919.0</td>\n",
       "      <td>36.459209</td>\n",
       "      <td>1</td>\n",
       "      <td>...</td>\n",
       "      <td>47.411919</td>\n",
       "      <td>40.104210</td>\n",
       "      <td>169039</td>\n",
       "      <td>944.039307</td>\n",
       "      <td>1533.198975</td>\n",
       "      <td>3055.624268</td>\n",
       "      <td>1740.776978</td>\n",
       "      <td>6779.533691</td>\n",
       "      <td>38.174047</td>\n",
       "      <td>2</td>\n",
       "    </tr>\n",
       "    <tr>\n",
       "      <th>237055563</th>\n",
       "      <td>36.272424</td>\n",
       "      <td>35.128224</td>\n",
       "      <td>32.931036</td>\n",
       "      <td>32.078329</td>\n",
       "      <td>37.829524</td>\n",
       "      <td>37.097842</td>\n",
       "      <td>32.931036</td>\n",
       "      <td>51521.0</td>\n",
       "      <td>36.459209</td>\n",
       "      <td>1</td>\n",
       "      <td>...</td>\n",
       "      <td>61.254108</td>\n",
       "      <td>73.396156</td>\n",
       "      <td>306703</td>\n",
       "      <td>2143.172852</td>\n",
       "      <td>2322.031982</td>\n",
       "      <td>889.938171</td>\n",
       "      <td>881.775757</td>\n",
       "      <td>4290.968262</td>\n",
       "      <td>35.600496</td>\n",
       "      <td>2</td>\n",
       "    </tr>\n",
       "    <tr>\n",
       "      <th>237055441</th>\n",
       "      <td>36.272424</td>\n",
       "      <td>35.128224</td>\n",
       "      <td>32.931036</td>\n",
       "      <td>32.078329</td>\n",
       "      <td>34.183270</td>\n",
       "      <td>37.097842</td>\n",
       "      <td>32.931036</td>\n",
       "      <td>51521.0</td>\n",
       "      <td>36.459209</td>\n",
       "      <td>1</td>\n",
       "      <td>...</td>\n",
       "      <td>61.254108</td>\n",
       "      <td>73.396156</td>\n",
       "      <td>306703</td>\n",
       "      <td>2143.172852</td>\n",
       "      <td>2322.031982</td>\n",
       "      <td>889.938171</td>\n",
       "      <td>881.775757</td>\n",
       "      <td>4290.968262</td>\n",
       "      <td>38.174047</td>\n",
       "      <td>2</td>\n",
       "    </tr>\n",
       "    <tr>\n",
       "      <th>237055408</th>\n",
       "      <td>36.272424</td>\n",
       "      <td>35.128224</td>\n",
       "      <td>32.931036</td>\n",
       "      <td>32.078329</td>\n",
       "      <td>37.592145</td>\n",
       "      <td>37.097842</td>\n",
       "      <td>32.931036</td>\n",
       "      <td>51521.0</td>\n",
       "      <td>36.459209</td>\n",
       "      <td>1</td>\n",
       "      <td>...</td>\n",
       "      <td>61.254108</td>\n",
       "      <td>73.396156</td>\n",
       "      <td>306703</td>\n",
       "      <td>2143.172852</td>\n",
       "      <td>2322.031982</td>\n",
       "      <td>889.938171</td>\n",
       "      <td>881.775757</td>\n",
       "      <td>4290.968262</td>\n",
       "      <td>38.174047</td>\n",
       "      <td>2</td>\n",
       "    </tr>\n",
       "  </tbody>\n",
       "</table>\n",
       "<p>5 rows × 31 columns</p>\n",
       "</div>"
      ],
      "text/plain": [
       "           region_name  city_name  cpe_manufacturer_name  cpe_model_name  \\\n",
       "283148079    36.770563  38.356340              39.446444       38.262665   \n",
       "55415156     36.398467  35.678600              39.985874       41.581594   \n",
       "237055563    36.272424  35.128224              32.931036       32.078329   \n",
       "237055441    36.272424  35.128224              32.931036       32.078329   \n",
       "237055408    36.272424  35.128224              32.931036       32.078329   \n",
       "\n",
       "            url_host  cpe_type_cd  cpe_model_os_type    price  part_of_day  \\\n",
       "283148079  32.685074    37.097842          39.726215  15202.0    36.459209   \n",
       "55415156   36.300617    37.097842          39.726215  12919.0    36.459209   \n",
       "237055563  37.829524    37.097842          32.931036  51521.0    36.459209   \n",
       "237055441  34.183270    37.097842          32.931036  51521.0    36.459209   \n",
       "237055408  37.592145    37.097842          32.931036  51521.0    36.459209   \n",
       "\n",
       "           request_cnt  ...    geo_lat    geo_lon  population  dist_to_Moscow  \\\n",
       "283148079            1  ...  53.454575  56.043877       66259     1214.075073   \n",
       "55415156             1  ...  47.411919  40.104210      169039      944.039307   \n",
       "237055563            1  ...  61.254108  73.396156      306703     2143.172852   \n",
       "237055441            1  ...  61.254108  73.396156      306703     2143.172852   \n",
       "237055408            1  ...  61.254108  73.396156      306703     2143.172852   \n",
       "\n",
       "           dist_to_SaintP  dist_to_Novosibirsk  dist_to_Ekaterinburg  \\\n",
       "283148079     1719.235229          1749.992432            475.361786   \n",
       "55415156      1533.198975          3055.624268           1740.776978   \n",
       "237055563     2322.031982           889.938171            881.775757   \n",
       "237055441     2322.031982           889.938171            881.775757   \n",
       "237055408     2322.031982           889.938171            881.775757   \n",
       "\n",
       "           dist_to_Vladivostok     domain  age  \n",
       "283148079          5469.489746  35.600496    3  \n",
       "55415156           6779.533691  38.174047    2  \n",
       "237055563          4290.968262  35.600496    2  \n",
       "237055441          4290.968262  38.174047    2  \n",
       "237055408          4290.968262  38.174047    2  \n",
       "\n",
       "[5 rows x 31 columns]"
      ]
     },
     "execution_count": 6,
     "metadata": {},
     "output_type": "execute_result"
    }
   ],
   "source": [
    "df = pandas_reduce_mem_usage(\n",
    "    pd.read_parquet(f\"{LOCAL_DATA_PATH}/version_5_age.parquet.gzip\")\n",
    ")\n",
    "df.head()"
   ]
  },
  {
   "cell_type": "code",
   "execution_count": 7,
   "id": "6335879b",
   "metadata": {},
   "outputs": [
    {
     "data": {
      "application/vnd.jupyter.widget-view+json": {
       "model_id": "7154f49a1ac0433e93c28a62419ec1a4",
       "version_major": 2,
       "version_minor": 0
      },
      "text/plain": [
       "  0%|          | 0/214652540 [00:00<?, ?it/s]"
      ]
     },
     "metadata": {},
     "output_type": "display_data"
    },
    {
     "data": {
      "text/plain": [
       "<seq2seq_modules.data.TargetDataset at 0x7f722222e9b0>"
      ]
     },
     "execution_count": 7,
     "metadata": {},
     "output_type": "execute_result"
    }
   ],
   "source": [
    "dataset = TargetDataset(\n",
    "         df,\n",
    "         agg_column=\"user_id\", \n",
    "         time_column=\"timestamp\",\n",
    "         target_column=\"age\",\n",
    "         cat_features=[],\n",
    "         cont_features=continous_features + cat_features,\n",
    "         max_len=1024,\n",
    "         padding_side=\"left\",\n",
    ")\n",
    "user_ids = dataset.get_agg_col()\n",
    "dataset"
   ]
  },
  {
   "cell_type": "markdown",
   "id": "78f36334",
   "metadata": {},
   "source": [
    "## Feed to the model"
   ]
  },
  {
   "cell_type": "code",
   "execution_count": 8,
   "id": "23b5e8a3",
   "metadata": {
    "scrolled": true
   },
   "outputs": [
    {
     "name": "stderr",
     "output_type": "stream",
     "text": [
      "100%|███████████████████████████████████████| 23/23 [00:00<00:00, 373910.82it/s]\n"
     ]
    }
   ],
   "source": [
    "cat_feature_indexes = []\n",
    "cont_feature_indexes = []\n",
    "vocab_sizes = {}\n",
    "\n",
    "# for i in tqdm(range(len(cat_features))):\n",
    "#     cat_feature_indexes.append(i)\n",
    "#     vocab_sizes[i] = int(df[cat_features[i]].max() + 1)\n",
    "\n",
    "for i in tqdm(range(len(continous_features + cat_features))):\n",
    "    cont_feature_indexes.append(i)"
   ]
  },
  {
   "cell_type": "code",
   "execution_count": 9,
   "id": "df8a3448",
   "metadata": {},
   "outputs": [
    {
     "data": {
      "text/plain": [
       "{}"
      ]
     },
     "execution_count": 9,
     "metadata": {},
     "output_type": "execute_result"
    }
   ],
   "source": [
    "vocab_sizes"
   ]
  },
  {
   "cell_type": "code",
   "execution_count": 10,
   "id": "d0450c5a",
   "metadata": {},
   "outputs": [
    {
     "name": "stderr",
     "output_type": "stream",
     "text": [
      "100%|████████████████████████████████| 269999/269999 [00:18<00:00, 14726.39it/s]\n"
     ]
    },
    {
     "data": {
      "text/plain": [
       "tensor([1, 2, 0,  ..., 2, 2, 4])"
      ]
     },
     "execution_count": 10,
     "metadata": {},
     "output_type": "execute_result"
    }
   ],
   "source": [
    "targets = torch.cat([el[3].unsqueeze(0) for el in tqdm(dataset)], dim=0)\n",
    "targets"
   ]
  },
  {
   "cell_type": "code",
   "execution_count": 14,
   "id": "de39e685",
   "metadata": {},
   "outputs": [],
   "source": [
    "# model = AttentionPoolingBERTModel(\n",
    "#         cat_feature_indexes=cat_feature_indexes,\n",
    "#         vocab_sizes=vocab_sizes,\n",
    "#         cont_feature_indexes=cont_feature_indexes,\n",
    "#         encoder_hidden_dim=16,\n",
    "#         hidden_dim=256,\n",
    "#         dim_feedforward=512,\n",
    "#         output_dim=7,\n",
    "#         pe_type=\"trainable\",\n",
    "#         use_mask=False,\n",
    "#         max_len=1024,\n",
    "#         use_key_padding_mask=True,\n",
    "# )\n",
    "\n",
    "# model = StarterBERTModel(\n",
    "#         cat_feature_indexes=cat_feature_indexes,\n",
    "#         vocab_sizes=vocab_sizes,\n",
    "#         cont_feature_indexes=cont_feature_indexes,\n",
    "#         encoder_hidden_dim=16,\n",
    "#         hidden_dim=256,\n",
    "#         dim_feedforward=512,\n",
    "#         output_dim=7,\n",
    "#         pe_type=\"trainable\",\n",
    "#         use_mask=False,\n",
    "#         max_len=1024,\n",
    "#         use_key_padding_mask=False,\n",
    "#         starter=\"randn\",\n",
    "#         shared=False\n",
    "# )\n",
    "\n",
    "model = LSTMModel(\n",
    "        cat_feature_indexes=cat_feature_indexes,\n",
    "        vocab_sizes=vocab_sizes,\n",
    "        cont_feature_indexes=cont_feature_indexes,\n",
    "        encoder_hidden_dim=16,\n",
    "        hidden_dim=256,\n",
    "        output_dim=6,\n",
    ")\n",
    "\n",
    "\n",
    "weights_init_xavier(model)\n",
    "\n",
    "loss = nn.CrossEntropyLoss(\n",
    "    weight=torch.tensor(\n",
    "        compute_class_weight(\n",
    "            class_weight=\"balanced\",\n",
    "            classes=sorted(df[\"age\"].unique()),\n",
    "            y=targets.numpy()\n",
    "        )\n",
    "    )\n",
    ")\n",
    "\n",
    "metric = AGE_METRIC"
   ]
  },
  {
   "cell_type": "code",
   "execution_count": 15,
   "id": "9ec814fa",
   "metadata": {
    "scrolled": true
   },
   "outputs": [],
   "source": [
    "trainer = CVTrainer(\n",
    "            model_name=\"age_lstm_with_cbe\",\n",
    "            model=model,\n",
    "            n_folds=6,\n",
    ")"
   ]
  },
  {
   "cell_type": "code",
   "execution_count": 16,
   "id": "b724c71d",
   "metadata": {
    "scrolled": true
   },
   "outputs": [
    {
     "name": "stdout",
     "output_type": "stream",
     "text": [
      "FOLD 0\n",
      "--------------------------------\n"
     ]
    },
    {
     "data": {
      "application/vnd.jupyter.widget-view+json": {
       "model_id": "710f147913e246ebb6b247d09b09b3af",
       "version_major": 2,
       "version_minor": 0
      },
      "text/plain": [
       "  0%|          | 0/879 [00:00<?, ?it/s]"
      ]
     },
     "metadata": {},
     "output_type": "display_data"
    },
    {
     "data": {
      "application/vnd.jupyter.widget-view+json": {
       "model_id": "64ca883cbf3b4f7898424b257cf6d047",
       "version_major": 2,
       "version_minor": 0
      },
      "text/plain": [
       "  0%|          | 0/176 [00:00<?, ?it/s]"
      ]
     },
     "metadata": {},
     "output_type": "display_data"
    },
    {
     "name": "stdout",
     "output_type": "stream",
     "text": [
      "EPOCH: 0\n",
      "{'Age F1': 0.19550520122332984, 'loss': 1.6820641836223396}\n",
      "{'Age F1': 0.270838909825709, 'loss': 1.6177623903423053}\n"
     ]
    },
    {
     "data": {
      "application/vnd.jupyter.widget-view+json": {
       "model_id": "535cb7e367484893ae42022b3f382fff",
       "version_major": 2,
       "version_minor": 0
      },
      "text/plain": [
       "  0%|          | 0/879 [00:00<?, ?it/s]"
      ]
     },
     "metadata": {},
     "output_type": "display_data"
    },
    {
     "data": {
      "application/vnd.jupyter.widget-view+json": {
       "model_id": "3149de3cbfcc4f528e1acbb003cc18e9",
       "version_major": 2,
       "version_minor": 0
      },
      "text/plain": [
       "  0%|          | 0/176 [00:00<?, ?it/s]"
      ]
     },
     "metadata": {},
     "output_type": "display_data"
    },
    {
     "name": "stdout",
     "output_type": "stream",
     "text": [
      "EPOCH: 1\n",
      "{'Age F1': 0.25519800302473916, 'loss': 1.5945557906693346}\n",
      "{'Age F1': 0.3007482527578546, 'loss': 1.531996437877229}\n"
     ]
    },
    {
     "data": {
      "application/vnd.jupyter.widget-view+json": {
       "model_id": "56a98a0c63e740038f4010cba8640a03",
       "version_major": 2,
       "version_minor": 0
      },
      "text/plain": [
       "  0%|          | 0/879 [00:00<?, ?it/s]"
      ]
     },
     "metadata": {},
     "output_type": "display_data"
    },
    {
     "data": {
      "application/vnd.jupyter.widget-view+json": {
       "model_id": "7ff80e227c39412aa708c85d768f6fd5",
       "version_major": 2,
       "version_minor": 0
      },
      "text/plain": [
       "  0%|          | 0/176 [00:00<?, ?it/s]"
      ]
     },
     "metadata": {},
     "output_type": "display_data"
    },
    {
     "name": "stdout",
     "output_type": "stream",
     "text": [
      "EPOCH: 2\n",
      "{'Age F1': 0.2948791319153757, 'loss': 1.5324655520558876}\n",
      "{'Age F1': 0.286520681279035, 'loss': 1.514471494939052}\n"
     ]
    },
    {
     "data": {
      "application/vnd.jupyter.widget-view+json": {
       "model_id": "d2337bf7752e45cd819b051ee5a3959e",
       "version_major": 2,
       "version_minor": 0
      },
      "text/plain": [
       "  0%|          | 0/879 [00:00<?, ?it/s]"
      ]
     },
     "metadata": {},
     "output_type": "display_data"
    },
    {
     "data": {
      "application/vnd.jupyter.widget-view+json": {
       "model_id": "4cbed1f67b2346dc855984903e25ee6d",
       "version_major": 2,
       "version_minor": 0
      },
      "text/plain": [
       "  0%|          | 0/176 [00:00<?, ?it/s]"
      ]
     },
     "metadata": {},
     "output_type": "display_data"
    },
    {
     "name": "stdout",
     "output_type": "stream",
     "text": [
      "EPOCH: 3\n",
      "{'Age F1': 0.3177486348440692, 'loss': 1.495329026224726}\n",
      "{'Age F1': 0.31363097416502184, 'loss': 1.4800834404616325}\n"
     ]
    },
    {
     "data": {
      "application/vnd.jupyter.widget-view+json": {
       "model_id": "e6a674b3efc04acd8e2e3b4511287607",
       "version_major": 2,
       "version_minor": 0
      },
      "text/plain": [
       "  0%|          | 0/879 [00:00<?, ?it/s]"
      ]
     },
     "metadata": {},
     "output_type": "display_data"
    },
    {
     "data": {
      "application/vnd.jupyter.widget-view+json": {
       "model_id": "d0ce653d143b4a4aa37625a2fb0b4dc2",
       "version_major": 2,
       "version_minor": 0
      },
      "text/plain": [
       "  0%|          | 0/176 [00:00<?, ?it/s]"
      ]
     },
     "metadata": {},
     "output_type": "display_data"
    },
    {
     "name": "stdout",
     "output_type": "stream",
     "text": [
      "EPOCH: 4\n",
      "{'Age F1': 0.32511093762292814, 'loss': 1.478245035065502}\n",
      "{'Age F1': 0.3132614085565049, 'loss': 1.4763455317684517}\n",
      "FOLD 1\n",
      "--------------------------------\n"
     ]
    },
    {
     "data": {
      "application/vnd.jupyter.widget-view+json": {
       "model_id": "56942db6c4ea46418baf99cb9d0174d2",
       "version_major": 2,
       "version_minor": 0
      },
      "text/plain": [
       "  0%|          | 0/879 [00:00<?, ?it/s]"
      ]
     },
     "metadata": {},
     "output_type": "display_data"
    },
    {
     "data": {
      "application/vnd.jupyter.widget-view+json": {
       "model_id": "13c5ee7ac8bc4bb9bdad125c98a06864",
       "version_major": 2,
       "version_minor": 0
      },
      "text/plain": [
       "  0%|          | 0/176 [00:00<?, ?it/s]"
      ]
     },
     "metadata": {},
     "output_type": "display_data"
    },
    {
     "name": "stdout",
     "output_type": "stream",
     "text": [
      "EPOCH: 0\n",
      "{'Age F1': 0.20077863125178572, 'loss': 1.6789538607038945}\n",
      "{'Age F1': 0.22260666021671072, 'loss': 1.6442611737043649}\n"
     ]
    },
    {
     "data": {
      "application/vnd.jupyter.widget-view+json": {
       "model_id": "a133ef9de3fc46b992fdb99282951739",
       "version_major": 2,
       "version_minor": 0
      },
      "text/plain": [
       "  0%|          | 0/879 [00:00<?, ?it/s]"
      ]
     },
     "metadata": {},
     "output_type": "display_data"
    },
    {
     "data": {
      "application/vnd.jupyter.widget-view+json": {
       "model_id": "ca006bbcb91c4222a4a6473281277511",
       "version_major": 2,
       "version_minor": 0
      },
      "text/plain": [
       "  0%|          | 0/176 [00:00<?, ?it/s]"
      ]
     },
     "metadata": {},
     "output_type": "display_data"
    },
    {
     "name": "stdout",
     "output_type": "stream",
     "text": [
      "EPOCH: 1\n",
      "{'Age F1': 0.25013269537601873, 'loss': 1.6049641978820848}\n",
      "{'Age F1': 0.2145433322007549, 'loss': 1.561910490280661}\n"
     ]
    },
    {
     "data": {
      "application/vnd.jupyter.widget-view+json": {
       "model_id": "4142eed5bdfe4d4c9f077fe2ae67240d",
       "version_major": 2,
       "version_minor": 0
      },
      "text/plain": [
       "  0%|          | 0/879 [00:00<?, ?it/s]"
      ]
     },
     "metadata": {},
     "output_type": "display_data"
    },
    {
     "data": {
      "application/vnd.jupyter.widget-view+json": {
       "model_id": "3e37ac08eaa441e89824470427a2feb8",
       "version_major": 2,
       "version_minor": 0
      },
      "text/plain": [
       "  0%|          | 0/176 [00:00<?, ?it/s]"
      ]
     },
     "metadata": {},
     "output_type": "display_data"
    },
    {
     "name": "stdout",
     "output_type": "stream",
     "text": [
      "EPOCH: 2\n",
      "{'Age F1': 0.2920352020572649, 'loss': 1.5386654157086688}\n",
      "{'Age F1': 0.29745520188921615, 'loss': 1.497457585110135}\n"
     ]
    },
    {
     "data": {
      "application/vnd.jupyter.widget-view+json": {
       "model_id": "1e5e1dde5e574c5babd25a01c97e2902",
       "version_major": 2,
       "version_minor": 0
      },
      "text/plain": [
       "  0%|          | 0/879 [00:00<?, ?it/s]"
      ]
     },
     "metadata": {},
     "output_type": "display_data"
    },
    {
     "data": {
      "application/vnd.jupyter.widget-view+json": {
       "model_id": "12263146682448be8bccb806eee0fcee",
       "version_major": 2,
       "version_minor": 0
      },
      "text/plain": [
       "  0%|          | 0/176 [00:00<?, ?it/s]"
      ]
     },
     "metadata": {},
     "output_type": "display_data"
    },
    {
     "name": "stdout",
     "output_type": "stream",
     "text": [
      "EPOCH: 3\n",
      "{'Age F1': 0.31454486716881835, 'loss': 1.4960464586062128}\n",
      "{'Age F1': 0.3108049760807496, 'loss': 1.4790399645181425}\n"
     ]
    },
    {
     "data": {
      "application/vnd.jupyter.widget-view+json": {
       "model_id": "205dd18ddf064482a45cd677a2cbbfad",
       "version_major": 2,
       "version_minor": 0
      },
      "text/plain": [
       "  0%|          | 0/879 [00:00<?, ?it/s]"
      ]
     },
     "metadata": {},
     "output_type": "display_data"
    },
    {
     "data": {
      "application/vnd.jupyter.widget-view+json": {
       "model_id": "9df2bf488a2345c79e85d6852736449b",
       "version_major": 2,
       "version_minor": 0
      },
      "text/plain": [
       "  0%|          | 0/176 [00:00<?, ?it/s]"
      ]
     },
     "metadata": {},
     "output_type": "display_data"
    },
    {
     "name": "stdout",
     "output_type": "stream",
     "text": [
      "EPOCH: 4\n",
      "{'Age F1': 0.32571593178570635, 'loss': 1.4770532047645848}\n",
      "{'Age F1': 0.31146179664882306, 'loss': 1.4746862628195863}\n",
      "FOLD 2\n",
      "--------------------------------\n"
     ]
    },
    {
     "data": {
      "application/vnd.jupyter.widget-view+json": {
       "model_id": "1ffbbb8723cb4b08a533634e6da83669",
       "version_major": 2,
       "version_minor": 0
      },
      "text/plain": [
       "  0%|          | 0/879 [00:00<?, ?it/s]"
      ]
     },
     "metadata": {},
     "output_type": "display_data"
    },
    {
     "data": {
      "application/vnd.jupyter.widget-view+json": {
       "model_id": "6941305f1be6473daf7161457205e668",
       "version_major": 2,
       "version_minor": 0
      },
      "text/plain": [
       "  0%|          | 0/176 [00:00<?, ?it/s]"
      ]
     },
     "metadata": {},
     "output_type": "display_data"
    },
    {
     "name": "stdout",
     "output_type": "stream",
     "text": [
      "EPOCH: 0\n",
      "{'Age F1': 0.1970730699941883, 'loss': 1.679396516393835}\n",
      "{'Age F1': 0.1558564257097195, 'loss': 1.742041177917825}\n"
     ]
    },
    {
     "data": {
      "application/vnd.jupyter.widget-view+json": {
       "model_id": "a8499c9906c1421990f29a1bbf60ece0",
       "version_major": 2,
       "version_minor": 0
      },
      "text/plain": [
       "  0%|          | 0/879 [00:00<?, ?it/s]"
      ]
     },
     "metadata": {},
     "output_type": "display_data"
    },
    {
     "data": {
      "application/vnd.jupyter.widget-view+json": {
       "model_id": "6c6d919bec6f4973ac6fef2e28a743bb",
       "version_major": 2,
       "version_minor": 0
      },
      "text/plain": [
       "  0%|          | 0/176 [00:00<?, ?it/s]"
      ]
     },
     "metadata": {},
     "output_type": "display_data"
    },
    {
     "name": "stdout",
     "output_type": "stream",
     "text": [
      "EPOCH: 1\n",
      "{'Age F1': 0.2496011087988346, 'loss': 1.6112873893509927}\n",
      "{'Age F1': 0.270163956255371, 'loss': 1.5832204797267295}\n"
     ]
    },
    {
     "data": {
      "application/vnd.jupyter.widget-view+json": {
       "model_id": "f9ec92e1fb73435dab14e6360afd91db",
       "version_major": 2,
       "version_minor": 0
      },
      "text/plain": [
       "  0%|          | 0/879 [00:00<?, ?it/s]"
      ]
     },
     "metadata": {},
     "output_type": "display_data"
    },
    {
     "data": {
      "application/vnd.jupyter.widget-view+json": {
       "model_id": "a18145ad49764c799c9536d5cc944b5b",
       "version_major": 2,
       "version_minor": 0
      },
      "text/plain": [
       "  0%|          | 0/176 [00:00<?, ?it/s]"
      ]
     },
     "metadata": {},
     "output_type": "display_data"
    },
    {
     "name": "stdout",
     "output_type": "stream",
     "text": [
      "EPOCH: 2\n",
      "{'Age F1': 0.2882323931436959, 'loss': 1.5489179531824384}\n",
      "{'Age F1': 0.26433276438994174, 'loss': 1.530226748661912}\n"
     ]
    },
    {
     "data": {
      "application/vnd.jupyter.widget-view+json": {
       "model_id": "eabecfcba421423abfe088f2173215ea",
       "version_major": 2,
       "version_minor": 0
      },
      "text/plain": [
       "  0%|          | 0/879 [00:00<?, ?it/s]"
      ]
     },
     "metadata": {},
     "output_type": "display_data"
    },
    {
     "data": {
      "application/vnd.jupyter.widget-view+json": {
       "model_id": "30266cb18de44485aba83e23a2d6a4d1",
       "version_major": 2,
       "version_minor": 0
      },
      "text/plain": [
       "  0%|          | 0/176 [00:00<?, ?it/s]"
      ]
     },
     "metadata": {},
     "output_type": "display_data"
    },
    {
     "name": "stdout",
     "output_type": "stream",
     "text": [
      "EPOCH: 3\n",
      "{'Age F1': 0.30761846433785617, 'loss': 1.5049876104396183}\n",
      "{'Age F1': 0.313724494681408, 'loss': 1.492988880150245}\n"
     ]
    },
    {
     "data": {
      "application/vnd.jupyter.widget-view+json": {
       "model_id": "9bb812629ec24323b93bd352eaee8d03",
       "version_major": 2,
       "version_minor": 0
      },
      "text/plain": [
       "  0%|          | 0/879 [00:00<?, ?it/s]"
      ]
     },
     "metadata": {},
     "output_type": "display_data"
    },
    {
     "data": {
      "application/vnd.jupyter.widget-view+json": {
       "model_id": "af358354b67d4a09b1ea765563e49bb8",
       "version_major": 2,
       "version_minor": 0
      },
      "text/plain": [
       "  0%|          | 0/176 [00:00<?, ?it/s]"
      ]
     },
     "metadata": {},
     "output_type": "display_data"
    },
    {
     "name": "stdout",
     "output_type": "stream",
     "text": [
      "EPOCH: 4\n",
      "{'Age F1': 0.3209301576012789, 'loss': 1.482153323140999}\n",
      "{'Age F1': 0.31460752130872277, 'loss': 1.488161792619517}\n",
      "FOLD 3\n",
      "--------------------------------\n"
     ]
    },
    {
     "data": {
      "application/vnd.jupyter.widget-view+json": {
       "model_id": "83a39860d88c433fa6980c84899a79b6",
       "version_major": 2,
       "version_minor": 0
      },
      "text/plain": [
       "  0%|          | 0/879 [00:00<?, ?it/s]"
      ]
     },
     "metadata": {},
     "output_type": "display_data"
    },
    {
     "data": {
      "application/vnd.jupyter.widget-view+json": {
       "model_id": "08d77ec221a741b4a05bbf8c4c192ca0",
       "version_major": 2,
       "version_minor": 0
      },
      "text/plain": [
       "  0%|          | 0/176 [00:00<?, ?it/s]"
      ]
     },
     "metadata": {},
     "output_type": "display_data"
    },
    {
     "name": "stdout",
     "output_type": "stream",
     "text": [
      "EPOCH: 0\n",
      "{'Age F1': 0.19320531363229626, 'loss': 1.6814985164328489}\n",
      "{'Age F1': 0.27879382476660736, 'loss': 1.5952913426309372}\n"
     ]
    },
    {
     "data": {
      "application/vnd.jupyter.widget-view+json": {
       "model_id": "8aa8be1d82e3425b91e52fd796ecd2ec",
       "version_major": 2,
       "version_minor": 0
      },
      "text/plain": [
       "  0%|          | 0/879 [00:00<?, ?it/s]"
      ]
     },
     "metadata": {},
     "output_type": "display_data"
    },
    {
     "data": {
      "application/vnd.jupyter.widget-view+json": {
       "model_id": "97c42f6aade24ab09e8122bdcbfd787a",
       "version_major": 2,
       "version_minor": 0
      },
      "text/plain": [
       "  0%|          | 0/176 [00:00<?, ?it/s]"
      ]
     },
     "metadata": {},
     "output_type": "display_data"
    }
   ],
   "source": [
    "train_fold_metrics, eval_fold_metrics, embeddings_df, logits_df = trainer.fit_transform(\n",
    "                          dataset=dataset,\n",
    "                          loss_function=nn.CrossEntropyLoss,\n",
    "                          metric_func=metric,\n",
    "                          optimizer=torch.optim.AdamW,\n",
    "                          get_scheduler=get_cosine_schedule_with_warmup,\n",
    "                          strat_array=targets,\n",
    "                          target_name=\"age\",\n",
    "                          user_ids=user_ids,\n",
    "                          shuffle=True,\n",
    "                          epochs=5,\n",
    "                          lr=1e-3,\n",
    "                          weight_decay=1e-2,\n",
    "                          num_warmup_steps=0,\n",
    "                          batch_size=256,\n",
    "                          device= \"cuda\"\n",
    ")"
   ]
  },
  {
   "cell_type": "code",
   "execution_count": 17,
   "id": "5cf5384c",
   "metadata": {},
   "outputs": [],
   "source": [
    "CV_FEATURES = \"../cv_data/\"\n",
    "MODEL_ZOO = \"../model_zoo/\""
   ]
  },
  {
   "cell_type": "code",
   "execution_count": 18,
   "id": "08761ffe",
   "metadata": {},
   "outputs": [],
   "source": [
    "trainer.save_model(model_name=trainer.model_name)"
   ]
  },
  {
   "cell_type": "code",
   "execution_count": 19,
   "id": "7a8e034c",
   "metadata": {},
   "outputs": [],
   "source": [
    "embeddings_df.to_parquet(f\"{CV_FEATURES}/age_cv_embeddings.parquet.gzip\",\n",
    "                          compression='gzip')\n",
    "logits_df.to_parquet(f\"{CV_FEATURES}/age_cv_logits.parquet.gzip\",\n",
    "                          compression='gzip')"
   ]
  },
  {
   "cell_type": "code",
   "execution_count": null,
   "id": "cbb778d8",
   "metadata": {},
   "outputs": [],
   "source": []
  }
 ],
 "metadata": {
  "hide_input": false,
  "kernelspec": {
   "display_name": "Python 3 (ipykernel)",
   "language": "python",
   "name": "python3"
  },
  "language_info": {
   "codemirror_mode": {
    "name": "ipython",
    "version": 3
   },
   "file_extension": ".py",
   "mimetype": "text/x-python",
   "name": "python",
   "nbconvert_exporter": "python",
   "pygments_lexer": "ipython3",
   "version": "3.10.6"
  },
  "toc": {
   "base_numbering": 1,
   "nav_menu": {},
   "number_sections": true,
   "sideBar": true,
   "skip_h1_title": false,
   "title_cell": "Table of Contents",
   "title_sidebar": "Contents",
   "toc_cell": false,
   "toc_position": {},
   "toc_section_display": true,
   "toc_window_display": false
  },
  "varInspector": {
   "cols": {
    "lenName": 16,
    "lenType": 16,
    "lenVar": 40
   },
   "kernels_config": {
    "python": {
     "delete_cmd_postfix": "",
     "delete_cmd_prefix": "del ",
     "library": "var_list.py",
     "varRefreshCmd": "print(var_dic_list())"
    },
    "r": {
     "delete_cmd_postfix": ") ",
     "delete_cmd_prefix": "rm(",
     "library": "var_list.r",
     "varRefreshCmd": "cat(var_dic_list()) "
    }
   },
   "types_to_exclude": [
    "module",
    "function",
    "builtin_function_or_method",
    "instance",
    "_Feature"
   ],
   "window_display": false
  }
 },
 "nbformat": 4,
 "nbformat_minor": 5
}
