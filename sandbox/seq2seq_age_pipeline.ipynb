{
 "cells": [
  {
   "cell_type": "markdown",
   "id": "3c646f0c",
   "metadata": {},
   "source": [
    "# seq2seq"
   ]
  },
  {
   "cell_type": "code",
   "execution_count": 1,
   "id": "88993512",
   "metadata": {},
   "outputs": [],
   "source": [
    "import gc\n",
    "import sys\n",
    "import os\n",
    "import warnings\n",
    "from tqdm import tqdm\n",
    "\n",
    "sys.path.append(os.path.abspath(\"../\"))\n",
    "os.environ['OPENBLAS_NUM_THREADS'] = '1'\n",
    "warnings.filterwarnings('ignore')\n",
    "tqdm.pandas()"
   ]
  },
  {
   "cell_type": "code",
   "execution_count": 2,
   "id": "179dfb36",
   "metadata": {},
   "outputs": [],
   "source": [
    "import pandas as pd\n",
    "import numpy as np\n",
    "import time\n",
    "import polars as pl\n",
    "import scipy\n",
    "import implicit\n",
    "import bisect\n",
    "import sklearn.metrics as m\n",
    "from catboost import CatBoostClassifier, CatBoostRegressor, Pool\n",
    "\n",
    "from sklearn.model_selection import train_test_split\n",
    "from sklearn.calibration import calibration_curve, CalibratedClassifierCV\n",
    "from sklearn.utils.class_weight import compute_class_weight\n",
    "\n",
    "import torch\n",
    "from torch.utils.data import TensorDataset, DataLoader\n",
    "from torch import nn\n",
    "\n",
    "from transformers import get_constant_schedule"
   ]
  },
  {
   "cell_type": "code",
   "execution_count": 3,
   "id": "08884ce0",
   "metadata": {},
   "outputs": [],
   "source": [
    "import importlib\n",
    "\n",
    "import modules\n",
    "import fe_modules\n",
    "import seq2seq_modules\n",
    "\n",
    "importlib.reload(modules)\n",
    "importlib.reload(fe_modules)\n",
    "importlib.reload(seq2seq_modules)\n",
    "\n",
    "from modules.memory_utils import pandas_reduce_mem_usage, pandas_string_to_cat\n",
    "from seq2seq_modules.models import LSTMModel\n",
    "from seq2seq_modules.weight_initialization import weights_init_uniform_rule\n",
    "from seq2seq_modules.loops import cross_validation, single_model_training\n",
    "from seq2seq_modules.utils import age_bucket\n",
    "from seq2seq_modules.metrics import AGE_METRIC"
   ]
  },
  {
   "cell_type": "markdown",
   "id": "47431eb8",
   "metadata": {},
   "source": [
    "## Read and process"
   ]
  },
  {
   "cell_type": "code",
   "execution_count": 4,
   "id": "a17c3983",
   "metadata": {},
   "outputs": [],
   "source": [
    "SEQ2SEQ_DATA_PATH = '../seq2seq_data/'\n",
    "DATA_PATH = '../data/'\n",
    "\n",
    "SPLIT_SEED = 42"
   ]
  },
  {
   "cell_type": "code",
   "execution_count": 5,
   "id": "8bd60063",
   "metadata": {},
   "outputs": [
    {
     "name": "stdout",
     "output_type": "stream",
     "text": [
      "Memory usage of dataframe is 28855.27 MB\n"
     ]
    },
    {
     "data": {
      "application/vnd.jupyter.widget-view+json": {
       "model_id": "",
       "version_major": 2,
       "version_minor": 0
      },
      "text/plain": [
       "  0%|          | 0/32 [00:00<?, ?it/s]"
      ]
     },
     "metadata": {},
     "output_type": "display_data"
    },
    {
     "name": "stdout",
     "output_type": "stream",
     "text": [
      "Memory usage after optimization is: 28855.27 MB\n",
      "Decreased by 0.0%\n"
     ]
    },
    {
     "data": {
      "text/html": [
       "<div>\n",
       "<style scoped>\n",
       "    .dataframe tbody tr th:only-of-type {\n",
       "        vertical-align: middle;\n",
       "    }\n",
       "\n",
       "    .dataframe tbody tr th {\n",
       "        vertical-align: top;\n",
       "    }\n",
       "\n",
       "    .dataframe thead th {\n",
       "        text-align: right;\n",
       "    }\n",
       "</style>\n",
       "<table border=\"1\" class=\"dataframe\">\n",
       "  <thead>\n",
       "    <tr style=\"text-align: right;\">\n",
       "      <th></th>\n",
       "      <th>region_name</th>\n",
       "      <th>city_name</th>\n",
       "      <th>cpe_manufacturer_name</th>\n",
       "      <th>cpe_model_name</th>\n",
       "      <th>url_host</th>\n",
       "      <th>cpe_type_cd</th>\n",
       "      <th>cpe_model_os_type</th>\n",
       "      <th>price</th>\n",
       "      <th>part_of_day</th>\n",
       "      <th>request_cnt</th>\n",
       "      <th>...</th>\n",
       "      <th>geo_lat_y</th>\n",
       "      <th>geo_lon_y</th>\n",
       "      <th>dist_to_Moscow</th>\n",
       "      <th>dist_to_SaintP</th>\n",
       "      <th>dist_to_Novosibirsk</th>\n",
       "      <th>dist_to_Ekaterinburg</th>\n",
       "      <th>dist_to_Vladivostok</th>\n",
       "      <th>domain</th>\n",
       "      <th>timestamp</th>\n",
       "      <th>relative_timestamp</th>\n",
       "    </tr>\n",
       "  </thead>\n",
       "  <tbody>\n",
       "    <tr>\n",
       "      <th>0</th>\n",
       "      <td>21</td>\n",
       "      <td>409</td>\n",
       "      <td>1</td>\n",
       "      <td>589</td>\n",
       "      <td>5788</td>\n",
       "      <td>2</td>\n",
       "      <td>1</td>\n",
       "      <td>20368.0</td>\n",
       "      <td>2</td>\n",
       "      <td>1</td>\n",
       "      <td>...</td>\n",
       "      <td>45.040161</td>\n",
       "      <td>38.975964</td>\n",
       "      <td>1195.817871</td>\n",
       "      <td>1755.62085</td>\n",
       "      <td>3275.137451</td>\n",
       "      <td>1992.558472</td>\n",
       "      <td>6999.525391</td>\n",
       "      <td>761</td>\n",
       "      <td>165528352.0</td>\n",
       "      <td>388.799988</td>\n",
       "    </tr>\n",
       "    <tr>\n",
       "      <th>1</th>\n",
       "      <td>21</td>\n",
       "      <td>409</td>\n",
       "      <td>1</td>\n",
       "      <td>589</td>\n",
       "      <td>12900</td>\n",
       "      <td>2</td>\n",
       "      <td>1</td>\n",
       "      <td>20368.0</td>\n",
       "      <td>2</td>\n",
       "      <td>1</td>\n",
       "      <td>...</td>\n",
       "      <td>45.040161</td>\n",
       "      <td>38.975964</td>\n",
       "      <td>1195.817871</td>\n",
       "      <td>1755.62085</td>\n",
       "      <td>3275.137451</td>\n",
       "      <td>1992.558472</td>\n",
       "      <td>6999.525391</td>\n",
       "      <td>549</td>\n",
       "      <td>165562912.0</td>\n",
       "      <td>43.200001</td>\n",
       "    </tr>\n",
       "    <tr>\n",
       "      <th>2</th>\n",
       "      <td>21</td>\n",
       "      <td>409</td>\n",
       "      <td>1</td>\n",
       "      <td>589</td>\n",
       "      <td>17626</td>\n",
       "      <td>2</td>\n",
       "      <td>1</td>\n",
       "      <td>20368.0</td>\n",
       "      <td>0</td>\n",
       "      <td>1</td>\n",
       "      <td>...</td>\n",
       "      <td>45.040161</td>\n",
       "      <td>38.975964</td>\n",
       "      <td>1195.817871</td>\n",
       "      <td>1755.62085</td>\n",
       "      <td>3275.137451</td>\n",
       "      <td>1992.558472</td>\n",
       "      <td>6999.525391</td>\n",
       "      <td>712</td>\n",
       "      <td>165504608.0</td>\n",
       "      <td>626.239990</td>\n",
       "    </tr>\n",
       "    <tr>\n",
       "      <th>3</th>\n",
       "      <td>21</td>\n",
       "      <td>409</td>\n",
       "      <td>1</td>\n",
       "      <td>589</td>\n",
       "      <td>59366</td>\n",
       "      <td>2</td>\n",
       "      <td>1</td>\n",
       "      <td>20368.0</td>\n",
       "      <td>0</td>\n",
       "      <td>1</td>\n",
       "      <td>...</td>\n",
       "      <td>45.040161</td>\n",
       "      <td>38.975964</td>\n",
       "      <td>1195.817871</td>\n",
       "      <td>1755.62085</td>\n",
       "      <td>3275.137451</td>\n",
       "      <td>1992.558472</td>\n",
       "      <td>6999.525391</td>\n",
       "      <td>712</td>\n",
       "      <td>165271328.0</td>\n",
       "      <td>2959.040039</td>\n",
       "    </tr>\n",
       "    <tr>\n",
       "      <th>4</th>\n",
       "      <td>21</td>\n",
       "      <td>409</td>\n",
       "      <td>1</td>\n",
       "      <td>589</td>\n",
       "      <td>59366</td>\n",
       "      <td>2</td>\n",
       "      <td>1</td>\n",
       "      <td>20368.0</td>\n",
       "      <td>0</td>\n",
       "      <td>1</td>\n",
       "      <td>...</td>\n",
       "      <td>45.040161</td>\n",
       "      <td>38.975964</td>\n",
       "      <td>1195.817871</td>\n",
       "      <td>1755.62085</td>\n",
       "      <td>3275.137451</td>\n",
       "      <td>1992.558472</td>\n",
       "      <td>6999.525391</td>\n",
       "      <td>712</td>\n",
       "      <td>165392288.0</td>\n",
       "      <td>1749.439941</td>\n",
       "    </tr>\n",
       "  </tbody>\n",
       "</table>\n",
       "<p>5 rows × 32 columns</p>\n",
       "</div>"
      ],
      "text/plain": [
       "   region_name  city_name  cpe_manufacturer_name  cpe_model_name  url_host  \\\n",
       "0           21        409                      1             589      5788   \n",
       "1           21        409                      1             589     12900   \n",
       "2           21        409                      1             589     17626   \n",
       "3           21        409                      1             589     59366   \n",
       "4           21        409                      1             589     59366   \n",
       "\n",
       "   cpe_type_cd  cpe_model_os_type    price  part_of_day  request_cnt  ...  \\\n",
       "0            2                  1  20368.0            2            1  ...   \n",
       "1            2                  1  20368.0            2            1  ...   \n",
       "2            2                  1  20368.0            0            1  ...   \n",
       "3            2                  1  20368.0            0            1  ...   \n",
       "4            2                  1  20368.0            0            1  ...   \n",
       "\n",
       "   geo_lat_y  geo_lon_y  dist_to_Moscow  dist_to_SaintP  dist_to_Novosibirsk  \\\n",
       "0  45.040161  38.975964     1195.817871      1755.62085          3275.137451   \n",
       "1  45.040161  38.975964     1195.817871      1755.62085          3275.137451   \n",
       "2  45.040161  38.975964     1195.817871      1755.62085          3275.137451   \n",
       "3  45.040161  38.975964     1195.817871      1755.62085          3275.137451   \n",
       "4  45.040161  38.975964     1195.817871      1755.62085          3275.137451   \n",
       "\n",
       "   dist_to_Ekaterinburg  dist_to_Vladivostok  domain    timestamp  \\\n",
       "0           1992.558472          6999.525391     761  165528352.0   \n",
       "1           1992.558472          6999.525391     549  165562912.0   \n",
       "2           1992.558472          6999.525391     712  165504608.0   \n",
       "3           1992.558472          6999.525391     712  165271328.0   \n",
       "4           1992.558472          6999.525391     712  165392288.0   \n",
       "\n",
       "   relative_timestamp  \n",
       "0          388.799988  \n",
       "1           43.200001  \n",
       "2          626.239990  \n",
       "3         2959.040039  \n",
       "4         1749.439941  \n",
       "\n",
       "[5 rows x 32 columns]"
      ]
     },
     "execution_count": 5,
     "metadata": {},
     "output_type": "execute_result"
    }
   ],
   "source": [
    "df = pandas_reduce_mem_usage(\n",
    "    pd.read_parquet(f\"{SEQ2SEQ_DATA_PATH}/stages/stage_6.parquet.gzip\")\n",
    ")\n",
    "df.head()"
   ]
  },
  {
   "cell_type": "code",
   "execution_count": 6,
   "id": "f2908bf7",
   "metadata": {
    "scrolled": true
   },
   "outputs": [
    {
     "name": "stdout",
     "output_type": "stream",
     "text": [
      "Memory usage of dataframe is 6.18 MB\n"
     ]
    },
    {
     "data": {
      "application/vnd.jupyter.widget-view+json": {
       "model_id": "",
       "version_major": 2,
       "version_minor": 0
      },
      "text/plain": [
       "  0%|          | 0/2 [00:00<?, ?it/s]"
      ]
     },
     "metadata": {},
     "output_type": "display_data"
    },
    {
     "name": "stdout",
     "output_type": "stream",
     "text": [
      "Memory usage after optimization is: 4.12 MB\n",
      "Decreased by 33.3%\n"
     ]
    },
    {
     "data": {
      "text/html": [
       "<div>\n",
       "<style scoped>\n",
       "    .dataframe tbody tr th:only-of-type {\n",
       "        vertical-align: middle;\n",
       "    }\n",
       "\n",
       "    .dataframe tbody tr th {\n",
       "        vertical-align: top;\n",
       "    }\n",
       "\n",
       "    .dataframe thead th {\n",
       "        text-align: right;\n",
       "    }\n",
       "</style>\n",
       "<table border=\"1\" class=\"dataframe\">\n",
       "  <thead>\n",
       "    <tr style=\"text-align: right;\">\n",
       "      <th></th>\n",
       "      <th>user_id</th>\n",
       "      <th>age</th>\n",
       "    </tr>\n",
       "  </thead>\n",
       "  <tbody>\n",
       "    <tr>\n",
       "      <th>350459</th>\n",
       "      <td>350459</td>\n",
       "      <td>31.0</td>\n",
       "    </tr>\n",
       "    <tr>\n",
       "      <th>188276</th>\n",
       "      <td>188276</td>\n",
       "      <td>35.0</td>\n",
       "    </tr>\n",
       "    <tr>\n",
       "      <th>99002</th>\n",
       "      <td>99002</td>\n",
       "      <td>41.0</td>\n",
       "    </tr>\n",
       "    <tr>\n",
       "      <th>155506</th>\n",
       "      <td>155506</td>\n",
       "      <td>33.0</td>\n",
       "    </tr>\n",
       "    <tr>\n",
       "      <th>213873</th>\n",
       "      <td>213873</td>\n",
       "      <td>54.0</td>\n",
       "    </tr>\n",
       "    <tr>\n",
       "      <th>...</th>\n",
       "      <td>...</td>\n",
       "      <td>...</td>\n",
       "    </tr>\n",
       "    <tr>\n",
       "      <th>225374</th>\n",
       "      <td>225374</td>\n",
       "      <td>49.0</td>\n",
       "    </tr>\n",
       "    <tr>\n",
       "      <th>25776</th>\n",
       "      <td>25776</td>\n",
       "      <td>22.0</td>\n",
       "    </tr>\n",
       "    <tr>\n",
       "      <th>148131</th>\n",
       "      <td>148131</td>\n",
       "      <td>28.0</td>\n",
       "    </tr>\n",
       "    <tr>\n",
       "      <th>205570</th>\n",
       "      <td>205570</td>\n",
       "      <td>28.0</td>\n",
       "    </tr>\n",
       "    <tr>\n",
       "      <th>103148</th>\n",
       "      <td>103148</td>\n",
       "      <td>68.0</td>\n",
       "    </tr>\n",
       "  </tbody>\n",
       "</table>\n",
       "<p>270000 rows × 2 columns</p>\n",
       "</div>"
      ],
      "text/plain": [
       "        user_id   age\n",
       "350459   350459  31.0\n",
       "188276   188276  35.0\n",
       "99002     99002  41.0\n",
       "155506   155506  33.0\n",
       "213873   213873  54.0\n",
       "...         ...   ...\n",
       "225374   225374  49.0\n",
       "25776     25776  22.0\n",
       "148131   148131  28.0\n",
       "205570   205570  28.0\n",
       "103148   103148  68.0\n",
       "\n",
       "[270000 rows x 2 columns]"
      ]
     },
     "execution_count": 6,
     "metadata": {},
     "output_type": "execute_result"
    }
   ],
   "source": [
    "target = pandas_reduce_mem_usage(\n",
    "    pd.read_parquet(\n",
    "        f'{DATA_PATH}public_train.pqt', columns=[\"user_id\", \"age\"]\n",
    "    )\n",
    ")\n",
    "target"
   ]
  },
  {
   "cell_type": "code",
   "execution_count": 7,
   "id": "a348681b",
   "metadata": {},
   "outputs": [
    {
     "name": "stdout",
     "output_type": "stream",
     "text": [
      "Memory usage of dataframe is 19652.03 MB\n"
     ]
    },
    {
     "data": {
      "application/vnd.jupyter.widget-view+json": {
       "model_id": "",
       "version_major": 2,
       "version_minor": 0
      },
      "text/plain": [
       "  0%|          | 0/33 [00:00<?, ?it/s]"
      ]
     },
     "metadata": {},
     "output_type": "display_data"
    },
    {
     "name": "stdout",
     "output_type": "stream",
     "text": [
      "Memory usage after optimization is: 19652.03 MB\n",
      "Decreased by 0.0%\n"
     ]
    },
    {
     "data": {
      "text/html": [
       "<div>\n",
       "<style scoped>\n",
       "    .dataframe tbody tr th:only-of-type {\n",
       "        vertical-align: middle;\n",
       "    }\n",
       "\n",
       "    .dataframe tbody tr th {\n",
       "        vertical-align: top;\n",
       "    }\n",
       "\n",
       "    .dataframe thead th {\n",
       "        text-align: right;\n",
       "    }\n",
       "</style>\n",
       "<table border=\"1\" class=\"dataframe\">\n",
       "  <thead>\n",
       "    <tr style=\"text-align: right;\">\n",
       "      <th></th>\n",
       "      <th>region_name</th>\n",
       "      <th>city_name</th>\n",
       "      <th>cpe_manufacturer_name</th>\n",
       "      <th>cpe_model_name</th>\n",
       "      <th>url_host</th>\n",
       "      <th>cpe_type_cd</th>\n",
       "      <th>cpe_model_os_type</th>\n",
       "      <th>price</th>\n",
       "      <th>part_of_day</th>\n",
       "      <th>request_cnt</th>\n",
       "      <th>...</th>\n",
       "      <th>geo_lon_y</th>\n",
       "      <th>dist_to_Moscow</th>\n",
       "      <th>dist_to_SaintP</th>\n",
       "      <th>dist_to_Novosibirsk</th>\n",
       "      <th>dist_to_Ekaterinburg</th>\n",
       "      <th>dist_to_Vladivostok</th>\n",
       "      <th>domain</th>\n",
       "      <th>timestamp</th>\n",
       "      <th>relative_timestamp</th>\n",
       "      <th>age</th>\n",
       "    </tr>\n",
       "  </thead>\n",
       "  <tbody>\n",
       "    <tr>\n",
       "      <th>2272</th>\n",
       "      <td>60</td>\n",
       "      <td>732</td>\n",
       "      <td>27</td>\n",
       "      <td>211</td>\n",
       "      <td>5790</td>\n",
       "      <td>2</td>\n",
       "      <td>0</td>\n",
       "      <td>74259.0</td>\n",
       "      <td>3</td>\n",
       "      <td>1</td>\n",
       "      <td>...</td>\n",
       "      <td>30.315901</td>\n",
       "      <td>635.758972</td>\n",
       "      <td>0.024454</td>\n",
       "      <td>3115.404541</td>\n",
       "      <td>1787.926147</td>\n",
       "      <td>6555.964355</td>\n",
       "      <td>761</td>\n",
       "      <td>163262528.0</td>\n",
       "      <td>1058.239990</td>\n",
       "      <td>35.0</td>\n",
       "    </tr>\n",
       "    <tr>\n",
       "      <th>2273</th>\n",
       "      <td>60</td>\n",
       "      <td>732</td>\n",
       "      <td>27</td>\n",
       "      <td>211</td>\n",
       "      <td>65865</td>\n",
       "      <td>2</td>\n",
       "      <td>0</td>\n",
       "      <td>74259.0</td>\n",
       "      <td>0</td>\n",
       "      <td>3</td>\n",
       "      <td>...</td>\n",
       "      <td>30.315901</td>\n",
       "      <td>635.758972</td>\n",
       "      <td>0.024454</td>\n",
       "      <td>3115.404541</td>\n",
       "      <td>1787.926147</td>\n",
       "      <td>6555.964355</td>\n",
       "      <td>549</td>\n",
       "      <td>162955808.0</td>\n",
       "      <td>4125.439941</td>\n",
       "      <td>35.0</td>\n",
       "    </tr>\n",
       "    <tr>\n",
       "      <th>2274</th>\n",
       "      <td>60</td>\n",
       "      <td>732</td>\n",
       "      <td>27</td>\n",
       "      <td>211</td>\n",
       "      <td>111474</td>\n",
       "      <td>2</td>\n",
       "      <td>0</td>\n",
       "      <td>74259.0</td>\n",
       "      <td>0</td>\n",
       "      <td>3</td>\n",
       "      <td>...</td>\n",
       "      <td>30.315901</td>\n",
       "      <td>635.758972</td>\n",
       "      <td>0.024454</td>\n",
       "      <td>3115.404541</td>\n",
       "      <td>1787.926147</td>\n",
       "      <td>6555.964355</td>\n",
       "      <td>761</td>\n",
       "      <td>162947168.0</td>\n",
       "      <td>4211.839844</td>\n",
       "      <td>35.0</td>\n",
       "    </tr>\n",
       "    <tr>\n",
       "      <th>2275</th>\n",
       "      <td>14</td>\n",
       "      <td>311</td>\n",
       "      <td>27</td>\n",
       "      <td>211</td>\n",
       "      <td>111474</td>\n",
       "      <td>2</td>\n",
       "      <td>0</td>\n",
       "      <td>74259.0</td>\n",
       "      <td>1</td>\n",
       "      <td>2</td>\n",
       "      <td>...</td>\n",
       "      <td>20.507324</td>\n",
       "      <td>1092.055054</td>\n",
       "      <td>828.233154</td>\n",
       "      <td>3870.873535</td>\n",
       "      <td>2490.750244</td>\n",
       "      <td>7378.328613</td>\n",
       "      <td>761</td>\n",
       "      <td>163122112.0</td>\n",
       "      <td>2462.399902</td>\n",
       "      <td>35.0</td>\n",
       "    </tr>\n",
       "    <tr>\n",
       "      <th>2276</th>\n",
       "      <td>60</td>\n",
       "      <td>732</td>\n",
       "      <td>27</td>\n",
       "      <td>211</td>\n",
       "      <td>125409</td>\n",
       "      <td>2</td>\n",
       "      <td>0</td>\n",
       "      <td>74259.0</td>\n",
       "      <td>0</td>\n",
       "      <td>1</td>\n",
       "      <td>...</td>\n",
       "      <td>30.315901</td>\n",
       "      <td>635.758972</td>\n",
       "      <td>0.024454</td>\n",
       "      <td>3115.404541</td>\n",
       "      <td>1787.926147</td>\n",
       "      <td>6555.964355</td>\n",
       "      <td>549</td>\n",
       "      <td>163033568.0</td>\n",
       "      <td>3347.840088</td>\n",
       "      <td>35.0</td>\n",
       "    </tr>\n",
       "  </tbody>\n",
       "</table>\n",
       "<p>5 rows × 33 columns</p>\n",
       "</div>"
      ],
      "text/plain": [
       "      region_name  city_name  cpe_manufacturer_name  cpe_model_name  url_host  \\\n",
       "2272           60        732                     27             211      5790   \n",
       "2273           60        732                     27             211     65865   \n",
       "2274           60        732                     27             211    111474   \n",
       "2275           14        311                     27             211    111474   \n",
       "2276           60        732                     27             211    125409   \n",
       "\n",
       "      cpe_type_cd  cpe_model_os_type    price  part_of_day  request_cnt  ...  \\\n",
       "2272            2                  0  74259.0            3            1  ...   \n",
       "2273            2                  0  74259.0            0            3  ...   \n",
       "2274            2                  0  74259.0            0            3  ...   \n",
       "2275            2                  0  74259.0            1            2  ...   \n",
       "2276            2                  0  74259.0            0            1  ...   \n",
       "\n",
       "      geo_lon_y  dist_to_Moscow  dist_to_SaintP  dist_to_Novosibirsk  \\\n",
       "2272  30.315901      635.758972        0.024454          3115.404541   \n",
       "2273  30.315901      635.758972        0.024454          3115.404541   \n",
       "2274  30.315901      635.758972        0.024454          3115.404541   \n",
       "2275  20.507324     1092.055054      828.233154          3870.873535   \n",
       "2276  30.315901      635.758972        0.024454          3115.404541   \n",
       "\n",
       "      dist_to_Ekaterinburg  dist_to_Vladivostok  domain    timestamp  \\\n",
       "2272           1787.926147          6555.964355     761  163262528.0   \n",
       "2273           1787.926147          6555.964355     549  162955808.0   \n",
       "2274           1787.926147          6555.964355     761  162947168.0   \n",
       "2275           2490.750244          7378.328613     761  163122112.0   \n",
       "2276           1787.926147          6555.964355     549  163033568.0   \n",
       "\n",
       "      relative_timestamp   age  \n",
       "2272         1058.239990  35.0  \n",
       "2273         4125.439941  35.0  \n",
       "2274         4211.839844  35.0  \n",
       "2275         2462.399902  35.0  \n",
       "2276         3347.840088  35.0  \n",
       "\n",
       "[5 rows x 33 columns]"
      ]
     },
     "execution_count": 7,
     "metadata": {},
     "output_type": "execute_result"
    }
   ],
   "source": [
    "df = pandas_reduce_mem_usage(df.merge(target, how=\"left\", on=\"user_id\").dropna(subset=[\"age\"]))\n",
    "df.head()"
   ]
  },
  {
   "cell_type": "code",
   "execution_count": 8,
   "id": "1f8cbda8",
   "metadata": {},
   "outputs": [
    {
     "name": "stderr",
     "output_type": "stream",
     "text": [
      "100%|███████████████████████████████████████████████████████████████████████████████████████████████████████████████████████████████████████████████████████████████████████| 214652540/214652540 [02:05<00:00, 1705562.37it/s]"
     ]
    },
    {
     "name": "stdout",
     "output_type": "stream",
     "text": [
      "Memory usage of dataframe is 20470.86 MB\n"
     ]
    },
    {
     "name": "stderr",
     "output_type": "stream",
     "text": [
      "\n"
     ]
    },
    {
     "data": {
      "application/vnd.jupyter.widget-view+json": {
       "model_id": "",
       "version_major": 2,
       "version_minor": 0
      },
      "text/plain": [
       "  0%|          | 0/33 [00:00<?, ?it/s]"
      ]
     },
     "metadata": {},
     "output_type": "display_data"
    },
    {
     "name": "stdout",
     "output_type": "stream",
     "text": [
      "Memory usage after optimization is: 19037.90 MB\n",
      "Decreased by 7.0%\n"
     ]
    },
    {
     "data": {
      "text/html": [
       "<div>\n",
       "<style scoped>\n",
       "    .dataframe tbody tr th:only-of-type {\n",
       "        vertical-align: middle;\n",
       "    }\n",
       "\n",
       "    .dataframe tbody tr th {\n",
       "        vertical-align: top;\n",
       "    }\n",
       "\n",
       "    .dataframe thead th {\n",
       "        text-align: right;\n",
       "    }\n",
       "</style>\n",
       "<table border=\"1\" class=\"dataframe\">\n",
       "  <thead>\n",
       "    <tr style=\"text-align: right;\">\n",
       "      <th></th>\n",
       "      <th>region_name</th>\n",
       "      <th>city_name</th>\n",
       "      <th>cpe_manufacturer_name</th>\n",
       "      <th>cpe_model_name</th>\n",
       "      <th>url_host</th>\n",
       "      <th>cpe_type_cd</th>\n",
       "      <th>cpe_model_os_type</th>\n",
       "      <th>price</th>\n",
       "      <th>part_of_day</th>\n",
       "      <th>request_cnt</th>\n",
       "      <th>...</th>\n",
       "      <th>geo_lon_y</th>\n",
       "      <th>dist_to_Moscow</th>\n",
       "      <th>dist_to_SaintP</th>\n",
       "      <th>dist_to_Novosibirsk</th>\n",
       "      <th>dist_to_Ekaterinburg</th>\n",
       "      <th>dist_to_Vladivostok</th>\n",
       "      <th>domain</th>\n",
       "      <th>timestamp</th>\n",
       "      <th>relative_timestamp</th>\n",
       "      <th>age</th>\n",
       "    </tr>\n",
       "  </thead>\n",
       "  <tbody>\n",
       "    <tr>\n",
       "      <th>2272</th>\n",
       "      <td>60</td>\n",
       "      <td>732</td>\n",
       "      <td>27</td>\n",
       "      <td>211</td>\n",
       "      <td>5790</td>\n",
       "      <td>2</td>\n",
       "      <td>0</td>\n",
       "      <td>74259.0</td>\n",
       "      <td>3</td>\n",
       "      <td>1</td>\n",
       "      <td>...</td>\n",
       "      <td>30.315901</td>\n",
       "      <td>635.758972</td>\n",
       "      <td>0.024454</td>\n",
       "      <td>3115.404541</td>\n",
       "      <td>1787.926147</td>\n",
       "      <td>6555.964355</td>\n",
       "      <td>761</td>\n",
       "      <td>163262528.0</td>\n",
       "      <td>1058.239990</td>\n",
       "      <td>2</td>\n",
       "    </tr>\n",
       "    <tr>\n",
       "      <th>2273</th>\n",
       "      <td>60</td>\n",
       "      <td>732</td>\n",
       "      <td>27</td>\n",
       "      <td>211</td>\n",
       "      <td>65865</td>\n",
       "      <td>2</td>\n",
       "      <td>0</td>\n",
       "      <td>74259.0</td>\n",
       "      <td>0</td>\n",
       "      <td>3</td>\n",
       "      <td>...</td>\n",
       "      <td>30.315901</td>\n",
       "      <td>635.758972</td>\n",
       "      <td>0.024454</td>\n",
       "      <td>3115.404541</td>\n",
       "      <td>1787.926147</td>\n",
       "      <td>6555.964355</td>\n",
       "      <td>549</td>\n",
       "      <td>162955808.0</td>\n",
       "      <td>4125.439941</td>\n",
       "      <td>2</td>\n",
       "    </tr>\n",
       "    <tr>\n",
       "      <th>2274</th>\n",
       "      <td>60</td>\n",
       "      <td>732</td>\n",
       "      <td>27</td>\n",
       "      <td>211</td>\n",
       "      <td>111474</td>\n",
       "      <td>2</td>\n",
       "      <td>0</td>\n",
       "      <td>74259.0</td>\n",
       "      <td>0</td>\n",
       "      <td>3</td>\n",
       "      <td>...</td>\n",
       "      <td>30.315901</td>\n",
       "      <td>635.758972</td>\n",
       "      <td>0.024454</td>\n",
       "      <td>3115.404541</td>\n",
       "      <td>1787.926147</td>\n",
       "      <td>6555.964355</td>\n",
       "      <td>761</td>\n",
       "      <td>162947168.0</td>\n",
       "      <td>4211.839844</td>\n",
       "      <td>2</td>\n",
       "    </tr>\n",
       "    <tr>\n",
       "      <th>2275</th>\n",
       "      <td>14</td>\n",
       "      <td>311</td>\n",
       "      <td>27</td>\n",
       "      <td>211</td>\n",
       "      <td>111474</td>\n",
       "      <td>2</td>\n",
       "      <td>0</td>\n",
       "      <td>74259.0</td>\n",
       "      <td>1</td>\n",
       "      <td>2</td>\n",
       "      <td>...</td>\n",
       "      <td>20.507324</td>\n",
       "      <td>1092.055054</td>\n",
       "      <td>828.233154</td>\n",
       "      <td>3870.873535</td>\n",
       "      <td>2490.750244</td>\n",
       "      <td>7378.328613</td>\n",
       "      <td>761</td>\n",
       "      <td>163122112.0</td>\n",
       "      <td>2462.399902</td>\n",
       "      <td>2</td>\n",
       "    </tr>\n",
       "    <tr>\n",
       "      <th>2276</th>\n",
       "      <td>60</td>\n",
       "      <td>732</td>\n",
       "      <td>27</td>\n",
       "      <td>211</td>\n",
       "      <td>125409</td>\n",
       "      <td>2</td>\n",
       "      <td>0</td>\n",
       "      <td>74259.0</td>\n",
       "      <td>0</td>\n",
       "      <td>1</td>\n",
       "      <td>...</td>\n",
       "      <td>30.315901</td>\n",
       "      <td>635.758972</td>\n",
       "      <td>0.024454</td>\n",
       "      <td>3115.404541</td>\n",
       "      <td>1787.926147</td>\n",
       "      <td>6555.964355</td>\n",
       "      <td>549</td>\n",
       "      <td>163033568.0</td>\n",
       "      <td>3347.840088</td>\n",
       "      <td>2</td>\n",
       "    </tr>\n",
       "  </tbody>\n",
       "</table>\n",
       "<p>5 rows × 33 columns</p>\n",
       "</div>"
      ],
      "text/plain": [
       "      region_name  city_name  cpe_manufacturer_name  cpe_model_name  url_host  \\\n",
       "2272           60        732                     27             211      5790   \n",
       "2273           60        732                     27             211     65865   \n",
       "2274           60        732                     27             211    111474   \n",
       "2275           14        311                     27             211    111474   \n",
       "2276           60        732                     27             211    125409   \n",
       "\n",
       "      cpe_type_cd  cpe_model_os_type    price  part_of_day  request_cnt  ...  \\\n",
       "2272            2                  0  74259.0            3            1  ...   \n",
       "2273            2                  0  74259.0            0            3  ...   \n",
       "2274            2                  0  74259.0            0            3  ...   \n",
       "2275            2                  0  74259.0            1            2  ...   \n",
       "2276            2                  0  74259.0            0            1  ...   \n",
       "\n",
       "      geo_lon_y  dist_to_Moscow  dist_to_SaintP  dist_to_Novosibirsk  \\\n",
       "2272  30.315901      635.758972        0.024454          3115.404541   \n",
       "2273  30.315901      635.758972        0.024454          3115.404541   \n",
       "2274  30.315901      635.758972        0.024454          3115.404541   \n",
       "2275  20.507324     1092.055054      828.233154          3870.873535   \n",
       "2276  30.315901      635.758972        0.024454          3115.404541   \n",
       "\n",
       "      dist_to_Ekaterinburg  dist_to_Vladivostok  domain    timestamp  \\\n",
       "2272           1787.926147          6555.964355     761  163262528.0   \n",
       "2273           1787.926147          6555.964355     549  162955808.0   \n",
       "2274           1787.926147          6555.964355     761  162947168.0   \n",
       "2275           2490.750244          7378.328613     761  163122112.0   \n",
       "2276           1787.926147          6555.964355     549  163033568.0   \n",
       "\n",
       "      relative_timestamp  age  \n",
       "2272         1058.239990    2  \n",
       "2273         4125.439941    2  \n",
       "2274         4211.839844    2  \n",
       "2275         2462.399902    2  \n",
       "2276         3347.840088    2  \n",
       "\n",
       "[5 rows x 33 columns]"
      ]
     },
     "execution_count": 8,
     "metadata": {},
     "output_type": "execute_result"
    }
   ],
   "source": [
    "df[\"age\"] = df[\"age\"].progress_apply(age_bucket)\n",
    "df = pandas_reduce_mem_usage(df)\n",
    "df.head()"
   ]
  },
  {
   "cell_type": "code",
   "execution_count": 10,
   "id": "9ed6ad3b",
   "metadata": {},
   "outputs": [],
   "source": [
    "df.to_parquet(f\"{SEQ2SEQ_DATA_PATH}/version_4_age.parquet.gzip\",\n",
    "              compression='gzip')"
   ]
  },
  {
   "cell_type": "markdown",
   "id": "019dc87e",
   "metadata": {},
   "source": [
    "## Make torch Dataset"
   ]
  },
  {
   "cell_type": "code",
   "execution_count": 1,
   "id": "a9a9b4b8",
   "metadata": {},
   "outputs": [],
   "source": [
    "import gc\n",
    "import sys\n",
    "import os\n",
    "import warnings\n",
    "from tqdm import tqdm\n",
    "\n",
    "sys.path.append(os.path.abspath(\"../\"))\n",
    "os.environ['OPENBLAS_NUM_THREADS'] = '1'\n",
    "warnings.filterwarnings('ignore')\n",
    "tqdm.pandas()"
   ]
  },
  {
   "cell_type": "code",
   "execution_count": 2,
   "id": "1be69dfc",
   "metadata": {},
   "outputs": [],
   "source": [
    "import pandas as pd\n",
    "import numpy as np\n",
    "import time\n",
    "import polars as pl\n",
    "import scipy\n",
    "import implicit\n",
    "import bisect\n",
    "import sklearn.metrics as m\n",
    "from catboost import CatBoostClassifier, CatBoostRegressor, Pool\n",
    "\n",
    "from sklearn.model_selection import train_test_split\n",
    "from sklearn.calibration import calibration_curve, CalibratedClassifierCV\n",
    "from sklearn.utils.class_weight import compute_class_weight\n",
    "\n",
    "import torch\n",
    "from torch.utils.data import TensorDataset, DataLoader\n",
    "from torch import nn\n",
    "\n",
    "from torch.optim.lr_scheduler import ReduceLROnPlateau\n",
    "from transformers import get_constant_schedule, get_cosine_schedule_with_warmup"
   ]
  },
  {
   "cell_type": "code",
   "execution_count": 3,
   "id": "5b1b7d8a",
   "metadata": {},
   "outputs": [],
   "source": [
    "import importlib\n",
    "\n",
    "import modules\n",
    "import fe_modules\n",
    "import seq2seq_modules\n",
    "\n",
    "importlib.reload(modules)\n",
    "importlib.reload(fe_modules)\n",
    "importlib.reload(seq2seq_modules)\n",
    "\n",
    "from modules.memory_utils import pandas_reduce_mem_usage, pandas_string_to_cat\n",
    "from seq2seq_modules.models import LSTMModel, StarterBERTModel, AttentionPoolingBERTModel\n",
    "from seq2seq_modules.data import TargetDataset\n",
    "from seq2seq_modules.weight_initialization import weights_init_uniform_rule, weights_init_xavier\n",
    "from seq2seq_modules.loops import cross_validation, single_model_training\n",
    "from seq2seq_modules.utils import age_bucket\n",
    "from seq2seq_modules.metrics import AGE_METRIC\n",
    "from seq2seq_modules.utils import fix_random_state"
   ]
  },
  {
   "cell_type": "code",
   "execution_count": 4,
   "id": "3decfe44",
   "metadata": {},
   "outputs": [],
   "source": [
    "LOCAL_DATA_PATH = '../seq2seq_data/'\n",
    "SEED = 42\n",
    "fix_random_state(SEED)"
   ]
  },
  {
   "cell_type": "code",
   "execution_count": 5,
   "id": "71987699",
   "metadata": {},
   "outputs": [],
   "source": [
    "ids = [\"user_id\"]\n",
    "\n",
    "cat_features = [\n",
    "    \"region_name\",\n",
    "    \"city_name\",\n",
    "    \"cpe_manufacturer_name\",\n",
    "    \"cpe_model_name\",\n",
    "    \"url_host\",\n",
    "    \"cpe_type_cd\",\n",
    "    \"cpe_model_os_type\",\n",
    "    \"part_of_day\",\n",
    "    \"domain\",\n",
    "    \"capital_marker\"\n",
    "]\n",
    "\n",
    "continous_features = [\n",
    "    \"request_cnt\",\n",
    "    \"price\",\n",
    "    \"timestamp\",\n",
    "    \"relative_timestamp\",\n",
    "    \"geo_lat_x\",\n",
    "    \"geo_lon_x\",\n",
    "    \"population\",\n",
    "    \"timezone\",\n",
    "    \"dist_to_Moscow\",\n",
    "    \"dist_to_SaintP\",\n",
    "    \"dist_to_Novosibirsk\",\n",
    "    \"dist_to_Ekaterinburg\",\n",
    "    \"dist_to_Vladivostok\",\n",
    "]"
   ]
  },
  {
   "cell_type": "code",
   "execution_count": 6,
   "id": "15aef6c1",
   "metadata": {
    "scrolled": true
   },
   "outputs": [
    {
     "name": "stdout",
     "output_type": "stream",
     "text": [
      "Memory usage of dataframe is 19037.90 MB\n"
     ]
    },
    {
     "data": {
      "application/vnd.jupyter.widget-view+json": {
       "model_id": "e62c3f74b6594fa39e4c36f76e1ff2f1",
       "version_major": 2,
       "version_minor": 0
      },
      "text/plain": [
       "  0%|          | 0/33 [00:00<?, ?it/s]"
      ]
     },
     "metadata": {},
     "output_type": "display_data"
    },
    {
     "name": "stdout",
     "output_type": "stream",
     "text": [
      "Memory usage after optimization is: 19037.90 MB\n",
      "Decreased by 0.0%\n"
     ]
    }
   ],
   "source": [
    "df = pandas_reduce_mem_usage(\n",
    "    pd.read_parquet(f\"{LOCAL_DATA_PATH}/version_4_age.parquet.gzip\")\n",
    ")"
   ]
  },
  {
   "cell_type": "code",
   "execution_count": 7,
   "id": "6335879b",
   "metadata": {},
   "outputs": [
    {
     "data": {
      "application/vnd.jupyter.widget-view+json": {
       "model_id": "06e1d3ab732c457184010129048312ff",
       "version_major": 2,
       "version_minor": 0
      },
      "text/plain": [
       "  0%|          | 0/214652540 [00:00<?, ?it/s]"
      ]
     },
     "metadata": {},
     "output_type": "display_data"
    },
    {
     "data": {
      "text/plain": [
       "<seq2seq_modules.data.TargetDataset at 0x7f27cff3fe20>"
      ]
     },
     "execution_count": 7,
     "metadata": {},
     "output_type": "execute_result"
    }
   ],
   "source": [
    "dataset = TargetDataset(\n",
    "         df,\n",
    "         agg_column=\"user_id\", \n",
    "         time_column=\"timestamp\",\n",
    "         target_column=\"age\",\n",
    "         cat_features=cat_features,\n",
    "         cont_features=continous_features,\n",
    "         max_len=1024,\n",
    "         padding_side=\"left\",\n",
    ")\n",
    "dataset"
   ]
  },
  {
   "cell_type": "markdown",
   "id": "78f36334",
   "metadata": {},
   "source": [
    "## Feed to the model"
   ]
  },
  {
   "cell_type": "code",
   "execution_count": 8,
   "id": "23b5e8a3",
   "metadata": {
    "scrolled": true
   },
   "outputs": [
    {
     "name": "stderr",
     "output_type": "stream",
     "text": [
      "100%|██████████████████████████████████████████████████████████████████████████████████████████████████████████████████████████████████████████████████████████████████████████████████████████| 10/10 [00:00<00:00, 37.49it/s]\n",
      "100%|██████████████████████████████████████████████████████████████████████████████████████████████████████████████████████████████████████████████████████████████████████████████████████| 13/13 [00:00<00:00, 378652.44it/s]\n"
     ]
    }
   ],
   "source": [
    "cat_feature_indexes = []\n",
    "cont_feature_indexes = []\n",
    "vocab_sizes = {}\n",
    "\n",
    "for i in tqdm(range(len(cat_features))):\n",
    "    cat_feature_indexes.append(i)\n",
    "    vocab_sizes[i] = int(df[cat_features[i]].max() + 1)\n",
    "\n",
    "for i in tqdm(range(len(continous_features))):\n",
    "    cont_feature_indexes.append(i)"
   ]
  },
  {
   "cell_type": "code",
   "execution_count": 9,
   "id": "df8a3448",
   "metadata": {},
   "outputs": [
    {
     "data": {
      "text/plain": [
       "{0: 81, 1: 985, 2: 37, 3: 599, 4: 199683, 5: 4, 6: 2, 7: 4, 8: 869, 9: 3}"
      ]
     },
     "execution_count": 9,
     "metadata": {},
     "output_type": "execute_result"
    }
   ],
   "source": [
    "vocab_sizes"
   ]
  },
  {
   "cell_type": "code",
   "execution_count": 10,
   "id": "d0450c5a",
   "metadata": {},
   "outputs": [
    {
     "name": "stderr",
     "output_type": "stream",
     "text": [
      "100%|███████████████████████████████████████████████████████████████████████████████████████████████████████████████████████████████████████████████████████████████████████████████| 269998/269998 [00:17<00:00, 15871.34it/s]\n"
     ]
    },
    {
     "data": {
      "text/plain": [
       "tensor([2, 3, 1,  ..., 2, 3, 3])"
      ]
     },
     "execution_count": 10,
     "metadata": {},
     "output_type": "execute_result"
    }
   ],
   "source": [
    "targets = torch.cat([el[3].unsqueeze(0) for el in tqdm(dataset)], dim=0)\n",
    "targets"
   ]
  },
  {
   "cell_type": "code",
   "execution_count": 13,
   "id": "de39e685",
   "metadata": {},
   "outputs": [],
   "source": [
    "# model = AttentionPoolingBERTModel(\n",
    "#         cat_feature_indexes=cat_feature_indexes,\n",
    "#         vocab_sizes=vocab_sizes,\n",
    "#         cont_feature_indexes=cont_feature_indexes,\n",
    "#         encoder_hidden_dim=16,\n",
    "#         hidden_dim=256,\n",
    "#         dim_feedforward=512,\n",
    "#         output_dim=7,\n",
    "#         pe_type=\"trainable\",\n",
    "#         use_mask=False,\n",
    "#         max_len=1024,\n",
    "#         use_key_padding_mask=True,\n",
    "# )\n",
    "\n",
    "# model = StarterBERTModel(\n",
    "#         cat_feature_indexes=cat_feature_indexes,\n",
    "#         vocab_sizes=vocab_sizes,\n",
    "#         cont_feature_indexes=cont_feature_indexes,\n",
    "#         encoder_hidden_dim=16,\n",
    "#         hidden_dim=256,\n",
    "#         dim_feedforward=512,\n",
    "#         output_dim=7,\n",
    "#         pe_type=\"trainable\",\n",
    "#         use_mask=False,\n",
    "#         max_len=1024,\n",
    "#         use_key_padding_mask=False,\n",
    "#         starter=\"randn\",\n",
    "#         shared=False\n",
    "# )\n",
    "\n",
    "model = LSTMModel(\n",
    "        cat_feature_indexes=cat_feature_indexes,\n",
    "        vocab_sizes=vocab_sizes,\n",
    "        cont_feature_indexes=cont_feature_indexes,\n",
    "        encoder_hidden_dim=16,\n",
    "        hidden_dim=256,\n",
    "        output_dim=7,\n",
    ")\n",
    "\n",
    "\n",
    "weights_init_xavier(model)\n",
    "\n",
    "loss = nn.CrossEntropyLoss(\n",
    "    weight=torch.tensor(\n",
    "        compute_class_weight(\n",
    "            class_weight=\"balanced\",\n",
    "            classes=sorted(df[\"age\"].unique()),\n",
    "            y=targets.numpy()\n",
    "        )\n",
    "    )\n",
    ")\n",
    "\n",
    "metric = AGE_METRIC"
   ]
  },
  {
   "cell_type": "code",
   "execution_count": 14,
   "id": "9ec814fa",
   "metadata": {
    "scrolled": true
   },
   "outputs": [
    {
     "name": "stdout",
     "output_type": "stream",
     "text": [
      "FOLD 0\n",
      "--------------------------------\n"
     ]
    },
    {
     "data": {
      "application/vnd.jupyter.widget-view+json": {
       "model_id": "29b86de23a8d445e9e08144a5c6a1bc6",
       "version_major": 2,
       "version_minor": 0
      },
      "text/plain": [
       "  0%|          | 0/6750 [00:00<?, ?it/s]"
      ]
     },
     "metadata": {},
     "output_type": "display_data"
    },
    {
     "ename": "KeyboardInterrupt",
     "evalue": "",
     "output_type": "error",
     "traceback": [
      "\u001b[0;31m---------------------------------------------------------------------------\u001b[0m",
      "\u001b[0;31mKeyboardInterrupt\u001b[0m                         Traceback (most recent call last)",
      "Cell \u001b[0;32mIn[14], line 1\u001b[0m\n\u001b[0;32m----> 1\u001b[0m \u001b[43mcross_validation\u001b[49m\u001b[43m(\u001b[49m\n\u001b[1;32m      2\u001b[0m \u001b[43m        \u001b[49m\u001b[43mproject_name\u001b[49m\u001b[38;5;241;43m=\u001b[39;49m\u001b[38;5;124;43m\"\u001b[39;49m\u001b[38;5;124;43mage_LSTMModel_v1\u001b[39;49m\u001b[38;5;124;43m\"\u001b[39;49m\u001b[43m,\u001b[49m\u001b[43m \u001b[49m\n\u001b[1;32m      3\u001b[0m \u001b[43m        \u001b[49m\u001b[43mmodel\u001b[49m\u001b[38;5;241;43m=\u001b[39;49m\u001b[43mmodel\u001b[49m\u001b[43m,\u001b[49m\u001b[43m \u001b[49m\n\u001b[1;32m      4\u001b[0m \u001b[43m        \u001b[49m\u001b[43mdataset\u001b[49m\u001b[38;5;241;43m=\u001b[39;49m\u001b[43mdataset\u001b[49m\u001b[43m,\u001b[49m\u001b[43m \u001b[49m\n\u001b[1;32m      5\u001b[0m \u001b[43m        \u001b[49m\u001b[43mloss_function\u001b[49m\u001b[38;5;241;43m=\u001b[39;49m\u001b[43mloss\u001b[49m\u001b[43m,\u001b[49m\u001b[43m \u001b[49m\n\u001b[1;32m      6\u001b[0m \u001b[43m        \u001b[49m\u001b[43mmetric_func\u001b[49m\u001b[38;5;241;43m=\u001b[39;49m\u001b[43mAGE_METRIC\u001b[49m\u001b[43m,\u001b[49m\u001b[43m \u001b[49m\n\u001b[1;32m      7\u001b[0m \u001b[43m        \u001b[49m\u001b[43moptimizer\u001b[49m\u001b[38;5;241;43m=\u001b[39;49m\u001b[43mtorch\u001b[49m\u001b[38;5;241;43m.\u001b[39;49m\u001b[43moptim\u001b[49m\u001b[38;5;241;43m.\u001b[39;49m\u001b[43mAdamW\u001b[49m\u001b[43m,\u001b[49m\u001b[43m \u001b[49m\n\u001b[1;32m      8\u001b[0m \u001b[43m        \u001b[49m\u001b[43mget_scheduler\u001b[49m\u001b[38;5;241;43m=\u001b[39;49m\u001b[43mget_cosine_schedule_with_warmup\u001b[49m\u001b[43m,\u001b[49m\u001b[43m \u001b[49m\n\u001b[1;32m      9\u001b[0m \u001b[43m        \u001b[49m\u001b[43mstrat_array\u001b[49m\u001b[38;5;241;43m=\u001b[39;49m\u001b[43mtargets\u001b[49m\u001b[38;5;241;43m.\u001b[39;49m\u001b[43mnumpy\u001b[49m\u001b[43m(\u001b[49m\u001b[43m)\u001b[49m\u001b[43m,\u001b[49m\u001b[43m \u001b[49m\n\u001b[1;32m     10\u001b[0m \u001b[43m        \u001b[49m\u001b[43mdevice\u001b[49m\u001b[38;5;241;43m=\u001b[39;49m\u001b[38;5;124;43m'\u001b[39;49m\u001b[38;5;124;43mcuda\u001b[39;49m\u001b[38;5;124;43m'\u001b[39;49m\u001b[43m,\u001b[49m\u001b[43m \u001b[49m\n\u001b[1;32m     11\u001b[0m \u001b[43m        \u001b[49m\u001b[43mrandom_state\u001b[49m\u001b[38;5;241;43m=\u001b[39;49m\u001b[38;5;241;43m69\u001b[39;49m\u001b[43m,\u001b[49m\u001b[43m \u001b[49m\n\u001b[1;32m     12\u001b[0m \u001b[43m        \u001b[49m\u001b[43mshuffle\u001b[49m\u001b[38;5;241;43m=\u001b[39;49m\u001b[38;5;28;43;01mTrue\u001b[39;49;00m\u001b[43m,\u001b[49m\u001b[43m \u001b[49m\n\u001b[1;32m     13\u001b[0m \u001b[43m        \u001b[49m\u001b[43mdataloader_shuffle\u001b[49m\u001b[38;5;241;43m=\u001b[39;49m\u001b[38;5;28;43;01mFalse\u001b[39;49;00m\u001b[43m,\u001b[49m\u001b[43m \u001b[49m\n\u001b[1;32m     14\u001b[0m \u001b[43m        \u001b[49m\u001b[43mn_folds\u001b[49m\u001b[38;5;241;43m=\u001b[39;49m\u001b[38;5;241;43m5\u001b[39;49m\u001b[43m,\u001b[49m\u001b[43m \u001b[49m\n\u001b[1;32m     15\u001b[0m \u001b[43m        \u001b[49m\u001b[43mepochs\u001b[49m\u001b[38;5;241;43m=\u001b[39;49m\u001b[38;5;241;43m10\u001b[39;49m\u001b[43m,\u001b[49m\u001b[43m \u001b[49m\n\u001b[1;32m     16\u001b[0m \u001b[43m        \u001b[49m\u001b[43mlr\u001b[49m\u001b[38;5;241;43m=\u001b[39;49m\u001b[38;5;241;43m1e-3\u001b[39;49m\u001b[43m,\u001b[49m\u001b[43m \u001b[49m\n\u001b[1;32m     17\u001b[0m \u001b[43m        \u001b[49m\u001b[43mweight_decay\u001b[49m\u001b[38;5;241;43m=\u001b[39;49m\u001b[38;5;241;43m1e-4\u001b[39;49m\u001b[43m,\u001b[49m\n\u001b[1;32m     18\u001b[0m \u001b[43m        \u001b[49m\u001b[43mstart_fold\u001b[49m\u001b[38;5;241;43m=\u001b[39;49m\u001b[38;5;241;43m0\u001b[39;49m\u001b[43m,\u001b[49m\u001b[43m \u001b[49m\n\u001b[1;32m     19\u001b[0m \u001b[43m        \u001b[49m\u001b[43mbatch_size\u001b[49m\u001b[38;5;241;43m=\u001b[39;49m\u001b[38;5;241;43m32\u001b[39;49m\u001b[43m,\u001b[49m\n\u001b[1;32m     20\u001b[0m \u001b[43m)\u001b[49m\n",
      "File \u001b[0;32m~/PycharmProjects/mts-ml-cup/seq2seq_modules/loops.py:169\u001b[0m, in \u001b[0;36mcross_validation\u001b[0;34m(project_name, model, dataset, loss_function, metric_func, optimizer, get_scheduler, strat_array, device, random_state, shuffle, dataloader_shuffle, n_folds, epochs, lr, weight_decay, num_warmup_steps, start_fold, batch_size)\u001b[0m\n\u001b[1;32m    164\u001b[0m     scheduler \u001b[38;5;241m=\u001b[39m get_scheduler(\n\u001b[1;32m    165\u001b[0m         fold_optimizer,\n\u001b[1;32m    166\u001b[0m     )\n\u001b[1;32m    168\u001b[0m \u001b[38;5;28;01mfor\u001b[39;00m epoch_i \u001b[38;5;129;01min\u001b[39;00m \u001b[38;5;28mrange\u001b[39m(epochs):\n\u001b[0;32m--> 169\u001b[0m     train_metrics \u001b[38;5;241m=\u001b[39m \u001b[43mtrain_epoch\u001b[49m\u001b[43m(\u001b[49m\n\u001b[1;32m    170\u001b[0m \u001b[43m        \u001b[49m\u001b[43mfold_model\u001b[49m\u001b[43m,\u001b[49m\n\u001b[1;32m    171\u001b[0m \u001b[43m        \u001b[49m\u001b[43mtrain_loader\u001b[49m\u001b[43m,\u001b[49m\n\u001b[1;32m    172\u001b[0m \u001b[43m        \u001b[49m\u001b[43mloss_function\u001b[49m\u001b[43m,\u001b[49m\n\u001b[1;32m    173\u001b[0m \u001b[43m        \u001b[49m\u001b[43mfold_optimizer\u001b[49m\u001b[43m,\u001b[49m\n\u001b[1;32m    174\u001b[0m \u001b[43m        \u001b[49m\u001b[43mscheduler\u001b[49m\u001b[43m,\u001b[49m\n\u001b[1;32m    175\u001b[0m \u001b[43m        \u001b[49m\u001b[43mdevice\u001b[49m\u001b[43m,\u001b[49m\n\u001b[1;32m    176\u001b[0m \u001b[43m        \u001b[49m\u001b[43mmetric_func\u001b[49m\u001b[43m,\u001b[49m\n\u001b[1;32m    177\u001b[0m \u001b[43m    \u001b[49m\u001b[43m)\u001b[49m\n\u001b[1;32m    178\u001b[0m     eval_metrics \u001b[38;5;241m=\u001b[39m eval_epoch(\n\u001b[1;32m    179\u001b[0m         fold_model,\n\u001b[1;32m    180\u001b[0m         eval_loader,\n\u001b[0;32m   (...)\u001b[0m\n\u001b[1;32m    183\u001b[0m         metric_func\n\u001b[1;32m    184\u001b[0m     )\n\u001b[1;32m    186\u001b[0m     epoch_train_scores\u001b[38;5;241m.\u001b[39mappend(train_metrics)\n",
      "File \u001b[0;32m~/PycharmProjects/mts-ml-cup/seq2seq_modules/loops.py:41\u001b[0m, in \u001b[0;36mtrain_epoch\u001b[0;34m(model, data_loader, loss_function, optimizer, scheduler, device, metric_func)\u001b[0m\n\u001b[1;32m     38\u001b[0m loss \u001b[38;5;241m=\u001b[39m loss_function(logits\u001b[38;5;241m.\u001b[39mdouble(), target)\n\u001b[1;32m     39\u001b[0m total_train_loss \u001b[38;5;241m+\u001b[39m\u001b[38;5;241m=\u001b[39m loss\u001b[38;5;241m.\u001b[39mitem()\n\u001b[0;32m---> 41\u001b[0m \u001b[43mloss\u001b[49m\u001b[38;5;241;43m.\u001b[39;49m\u001b[43mbackward\u001b[49m\u001b[43m(\u001b[49m\u001b[43m)\u001b[49m\n\u001b[1;32m     42\u001b[0m torch\u001b[38;5;241m.\u001b[39mnn\u001b[38;5;241m.\u001b[39mutils\u001b[38;5;241m.\u001b[39mclip_grad_norm_(model\u001b[38;5;241m.\u001b[39mparameters(), \u001b[38;5;241m1.0\u001b[39m)\n\u001b[1;32m     43\u001b[0m optimizer\u001b[38;5;241m.\u001b[39mstep()\n",
      "File \u001b[0;32m~/PycharmProjects/mts-ml-cup/venv/lib/python3.10/site-packages/torch/_tensor.py:488\u001b[0m, in \u001b[0;36mTensor.backward\u001b[0;34m(self, gradient, retain_graph, create_graph, inputs)\u001b[0m\n\u001b[1;32m    478\u001b[0m \u001b[38;5;28;01mif\u001b[39;00m has_torch_function_unary(\u001b[38;5;28mself\u001b[39m):\n\u001b[1;32m    479\u001b[0m     \u001b[38;5;28;01mreturn\u001b[39;00m handle_torch_function(\n\u001b[1;32m    480\u001b[0m         Tensor\u001b[38;5;241m.\u001b[39mbackward,\n\u001b[1;32m    481\u001b[0m         (\u001b[38;5;28mself\u001b[39m,),\n\u001b[0;32m   (...)\u001b[0m\n\u001b[1;32m    486\u001b[0m         inputs\u001b[38;5;241m=\u001b[39minputs,\n\u001b[1;32m    487\u001b[0m     )\n\u001b[0;32m--> 488\u001b[0m \u001b[43mtorch\u001b[49m\u001b[38;5;241;43m.\u001b[39;49m\u001b[43mautograd\u001b[49m\u001b[38;5;241;43m.\u001b[39;49m\u001b[43mbackward\u001b[49m\u001b[43m(\u001b[49m\n\u001b[1;32m    489\u001b[0m \u001b[43m    \u001b[49m\u001b[38;5;28;43mself\u001b[39;49m\u001b[43m,\u001b[49m\u001b[43m \u001b[49m\u001b[43mgradient\u001b[49m\u001b[43m,\u001b[49m\u001b[43m \u001b[49m\u001b[43mretain_graph\u001b[49m\u001b[43m,\u001b[49m\u001b[43m \u001b[49m\u001b[43mcreate_graph\u001b[49m\u001b[43m,\u001b[49m\u001b[43m \u001b[49m\u001b[43minputs\u001b[49m\u001b[38;5;241;43m=\u001b[39;49m\u001b[43minputs\u001b[49m\n\u001b[1;32m    490\u001b[0m \u001b[43m\u001b[49m\u001b[43m)\u001b[49m\n",
      "File \u001b[0;32m~/PycharmProjects/mts-ml-cup/venv/lib/python3.10/site-packages/torch/autograd/__init__.py:197\u001b[0m, in \u001b[0;36mbackward\u001b[0;34m(tensors, grad_tensors, retain_graph, create_graph, grad_variables, inputs)\u001b[0m\n\u001b[1;32m    192\u001b[0m     retain_graph \u001b[38;5;241m=\u001b[39m create_graph\n\u001b[1;32m    194\u001b[0m \u001b[38;5;66;03m# The reason we repeat same the comment below is that\u001b[39;00m\n\u001b[1;32m    195\u001b[0m \u001b[38;5;66;03m# some Python versions print out the first line of a multi-line function\u001b[39;00m\n\u001b[1;32m    196\u001b[0m \u001b[38;5;66;03m# calls in the traceback and some print out the last line\u001b[39;00m\n\u001b[0;32m--> 197\u001b[0m \u001b[43mVariable\u001b[49m\u001b[38;5;241;43m.\u001b[39;49m\u001b[43m_execution_engine\u001b[49m\u001b[38;5;241;43m.\u001b[39;49m\u001b[43mrun_backward\u001b[49m\u001b[43m(\u001b[49m\u001b[43m  \u001b[49m\u001b[38;5;66;43;03m# Calls into the C++ engine to run the backward pass\u001b[39;49;00m\n\u001b[1;32m    198\u001b[0m \u001b[43m    \u001b[49m\u001b[43mtensors\u001b[49m\u001b[43m,\u001b[49m\u001b[43m \u001b[49m\u001b[43mgrad_tensors_\u001b[49m\u001b[43m,\u001b[49m\u001b[43m \u001b[49m\u001b[43mretain_graph\u001b[49m\u001b[43m,\u001b[49m\u001b[43m \u001b[49m\u001b[43mcreate_graph\u001b[49m\u001b[43m,\u001b[49m\u001b[43m \u001b[49m\u001b[43minputs\u001b[49m\u001b[43m,\u001b[49m\n\u001b[1;32m    199\u001b[0m \u001b[43m    \u001b[49m\u001b[43mallow_unreachable\u001b[49m\u001b[38;5;241;43m=\u001b[39;49m\u001b[38;5;28;43;01mTrue\u001b[39;49;00m\u001b[43m,\u001b[49m\u001b[43m \u001b[49m\u001b[43maccumulate_grad\u001b[49m\u001b[38;5;241;43m=\u001b[39;49m\u001b[38;5;28;43;01mTrue\u001b[39;49;00m\u001b[43m)\u001b[49m\n",
      "\u001b[0;31mKeyboardInterrupt\u001b[0m: "
     ]
    }
   ],
   "source": [
    "fold_train_scores, fold_eval_scores = cross_validation(\n",
    "        project_name=\"age_LSTMModel_v1\", \n",
    "        model=model, \n",
    "        dataset=dataset, \n",
    "        loss_function=loss, \n",
    "        metric_func=AGE_METRIC, \n",
    "        optimizer=torch.optim.AdamW, \n",
    "        get_scheduler=get_cosine_schedule_with_warmup, \n",
    "        strat_array=targets.numpy(), \n",
    "        device='cuda', \n",
    "        random_state=69, \n",
    "        shuffle=True, \n",
    "        dataloader_shuffle=False, \n",
    "        n_folds=5, \n",
    "        epochs=10, \n",
    "        lr=1e-3, \n",
    "        weight_decay=1e-4,\n",
    "        start_fold=0, \n",
    "        batch_size=32,\n",
    ")"
   ]
  },
  {
   "cell_type": "code",
   "execution_count": null,
   "id": "b724c71d",
   "metadata": {},
   "outputs": [],
   "source": []
  }
 ],
 "metadata": {
  "hide_input": false,
  "kernelspec": {
   "display_name": "Python 3 (ipykernel)",
   "language": "python",
   "name": "python3"
  },
  "language_info": {
   "codemirror_mode": {
    "name": "ipython",
    "version": 3
   },
   "file_extension": ".py",
   "mimetype": "text/x-python",
   "name": "python",
   "nbconvert_exporter": "python",
   "pygments_lexer": "ipython3",
   "version": "3.10.6"
  },
  "toc": {
   "base_numbering": 1,
   "nav_menu": {},
   "number_sections": true,
   "sideBar": true,
   "skip_h1_title": false,
   "title_cell": "Table of Contents",
   "title_sidebar": "Contents",
   "toc_cell": false,
   "toc_position": {},
   "toc_section_display": true,
   "toc_window_display": false
  },
  "varInspector": {
   "cols": {
    "lenName": 16,
    "lenType": 16,
    "lenVar": 40
   },
   "kernels_config": {
    "python": {
     "delete_cmd_postfix": "",
     "delete_cmd_prefix": "del ",
     "library": "var_list.py",
     "varRefreshCmd": "print(var_dic_list())"
    },
    "r": {
     "delete_cmd_postfix": ") ",
     "delete_cmd_prefix": "rm(",
     "library": "var_list.r",
     "varRefreshCmd": "cat(var_dic_list()) "
    }
   },
   "types_to_exclude": [
    "module",
    "function",
    "builtin_function_or_method",
    "instance",
    "_Feature"
   ],
   "window_display": false
  }
 },
 "nbformat": 4,
 "nbformat_minor": 5
}
