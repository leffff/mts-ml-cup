{
 "cells": [
  {
   "cell_type": "markdown",
   "id": "3c646f0c",
   "metadata": {},
   "source": [
    "# seq2seq"
   ]
  },
  {
   "cell_type": "code",
   "execution_count": 1,
   "id": "88993512",
   "metadata": {},
   "outputs": [],
   "source": [
    "import gc\n",
    "import sys\n",
    "import os\n",
    "import warnings\n",
    "from tqdm import tqdm\n",
    "\n",
    "sys.path.append(os.path.abspath(\"../\"))\n",
    "os.environ['OPENBLAS_NUM_THREADS'] = '1'\n",
    "warnings.filterwarnings('ignore')\n",
    "tqdm.pandas()"
   ]
  },
  {
   "cell_type": "code",
   "execution_count": 2,
   "id": "179dfb36",
   "metadata": {},
   "outputs": [],
   "source": [
    "import pandas as pd\n",
    "import numpy as np\n",
    "import time\n",
    "import polars as pl\n",
    "import scipy\n",
    "import implicit\n",
    "import bisect\n",
    "import sklearn.metrics as m\n",
    "from catboost import CatBoostClassifier, CatBoostRegressor, Pool\n",
    "\n",
    "from sklearn.model_selection import train_test_split\n",
    "from sklearn.calibration import calibration_curve, CalibratedClassifierCV\n",
    "from sklearn.utils.class_weight import compute_class_weight\n",
    "\n",
    "import torch\n",
    "from torch.utils.data import TensorDataset, DataLoader\n",
    "from torch import nn\n",
    "\n",
    "from transformers import get_constant_schedule"
   ]
  },
  {
   "cell_type": "code",
   "execution_count": 3,
   "id": "08884ce0",
   "metadata": {},
   "outputs": [],
   "source": [
    "import importlib\n",
    "\n",
    "import modules\n",
    "import fe_modules\n",
    "import seq2seq_modules\n",
    "\n",
    "importlib.reload(modules)\n",
    "importlib.reload(fe_modules)\n",
    "importlib.reload(seq2seq_modules)\n",
    "\n",
    "from modules.memory_utils import pandas_reduce_mem_usage, pandas_string_to_cat\n",
    "from seq2seq_modules.preprocessing import TargetPandasPreprocessor\n",
    "from seq2seq_modules.models import LSTMModel\n",
    "from seq2seq_modules.weight_initialization import weights_init_uniform_rule\n",
    "from seq2seq_modules.loops import cross_validation, single_model_training\n",
    "from seq2seq_modules.utils import age_bucket\n",
    "from seq2seq_modules.metrics import AGE_METRIC"
   ]
  },
  {
   "cell_type": "markdown",
   "id": "47431eb8",
   "metadata": {},
   "source": [
    "## Read and process"
   ]
  },
  {
   "cell_type": "code",
   "execution_count": 17,
   "id": "a17c3983",
   "metadata": {},
   "outputs": [],
   "source": [
    "LOCAL_DATA_PATH = '../data/'\n",
    "SEQ2SEQ_DATA_PATH = '../seq2seq_data/'\n",
    "\n",
    "SPLIT_SEED = 42"
   ]
  },
  {
   "cell_type": "code",
   "execution_count": 9,
   "id": "8bd60063",
   "metadata": {},
   "outputs": [
    {
     "name": "stdout",
     "output_type": "stream",
     "text": [
      "Memory usage of dataframe is 26346.12 MB\n"
     ]
    },
    {
     "data": {
      "application/vnd.jupyter.widget-view+json": {
       "model_id": "7456d14e59d64e319eecb12d745ff67f",
       "version_major": 2,
       "version_minor": 0
      },
      "text/plain": [
       "  0%|          | 0/30 [00:00<?, ?it/s]"
      ]
     },
     "metadata": {},
     "output_type": "display_data"
    },
    {
     "name": "stdout",
     "output_type": "stream",
     "text": [
      "Memory usage after optimization is: 26346.12 MB\n",
      "Decreased by 0.0%\n"
     ]
    },
    {
     "data": {
      "text/html": [
       "<div>\n",
       "<style scoped>\n",
       "    .dataframe tbody tr th:only-of-type {\n",
       "        vertical-align: middle;\n",
       "    }\n",
       "\n",
       "    .dataframe tbody tr th {\n",
       "        vertical-align: top;\n",
       "    }\n",
       "\n",
       "    .dataframe thead th {\n",
       "        text-align: right;\n",
       "    }\n",
       "</style>\n",
       "<table border=\"1\" class=\"dataframe\">\n",
       "  <thead>\n",
       "    <tr style=\"text-align: right;\">\n",
       "      <th></th>\n",
       "      <th>region_name</th>\n",
       "      <th>city_name</th>\n",
       "      <th>cpe_manufacturer_name</th>\n",
       "      <th>cpe_model_name</th>\n",
       "      <th>url_host</th>\n",
       "      <th>cpe_type_cd</th>\n",
       "      <th>cpe_model_os_type</th>\n",
       "      <th>price</th>\n",
       "      <th>part_of_day</th>\n",
       "      <th>request_cnt</th>\n",
       "      <th>...</th>\n",
       "      <th>timezone</th>\n",
       "      <th>geo_lat</th>\n",
       "      <th>geo_lon</th>\n",
       "      <th>population</th>\n",
       "      <th>dist_to_Moscow</th>\n",
       "      <th>dist_to_SaintP</th>\n",
       "      <th>dist_to_Novosibirsk</th>\n",
       "      <th>dist_to_Ekaterinburg</th>\n",
       "      <th>dist_to_Vladivostok</th>\n",
       "      <th>domain</th>\n",
       "    </tr>\n",
       "  </thead>\n",
       "  <tbody>\n",
       "    <tr>\n",
       "      <th>0</th>\n",
       "      <td>21</td>\n",
       "      <td>409</td>\n",
       "      <td>1</td>\n",
       "      <td>589</td>\n",
       "      <td>5788</td>\n",
       "      <td>2</td>\n",
       "      <td>1</td>\n",
       "      <td>20368.0</td>\n",
       "      <td>2</td>\n",
       "      <td>1</td>\n",
       "      <td>...</td>\n",
       "      <td>3</td>\n",
       "      <td>45.040161</td>\n",
       "      <td>38.975964</td>\n",
       "      <td>744933</td>\n",
       "      <td>1195.817871</td>\n",
       "      <td>1755.62085</td>\n",
       "      <td>3275.137451</td>\n",
       "      <td>1992.558472</td>\n",
       "      <td>6999.525391</td>\n",
       "      <td>761</td>\n",
       "    </tr>\n",
       "    <tr>\n",
       "      <th>1</th>\n",
       "      <td>21</td>\n",
       "      <td>409</td>\n",
       "      <td>1</td>\n",
       "      <td>589</td>\n",
       "      <td>12900</td>\n",
       "      <td>2</td>\n",
       "      <td>1</td>\n",
       "      <td>20368.0</td>\n",
       "      <td>2</td>\n",
       "      <td>1</td>\n",
       "      <td>...</td>\n",
       "      <td>3</td>\n",
       "      <td>45.040161</td>\n",
       "      <td>38.975964</td>\n",
       "      <td>744933</td>\n",
       "      <td>1195.817871</td>\n",
       "      <td>1755.62085</td>\n",
       "      <td>3275.137451</td>\n",
       "      <td>1992.558472</td>\n",
       "      <td>6999.525391</td>\n",
       "      <td>549</td>\n",
       "    </tr>\n",
       "    <tr>\n",
       "      <th>2</th>\n",
       "      <td>21</td>\n",
       "      <td>409</td>\n",
       "      <td>1</td>\n",
       "      <td>589</td>\n",
       "      <td>17626</td>\n",
       "      <td>2</td>\n",
       "      <td>1</td>\n",
       "      <td>20368.0</td>\n",
       "      <td>0</td>\n",
       "      <td>1</td>\n",
       "      <td>...</td>\n",
       "      <td>3</td>\n",
       "      <td>45.040161</td>\n",
       "      <td>38.975964</td>\n",
       "      <td>744933</td>\n",
       "      <td>1195.817871</td>\n",
       "      <td>1755.62085</td>\n",
       "      <td>3275.137451</td>\n",
       "      <td>1992.558472</td>\n",
       "      <td>6999.525391</td>\n",
       "      <td>712</td>\n",
       "    </tr>\n",
       "    <tr>\n",
       "      <th>3</th>\n",
       "      <td>21</td>\n",
       "      <td>409</td>\n",
       "      <td>1</td>\n",
       "      <td>589</td>\n",
       "      <td>59366</td>\n",
       "      <td>2</td>\n",
       "      <td>1</td>\n",
       "      <td>20368.0</td>\n",
       "      <td>0</td>\n",
       "      <td>1</td>\n",
       "      <td>...</td>\n",
       "      <td>3</td>\n",
       "      <td>45.040161</td>\n",
       "      <td>38.975964</td>\n",
       "      <td>744933</td>\n",
       "      <td>1195.817871</td>\n",
       "      <td>1755.62085</td>\n",
       "      <td>3275.137451</td>\n",
       "      <td>1992.558472</td>\n",
       "      <td>6999.525391</td>\n",
       "      <td>712</td>\n",
       "    </tr>\n",
       "    <tr>\n",
       "      <th>4</th>\n",
       "      <td>21</td>\n",
       "      <td>409</td>\n",
       "      <td>1</td>\n",
       "      <td>589</td>\n",
       "      <td>59366</td>\n",
       "      <td>2</td>\n",
       "      <td>1</td>\n",
       "      <td>20368.0</td>\n",
       "      <td>0</td>\n",
       "      <td>1</td>\n",
       "      <td>...</td>\n",
       "      <td>3</td>\n",
       "      <td>45.040161</td>\n",
       "      <td>38.975964</td>\n",
       "      <td>744933</td>\n",
       "      <td>1195.817871</td>\n",
       "      <td>1755.62085</td>\n",
       "      <td>3275.137451</td>\n",
       "      <td>1992.558472</td>\n",
       "      <td>6999.525391</td>\n",
       "      <td>712</td>\n",
       "    </tr>\n",
       "  </tbody>\n",
       "</table>\n",
       "<p>5 rows × 30 columns</p>\n",
       "</div>"
      ],
      "text/plain": [
       "   region_name  city_name  cpe_manufacturer_name  cpe_model_name  url_host  \\\n",
       "0           21        409                      1             589      5788   \n",
       "1           21        409                      1             589     12900   \n",
       "2           21        409                      1             589     17626   \n",
       "3           21        409                      1             589     59366   \n",
       "4           21        409                      1             589     59366   \n",
       "\n",
       "   cpe_type_cd  cpe_model_os_type    price  part_of_day  request_cnt  ...  \\\n",
       "0            2                  1  20368.0            2            1  ...   \n",
       "1            2                  1  20368.0            2            1  ...   \n",
       "2            2                  1  20368.0            0            1  ...   \n",
       "3            2                  1  20368.0            0            1  ...   \n",
       "4            2                  1  20368.0            0            1  ...   \n",
       "\n",
       "   timezone    geo_lat    geo_lon  population  dist_to_Moscow  dist_to_SaintP  \\\n",
       "0         3  45.040161  38.975964      744933     1195.817871      1755.62085   \n",
       "1         3  45.040161  38.975964      744933     1195.817871      1755.62085   \n",
       "2         3  45.040161  38.975964      744933     1195.817871      1755.62085   \n",
       "3         3  45.040161  38.975964      744933     1195.817871      1755.62085   \n",
       "4         3  45.040161  38.975964      744933     1195.817871      1755.62085   \n",
       "\n",
       "   dist_to_Novosibirsk  dist_to_Ekaterinburg  dist_to_Vladivostok  domain  \n",
       "0          3275.137451           1992.558472          6999.525391     761  \n",
       "1          3275.137451           1992.558472          6999.525391     549  \n",
       "2          3275.137451           1992.558472          6999.525391     712  \n",
       "3          3275.137451           1992.558472          6999.525391     712  \n",
       "4          3275.137451           1992.558472          6999.525391     712  \n",
       "\n",
       "[5 rows x 30 columns]"
      ]
     },
     "execution_count": 9,
     "metadata": {},
     "output_type": "execute_result"
    }
   ],
   "source": [
    "df = pandas_reduce_mem_usage(\n",
    "    pd.read_parquet(f\"{SEQ2SEQ_DATA_PATH}/stages/stage_2.parquet.gzip\")\n",
    ")\n",
    "df.head()"
   ]
  },
  {
   "cell_type": "code",
   "execution_count": 11,
   "id": "f2908bf7",
   "metadata": {
    "scrolled": true
   },
   "outputs": [
    {
     "name": "stdout",
     "output_type": "stream",
     "text": [
      "Memory usage of dataframe is 5.04 MB\n"
     ]
    },
    {
     "data": {
      "application/vnd.jupyter.widget-view+json": {
       "model_id": "82f2a33708d54b6c9040c252c798bb1b",
       "version_major": 2,
       "version_minor": 0
      },
      "text/plain": [
       "  0%|          | 0/2 [00:00<?, ?it/s]"
      ]
     },
     "metadata": {},
     "output_type": "display_data"
    },
    {
     "name": "stdout",
     "output_type": "stream",
     "text": [
      "Memory usage after optimization is: 3.28 MB\n",
      "Decreased by 35.0%\n"
     ]
    },
    {
     "data": {
      "text/html": [
       "<div>\n",
       "<style scoped>\n",
       "    .dataframe tbody tr th:only-of-type {\n",
       "        vertical-align: middle;\n",
       "    }\n",
       "\n",
       "    .dataframe tbody tr th {\n",
       "        vertical-align: top;\n",
       "    }\n",
       "\n",
       "    .dataframe thead th {\n",
       "        text-align: right;\n",
       "    }\n",
       "</style>\n",
       "<table border=\"1\" class=\"dataframe\">\n",
       "  <thead>\n",
       "    <tr style=\"text-align: right;\">\n",
       "      <th></th>\n",
       "      <th>user_id</th>\n",
       "      <th>is_male</th>\n",
       "    </tr>\n",
       "  </thead>\n",
       "  <tbody>\n",
       "    <tr>\n",
       "      <th>350459</th>\n",
       "      <td>350459</td>\n",
       "      <td>1</td>\n",
       "    </tr>\n",
       "    <tr>\n",
       "      <th>188276</th>\n",
       "      <td>188276</td>\n",
       "      <td>1</td>\n",
       "    </tr>\n",
       "    <tr>\n",
       "      <th>99002</th>\n",
       "      <td>99002</td>\n",
       "      <td>0</td>\n",
       "    </tr>\n",
       "    <tr>\n",
       "      <th>155506</th>\n",
       "      <td>155506</td>\n",
       "      <td>0</td>\n",
       "    </tr>\n",
       "    <tr>\n",
       "      <th>213873</th>\n",
       "      <td>213873</td>\n",
       "      <td>0</td>\n",
       "    </tr>\n",
       "  </tbody>\n",
       "</table>\n",
       "</div>"
      ],
      "text/plain": [
       "        user_id  is_male\n",
       "350459   350459        1\n",
       "188276   188276        1\n",
       "99002     99002        0\n",
       "155506   155506        0\n",
       "213873   213873        0"
      ]
     },
     "execution_count": 11,
     "metadata": {},
     "output_type": "execute_result"
    }
   ],
   "source": [
    "target = pd.read_parquet(\n",
    "             f'{LOCAL_DATA_PATH}public_train.pqt', columns=[\"user_id\", \"is_male\"]\n",
    "         ).dropna()\n",
    "target = target[target[\"is_male\"] != \"NA\"]\n",
    "target[\"is_male\"] = target[\"is_male\"].astype(np.int32)\n",
    "target = pandas_reduce_mem_usage(target)\n",
    "\n",
    "target.head()"
   ]
  },
  {
   "cell_type": "code",
   "execution_count": 12,
   "id": "a348681b",
   "metadata": {},
   "outputs": [
    {
     "name": "stdout",
     "output_type": "stream",
     "text": [
      "Memory usage of dataframe is 17680.39 MB\n"
     ]
    },
    {
     "data": {
      "application/vnd.jupyter.widget-view+json": {
       "model_id": "d4473d5594ee4eb295519f8030019ec1",
       "version_major": 2,
       "version_minor": 0
      },
      "text/plain": [
       "  0%|          | 0/31 [00:00<?, ?it/s]"
      ]
     },
     "metadata": {},
     "output_type": "display_data"
    },
    {
     "name": "stdout",
     "output_type": "stream",
     "text": [
      "Memory usage after optimization is: 17077.65 MB\n",
      "Decreased by 3.4%\n"
     ]
    },
    {
     "data": {
      "text/html": [
       "<div>\n",
       "<style scoped>\n",
       "    .dataframe tbody tr th:only-of-type {\n",
       "        vertical-align: middle;\n",
       "    }\n",
       "\n",
       "    .dataframe tbody tr th {\n",
       "        vertical-align: top;\n",
       "    }\n",
       "\n",
       "    .dataframe thead th {\n",
       "        text-align: right;\n",
       "    }\n",
       "</style>\n",
       "<table border=\"1\" class=\"dataframe\">\n",
       "  <thead>\n",
       "    <tr style=\"text-align: right;\">\n",
       "      <th></th>\n",
       "      <th>region_name</th>\n",
       "      <th>city_name</th>\n",
       "      <th>cpe_manufacturer_name</th>\n",
       "      <th>cpe_model_name</th>\n",
       "      <th>url_host</th>\n",
       "      <th>cpe_type_cd</th>\n",
       "      <th>cpe_model_os_type</th>\n",
       "      <th>price</th>\n",
       "      <th>part_of_day</th>\n",
       "      <th>request_cnt</th>\n",
       "      <th>...</th>\n",
       "      <th>geo_lat</th>\n",
       "      <th>geo_lon</th>\n",
       "      <th>population</th>\n",
       "      <th>dist_to_Moscow</th>\n",
       "      <th>dist_to_SaintP</th>\n",
       "      <th>dist_to_Novosibirsk</th>\n",
       "      <th>dist_to_Ekaterinburg</th>\n",
       "      <th>dist_to_Vladivostok</th>\n",
       "      <th>domain</th>\n",
       "      <th>is_male</th>\n",
       "    </tr>\n",
       "  </thead>\n",
       "  <tbody>\n",
       "    <tr>\n",
       "      <th>2272</th>\n",
       "      <td>60</td>\n",
       "      <td>732</td>\n",
       "      <td>27</td>\n",
       "      <td>211</td>\n",
       "      <td>5790</td>\n",
       "      <td>2</td>\n",
       "      <td>0</td>\n",
       "      <td>74259.0</td>\n",
       "      <td>3</td>\n",
       "      <td>1</td>\n",
       "      <td>...</td>\n",
       "      <td>59.939133</td>\n",
       "      <td>30.315901</td>\n",
       "      <td>4848742</td>\n",
       "      <td>635.758972</td>\n",
       "      <td>0.024454</td>\n",
       "      <td>3115.404541</td>\n",
       "      <td>1787.926147</td>\n",
       "      <td>6555.964355</td>\n",
       "      <td>761</td>\n",
       "      <td>1</td>\n",
       "    </tr>\n",
       "    <tr>\n",
       "      <th>2273</th>\n",
       "      <td>60</td>\n",
       "      <td>732</td>\n",
       "      <td>27</td>\n",
       "      <td>211</td>\n",
       "      <td>65865</td>\n",
       "      <td>2</td>\n",
       "      <td>0</td>\n",
       "      <td>74259.0</td>\n",
       "      <td>0</td>\n",
       "      <td>3</td>\n",
       "      <td>...</td>\n",
       "      <td>59.939133</td>\n",
       "      <td>30.315901</td>\n",
       "      <td>4848742</td>\n",
       "      <td>635.758972</td>\n",
       "      <td>0.024454</td>\n",
       "      <td>3115.404541</td>\n",
       "      <td>1787.926147</td>\n",
       "      <td>6555.964355</td>\n",
       "      <td>549</td>\n",
       "      <td>1</td>\n",
       "    </tr>\n",
       "    <tr>\n",
       "      <th>2274</th>\n",
       "      <td>60</td>\n",
       "      <td>732</td>\n",
       "      <td>27</td>\n",
       "      <td>211</td>\n",
       "      <td>111474</td>\n",
       "      <td>2</td>\n",
       "      <td>0</td>\n",
       "      <td>74259.0</td>\n",
       "      <td>0</td>\n",
       "      <td>3</td>\n",
       "      <td>...</td>\n",
       "      <td>59.939133</td>\n",
       "      <td>30.315901</td>\n",
       "      <td>4848742</td>\n",
       "      <td>635.758972</td>\n",
       "      <td>0.024454</td>\n",
       "      <td>3115.404541</td>\n",
       "      <td>1787.926147</td>\n",
       "      <td>6555.964355</td>\n",
       "      <td>761</td>\n",
       "      <td>1</td>\n",
       "    </tr>\n",
       "    <tr>\n",
       "      <th>2275</th>\n",
       "      <td>14</td>\n",
       "      <td>311</td>\n",
       "      <td>27</td>\n",
       "      <td>211</td>\n",
       "      <td>111474</td>\n",
       "      <td>2</td>\n",
       "      <td>0</td>\n",
       "      <td>74259.0</td>\n",
       "      <td>1</td>\n",
       "      <td>2</td>\n",
       "      <td>...</td>\n",
       "      <td>54.707470</td>\n",
       "      <td>20.507324</td>\n",
       "      <td>431491</td>\n",
       "      <td>1092.055054</td>\n",
       "      <td>828.233154</td>\n",
       "      <td>3870.873535</td>\n",
       "      <td>2490.750244</td>\n",
       "      <td>7378.328613</td>\n",
       "      <td>761</td>\n",
       "      <td>1</td>\n",
       "    </tr>\n",
       "    <tr>\n",
       "      <th>2276</th>\n",
       "      <td>60</td>\n",
       "      <td>732</td>\n",
       "      <td>27</td>\n",
       "      <td>211</td>\n",
       "      <td>125409</td>\n",
       "      <td>2</td>\n",
       "      <td>0</td>\n",
       "      <td>74259.0</td>\n",
       "      <td>0</td>\n",
       "      <td>1</td>\n",
       "      <td>...</td>\n",
       "      <td>59.939133</td>\n",
       "      <td>30.315901</td>\n",
       "      <td>4848742</td>\n",
       "      <td>635.758972</td>\n",
       "      <td>0.024454</td>\n",
       "      <td>3115.404541</td>\n",
       "      <td>1787.926147</td>\n",
       "      <td>6555.964355</td>\n",
       "      <td>549</td>\n",
       "      <td>1</td>\n",
       "    </tr>\n",
       "  </tbody>\n",
       "</table>\n",
       "<p>5 rows × 31 columns</p>\n",
       "</div>"
      ],
      "text/plain": [
       "      region_name  city_name  cpe_manufacturer_name  cpe_model_name  url_host  \\\n",
       "2272           60        732                     27             211      5790   \n",
       "2273           60        732                     27             211     65865   \n",
       "2274           60        732                     27             211    111474   \n",
       "2275           14        311                     27             211    111474   \n",
       "2276           60        732                     27             211    125409   \n",
       "\n",
       "      cpe_type_cd  cpe_model_os_type    price  part_of_day  request_cnt  ...  \\\n",
       "2272            2                  0  74259.0            3            1  ...   \n",
       "2273            2                  0  74259.0            0            3  ...   \n",
       "2274            2                  0  74259.0            0            3  ...   \n",
       "2275            2                  0  74259.0            1            2  ...   \n",
       "2276            2                  0  74259.0            0            1  ...   \n",
       "\n",
       "        geo_lat    geo_lon  population  dist_to_Moscow  dist_to_SaintP  \\\n",
       "2272  59.939133  30.315901     4848742      635.758972        0.024454   \n",
       "2273  59.939133  30.315901     4848742      635.758972        0.024454   \n",
       "2274  59.939133  30.315901     4848742      635.758972        0.024454   \n",
       "2275  54.707470  20.507324      431491     1092.055054      828.233154   \n",
       "2276  59.939133  30.315901     4848742      635.758972        0.024454   \n",
       "\n",
       "      dist_to_Novosibirsk  dist_to_Ekaterinburg  dist_to_Vladivostok  domain  \\\n",
       "2272          3115.404541           1787.926147          6555.964355     761   \n",
       "2273          3115.404541           1787.926147          6555.964355     549   \n",
       "2274          3115.404541           1787.926147          6555.964355     761   \n",
       "2275          3870.873535           2490.750244          7378.328613     761   \n",
       "2276          3115.404541           1787.926147          6555.964355     549   \n",
       "\n",
       "      is_male  \n",
       "2272        1  \n",
       "2273        1  \n",
       "2274        1  \n",
       "2275        1  \n",
       "2276        1  \n",
       "\n",
       "[5 rows x 31 columns]"
      ]
     },
     "execution_count": 12,
     "metadata": {},
     "output_type": "execute_result"
    }
   ],
   "source": [
    "df = df.merge(target, how=\"left\", on=\"user_id\").dropna(subset=[\"is_male\"])\n",
    "df[\"is_male\"] = df[\"is_male\"].astype(np.int32)\n",
    "df = pandas_reduce_mem_usage(df)\n",
    "df.head()"
   ]
  },
  {
   "cell_type": "code",
   "execution_count": 18,
   "id": "9ed6ad3b",
   "metadata": {},
   "outputs": [],
   "source": [
    "df.to_parquet(f\"{SEQ2SEQ_DATA_PATH}/version_4_is_male.parquet.gzip\",\n",
    "              compression='gzip')"
   ]
  },
  {
   "cell_type": "markdown",
   "id": "019dc87e",
   "metadata": {},
   "source": [
    "## Make torch Dataset"
   ]
  },
  {
   "cell_type": "code",
   "execution_count": 1,
   "id": "a9a9b4b8",
   "metadata": {},
   "outputs": [],
   "source": [
    "import gc\n",
    "import sys\n",
    "import os\n",
    "import warnings\n",
    "from tqdm import tqdm\n",
    "\n",
    "sys.path.append(os.path.abspath(\"../\"))\n",
    "os.environ['OPENBLAS_NUM_THREADS'] = '1'\n",
    "warnings.filterwarnings('ignore')\n",
    "tqdm.pandas()"
   ]
  },
  {
   "cell_type": "code",
   "execution_count": 2,
   "id": "46a9e72f",
   "metadata": {},
   "outputs": [
    {
     "data": {
      "text/plain": [
       "['/home/leffff/PycharmProjects/mts-ml-cup/sandbox',\n",
       " '/usr/lib/python310.zip',\n",
       " '/usr/lib/python3.10',\n",
       " '/usr/lib/python3.10/lib-dynload',\n",
       " '',\n",
       " '/home/leffff/PycharmProjects/mts-ml-cup/venv/lib/python3.10/site-packages',\n",
       " '/home/leffff/PycharmProjects/mts-ml-cup']"
      ]
     },
     "execution_count": 2,
     "metadata": {},
     "output_type": "execute_result"
    }
   ],
   "source": [
    "sys.path"
   ]
  },
  {
   "cell_type": "code",
   "execution_count": 3,
   "id": "1be69dfc",
   "metadata": {},
   "outputs": [],
   "source": [
    "import pandas as pd\n",
    "import numpy as np\n",
    "import time\n",
    "import polars as pl\n",
    "import scipy\n",
    "import implicit\n",
    "import bisect\n",
    "import sklearn.metrics as m\n",
    "from catboost import CatBoostClassifier, CatBoostRegressor, Pool\n",
    "\n",
    "from sklearn.model_selection import train_test_split\n",
    "from sklearn.calibration import calibration_curve, CalibratedClassifierCV\n",
    "from sklearn.utils.class_weight import compute_class_weight\n",
    "\n",
    "import torch\n",
    "from torch.utils.data import TensorDataset, DataLoader\n",
    "from torch import nn\n",
    "\n",
    "from torch.optim.lr_scheduler import ReduceLROnPlateau\n",
    "from transformers import get_constant_schedule, get_cosine_schedule_with_warmup"
   ]
  },
  {
   "cell_type": "code",
   "execution_count": 4,
   "id": "5b1b7d8a",
   "metadata": {},
   "outputs": [],
   "source": [
    "import importlib\n",
    "\n",
    "import modules\n",
    "import fe_modules\n",
    "import seq2seq_modules\n",
    "\n",
    "importlib.reload(modules)\n",
    "importlib.reload(fe_modules)\n",
    "importlib.reload(seq2seq_modules)\n",
    "\n",
    "from modules.memory_utils import pandas_reduce_mem_usage, pandas_string_to_cat\n",
    "from seq2seq_modules.preprocessing import TargetPandasPreprocessor\n",
    "from seq2seq_modules.data import TargetDataset\n",
    "from seq2seq_modules.models import LSTMModel, StarterBERTModel, AttentionPoolingBERTModel\n",
    "from seq2seq_modules.weight_initialization import weights_init_uniform_rule, weights_init_xavier\n",
    "from seq2seq_modules.loops import cross_validation, single_model_training\n",
    "from seq2seq_modules.trainer import CVTrainer\n",
    "from seq2seq_modules.utils import age_bucket\n",
    "from seq2seq_modules.metrics import GENDER_METRIC\n",
    "from seq2seq_modules.utils import fix_random_state"
   ]
  },
  {
   "cell_type": "code",
   "execution_count": 5,
   "id": "2de54692",
   "metadata": {},
   "outputs": [],
   "source": [
    "def my_reset(*varnames):\n",
    "    \"\"\"\n",
    "    varnames are what you want to keep\n",
    "    \"\"\"\n",
    "    globals_ = globals()\n",
    "    to_save = {v: globals_[v] for v in varnames}\n",
    "    to_save['my_reset'] = my_reset  # lets keep this function by default\n",
    "    del globals_\n",
    "    get_ipython().magic(\"reset\")\n",
    "    globals().update(to_save)"
   ]
  },
  {
   "cell_type": "code",
   "execution_count": 6,
   "id": "3decfe44",
   "metadata": {},
   "outputs": [],
   "source": [
    "LOCAL_DATA_PATH = '../seq2seq_data/'\n",
    "SEED = 42\n",
    "fix_random_state(SEED)"
   ]
  },
  {
   "cell_type": "code",
   "execution_count": 7,
   "id": "71987699",
   "metadata": {},
   "outputs": [],
   "source": [
    "ids = [\"user_id\"]\n",
    "\n",
    "cat_features = [\n",
    "    \"region_name\",\n",
    "    \"city_name\",\n",
    "    \"cpe_manufacturer_name\",\n",
    "    \"cpe_model_name\",\n",
    "    \"url_host\",\n",
    "    \"cpe_type_cd\",\n",
    "    \"cpe_model_os_type\",\n",
    "    \"part_of_day\",\n",
    "    \"domain\",\n",
    "    \"capital_marker\"\n",
    "]\n",
    "\n",
    "continous_features = [\n",
    "    \"request_cnt\",\n",
    "    \"price\",\n",
    "    \"timestamp\",\n",
    "    \"relative_timestamp\",\n",
    "    \"geo_lat\",\n",
    "    \"geo_lon\",\n",
    "    \"population\",\n",
    "    \"timezone\",\n",
    "    \"dist_to_Moscow\",\n",
    "    \"dist_to_SaintP\",\n",
    "    \"dist_to_Novosibirsk\",\n",
    "    \"dist_to_Ekaterinburg\",\n",
    "    \"dist_to_Vladivostok\",\n",
    "]"
   ]
  },
  {
   "cell_type": "code",
   "execution_count": 8,
   "id": "15aef6c1",
   "metadata": {
    "scrolled": true
   },
   "outputs": [
    {
     "name": "stdout",
     "output_type": "stream",
     "text": [
      "Memory usage of dataframe is 17077.65 MB\n"
     ]
    },
    {
     "data": {
      "application/vnd.jupyter.widget-view+json": {
       "model_id": "659a3d66ed2540689a579f42dab831bf",
       "version_major": 2,
       "version_minor": 0
      },
      "text/plain": [
       "  0%|          | 0/31 [00:00<?, ?it/s]"
      ]
     },
     "metadata": {},
     "output_type": "display_data"
    },
    {
     "name": "stdout",
     "output_type": "stream",
     "text": [
      "Memory usage after optimization is: 17077.65 MB\n",
      "Decreased by 0.0%\n"
     ]
    },
    {
     "data": {
      "text/html": [
       "<div>\n",
       "<style scoped>\n",
       "    .dataframe tbody tr th:only-of-type {\n",
       "        vertical-align: middle;\n",
       "    }\n",
       "\n",
       "    .dataframe tbody tr th {\n",
       "        vertical-align: top;\n",
       "    }\n",
       "\n",
       "    .dataframe thead th {\n",
       "        text-align: right;\n",
       "    }\n",
       "</style>\n",
       "<table border=\"1\" class=\"dataframe\">\n",
       "  <thead>\n",
       "    <tr style=\"text-align: right;\">\n",
       "      <th></th>\n",
       "      <th>region_name</th>\n",
       "      <th>city_name</th>\n",
       "      <th>cpe_manufacturer_name</th>\n",
       "      <th>cpe_model_name</th>\n",
       "      <th>url_host</th>\n",
       "      <th>cpe_type_cd</th>\n",
       "      <th>cpe_model_os_type</th>\n",
       "      <th>price</th>\n",
       "      <th>part_of_day</th>\n",
       "      <th>request_cnt</th>\n",
       "      <th>...</th>\n",
       "      <th>geo_lat</th>\n",
       "      <th>geo_lon</th>\n",
       "      <th>population</th>\n",
       "      <th>dist_to_Moscow</th>\n",
       "      <th>dist_to_SaintP</th>\n",
       "      <th>dist_to_Novosibirsk</th>\n",
       "      <th>dist_to_Ekaterinburg</th>\n",
       "      <th>dist_to_Vladivostok</th>\n",
       "      <th>domain</th>\n",
       "      <th>is_male</th>\n",
       "    </tr>\n",
       "  </thead>\n",
       "  <tbody>\n",
       "    <tr>\n",
       "      <th>2272</th>\n",
       "      <td>60</td>\n",
       "      <td>732</td>\n",
       "      <td>27</td>\n",
       "      <td>211</td>\n",
       "      <td>5790</td>\n",
       "      <td>2</td>\n",
       "      <td>0</td>\n",
       "      <td>74259.0</td>\n",
       "      <td>3</td>\n",
       "      <td>1</td>\n",
       "      <td>...</td>\n",
       "      <td>59.939133</td>\n",
       "      <td>30.315901</td>\n",
       "      <td>4848742</td>\n",
       "      <td>635.758972</td>\n",
       "      <td>0.024454</td>\n",
       "      <td>3115.404541</td>\n",
       "      <td>1787.926147</td>\n",
       "      <td>6555.964355</td>\n",
       "      <td>761</td>\n",
       "      <td>1</td>\n",
       "    </tr>\n",
       "    <tr>\n",
       "      <th>2273</th>\n",
       "      <td>60</td>\n",
       "      <td>732</td>\n",
       "      <td>27</td>\n",
       "      <td>211</td>\n",
       "      <td>65865</td>\n",
       "      <td>2</td>\n",
       "      <td>0</td>\n",
       "      <td>74259.0</td>\n",
       "      <td>0</td>\n",
       "      <td>3</td>\n",
       "      <td>...</td>\n",
       "      <td>59.939133</td>\n",
       "      <td>30.315901</td>\n",
       "      <td>4848742</td>\n",
       "      <td>635.758972</td>\n",
       "      <td>0.024454</td>\n",
       "      <td>3115.404541</td>\n",
       "      <td>1787.926147</td>\n",
       "      <td>6555.964355</td>\n",
       "      <td>549</td>\n",
       "      <td>1</td>\n",
       "    </tr>\n",
       "    <tr>\n",
       "      <th>2274</th>\n",
       "      <td>60</td>\n",
       "      <td>732</td>\n",
       "      <td>27</td>\n",
       "      <td>211</td>\n",
       "      <td>111474</td>\n",
       "      <td>2</td>\n",
       "      <td>0</td>\n",
       "      <td>74259.0</td>\n",
       "      <td>0</td>\n",
       "      <td>3</td>\n",
       "      <td>...</td>\n",
       "      <td>59.939133</td>\n",
       "      <td>30.315901</td>\n",
       "      <td>4848742</td>\n",
       "      <td>635.758972</td>\n",
       "      <td>0.024454</td>\n",
       "      <td>3115.404541</td>\n",
       "      <td>1787.926147</td>\n",
       "      <td>6555.964355</td>\n",
       "      <td>761</td>\n",
       "      <td>1</td>\n",
       "    </tr>\n",
       "    <tr>\n",
       "      <th>2275</th>\n",
       "      <td>14</td>\n",
       "      <td>311</td>\n",
       "      <td>27</td>\n",
       "      <td>211</td>\n",
       "      <td>111474</td>\n",
       "      <td>2</td>\n",
       "      <td>0</td>\n",
       "      <td>74259.0</td>\n",
       "      <td>1</td>\n",
       "      <td>2</td>\n",
       "      <td>...</td>\n",
       "      <td>54.707470</td>\n",
       "      <td>20.507324</td>\n",
       "      <td>431491</td>\n",
       "      <td>1092.055054</td>\n",
       "      <td>828.233154</td>\n",
       "      <td>3870.873535</td>\n",
       "      <td>2490.750244</td>\n",
       "      <td>7378.328613</td>\n",
       "      <td>761</td>\n",
       "      <td>1</td>\n",
       "    </tr>\n",
       "    <tr>\n",
       "      <th>2276</th>\n",
       "      <td>60</td>\n",
       "      <td>732</td>\n",
       "      <td>27</td>\n",
       "      <td>211</td>\n",
       "      <td>125409</td>\n",
       "      <td>2</td>\n",
       "      <td>0</td>\n",
       "      <td>74259.0</td>\n",
       "      <td>0</td>\n",
       "      <td>1</td>\n",
       "      <td>...</td>\n",
       "      <td>59.939133</td>\n",
       "      <td>30.315901</td>\n",
       "      <td>4848742</td>\n",
       "      <td>635.758972</td>\n",
       "      <td>0.024454</td>\n",
       "      <td>3115.404541</td>\n",
       "      <td>1787.926147</td>\n",
       "      <td>6555.964355</td>\n",
       "      <td>549</td>\n",
       "      <td>1</td>\n",
       "    </tr>\n",
       "  </tbody>\n",
       "</table>\n",
       "<p>5 rows × 31 columns</p>\n",
       "</div>"
      ],
      "text/plain": [
       "      region_name  city_name  cpe_manufacturer_name  cpe_model_name  url_host  \\\n",
       "2272           60        732                     27             211      5790   \n",
       "2273           60        732                     27             211     65865   \n",
       "2274           60        732                     27             211    111474   \n",
       "2275           14        311                     27             211    111474   \n",
       "2276           60        732                     27             211    125409   \n",
       "\n",
       "      cpe_type_cd  cpe_model_os_type    price  part_of_day  request_cnt  ...  \\\n",
       "2272            2                  0  74259.0            3            1  ...   \n",
       "2273            2                  0  74259.0            0            3  ...   \n",
       "2274            2                  0  74259.0            0            3  ...   \n",
       "2275            2                  0  74259.0            1            2  ...   \n",
       "2276            2                  0  74259.0            0            1  ...   \n",
       "\n",
       "        geo_lat    geo_lon  population  dist_to_Moscow  dist_to_SaintP  \\\n",
       "2272  59.939133  30.315901     4848742      635.758972        0.024454   \n",
       "2273  59.939133  30.315901     4848742      635.758972        0.024454   \n",
       "2274  59.939133  30.315901     4848742      635.758972        0.024454   \n",
       "2275  54.707470  20.507324      431491     1092.055054      828.233154   \n",
       "2276  59.939133  30.315901     4848742      635.758972        0.024454   \n",
       "\n",
       "      dist_to_Novosibirsk  dist_to_Ekaterinburg  dist_to_Vladivostok  domain  \\\n",
       "2272          3115.404541           1787.926147          6555.964355     761   \n",
       "2273          3115.404541           1787.926147          6555.964355     549   \n",
       "2274          3115.404541           1787.926147          6555.964355     761   \n",
       "2275          3870.873535           2490.750244          7378.328613     761   \n",
       "2276          3115.404541           1787.926147          6555.964355     549   \n",
       "\n",
       "      is_male  \n",
       "2272        1  \n",
       "2273        1  \n",
       "2274        1  \n",
       "2275        1  \n",
       "2276        1  \n",
       "\n",
       "[5 rows x 31 columns]"
      ]
     },
     "execution_count": 8,
     "metadata": {},
     "output_type": "execute_result"
    }
   ],
   "source": [
    "df = pandas_reduce_mem_usage(\n",
    "    pd.read_parquet(f\"{LOCAL_DATA_PATH}/version_4_is_male.parquet.gzip\")\n",
    ")\n",
    "df.head()"
   ]
  },
  {
   "cell_type": "code",
   "execution_count": 9,
   "id": "193efed5",
   "metadata": {},
   "outputs": [
    {
     "data": {
      "text/plain": [
       "21"
      ]
     },
     "execution_count": 9,
     "metadata": {},
     "output_type": "execute_result"
    }
   ],
   "source": [
    "gc.collect()"
   ]
  },
  {
   "cell_type": "code",
   "execution_count": 10,
   "id": "6176a280",
   "metadata": {},
   "outputs": [
    {
     "data": {
      "application/vnd.jupyter.widget-view+json": {
       "model_id": "8e7f59293cd1495a9a5a2acafd37e467",
       "version_major": 2,
       "version_minor": 0
      },
      "text/plain": [
       "  0%|          | 0/210673077 [00:00<?, ?it/s]"
      ]
     },
     "metadata": {},
     "output_type": "display_data"
    },
    {
     "data": {
      "text/plain": [
       "<seq2seq_modules.data.TargetDataset at 0x7ff5ea766500>"
      ]
     },
     "execution_count": 10,
     "metadata": {},
     "output_type": "execute_result"
    }
   ],
   "source": [
    "dataset = TargetDataset(\n",
    "         df,\n",
    "         agg_column=\"user_id\", \n",
    "         time_column=\"timestamp\",\n",
    "         target_column=\"is_male\",\n",
    "         cat_features=cat_features,\n",
    "         cont_features=continous_features,\n",
    "         max_len=1024,\n",
    "         padding_side=\"left\",\n",
    ")\n",
    "user_ids = dataset.get_agg_col()\n",
    "dataset"
   ]
  },
  {
   "cell_type": "code",
   "execution_count": 11,
   "id": "4a0c584a",
   "metadata": {},
   "outputs": [
    {
     "data": {
      "text/html": [
       "<div>\n",
       "<style scoped>\n",
       "    .dataframe tbody tr th:only-of-type {\n",
       "        vertical-align: middle;\n",
       "    }\n",
       "\n",
       "    .dataframe tbody tr th {\n",
       "        vertical-align: top;\n",
       "    }\n",
       "\n",
       "    .dataframe thead th {\n",
       "        text-align: right;\n",
       "    }\n",
       "</style>\n",
       "<table border=\"1\" class=\"dataframe\">\n",
       "  <thead>\n",
       "    <tr style=\"text-align: right;\">\n",
       "      <th></th>\n",
       "      <th>region_name</th>\n",
       "      <th>city_name</th>\n",
       "      <th>cpe_manufacturer_name</th>\n",
       "      <th>cpe_model_name</th>\n",
       "      <th>url_host</th>\n",
       "      <th>cpe_type_cd</th>\n",
       "      <th>cpe_model_os_type</th>\n",
       "      <th>price</th>\n",
       "      <th>part_of_day</th>\n",
       "      <th>request_cnt</th>\n",
       "      <th>...</th>\n",
       "      <th>geo_lat</th>\n",
       "      <th>geo_lon</th>\n",
       "      <th>population</th>\n",
       "      <th>dist_to_Moscow</th>\n",
       "      <th>dist_to_SaintP</th>\n",
       "      <th>dist_to_Novosibirsk</th>\n",
       "      <th>dist_to_Ekaterinburg</th>\n",
       "      <th>dist_to_Vladivostok</th>\n",
       "      <th>domain</th>\n",
       "      <th>is_male</th>\n",
       "    </tr>\n",
       "  </thead>\n",
       "  <tbody>\n",
       "    <tr>\n",
       "      <th>2272</th>\n",
       "      <td>60</td>\n",
       "      <td>732</td>\n",
       "      <td>27</td>\n",
       "      <td>211</td>\n",
       "      <td>5790</td>\n",
       "      <td>2</td>\n",
       "      <td>0</td>\n",
       "      <td>74259.0</td>\n",
       "      <td>3</td>\n",
       "      <td>1</td>\n",
       "      <td>...</td>\n",
       "      <td>59.939133</td>\n",
       "      <td>30.315901</td>\n",
       "      <td>4848742</td>\n",
       "      <td>635.758972</td>\n",
       "      <td>0.024454</td>\n",
       "      <td>3115.404541</td>\n",
       "      <td>1787.926147</td>\n",
       "      <td>6555.964355</td>\n",
       "      <td>761</td>\n",
       "      <td>1</td>\n",
       "    </tr>\n",
       "    <tr>\n",
       "      <th>2273</th>\n",
       "      <td>60</td>\n",
       "      <td>732</td>\n",
       "      <td>27</td>\n",
       "      <td>211</td>\n",
       "      <td>65865</td>\n",
       "      <td>2</td>\n",
       "      <td>0</td>\n",
       "      <td>74259.0</td>\n",
       "      <td>0</td>\n",
       "      <td>3</td>\n",
       "      <td>...</td>\n",
       "      <td>59.939133</td>\n",
       "      <td>30.315901</td>\n",
       "      <td>4848742</td>\n",
       "      <td>635.758972</td>\n",
       "      <td>0.024454</td>\n",
       "      <td>3115.404541</td>\n",
       "      <td>1787.926147</td>\n",
       "      <td>6555.964355</td>\n",
       "      <td>549</td>\n",
       "      <td>1</td>\n",
       "    </tr>\n",
       "    <tr>\n",
       "      <th>2274</th>\n",
       "      <td>60</td>\n",
       "      <td>732</td>\n",
       "      <td>27</td>\n",
       "      <td>211</td>\n",
       "      <td>111474</td>\n",
       "      <td>2</td>\n",
       "      <td>0</td>\n",
       "      <td>74259.0</td>\n",
       "      <td>0</td>\n",
       "      <td>3</td>\n",
       "      <td>...</td>\n",
       "      <td>59.939133</td>\n",
       "      <td>30.315901</td>\n",
       "      <td>4848742</td>\n",
       "      <td>635.758972</td>\n",
       "      <td>0.024454</td>\n",
       "      <td>3115.404541</td>\n",
       "      <td>1787.926147</td>\n",
       "      <td>6555.964355</td>\n",
       "      <td>761</td>\n",
       "      <td>1</td>\n",
       "    </tr>\n",
       "    <tr>\n",
       "      <th>2275</th>\n",
       "      <td>14</td>\n",
       "      <td>311</td>\n",
       "      <td>27</td>\n",
       "      <td>211</td>\n",
       "      <td>111474</td>\n",
       "      <td>2</td>\n",
       "      <td>0</td>\n",
       "      <td>74259.0</td>\n",
       "      <td>1</td>\n",
       "      <td>2</td>\n",
       "      <td>...</td>\n",
       "      <td>54.707470</td>\n",
       "      <td>20.507324</td>\n",
       "      <td>431491</td>\n",
       "      <td>1092.055054</td>\n",
       "      <td>828.233154</td>\n",
       "      <td>3870.873535</td>\n",
       "      <td>2490.750244</td>\n",
       "      <td>7378.328613</td>\n",
       "      <td>761</td>\n",
       "      <td>1</td>\n",
       "    </tr>\n",
       "    <tr>\n",
       "      <th>2276</th>\n",
       "      <td>60</td>\n",
       "      <td>732</td>\n",
       "      <td>27</td>\n",
       "      <td>211</td>\n",
       "      <td>125409</td>\n",
       "      <td>2</td>\n",
       "      <td>0</td>\n",
       "      <td>74259.0</td>\n",
       "      <td>0</td>\n",
       "      <td>1</td>\n",
       "      <td>...</td>\n",
       "      <td>59.939133</td>\n",
       "      <td>30.315901</td>\n",
       "      <td>4848742</td>\n",
       "      <td>635.758972</td>\n",
       "      <td>0.024454</td>\n",
       "      <td>3115.404541</td>\n",
       "      <td>1787.926147</td>\n",
       "      <td>6555.964355</td>\n",
       "      <td>549</td>\n",
       "      <td>1</td>\n",
       "    </tr>\n",
       "  </tbody>\n",
       "</table>\n",
       "<p>5 rows × 31 columns</p>\n",
       "</div>"
      ],
      "text/plain": [
       "      region_name  city_name  cpe_manufacturer_name  cpe_model_name  url_host  \\\n",
       "2272           60        732                     27             211      5790   \n",
       "2273           60        732                     27             211     65865   \n",
       "2274           60        732                     27             211    111474   \n",
       "2275           14        311                     27             211    111474   \n",
       "2276           60        732                     27             211    125409   \n",
       "\n",
       "      cpe_type_cd  cpe_model_os_type    price  part_of_day  request_cnt  ...  \\\n",
       "2272            2                  0  74259.0            3            1  ...   \n",
       "2273            2                  0  74259.0            0            3  ...   \n",
       "2274            2                  0  74259.0            0            3  ...   \n",
       "2275            2                  0  74259.0            1            2  ...   \n",
       "2276            2                  0  74259.0            0            1  ...   \n",
       "\n",
       "        geo_lat    geo_lon  population  dist_to_Moscow  dist_to_SaintP  \\\n",
       "2272  59.939133  30.315901     4848742      635.758972        0.024454   \n",
       "2273  59.939133  30.315901     4848742      635.758972        0.024454   \n",
       "2274  59.939133  30.315901     4848742      635.758972        0.024454   \n",
       "2275  54.707470  20.507324      431491     1092.055054      828.233154   \n",
       "2276  59.939133  30.315901     4848742      635.758972        0.024454   \n",
       "\n",
       "      dist_to_Novosibirsk  dist_to_Ekaterinburg  dist_to_Vladivostok  domain  \\\n",
       "2272          3115.404541           1787.926147          6555.964355     761   \n",
       "2273          3115.404541           1787.926147          6555.964355     549   \n",
       "2274          3115.404541           1787.926147          6555.964355     761   \n",
       "2275          3870.873535           2490.750244          7378.328613     761   \n",
       "2276          3115.404541           1787.926147          6555.964355     549   \n",
       "\n",
       "      is_male  \n",
       "2272        1  \n",
       "2273        1  \n",
       "2274        1  \n",
       "2275        1  \n",
       "2276        1  \n",
       "\n",
       "[5 rows x 31 columns]"
      ]
     },
     "execution_count": 11,
     "metadata": {},
     "output_type": "execute_result"
    }
   ],
   "source": [
    "df.head()"
   ]
  },
  {
   "cell_type": "markdown",
   "id": "78f36334",
   "metadata": {},
   "source": [
    "## Feed to the model"
   ]
  },
  {
   "cell_type": "code",
   "execution_count": 12,
   "id": "23b5e8a3",
   "metadata": {
    "scrolled": true
   },
   "outputs": [
    {
     "name": "stderr",
     "output_type": "stream",
     "text": [
      "100%|███████████████████████████████████████████| 10/10 [00:00<00:00, 32.85it/s]\n",
      "100%|███████████████████████████████████████| 13/13 [00:00<00:00, 432745.65it/s]\n"
     ]
    }
   ],
   "source": [
    "cat_feature_indexes = []\n",
    "cont_feature_indexes = []\n",
    "vocab_sizes = {}\n",
    "\n",
    "for i in tqdm(range(len(cat_features))):\n",
    "    cat_feature_indexes.append(i)\n",
    "    vocab_sizes[i] = int(df[cat_features[i]].max() + 1)\n",
    "\n",
    "for i in tqdm(range(len(continous_features))):\n",
    "    cont_feature_indexes.append(i)"
   ]
  },
  {
   "cell_type": "code",
   "execution_count": 13,
   "id": "69849399",
   "metadata": {},
   "outputs": [
    {
     "name": "stderr",
     "output_type": "stream",
     "text": [
      "100%|████████████████████████████████| 264325/264325 [00:18<00:00, 14651.72it/s]\n"
     ]
    },
    {
     "data": {
      "text/plain": [
       "tensor([0, 0, 0,  ..., 0, 0, 1])"
      ]
     },
     "execution_count": 13,
     "metadata": {},
     "output_type": "execute_result"
    }
   ],
   "source": [
    "targets = torch.cat([el[3].unsqueeze(0) for el in tqdm(dataset)], dim=0)\n",
    "targets"
   ]
  },
  {
   "cell_type": "code",
   "execution_count": 14,
   "id": "de39e685",
   "metadata": {},
   "outputs": [],
   "source": [
    "# model = AttentionPoolingBERTModel(\n",
    "#         cat_feature_indexes=cat_feature_indexes,\n",
    "#         vocab_sizes=vocab_sizes,\n",
    "#         cont_feature_indexes=cont_feature_indexes,\n",
    "#         encoder_hidden_dim=16,\n",
    "#         hidden_dim=256,\n",
    "#         dim_feedforward=512,\n",
    "#         output_dim=7,\n",
    "#         pe_type=\"trainable\",\n",
    "#         use_mask=False,\n",
    "#         max_len=1024,\n",
    "#         use_key_padding_mask=True,\n",
    "# )\n",
    "\n",
    "# model = StarterBERTModel(\n",
    "#         cat_feature_indexes=cat_feature_indexes,\n",
    "#         vocab_sizes=vocab_sizes,\n",
    "#         cont_feature_indexes=cont_feature_indexes,\n",
    "#         encoder_hidden_dim=16,\n",
    "#         hidden_dim=256,\n",
    "#         dim_feedforward=512,\n",
    "#         output_dim=2,\n",
    "#         pe_type=\"trainable\",\n",
    "#         use_mask=False,\n",
    "#         max_len=1024,\n",
    "#         use_key_padding_mask=False,\n",
    "#         starter=\"randn\",\n",
    "#         shared=False\n",
    "# )\n",
    "\n",
    "model = LSTMModel(\n",
    "        cat_feature_indexes=cat_feature_indexes,\n",
    "        vocab_sizes=vocab_sizes,\n",
    "        cont_feature_indexes=cont_feature_indexes,\n",
    "        encoder_hidden_dim=16,\n",
    "        hidden_dim=256,\n",
    "        output_dim=2,\n",
    ")\n",
    "\n",
    "weights_init_xavier(model)\n",
    "\n",
    "metric = GENDER_METRIC"
   ]
  },
  {
   "cell_type": "code",
   "execution_count": 15,
   "id": "9ec814fa",
   "metadata": {
    "scrolled": true
   },
   "outputs": [],
   "source": [
    "trainer = CVTrainer(\n",
    "            model_name=\"is_male_baseline\",\n",
    "            model=model,\n",
    "            n_folds=6,\n",
    ")"
   ]
  },
  {
   "cell_type": "code",
   "execution_count": null,
   "id": "2ad9817a",
   "metadata": {},
   "outputs": [
    {
     "name": "stdout",
     "output_type": "stream",
     "text": [
      "FOLD 0\n",
      "--------------------------------\n"
     ]
    },
    {
     "data": {
      "application/vnd.jupyter.widget-view+json": {
       "model_id": "de1a2363a8bd4ba1bb81692417c91554",
       "version_major": 2,
       "version_minor": 0
      },
      "text/plain": [
       "  0%|          | 0/3442 [00:00<?, ?it/s]"
      ]
     },
     "metadata": {},
     "output_type": "display_data"
    },
    {
     "data": {
      "application/vnd.jupyter.widget-view+json": {
       "model_id": "cd4698edc0bc41e1bd9576f7e1c140a5",
       "version_major": 2,
       "version_minor": 0
      },
      "text/plain": [
       "  0%|          | 0/689 [00:00<?, ?it/s]"
      ]
     },
     "metadata": {},
     "output_type": "display_data"
    },
    {
     "name": "stdout",
     "output_type": "stream",
     "text": [
      "EPOCH: 0\n",
      "{'Gender GINI': 0.39001162062381467, 'loss': 0.6258863599709585}\n",
      "{'Gender GINI': 0.5938495586605022, 'loss': 0.5551652230606549}\n"
     ]
    },
    {
     "data": {
      "application/vnd.jupyter.widget-view+json": {
       "model_id": "1c9cca63656d44babc09febae63eaeda",
       "version_major": 2,
       "version_minor": 0
      },
      "text/plain": [
       "  0%|          | 0/3442 [00:00<?, ?it/s]"
      ]
     },
     "metadata": {},
     "output_type": "display_data"
    },
    {
     "data": {
      "application/vnd.jupyter.widget-view+json": {
       "model_id": "759bc56486e5436abbd742a36ca047a1",
       "version_major": 2,
       "version_minor": 0
      },
      "text/plain": [
       "  0%|          | 0/689 [00:00<?, ?it/s]"
      ]
     },
     "metadata": {},
     "output_type": "display_data"
    },
    {
     "name": "stdout",
     "output_type": "stream",
     "text": [
      "EPOCH: 1\n",
      "{'Gender GINI': 0.6402120351612719, 'loss': 0.5188603094319475}\n",
      "{'Gender GINI': 0.6693229177359759, 'loss': 0.5039091445966732}\n"
     ]
    },
    {
     "data": {
      "application/vnd.jupyter.widget-view+json": {
       "model_id": "fcbe4ffd3ded45468f7844363ff730b0",
       "version_major": 2,
       "version_minor": 0
      },
      "text/plain": [
       "  0%|          | 0/3442 [00:00<?, ?it/s]"
      ]
     },
     "metadata": {},
     "output_type": "display_data"
    },
    {
     "data": {
      "application/vnd.jupyter.widget-view+json": {
       "model_id": "6460437363f042cbae8b8e6f8595fce4",
       "version_major": 2,
       "version_minor": 0
      },
      "text/plain": [
       "  0%|          | 0/689 [00:00<?, ?it/s]"
      ]
     },
     "metadata": {},
     "output_type": "display_data"
    },
    {
     "name": "stdout",
     "output_type": "stream",
     "text": [
      "EPOCH: 2\n",
      "{'Gender GINI': 0.6884981820662719, 'loss': 0.48806743594519786}\n",
      "{'Gender GINI': 0.6927245926333454, 'loss': 0.48802046408212546}\n"
     ]
    },
    {
     "data": {
      "application/vnd.jupyter.widget-view+json": {
       "model_id": "f6e0b9be594f4e4da0661904587d4861",
       "version_major": 2,
       "version_minor": 0
      },
      "text/plain": [
       "  0%|          | 0/3442 [00:00<?, ?it/s]"
      ]
     },
     "metadata": {},
     "output_type": "display_data"
    },
    {
     "data": {
      "application/vnd.jupyter.widget-view+json": {
       "model_id": "ae5fa0807a864449baf070c96cb61388",
       "version_major": 2,
       "version_minor": 0
      },
      "text/plain": [
       "  0%|          | 0/689 [00:00<?, ?it/s]"
      ]
     },
     "metadata": {},
     "output_type": "display_data"
    },
    {
     "name": "stdout",
     "output_type": "stream",
     "text": [
      "EPOCH: 3\n",
      "{'Gender GINI': 0.712852964776914, 'loss': 0.47107319491888694}\n",
      "{'Gender GINI': 0.7007809788469814, 'loss': 0.48194743070837304}\n"
     ]
    },
    {
     "data": {
      "application/vnd.jupyter.widget-view+json": {
       "model_id": "34f642a26be04624b8fa4e883ce5e491",
       "version_major": 2,
       "version_minor": 0
      },
      "text/plain": [
       "  0%|          | 0/3442 [00:00<?, ?it/s]"
      ]
     },
     "metadata": {},
     "output_type": "display_data"
    },
    {
     "data": {
      "application/vnd.jupyter.widget-view+json": {
       "model_id": "a504b9d534384725816d68cc361ac996",
       "version_major": 2,
       "version_minor": 0
      },
      "text/plain": [
       "  0%|          | 0/689 [00:00<?, ?it/s]"
      ]
     },
     "metadata": {},
     "output_type": "display_data"
    },
    {
     "name": "stdout",
     "output_type": "stream",
     "text": [
      "EPOCH: 4\n",
      "{'Gender GINI': 0.7249584749601872, 'loss': 0.4622859358246881}\n",
      "{'Gender GINI': 0.7036792359457722, 'loss': 0.47845719937179576}\n",
      "FOLD 1\n",
      "--------------------------------\n"
     ]
    },
    {
     "data": {
      "application/vnd.jupyter.widget-view+json": {
       "model_id": "1fd4036850a6417fabd59ffd0b64a037",
       "version_major": 2,
       "version_minor": 0
      },
      "text/plain": [
       "  0%|          | 0/3442 [00:00<?, ?it/s]"
      ]
     },
     "metadata": {},
     "output_type": "display_data"
    },
    {
     "data": {
      "application/vnd.jupyter.widget-view+json": {
       "model_id": "28a3f23faebe4d05948b1670add71732",
       "version_major": 2,
       "version_minor": 0
      },
      "text/plain": [
       "  0%|          | 0/689 [00:00<?, ?it/s]"
      ]
     },
     "metadata": {},
     "output_type": "display_data"
    },
    {
     "name": "stdout",
     "output_type": "stream",
     "text": [
      "EPOCH: 0\n",
      "{'Gender GINI': 0.3106604582805639, 'loss': 0.6474604892479141}\n",
      "{'Gender GINI': 0.5631548472366348, 'loss': 0.5659448839428679}\n"
     ]
    },
    {
     "data": {
      "application/vnd.jupyter.widget-view+json": {
       "model_id": "79f058a55aa94373a273520f5679dded",
       "version_major": 2,
       "version_minor": 0
      },
      "text/plain": [
       "  0%|          | 0/3442 [00:00<?, ?it/s]"
      ]
     },
     "metadata": {},
     "output_type": "display_data"
    },
    {
     "data": {
      "application/vnd.jupyter.widget-view+json": {
       "model_id": "492bd5671ab54692ba9334ffcc4e11c5",
       "version_major": 2,
       "version_minor": 0
      },
      "text/plain": [
       "  0%|          | 0/689 [00:00<?, ?it/s]"
      ]
     },
     "metadata": {},
     "output_type": "display_data"
    },
    {
     "name": "stdout",
     "output_type": "stream",
     "text": [
      "EPOCH: 1\n",
      "{'Gender GINI': 0.5934752123195266, 'loss': 0.5446187126603946}\n",
      "{'Gender GINI': 0.6330072483871205, 'loss': 0.524168442260275}\n"
     ]
    },
    {
     "data": {
      "application/vnd.jupyter.widget-view+json": {
       "model_id": "c2bc52ea465e48fbbe89064758eac132",
       "version_major": 2,
       "version_minor": 0
      },
      "text/plain": [
       "  0%|          | 0/3442 [00:00<?, ?it/s]"
      ]
     },
     "metadata": {},
     "output_type": "display_data"
    },
    {
     "data": {
      "application/vnd.jupyter.widget-view+json": {
       "model_id": "e5400a5f68f24570b3681e09b9561a8e",
       "version_major": 2,
       "version_minor": 0
      },
      "text/plain": [
       "  0%|          | 0/689 [00:00<?, ?it/s]"
      ]
     },
     "metadata": {},
     "output_type": "display_data"
    },
    {
     "name": "stdout",
     "output_type": "stream",
     "text": [
      "EPOCH: 2\n",
      "{'Gender GINI': 0.6548179577626179, 'loss': 0.5083032361078514}\n",
      "{'Gender GINI': 0.6717168793063215, 'loss': 0.508107340483789}\n"
     ]
    },
    {
     "data": {
      "application/vnd.jupyter.widget-view+json": {
       "model_id": "577446eccf694f908ace36fea73658be",
       "version_major": 2,
       "version_minor": 0
      },
      "text/plain": [
       "  0%|          | 0/3442 [00:00<?, ?it/s]"
      ]
     },
     "metadata": {},
     "output_type": "display_data"
    },
    {
     "data": {
      "application/vnd.jupyter.widget-view+json": {
       "model_id": "2413336b21e4405483b6c90f585b5263",
       "version_major": 2,
       "version_minor": 0
      },
      "text/plain": [
       "  0%|          | 0/689 [00:00<?, ?it/s]"
      ]
     },
     "metadata": {},
     "output_type": "display_data"
    },
    {
     "name": "stdout",
     "output_type": "stream",
     "text": [
      "EPOCH: 3\n",
      "{'Gender GINI': 0.6912624014750746, 'loss': 0.48451616305337625}\n",
      "{'Gender GINI': 0.6849018883289761, 'loss': 0.4891048540407533}\n"
     ]
    },
    {
     "data": {
      "application/vnd.jupyter.widget-view+json": {
       "model_id": "80f66b2d981840b987700b972fa280a1",
       "version_major": 2,
       "version_minor": 0
      },
      "text/plain": [
       "  0%|          | 0/3442 [00:00<?, ?it/s]"
      ]
     },
     "metadata": {},
     "output_type": "display_data"
    },
    {
     "data": {
      "application/vnd.jupyter.widget-view+json": {
       "model_id": "3ce0a4f3104e49d5a642069bcad89249",
       "version_major": 2,
       "version_minor": 0
      },
      "text/plain": [
       "  0%|          | 0/689 [00:00<?, ?it/s]"
      ]
     },
     "metadata": {},
     "output_type": "display_data"
    },
    {
     "name": "stdout",
     "output_type": "stream",
     "text": [
      "EPOCH: 4\n",
      "{'Gender GINI': 0.7082027404880948, 'loss': 0.47268726406171807}\n",
      "{'Gender GINI': 0.6891771192690221, 'loss': 0.48601561736635884}\n",
      "FOLD 2\n",
      "--------------------------------\n"
     ]
    },
    {
     "data": {
      "application/vnd.jupyter.widget-view+json": {
       "model_id": "7c04e75409b64695acce37fc40029e1a",
       "version_major": 2,
       "version_minor": 0
      },
      "text/plain": [
       "  0%|          | 0/3442 [00:00<?, ?it/s]"
      ]
     },
     "metadata": {},
     "output_type": "display_data"
    },
    {
     "data": {
      "application/vnd.jupyter.widget-view+json": {
       "model_id": "9f46e22ec3fa45b88ee3a17acae6d012",
       "version_major": 2,
       "version_minor": 0
      },
      "text/plain": [
       "  0%|          | 0/689 [00:00<?, ?it/s]"
      ]
     },
     "metadata": {},
     "output_type": "display_data"
    },
    {
     "name": "stdout",
     "output_type": "stream",
     "text": [
      "EPOCH: 0\n",
      "{'Gender GINI': 0.3483659246851487, 'loss': 0.639755522961167}\n",
      "{'Gender GINI': 0.566165925922596, 'loss': 0.5589477614336246}\n"
     ]
    },
    {
     "data": {
      "application/vnd.jupyter.widget-view+json": {
       "model_id": "c738d486edb64a4682037619cfc77591",
       "version_major": 2,
       "version_minor": 0
      },
      "text/plain": [
       "  0%|          | 0/3442 [00:00<?, ?it/s]"
      ]
     },
     "metadata": {},
     "output_type": "display_data"
    },
    {
     "data": {
      "application/vnd.jupyter.widget-view+json": {
       "model_id": "5257d55e7ce84841ab0cc9be6e75e5fa",
       "version_major": 2,
       "version_minor": 0
      },
      "text/plain": [
       "  0%|          | 0/689 [00:00<?, ?it/s]"
      ]
     },
     "metadata": {},
     "output_type": "display_data"
    },
    {
     "name": "stdout",
     "output_type": "stream",
     "text": [
      "EPOCH: 1\n",
      "{'Gender GINI': 0.6155631071206948, 'loss': 0.5335589677779567}\n",
      "{'Gender GINI': 0.6619176329740979, 'loss': 0.5090466761452896}\n"
     ]
    },
    {
     "data": {
      "application/vnd.jupyter.widget-view+json": {
       "model_id": "8b520cda6aa34cc29d85e1f3b86ce5a7",
       "version_major": 2,
       "version_minor": 0
      },
      "text/plain": [
       "  0%|          | 0/3442 [00:00<?, ?it/s]"
      ]
     },
     "metadata": {},
     "output_type": "display_data"
    },
    {
     "data": {
      "application/vnd.jupyter.widget-view+json": {
       "model_id": "fd1842280aa344c19357fdb5dcf49c7b",
       "version_major": 2,
       "version_minor": 0
      },
      "text/plain": [
       "  0%|          | 0/689 [00:00<?, ?it/s]"
      ]
     },
     "metadata": {},
     "output_type": "display_data"
    },
    {
     "name": "stdout",
     "output_type": "stream",
     "text": [
      "EPOCH: 2\n",
      "{'Gender GINI': 0.6793079745059882, 'loss': 0.4945823605403072}\n",
      "{'Gender GINI': 0.6873149817539832, 'loss': 0.49310100739701246}\n"
     ]
    },
    {
     "data": {
      "application/vnd.jupyter.widget-view+json": {
       "model_id": "7364a0069cfa4b7bacb9a6ba217d2eb5",
       "version_major": 2,
       "version_minor": 0
      },
      "text/plain": [
       "  0%|          | 0/3442 [00:00<?, ?it/s]"
      ]
     },
     "metadata": {},
     "output_type": "display_data"
    },
    {
     "data": {
      "application/vnd.jupyter.widget-view+json": {
       "model_id": "cf7c46267cc744709af22f7cc409f50a",
       "version_major": 2,
       "version_minor": 0
      },
      "text/plain": [
       "  0%|          | 0/689 [00:00<?, ?it/s]"
      ]
     },
     "metadata": {},
     "output_type": "display_data"
    },
    {
     "name": "stdout",
     "output_type": "stream",
     "text": [
      "EPOCH: 3\n",
      "{'Gender GINI': 0.7043996915505066, 'loss': 0.4773153259769885}\n",
      "{'Gender GINI': 0.7001047792492687, 'loss': 0.48082434007271346}\n"
     ]
    },
    {
     "data": {
      "application/vnd.jupyter.widget-view+json": {
       "model_id": "3da49716dc6948e5b3b8de97c83aa87b",
       "version_major": 2,
       "version_minor": 0
      },
      "text/plain": [
       "  0%|          | 0/3442 [00:00<?, ?it/s]"
      ]
     },
     "metadata": {},
     "output_type": "display_data"
    },
    {
     "data": {
      "application/vnd.jupyter.widget-view+json": {
       "model_id": "a12134399de549f3bed813473aa54956",
       "version_major": 2,
       "version_minor": 0
      },
      "text/plain": [
       "  0%|          | 0/689 [00:00<?, ?it/s]"
      ]
     },
     "metadata": {},
     "output_type": "display_data"
    },
    {
     "name": "stdout",
     "output_type": "stream",
     "text": [
      "EPOCH: 4\n",
      "{'Gender GINI': 0.7170970935937206, 'loss': 0.4682347631900607}\n",
      "{'Gender GINI': 0.7016220217962328, 'loss': 0.47965629102126894}\n",
      "FOLD 3\n",
      "--------------------------------\n"
     ]
    },
    {
     "data": {
      "application/vnd.jupyter.widget-view+json": {
       "model_id": "71303551a78a4069a5b17abc09d86b64",
       "version_major": 2,
       "version_minor": 0
      },
      "text/plain": [
       "  0%|          | 0/3442 [00:00<?, ?it/s]"
      ]
     },
     "metadata": {},
     "output_type": "display_data"
    },
    {
     "data": {
      "application/vnd.jupyter.widget-view+json": {
       "model_id": "e819667d6b8646c2a6cdbf3487d13b68",
       "version_major": 2,
       "version_minor": 0
      },
      "text/plain": [
       "  0%|          | 0/689 [00:00<?, ?it/s]"
      ]
     },
     "metadata": {},
     "output_type": "display_data"
    },
    {
     "name": "stdout",
     "output_type": "stream",
     "text": [
      "EPOCH: 0\n",
      "{'Gender GINI': 0.37278693554770936, 'loss': 0.6313592717721631}\n",
      "{'Gender GINI': 0.5801072774450937, 'loss': 0.5621048633068246}\n"
     ]
    },
    {
     "data": {
      "application/vnd.jupyter.widget-view+json": {
       "model_id": "387516971f244e73b0a928ecc48a2831",
       "version_major": 2,
       "version_minor": 0
      },
      "text/plain": [
       "  0%|          | 0/3442 [00:00<?, ?it/s]"
      ]
     },
     "metadata": {},
     "output_type": "display_data"
    },
    {
     "data": {
      "application/vnd.jupyter.widget-view+json": {
       "model_id": "a42ed6c9f1d544339cadce3fefe1fff9",
       "version_major": 2,
       "version_minor": 0
      },
      "text/plain": [
       "  0%|          | 0/689 [00:00<?, ?it/s]"
      ]
     },
     "metadata": {},
     "output_type": "display_data"
    }
   ],
   "source": [
    "train_fold_metrics, eval_fold_metrics, embeddings_df, logits_df = trainer.fit_transform(\n",
    "                          dataset=dataset,\n",
    "                          loss_function=nn.CrossEntropyLoss,\n",
    "                          metric_func=metric,\n",
    "                          optimizer=torch.optim.AdamW,\n",
    "                          get_scheduler=get_cosine_schedule_with_warmup,\n",
    "                          strat_array=targets,\n",
    "                          shuffle=True,\n",
    "                          epochs=5,\n",
    "                          lr=1e-3,\n",
    "                          weight_decay=1e-2,\n",
    "                          num_warmup_steps=0,\n",
    "                          batch_size=64,\n",
    "                          random_state=69,\n",
    "                          device= \"cuda\"\n",
    ")"
   ]
  },
  {
   "cell_type": "code",
   "execution_count": null,
   "id": "685caa6a",
   "metadata": {},
   "outputs": [],
   "source": [
    "CV_FEATURES = \"../cv_data/\"\n",
    "MODEL_ZOO = \"../model_zoo/\""
   ]
  },
  {
   "cell_type": "code",
   "execution_count": null,
   "id": "cfa64e3a",
   "metadata": {},
   "outputs": [],
   "source": [
    "trainer.save_model(model_name=trainer.model_name)"
   ]
  },
  {
   "cell_type": "code",
   "execution_count": null,
   "id": "828138d7",
   "metadata": {},
   "outputs": [],
   "source": [
    "embeddings_df.to_parquet(f\"{CV_FEATURES}/is_male_cv_embeddings.parquet.gzip\",\n",
    "                          compression='gzip')\n",
    "logits_df.to_parquet(f\"{CV_FEATURES}/is_male_cv_logits.parquet.gzip\",\n",
    "                          compression='gzip')"
   ]
  }
 ],
 "metadata": {
  "hide_input": false,
  "kernelspec": {
   "display_name": "Python 3 (ipykernel)",
   "language": "python",
   "name": "python3"
  },
  "language_info": {
   "codemirror_mode": {
    "name": "ipython",
    "version": 3
   },
   "file_extension": ".py",
   "mimetype": "text/x-python",
   "name": "python",
   "nbconvert_exporter": "python",
   "pygments_lexer": "ipython3",
   "version": "3.10.6"
  },
  "toc": {
   "base_numbering": 1,
   "nav_menu": {},
   "number_sections": true,
   "sideBar": true,
   "skip_h1_title": false,
   "title_cell": "Table of Contents",
   "title_sidebar": "Contents",
   "toc_cell": false,
   "toc_position": {},
   "toc_section_display": true,
   "toc_window_display": false
  },
  "varInspector": {
   "cols": {
    "lenName": 16,
    "lenType": 16,
    "lenVar": 40
   },
   "kernels_config": {
    "python": {
     "delete_cmd_postfix": "",
     "delete_cmd_prefix": "del ",
     "library": "var_list.py",
     "varRefreshCmd": "print(var_dic_list())"
    },
    "r": {
     "delete_cmd_postfix": ") ",
     "delete_cmd_prefix": "rm(",
     "library": "var_list.r",
     "varRefreshCmd": "cat(var_dic_list()) "
    }
   },
   "types_to_exclude": [
    "module",
    "function",
    "builtin_function_or_method",
    "instance",
    "_Feature"
   ],
   "window_display": false
  }
 },
 "nbformat": 4,
 "nbformat_minor": 5
}
