{
 "cells": [
  {
   "cell_type": "markdown",
   "id": "3c646f0c",
   "metadata": {},
   "source": [
    "# seq2seq"
   ]
  },
  {
   "cell_type": "code",
   "execution_count": 13,
   "id": "88993512",
   "metadata": {},
   "outputs": [],
   "source": [
    "import gc\n",
    "import sys\n",
    "import os\n",
    "import warnings\n",
    "from tqdm import tqdm\n",
    "\n",
    "sys.path.append(os.path.abspath(\"../\"))\n",
    "os.environ['OPENBLAS_NUM_THREADS'] = '1'\n",
    "warnings.filterwarnings('ignore')\n",
    "tqdm.pandas()"
   ]
  },
  {
   "cell_type": "code",
   "execution_count": 14,
   "id": "179dfb36",
   "metadata": {},
   "outputs": [],
   "source": [
    "import pandas as pd\n",
    "import numpy as np\n",
    "import time\n",
    "import polars as pl\n",
    "import scipy\n",
    "import implicit\n",
    "import bisect\n",
    "import sklearn.metrics as m\n",
    "from catboost import CatBoostClassifier, CatBoostRegressor, Pool\n",
    "\n",
    "from sklearn.model_selection import train_test_split\n",
    "from sklearn.calibration import calibration_curve, CalibratedClassifierCV\n",
    "from sklearn.utils.class_weight import compute_class_weight\n",
    "\n",
    "import torch\n",
    "from torch.utils.data import TensorDataset, DataLoader\n",
    "from torch import nn\n",
    "\n",
    "from transformers import get_constant_schedule"
   ]
  },
  {
   "cell_type": "code",
   "execution_count": 15,
   "id": "08884ce0",
   "metadata": {},
   "outputs": [],
   "source": [
    "import importlib\n",
    "\n",
    "import modules\n",
    "import fe_modules\n",
    "import seq2seq_modules\n",
    "\n",
    "importlib.reload(modules)\n",
    "importlib.reload(fe_modules)\n",
    "importlib.reload(seq2seq_modules)\n",
    "\n",
    "from modules.memory_utils import pandas_reduce_mem_usage, pandas_string_to_cat\n",
    "from seq2seq_modules.models import LSTMModel\n",
    "from seq2seq_modules.weight_initialization import weights_init_uniform_rule\n",
    "from seq2seq_modules.loops import cross_validation, single_model_training\n",
    "from seq2seq_modules.utils import age_bucket\n",
    "from seq2seq_modules.metrics import AGE_METRIC\n",
    "from fe_modules.encoders import CatBoostEncoderWrapper"
   ]
  },
  {
   "cell_type": "code",
   "execution_count": 16,
   "id": "eed31e56",
   "metadata": {},
   "outputs": [],
   "source": [
    "def my_reset(*varnames):\n",
    "    \"\"\"\n",
    "    varnames are what you want to keep\n",
    "    \"\"\"\n",
    "    globals_ = globals()\n",
    "    to_save = {v: globals_[v] for v in varnames}\n",
    "    to_save['my_reset'] = my_reset  # lets keep this function by default\n",
    "    del globals_\n",
    "    get_ipython().magic(\"reset\")\n",
    "    globals().update(to_save)"
   ]
  },
  {
   "cell_type": "markdown",
   "id": "47431eb8",
   "metadata": {},
   "source": [
    "## Read and process"
   ]
  },
  {
   "cell_type": "code",
   "execution_count": 23,
   "id": "a17c3983",
   "metadata": {},
   "outputs": [],
   "source": [
    "LOCAL_DATA_PATH = '../data/'\n",
    "SEQ2SEQ_DATA_PATH = '../seq2seq_data/'\n",
    "\n",
    "SPLIT_SEED = 42"
   ]
  },
  {
   "cell_type": "code",
   "execution_count": 6,
   "id": "8bd60063",
   "metadata": {},
   "outputs": [
    {
     "name": "stdout",
     "output_type": "stream",
     "text": [
      "Memory usage of dataframe is 26346.12 MB\n"
     ]
    },
    {
     "data": {
      "application/vnd.jupyter.widget-view+json": {
       "model_id": "4c381e8a56d34081a9f45fc958134ff0",
       "version_major": 2,
       "version_minor": 0
      },
      "text/plain": [
       "  0%|          | 0/30 [00:00<?, ?it/s]"
      ]
     },
     "metadata": {},
     "output_type": "display_data"
    },
    {
     "name": "stdout",
     "output_type": "stream",
     "text": [
      "Memory usage after optimization is: 26346.12 MB\n",
      "Decreased by 0.0%\n"
     ]
    },
    {
     "data": {
      "text/html": [
       "<div>\n",
       "<style scoped>\n",
       "    .dataframe tbody tr th:only-of-type {\n",
       "        vertical-align: middle;\n",
       "    }\n",
       "\n",
       "    .dataframe tbody tr th {\n",
       "        vertical-align: top;\n",
       "    }\n",
       "\n",
       "    .dataframe thead th {\n",
       "        text-align: right;\n",
       "    }\n",
       "</style>\n",
       "<table border=\"1\" class=\"dataframe\">\n",
       "  <thead>\n",
       "    <tr style=\"text-align: right;\">\n",
       "      <th></th>\n",
       "      <th>region_name</th>\n",
       "      <th>city_name</th>\n",
       "      <th>cpe_manufacturer_name</th>\n",
       "      <th>cpe_model_name</th>\n",
       "      <th>url_host</th>\n",
       "      <th>cpe_type_cd</th>\n",
       "      <th>cpe_model_os_type</th>\n",
       "      <th>price</th>\n",
       "      <th>part_of_day</th>\n",
       "      <th>request_cnt</th>\n",
       "      <th>...</th>\n",
       "      <th>timezone</th>\n",
       "      <th>geo_lat</th>\n",
       "      <th>geo_lon</th>\n",
       "      <th>population</th>\n",
       "      <th>dist_to_Moscow</th>\n",
       "      <th>dist_to_SaintP</th>\n",
       "      <th>dist_to_Novosibirsk</th>\n",
       "      <th>dist_to_Ekaterinburg</th>\n",
       "      <th>dist_to_Vladivostok</th>\n",
       "      <th>domain</th>\n",
       "    </tr>\n",
       "  </thead>\n",
       "  <tbody>\n",
       "    <tr>\n",
       "      <th>0</th>\n",
       "      <td>21</td>\n",
       "      <td>409</td>\n",
       "      <td>1</td>\n",
       "      <td>589</td>\n",
       "      <td>5788</td>\n",
       "      <td>2</td>\n",
       "      <td>1</td>\n",
       "      <td>20368.0</td>\n",
       "      <td>2</td>\n",
       "      <td>1</td>\n",
       "      <td>...</td>\n",
       "      <td>3</td>\n",
       "      <td>45.040161</td>\n",
       "      <td>38.975964</td>\n",
       "      <td>744933</td>\n",
       "      <td>1195.817871</td>\n",
       "      <td>1755.62085</td>\n",
       "      <td>3275.137451</td>\n",
       "      <td>1992.558472</td>\n",
       "      <td>6999.525391</td>\n",
       "      <td>761</td>\n",
       "    </tr>\n",
       "    <tr>\n",
       "      <th>1</th>\n",
       "      <td>21</td>\n",
       "      <td>409</td>\n",
       "      <td>1</td>\n",
       "      <td>589</td>\n",
       "      <td>12900</td>\n",
       "      <td>2</td>\n",
       "      <td>1</td>\n",
       "      <td>20368.0</td>\n",
       "      <td>2</td>\n",
       "      <td>1</td>\n",
       "      <td>...</td>\n",
       "      <td>3</td>\n",
       "      <td>45.040161</td>\n",
       "      <td>38.975964</td>\n",
       "      <td>744933</td>\n",
       "      <td>1195.817871</td>\n",
       "      <td>1755.62085</td>\n",
       "      <td>3275.137451</td>\n",
       "      <td>1992.558472</td>\n",
       "      <td>6999.525391</td>\n",
       "      <td>549</td>\n",
       "    </tr>\n",
       "    <tr>\n",
       "      <th>2</th>\n",
       "      <td>21</td>\n",
       "      <td>409</td>\n",
       "      <td>1</td>\n",
       "      <td>589</td>\n",
       "      <td>17626</td>\n",
       "      <td>2</td>\n",
       "      <td>1</td>\n",
       "      <td>20368.0</td>\n",
       "      <td>0</td>\n",
       "      <td>1</td>\n",
       "      <td>...</td>\n",
       "      <td>3</td>\n",
       "      <td>45.040161</td>\n",
       "      <td>38.975964</td>\n",
       "      <td>744933</td>\n",
       "      <td>1195.817871</td>\n",
       "      <td>1755.62085</td>\n",
       "      <td>3275.137451</td>\n",
       "      <td>1992.558472</td>\n",
       "      <td>6999.525391</td>\n",
       "      <td>712</td>\n",
       "    </tr>\n",
       "    <tr>\n",
       "      <th>3</th>\n",
       "      <td>21</td>\n",
       "      <td>409</td>\n",
       "      <td>1</td>\n",
       "      <td>589</td>\n",
       "      <td>59366</td>\n",
       "      <td>2</td>\n",
       "      <td>1</td>\n",
       "      <td>20368.0</td>\n",
       "      <td>0</td>\n",
       "      <td>1</td>\n",
       "      <td>...</td>\n",
       "      <td>3</td>\n",
       "      <td>45.040161</td>\n",
       "      <td>38.975964</td>\n",
       "      <td>744933</td>\n",
       "      <td>1195.817871</td>\n",
       "      <td>1755.62085</td>\n",
       "      <td>3275.137451</td>\n",
       "      <td>1992.558472</td>\n",
       "      <td>6999.525391</td>\n",
       "      <td>712</td>\n",
       "    </tr>\n",
       "    <tr>\n",
       "      <th>4</th>\n",
       "      <td>21</td>\n",
       "      <td>409</td>\n",
       "      <td>1</td>\n",
       "      <td>589</td>\n",
       "      <td>59366</td>\n",
       "      <td>2</td>\n",
       "      <td>1</td>\n",
       "      <td>20368.0</td>\n",
       "      <td>0</td>\n",
       "      <td>1</td>\n",
       "      <td>...</td>\n",
       "      <td>3</td>\n",
       "      <td>45.040161</td>\n",
       "      <td>38.975964</td>\n",
       "      <td>744933</td>\n",
       "      <td>1195.817871</td>\n",
       "      <td>1755.62085</td>\n",
       "      <td>3275.137451</td>\n",
       "      <td>1992.558472</td>\n",
       "      <td>6999.525391</td>\n",
       "      <td>712</td>\n",
       "    </tr>\n",
       "  </tbody>\n",
       "</table>\n",
       "<p>5 rows × 30 columns</p>\n",
       "</div>"
      ],
      "text/plain": [
       "   region_name  city_name  cpe_manufacturer_name  cpe_model_name  url_host  \\\n",
       "0           21        409                      1             589      5788   \n",
       "1           21        409                      1             589     12900   \n",
       "2           21        409                      1             589     17626   \n",
       "3           21        409                      1             589     59366   \n",
       "4           21        409                      1             589     59366   \n",
       "\n",
       "   cpe_type_cd  cpe_model_os_type    price  part_of_day  request_cnt  ...  \\\n",
       "0            2                  1  20368.0            2            1  ...   \n",
       "1            2                  1  20368.0            2            1  ...   \n",
       "2            2                  1  20368.0            0            1  ...   \n",
       "3            2                  1  20368.0            0            1  ...   \n",
       "4            2                  1  20368.0            0            1  ...   \n",
       "\n",
       "   timezone    geo_lat    geo_lon  population  dist_to_Moscow  dist_to_SaintP  \\\n",
       "0         3  45.040161  38.975964      744933     1195.817871      1755.62085   \n",
       "1         3  45.040161  38.975964      744933     1195.817871      1755.62085   \n",
       "2         3  45.040161  38.975964      744933     1195.817871      1755.62085   \n",
       "3         3  45.040161  38.975964      744933     1195.817871      1755.62085   \n",
       "4         3  45.040161  38.975964      744933     1195.817871      1755.62085   \n",
       "\n",
       "   dist_to_Novosibirsk  dist_to_Ekaterinburg  dist_to_Vladivostok  domain  \n",
       "0          3275.137451           1992.558472          6999.525391     761  \n",
       "1          3275.137451           1992.558472          6999.525391     549  \n",
       "2          3275.137451           1992.558472          6999.525391     712  \n",
       "3          3275.137451           1992.558472          6999.525391     712  \n",
       "4          3275.137451           1992.558472          6999.525391     712  \n",
       "\n",
       "[5 rows x 30 columns]"
      ]
     },
     "execution_count": 6,
     "metadata": {},
     "output_type": "execute_result"
    }
   ],
   "source": [
    "df = pandas_reduce_mem_usage(\n",
    "    pd.read_parquet(f\"{SEQ2SEQ_DATA_PATH}/stages/stage_2.parquet.gzip\")\n",
    ")\n",
    "df.head()"
   ]
  },
  {
   "cell_type": "code",
   "execution_count": 7,
   "id": "f2908bf7",
   "metadata": {
    "scrolled": true
   },
   "outputs": [
    {
     "name": "stdout",
     "output_type": "stream",
     "text": [
      "Memory usage of dataframe is 5.04 MB\n"
     ]
    },
    {
     "data": {
      "application/vnd.jupyter.widget-view+json": {
       "model_id": "506756cee0474f488291dc36df914717",
       "version_major": 2,
       "version_minor": 0
      },
      "text/plain": [
       "  0%|          | 0/2 [00:00<?, ?it/s]"
      ]
     },
     "metadata": {},
     "output_type": "display_data"
    },
    {
     "name": "stdout",
     "output_type": "stream",
     "text": [
      "Memory usage after optimization is: 3.28 MB\n",
      "Decreased by 35.0%\n"
     ]
    },
    {
     "data": {
      "text/html": [
       "<div>\n",
       "<style scoped>\n",
       "    .dataframe tbody tr th:only-of-type {\n",
       "        vertical-align: middle;\n",
       "    }\n",
       "\n",
       "    .dataframe tbody tr th {\n",
       "        vertical-align: top;\n",
       "    }\n",
       "\n",
       "    .dataframe thead th {\n",
       "        text-align: right;\n",
       "    }\n",
       "</style>\n",
       "<table border=\"1\" class=\"dataframe\">\n",
       "  <thead>\n",
       "    <tr style=\"text-align: right;\">\n",
       "      <th></th>\n",
       "      <th>user_id</th>\n",
       "      <th>is_male</th>\n",
       "    </tr>\n",
       "  </thead>\n",
       "  <tbody>\n",
       "    <tr>\n",
       "      <th>350459</th>\n",
       "      <td>350459</td>\n",
       "      <td>1</td>\n",
       "    </tr>\n",
       "    <tr>\n",
       "      <th>188276</th>\n",
       "      <td>188276</td>\n",
       "      <td>1</td>\n",
       "    </tr>\n",
       "    <tr>\n",
       "      <th>99002</th>\n",
       "      <td>99002</td>\n",
       "      <td>0</td>\n",
       "    </tr>\n",
       "    <tr>\n",
       "      <th>155506</th>\n",
       "      <td>155506</td>\n",
       "      <td>0</td>\n",
       "    </tr>\n",
       "    <tr>\n",
       "      <th>213873</th>\n",
       "      <td>213873</td>\n",
       "      <td>0</td>\n",
       "    </tr>\n",
       "  </tbody>\n",
       "</table>\n",
       "</div>"
      ],
      "text/plain": [
       "        user_id  is_male\n",
       "350459   350459        1\n",
       "188276   188276        1\n",
       "99002     99002        0\n",
       "155506   155506        0\n",
       "213873   213873        0"
      ]
     },
     "execution_count": 7,
     "metadata": {},
     "output_type": "execute_result"
    }
   ],
   "source": [
    "target = pd.read_parquet(\n",
    "             f'{LOCAL_DATA_PATH}public_train.pqt', columns=[\"user_id\", \"is_male\"]\n",
    "         ).dropna()\n",
    "target = target[target[\"is_male\"] != \"NA\"]\n",
    "target[\"is_male\"] = target[\"is_male\"].astype(np.int32)\n",
    "target = pandas_reduce_mem_usage(target)\n",
    "\n",
    "target.head()"
   ]
  },
  {
   "cell_type": "code",
   "execution_count": 8,
   "id": "a348681b",
   "metadata": {},
   "outputs": [
    {
     "name": "stdout",
     "output_type": "stream",
     "text": [
      "Memory usage of dataframe is 17680.39 MB\n"
     ]
    },
    {
     "data": {
      "application/vnd.jupyter.widget-view+json": {
       "model_id": "a47df49a7b594ed988d7713f2f7cb23b",
       "version_major": 2,
       "version_minor": 0
      },
      "text/plain": [
       "  0%|          | 0/31 [00:00<?, ?it/s]"
      ]
     },
     "metadata": {},
     "output_type": "display_data"
    },
    {
     "name": "stdout",
     "output_type": "stream",
     "text": [
      "Memory usage after optimization is: 17077.65 MB\n",
      "Decreased by 3.4%\n"
     ]
    },
    {
     "data": {
      "text/html": [
       "<div>\n",
       "<style scoped>\n",
       "    .dataframe tbody tr th:only-of-type {\n",
       "        vertical-align: middle;\n",
       "    }\n",
       "\n",
       "    .dataframe tbody tr th {\n",
       "        vertical-align: top;\n",
       "    }\n",
       "\n",
       "    .dataframe thead th {\n",
       "        text-align: right;\n",
       "    }\n",
       "</style>\n",
       "<table border=\"1\" class=\"dataframe\">\n",
       "  <thead>\n",
       "    <tr style=\"text-align: right;\">\n",
       "      <th></th>\n",
       "      <th>region_name</th>\n",
       "      <th>city_name</th>\n",
       "      <th>cpe_manufacturer_name</th>\n",
       "      <th>cpe_model_name</th>\n",
       "      <th>url_host</th>\n",
       "      <th>cpe_type_cd</th>\n",
       "      <th>cpe_model_os_type</th>\n",
       "      <th>price</th>\n",
       "      <th>part_of_day</th>\n",
       "      <th>request_cnt</th>\n",
       "      <th>...</th>\n",
       "      <th>geo_lat</th>\n",
       "      <th>geo_lon</th>\n",
       "      <th>population</th>\n",
       "      <th>dist_to_Moscow</th>\n",
       "      <th>dist_to_SaintP</th>\n",
       "      <th>dist_to_Novosibirsk</th>\n",
       "      <th>dist_to_Ekaterinburg</th>\n",
       "      <th>dist_to_Vladivostok</th>\n",
       "      <th>domain</th>\n",
       "      <th>is_male</th>\n",
       "    </tr>\n",
       "  </thead>\n",
       "  <tbody>\n",
       "    <tr>\n",
       "      <th>2272</th>\n",
       "      <td>60</td>\n",
       "      <td>732</td>\n",
       "      <td>27</td>\n",
       "      <td>211</td>\n",
       "      <td>5790</td>\n",
       "      <td>2</td>\n",
       "      <td>0</td>\n",
       "      <td>74259.0</td>\n",
       "      <td>3</td>\n",
       "      <td>1</td>\n",
       "      <td>...</td>\n",
       "      <td>59.939133</td>\n",
       "      <td>30.315901</td>\n",
       "      <td>4848742</td>\n",
       "      <td>635.758972</td>\n",
       "      <td>0.024454</td>\n",
       "      <td>3115.404541</td>\n",
       "      <td>1787.926147</td>\n",
       "      <td>6555.964355</td>\n",
       "      <td>761</td>\n",
       "      <td>1</td>\n",
       "    </tr>\n",
       "    <tr>\n",
       "      <th>2273</th>\n",
       "      <td>60</td>\n",
       "      <td>732</td>\n",
       "      <td>27</td>\n",
       "      <td>211</td>\n",
       "      <td>65865</td>\n",
       "      <td>2</td>\n",
       "      <td>0</td>\n",
       "      <td>74259.0</td>\n",
       "      <td>0</td>\n",
       "      <td>3</td>\n",
       "      <td>...</td>\n",
       "      <td>59.939133</td>\n",
       "      <td>30.315901</td>\n",
       "      <td>4848742</td>\n",
       "      <td>635.758972</td>\n",
       "      <td>0.024454</td>\n",
       "      <td>3115.404541</td>\n",
       "      <td>1787.926147</td>\n",
       "      <td>6555.964355</td>\n",
       "      <td>549</td>\n",
       "      <td>1</td>\n",
       "    </tr>\n",
       "    <tr>\n",
       "      <th>2274</th>\n",
       "      <td>60</td>\n",
       "      <td>732</td>\n",
       "      <td>27</td>\n",
       "      <td>211</td>\n",
       "      <td>111474</td>\n",
       "      <td>2</td>\n",
       "      <td>0</td>\n",
       "      <td>74259.0</td>\n",
       "      <td>0</td>\n",
       "      <td>3</td>\n",
       "      <td>...</td>\n",
       "      <td>59.939133</td>\n",
       "      <td>30.315901</td>\n",
       "      <td>4848742</td>\n",
       "      <td>635.758972</td>\n",
       "      <td>0.024454</td>\n",
       "      <td>3115.404541</td>\n",
       "      <td>1787.926147</td>\n",
       "      <td>6555.964355</td>\n",
       "      <td>761</td>\n",
       "      <td>1</td>\n",
       "    </tr>\n",
       "    <tr>\n",
       "      <th>2275</th>\n",
       "      <td>14</td>\n",
       "      <td>311</td>\n",
       "      <td>27</td>\n",
       "      <td>211</td>\n",
       "      <td>111474</td>\n",
       "      <td>2</td>\n",
       "      <td>0</td>\n",
       "      <td>74259.0</td>\n",
       "      <td>1</td>\n",
       "      <td>2</td>\n",
       "      <td>...</td>\n",
       "      <td>54.707470</td>\n",
       "      <td>20.507324</td>\n",
       "      <td>431491</td>\n",
       "      <td>1092.055054</td>\n",
       "      <td>828.233154</td>\n",
       "      <td>3870.873535</td>\n",
       "      <td>2490.750244</td>\n",
       "      <td>7378.328613</td>\n",
       "      <td>761</td>\n",
       "      <td>1</td>\n",
       "    </tr>\n",
       "    <tr>\n",
       "      <th>2276</th>\n",
       "      <td>60</td>\n",
       "      <td>732</td>\n",
       "      <td>27</td>\n",
       "      <td>211</td>\n",
       "      <td>125409</td>\n",
       "      <td>2</td>\n",
       "      <td>0</td>\n",
       "      <td>74259.0</td>\n",
       "      <td>0</td>\n",
       "      <td>1</td>\n",
       "      <td>...</td>\n",
       "      <td>59.939133</td>\n",
       "      <td>30.315901</td>\n",
       "      <td>4848742</td>\n",
       "      <td>635.758972</td>\n",
       "      <td>0.024454</td>\n",
       "      <td>3115.404541</td>\n",
       "      <td>1787.926147</td>\n",
       "      <td>6555.964355</td>\n",
       "      <td>549</td>\n",
       "      <td>1</td>\n",
       "    </tr>\n",
       "  </tbody>\n",
       "</table>\n",
       "<p>5 rows × 31 columns</p>\n",
       "</div>"
      ],
      "text/plain": [
       "      region_name  city_name  cpe_manufacturer_name  cpe_model_name  url_host  \\\n",
       "2272           60        732                     27             211      5790   \n",
       "2273           60        732                     27             211     65865   \n",
       "2274           60        732                     27             211    111474   \n",
       "2275           14        311                     27             211    111474   \n",
       "2276           60        732                     27             211    125409   \n",
       "\n",
       "      cpe_type_cd  cpe_model_os_type    price  part_of_day  request_cnt  ...  \\\n",
       "2272            2                  0  74259.0            3            1  ...   \n",
       "2273            2                  0  74259.0            0            3  ...   \n",
       "2274            2                  0  74259.0            0            3  ...   \n",
       "2275            2                  0  74259.0            1            2  ...   \n",
       "2276            2                  0  74259.0            0            1  ...   \n",
       "\n",
       "        geo_lat    geo_lon  population  dist_to_Moscow  dist_to_SaintP  \\\n",
       "2272  59.939133  30.315901     4848742      635.758972        0.024454   \n",
       "2273  59.939133  30.315901     4848742      635.758972        0.024454   \n",
       "2274  59.939133  30.315901     4848742      635.758972        0.024454   \n",
       "2275  54.707470  20.507324      431491     1092.055054      828.233154   \n",
       "2276  59.939133  30.315901     4848742      635.758972        0.024454   \n",
       "\n",
       "      dist_to_Novosibirsk  dist_to_Ekaterinburg  dist_to_Vladivostok  domain  \\\n",
       "2272          3115.404541           1787.926147          6555.964355     761   \n",
       "2273          3115.404541           1787.926147          6555.964355     549   \n",
       "2274          3115.404541           1787.926147          6555.964355     761   \n",
       "2275          3870.873535           2490.750244          7378.328613     761   \n",
       "2276          3115.404541           1787.926147          6555.964355     549   \n",
       "\n",
       "      is_male  \n",
       "2272        1  \n",
       "2273        1  \n",
       "2274        1  \n",
       "2275        1  \n",
       "2276        1  \n",
       "\n",
       "[5 rows x 31 columns]"
      ]
     },
     "execution_count": 8,
     "metadata": {},
     "output_type": "execute_result"
    }
   ],
   "source": [
    "df = df.merge(target, how=\"left\", on=\"user_id\").dropna(subset=[\"is_male\"])\n",
    "df[\"is_male\"] = df[\"is_male\"].astype(np.int32)\n",
    "df = pandas_reduce_mem_usage(df)\n",
    "df.head()"
   ]
  },
  {
   "cell_type": "markdown",
   "id": "5c24f8ef",
   "metadata": {},
   "source": [
    "## CatBoostEncoder"
   ]
  },
  {
   "cell_type": "code",
   "execution_count": 11,
   "id": "9f971f14",
   "metadata": {},
   "outputs": [
    {
     "name": "stdout",
     "output_type": "stream",
     "text": [
      "Once deleted, variables cannot be recovered. Proceed (y/[n])? y\n"
     ]
    }
   ],
   "source": [
    "my_reset(\"df\")"
   ]
  },
  {
   "cell_type": "code",
   "execution_count": 17,
   "id": "add7c5b5",
   "metadata": {},
   "outputs": [],
   "source": [
    "ids = [\"user_id\"]\n",
    "\n",
    "cat_features = [\n",
    "    \"region_name\",\n",
    "    \"city_name\",\n",
    "    \"cpe_manufacturer_name\",\n",
    "    \"cpe_model_name\",\n",
    "    \"url_host\",\n",
    "    \"cpe_type_cd\",\n",
    "    \"cpe_model_os_type\",\n",
    "    \"part_of_day\",\n",
    "    \"domain\",\n",
    "    \"capital_marker\"\n",
    "]\n",
    "\n",
    "continous_features = [\n",
    "    \"request_cnt\",\n",
    "    \"price\",\n",
    "    \"timestamp\",\n",
    "    \"relative_timestamp\",\n",
    "    \"geo_lat\",\n",
    "    \"geo_lon\",\n",
    "    \"population\",\n",
    "    \"timezone\",\n",
    "    \"dist_to_Moscow\",\n",
    "    \"dist_to_SaintP\",\n",
    "    \"dist_to_Novosibirsk\",\n",
    "    \"dist_to_Ekaterinburg\",\n",
    "    \"dist_to_Vladivostok\",\n",
    "]"
   ]
  },
  {
   "cell_type": "code",
   "execution_count": 18,
   "id": "064e3510",
   "metadata": {},
   "outputs": [],
   "source": [
    "cbe = CatBoostEncoderWrapper(cat_features=cat_features, sort_col=\"timestamp\")"
   ]
  },
  {
   "cell_type": "code",
   "execution_count": 19,
   "id": "52842669",
   "metadata": {},
   "outputs": [],
   "source": [
    "df = cbe.fit_transform(df, target_col=\"is_male\")"
   ]
  },
  {
   "cell_type": "code",
   "execution_count": 20,
   "id": "606687b3",
   "metadata": {},
   "outputs": [
    {
     "data": {
      "text/html": [
       "<div>\n",
       "<style scoped>\n",
       "    .dataframe tbody tr th:only-of-type {\n",
       "        vertical-align: middle;\n",
       "    }\n",
       "\n",
       "    .dataframe tbody tr th {\n",
       "        vertical-align: top;\n",
       "    }\n",
       "\n",
       "    .dataframe thead th {\n",
       "        text-align: right;\n",
       "    }\n",
       "</style>\n",
       "<table border=\"1\" class=\"dataframe\">\n",
       "  <thead>\n",
       "    <tr style=\"text-align: right;\">\n",
       "      <th></th>\n",
       "      <th>region_name</th>\n",
       "      <th>city_name</th>\n",
       "      <th>cpe_manufacturer_name</th>\n",
       "      <th>cpe_model_name</th>\n",
       "      <th>url_host</th>\n",
       "      <th>cpe_type_cd</th>\n",
       "      <th>cpe_model_os_type</th>\n",
       "      <th>price</th>\n",
       "      <th>part_of_day</th>\n",
       "      <th>request_cnt</th>\n",
       "      <th>...</th>\n",
       "      <th>geo_lat</th>\n",
       "      <th>geo_lon</th>\n",
       "      <th>population</th>\n",
       "      <th>dist_to_Moscow</th>\n",
       "      <th>dist_to_SaintP</th>\n",
       "      <th>dist_to_Novosibirsk</th>\n",
       "      <th>dist_to_Ekaterinburg</th>\n",
       "      <th>dist_to_Vladivostok</th>\n",
       "      <th>domain</th>\n",
       "      <th>is_male</th>\n",
       "    </tr>\n",
       "  </thead>\n",
       "  <tbody>\n",
       "    <tr>\n",
       "      <th>31997270</th>\n",
       "      <td>0.579374</td>\n",
       "      <td>0.579374</td>\n",
       "      <td>0.497506</td>\n",
       "      <td>0.432235</td>\n",
       "      <td>0.552377</td>\n",
       "      <td>0.520281</td>\n",
       "      <td>0.497506</td>\n",
       "      <td>62682.0</td>\n",
       "      <td>0.558678</td>\n",
       "      <td>1</td>\n",
       "      <td>...</td>\n",
       "      <td>55.754047</td>\n",
       "      <td>37.620403</td>\n",
       "      <td>11514330</td>\n",
       "      <td>0.264119</td>\n",
       "      <td>636.019714</td>\n",
       "      <td>2820.210938</td>\n",
       "      <td>1420.975342</td>\n",
       "      <td>6433.896484</td>\n",
       "      <td>0.516162</td>\n",
       "      <td>0</td>\n",
       "    </tr>\n",
       "    <tr>\n",
       "      <th>81207635</th>\n",
       "      <td>0.498263</td>\n",
       "      <td>0.509906</td>\n",
       "      <td>0.497506</td>\n",
       "      <td>0.503072</td>\n",
       "      <td>0.357407</td>\n",
       "      <td>0.520281</td>\n",
       "      <td>0.497506</td>\n",
       "      <td>46582.0</td>\n",
       "      <td>0.558678</td>\n",
       "      <td>1</td>\n",
       "      <td>...</td>\n",
       "      <td>58.010258</td>\n",
       "      <td>56.234203</td>\n",
       "      <td>1000679</td>\n",
       "      <td>1158.343140</td>\n",
       "      <td>1496.257812</td>\n",
       "      <td>1664.177246</td>\n",
       "      <td>292.776245</td>\n",
       "      <td>5297.291504</td>\n",
       "      <td>0.520648</td>\n",
       "      <td>1</td>\n",
       "    </tr>\n",
       "    <tr>\n",
       "      <th>146145825</th>\n",
       "      <td>0.498263</td>\n",
       "      <td>0.464282</td>\n",
       "      <td>0.497506</td>\n",
       "      <td>0.503072</td>\n",
       "      <td>0.518750</td>\n",
       "      <td>0.520281</td>\n",
       "      <td>0.497506</td>\n",
       "      <td>50924.0</td>\n",
       "      <td>0.558678</td>\n",
       "      <td>1</td>\n",
       "      <td>...</td>\n",
       "      <td>59.407993</td>\n",
       "      <td>56.803944</td>\n",
       "      <td>156350</td>\n",
       "      <td>1212.513672</td>\n",
       "      <td>1483.777954</td>\n",
       "      <td>1639.137207</td>\n",
       "      <td>363.076721</td>\n",
       "      <td>5223.483398</td>\n",
       "      <td>0.516162</td>\n",
       "      <td>0</td>\n",
       "    </tr>\n",
       "    <tr>\n",
       "      <th>135108815</th>\n",
       "      <td>0.486671</td>\n",
       "      <td>0.501678</td>\n",
       "      <td>0.497506</td>\n",
       "      <td>0.544257</td>\n",
       "      <td>0.918161</td>\n",
       "      <td>0.520281</td>\n",
       "      <td>0.497506</td>\n",
       "      <td>26516.0</td>\n",
       "      <td>0.558678</td>\n",
       "      <td>1</td>\n",
       "      <td>...</td>\n",
       "      <td>51.533558</td>\n",
       "      <td>46.034256</td>\n",
       "      <td>836900</td>\n",
       "      <td>727.582153</td>\n",
       "      <td>1354.061401</td>\n",
       "      <td>2461.177979</td>\n",
       "      <td>1115.767944</td>\n",
       "      <td>6176.562012</td>\n",
       "      <td>0.520648</td>\n",
       "      <td>1</td>\n",
       "    </tr>\n",
       "    <tr>\n",
       "      <th>81208091</th>\n",
       "      <td>0.498263</td>\n",
       "      <td>0.509906</td>\n",
       "      <td>0.497506</td>\n",
       "      <td>0.503072</td>\n",
       "      <td>0.172348</td>\n",
       "      <td>0.520281</td>\n",
       "      <td>0.497506</td>\n",
       "      <td>46582.0</td>\n",
       "      <td>0.558678</td>\n",
       "      <td>1</td>\n",
       "      <td>...</td>\n",
       "      <td>58.010258</td>\n",
       "      <td>56.234203</td>\n",
       "      <td>1000679</td>\n",
       "      <td>1158.343140</td>\n",
       "      <td>1496.257812</td>\n",
       "      <td>1664.177246</td>\n",
       "      <td>292.776245</td>\n",
       "      <td>5297.291504</td>\n",
       "      <td>0.520648</td>\n",
       "      <td>1</td>\n",
       "    </tr>\n",
       "  </tbody>\n",
       "</table>\n",
       "<p>5 rows × 31 columns</p>\n",
       "</div>"
      ],
      "text/plain": [
       "           region_name  city_name  cpe_manufacturer_name  cpe_model_name  \\\n",
       "31997270      0.579374   0.579374               0.497506        0.432235   \n",
       "81207635      0.498263   0.509906               0.497506        0.503072   \n",
       "146145825     0.498263   0.464282               0.497506        0.503072   \n",
       "135108815     0.486671   0.501678               0.497506        0.544257   \n",
       "81208091      0.498263   0.509906               0.497506        0.503072   \n",
       "\n",
       "           url_host  cpe_type_cd  cpe_model_os_type    price  part_of_day  \\\n",
       "31997270   0.552377     0.520281           0.497506  62682.0     0.558678   \n",
       "81207635   0.357407     0.520281           0.497506  46582.0     0.558678   \n",
       "146145825  0.518750     0.520281           0.497506  50924.0     0.558678   \n",
       "135108815  0.918161     0.520281           0.497506  26516.0     0.558678   \n",
       "81208091   0.172348     0.520281           0.497506  46582.0     0.558678   \n",
       "\n",
       "           request_cnt  ...    geo_lat    geo_lon  population  dist_to_Moscow  \\\n",
       "31997270             1  ...  55.754047  37.620403    11514330        0.264119   \n",
       "81207635             1  ...  58.010258  56.234203     1000679     1158.343140   \n",
       "146145825            1  ...  59.407993  56.803944      156350     1212.513672   \n",
       "135108815            1  ...  51.533558  46.034256      836900      727.582153   \n",
       "81208091             1  ...  58.010258  56.234203     1000679     1158.343140   \n",
       "\n",
       "           dist_to_SaintP  dist_to_Novosibirsk  dist_to_Ekaterinburg  \\\n",
       "31997270       636.019714          2820.210938           1420.975342   \n",
       "81207635      1496.257812          1664.177246            292.776245   \n",
       "146145825     1483.777954          1639.137207            363.076721   \n",
       "135108815     1354.061401          2461.177979           1115.767944   \n",
       "81208091      1496.257812          1664.177246            292.776245   \n",
       "\n",
       "           dist_to_Vladivostok    domain  is_male  \n",
       "31997270           6433.896484  0.516162        0  \n",
       "81207635           5297.291504  0.520648        1  \n",
       "146145825          5223.483398  0.516162        0  \n",
       "135108815          6176.562012  0.520648        1  \n",
       "81208091           5297.291504  0.520648        1  \n",
       "\n",
       "[5 rows x 31 columns]"
      ]
     },
     "execution_count": 20,
     "metadata": {},
     "output_type": "execute_result"
    }
   ],
   "source": [
    "df.head()"
   ]
  },
  {
   "cell_type": "code",
   "execution_count": 21,
   "id": "68d1e711",
   "metadata": {},
   "outputs": [],
   "source": [
    "cbe.save(\"../model_zoo\", \"is_male_cbe\")"
   ]
  },
  {
   "cell_type": "code",
   "execution_count": 24,
   "id": "9ed6ad3b",
   "metadata": {},
   "outputs": [],
   "source": [
    "df.to_parquet(f\"{SEQ2SEQ_DATA_PATH}/version_5_is_male.parquet.gzip\",\n",
    "              compression='gzip')"
   ]
  },
  {
   "cell_type": "markdown",
   "id": "019dc87e",
   "metadata": {},
   "source": [
    "## Make torch Dataset"
   ]
  },
  {
   "cell_type": "code",
   "execution_count": 1,
   "id": "a9a9b4b8",
   "metadata": {},
   "outputs": [],
   "source": [
    "import gc\n",
    "import sys\n",
    "import os\n",
    "import warnings\n",
    "from tqdm import tqdm\n",
    "\n",
    "sys.path.append(os.path.abspath(\"../\"))\n",
    "os.environ['OPENBLAS_NUM_THREADS'] = '1'\n",
    "warnings.filterwarnings('ignore')\n",
    "tqdm.pandas()"
   ]
  },
  {
   "cell_type": "code",
   "execution_count": 2,
   "id": "1be69dfc",
   "metadata": {},
   "outputs": [],
   "source": [
    "import pandas as pd\n",
    "import numpy as np\n",
    "import time\n",
    "import polars as pl\n",
    "import scipy\n",
    "import implicit\n",
    "import bisect\n",
    "import sklearn.metrics as m\n",
    "from catboost import CatBoostClassifier, CatBoostRegressor, Pool\n",
    "\n",
    "from sklearn.model_selection import train_test_split\n",
    "from sklearn.calibration import calibration_curve, CalibratedClassifierCV\n",
    "from sklearn.utils.class_weight import compute_class_weight\n",
    "\n",
    "import torch\n",
    "from torch.utils.data import TensorDataset, DataLoader\n",
    "from torch import nn\n",
    "\n",
    "from torch.optim.lr_scheduler import ReduceLROnPlateau\n",
    "from transformers import get_constant_schedule, get_cosine_schedule_with_warmup"
   ]
  },
  {
   "cell_type": "code",
   "execution_count": 3,
   "id": "5b1b7d8a",
   "metadata": {},
   "outputs": [],
   "source": [
    "import importlib\n",
    "\n",
    "import modules\n",
    "import fe_modules\n",
    "import seq2seq_modules\n",
    "\n",
    "importlib.reload(modules)\n",
    "importlib.reload(fe_modules)\n",
    "importlib.reload(seq2seq_modules)\n",
    "\n",
    "from modules.memory_utils import pandas_reduce_mem_usage, pandas_string_to_cat\n",
    "from seq2seq_modules.data import TargetDataset\n",
    "from seq2seq_modules.models import LSTMModel, StarterBERTModel, AttentionPoolingBERTModel\n",
    "from seq2seq_modules.weight_initialization import weights_init_uniform_rule, weights_init_xavier\n",
    "from seq2seq_modules.loops import cross_validation, single_model_training\n",
    "from seq2seq_modules.trainer import CVTrainer\n",
    "from seq2seq_modules.utils import age_bucket\n",
    "from seq2seq_modules.metrics import GENDER_METRIC\n",
    "from seq2seq_modules.utils import fix_random_state"
   ]
  },
  {
   "cell_type": "code",
   "execution_count": 4,
   "id": "2de54692",
   "metadata": {},
   "outputs": [],
   "source": [
    "def my_reset(*varnames):\n",
    "    \"\"\"\n",
    "    varnames are what you want to keep\n",
    "    \"\"\"\n",
    "    globals_ = globals()\n",
    "    to_save = {v: globals_[v] for v in varnames}\n",
    "    to_save['my_reset'] = my_reset  # lets keep this function by default\n",
    "    del globals_\n",
    "    get_ipython().magic(\"reset\")\n",
    "    globals().update(to_save)"
   ]
  },
  {
   "cell_type": "code",
   "execution_count": 5,
   "id": "3decfe44",
   "metadata": {},
   "outputs": [],
   "source": [
    "LOCAL_DATA_PATH = '../seq2seq_data/'\n",
    "SEED = 42\n",
    "fix_random_state(SEED)"
   ]
  },
  {
   "cell_type": "code",
   "execution_count": 6,
   "id": "71987699",
   "metadata": {},
   "outputs": [],
   "source": [
    "ids = [\"user_id\"]\n",
    "\n",
    "cat_features = [\n",
    "    \"region_name\",\n",
    "    \"city_name\",\n",
    "    \"cpe_manufacturer_name\",\n",
    "    \"cpe_model_name\",\n",
    "    \"url_host\",\n",
    "    \"cpe_type_cd\",\n",
    "    \"cpe_model_os_type\",\n",
    "    \"part_of_day\",\n",
    "    \"domain\",\n",
    "    \"capital_marker\"\n",
    "]\n",
    "\n",
    "continous_features = [\n",
    "    \"request_cnt\",\n",
    "    \"price\",\n",
    "    \"timestamp\",\n",
    "    \"relative_timestamp\",\n",
    "    \"geo_lat\",\n",
    "    \"geo_lon\",\n",
    "    \"population\",\n",
    "    \"timezone\",\n",
    "    \"dist_to_Moscow\",\n",
    "    \"dist_to_SaintP\",\n",
    "    \"dist_to_Novosibirsk\",\n",
    "    \"dist_to_Ekaterinburg\",\n",
    "    \"dist_to_Vladivostok\",\n",
    "]"
   ]
  },
  {
   "cell_type": "code",
   "execution_count": 7,
   "id": "15aef6c1",
   "metadata": {
    "scrolled": true
   },
   "outputs": [
    {
     "name": "stdout",
     "output_type": "stream",
     "text": [
      "Memory usage of dataframe is 29184.38 MB\n"
     ]
    },
    {
     "data": {
      "application/vnd.jupyter.widget-view+json": {
       "model_id": "dbdeeb47c1304a76aac72fb23fb944b7",
       "version_major": 2,
       "version_minor": 0
      },
      "text/plain": [
       "  0%|          | 0/31 [00:00<?, ?it/s]"
      ]
     },
     "metadata": {},
     "output_type": "display_data"
    },
    {
     "name": "stdout",
     "output_type": "stream",
     "text": [
      "Memory usage after optimization is: 29184.38 MB\n",
      "Decreased by 0.0%\n"
     ]
    },
    {
     "data": {
      "text/html": [
       "<div>\n",
       "<style scoped>\n",
       "    .dataframe tbody tr th:only-of-type {\n",
       "        vertical-align: middle;\n",
       "    }\n",
       "\n",
       "    .dataframe tbody tr th {\n",
       "        vertical-align: top;\n",
       "    }\n",
       "\n",
       "    .dataframe thead th {\n",
       "        text-align: right;\n",
       "    }\n",
       "</style>\n",
       "<table border=\"1\" class=\"dataframe\">\n",
       "  <thead>\n",
       "    <tr style=\"text-align: right;\">\n",
       "      <th></th>\n",
       "      <th>region_name</th>\n",
       "      <th>city_name</th>\n",
       "      <th>cpe_manufacturer_name</th>\n",
       "      <th>cpe_model_name</th>\n",
       "      <th>url_host</th>\n",
       "      <th>cpe_type_cd</th>\n",
       "      <th>cpe_model_os_type</th>\n",
       "      <th>price</th>\n",
       "      <th>part_of_day</th>\n",
       "      <th>request_cnt</th>\n",
       "      <th>...</th>\n",
       "      <th>geo_lat</th>\n",
       "      <th>geo_lon</th>\n",
       "      <th>population</th>\n",
       "      <th>dist_to_Moscow</th>\n",
       "      <th>dist_to_SaintP</th>\n",
       "      <th>dist_to_Novosibirsk</th>\n",
       "      <th>dist_to_Ekaterinburg</th>\n",
       "      <th>dist_to_Vladivostok</th>\n",
       "      <th>domain</th>\n",
       "      <th>is_male</th>\n",
       "    </tr>\n",
       "  </thead>\n",
       "  <tbody>\n",
       "    <tr>\n",
       "      <th>31997270</th>\n",
       "      <td>0.579374</td>\n",
       "      <td>0.579374</td>\n",
       "      <td>0.497506</td>\n",
       "      <td>0.432235</td>\n",
       "      <td>0.552377</td>\n",
       "      <td>0.520281</td>\n",
       "      <td>0.497506</td>\n",
       "      <td>62682.0</td>\n",
       "      <td>0.558678</td>\n",
       "      <td>1</td>\n",
       "      <td>...</td>\n",
       "      <td>55.754047</td>\n",
       "      <td>37.620403</td>\n",
       "      <td>11514330</td>\n",
       "      <td>0.264119</td>\n",
       "      <td>636.019714</td>\n",
       "      <td>2820.210938</td>\n",
       "      <td>1420.975342</td>\n",
       "      <td>6433.896484</td>\n",
       "      <td>0.516162</td>\n",
       "      <td>0</td>\n",
       "    </tr>\n",
       "    <tr>\n",
       "      <th>81207635</th>\n",
       "      <td>0.498263</td>\n",
       "      <td>0.509906</td>\n",
       "      <td>0.497506</td>\n",
       "      <td>0.503072</td>\n",
       "      <td>0.357407</td>\n",
       "      <td>0.520281</td>\n",
       "      <td>0.497506</td>\n",
       "      <td>46582.0</td>\n",
       "      <td>0.558678</td>\n",
       "      <td>1</td>\n",
       "      <td>...</td>\n",
       "      <td>58.010258</td>\n",
       "      <td>56.234203</td>\n",
       "      <td>1000679</td>\n",
       "      <td>1158.343140</td>\n",
       "      <td>1496.257812</td>\n",
       "      <td>1664.177246</td>\n",
       "      <td>292.776245</td>\n",
       "      <td>5297.291504</td>\n",
       "      <td>0.520648</td>\n",
       "      <td>1</td>\n",
       "    </tr>\n",
       "    <tr>\n",
       "      <th>146145825</th>\n",
       "      <td>0.498263</td>\n",
       "      <td>0.464282</td>\n",
       "      <td>0.497506</td>\n",
       "      <td>0.503072</td>\n",
       "      <td>0.518750</td>\n",
       "      <td>0.520281</td>\n",
       "      <td>0.497506</td>\n",
       "      <td>50924.0</td>\n",
       "      <td>0.558678</td>\n",
       "      <td>1</td>\n",
       "      <td>...</td>\n",
       "      <td>59.407993</td>\n",
       "      <td>56.803944</td>\n",
       "      <td>156350</td>\n",
       "      <td>1212.513672</td>\n",
       "      <td>1483.777954</td>\n",
       "      <td>1639.137207</td>\n",
       "      <td>363.076721</td>\n",
       "      <td>5223.483398</td>\n",
       "      <td>0.516162</td>\n",
       "      <td>0</td>\n",
       "    </tr>\n",
       "    <tr>\n",
       "      <th>135108815</th>\n",
       "      <td>0.486671</td>\n",
       "      <td>0.501678</td>\n",
       "      <td>0.497506</td>\n",
       "      <td>0.544257</td>\n",
       "      <td>0.918161</td>\n",
       "      <td>0.520281</td>\n",
       "      <td>0.497506</td>\n",
       "      <td>26516.0</td>\n",
       "      <td>0.558678</td>\n",
       "      <td>1</td>\n",
       "      <td>...</td>\n",
       "      <td>51.533558</td>\n",
       "      <td>46.034256</td>\n",
       "      <td>836900</td>\n",
       "      <td>727.582153</td>\n",
       "      <td>1354.061401</td>\n",
       "      <td>2461.177979</td>\n",
       "      <td>1115.767944</td>\n",
       "      <td>6176.562012</td>\n",
       "      <td>0.520648</td>\n",
       "      <td>1</td>\n",
       "    </tr>\n",
       "    <tr>\n",
       "      <th>81208091</th>\n",
       "      <td>0.498263</td>\n",
       "      <td>0.509906</td>\n",
       "      <td>0.497506</td>\n",
       "      <td>0.503072</td>\n",
       "      <td>0.172348</td>\n",
       "      <td>0.520281</td>\n",
       "      <td>0.497506</td>\n",
       "      <td>46582.0</td>\n",
       "      <td>0.558678</td>\n",
       "      <td>1</td>\n",
       "      <td>...</td>\n",
       "      <td>58.010258</td>\n",
       "      <td>56.234203</td>\n",
       "      <td>1000679</td>\n",
       "      <td>1158.343140</td>\n",
       "      <td>1496.257812</td>\n",
       "      <td>1664.177246</td>\n",
       "      <td>292.776245</td>\n",
       "      <td>5297.291504</td>\n",
       "      <td>0.520648</td>\n",
       "      <td>1</td>\n",
       "    </tr>\n",
       "  </tbody>\n",
       "</table>\n",
       "<p>5 rows × 31 columns</p>\n",
       "</div>"
      ],
      "text/plain": [
       "           region_name  city_name  cpe_manufacturer_name  cpe_model_name  \\\n",
       "31997270      0.579374   0.579374               0.497506        0.432235   \n",
       "81207635      0.498263   0.509906               0.497506        0.503072   \n",
       "146145825     0.498263   0.464282               0.497506        0.503072   \n",
       "135108815     0.486671   0.501678               0.497506        0.544257   \n",
       "81208091      0.498263   0.509906               0.497506        0.503072   \n",
       "\n",
       "           url_host  cpe_type_cd  cpe_model_os_type    price  part_of_day  \\\n",
       "31997270   0.552377     0.520281           0.497506  62682.0     0.558678   \n",
       "81207635   0.357407     0.520281           0.497506  46582.0     0.558678   \n",
       "146145825  0.518750     0.520281           0.497506  50924.0     0.558678   \n",
       "135108815  0.918161     0.520281           0.497506  26516.0     0.558678   \n",
       "81208091   0.172348     0.520281           0.497506  46582.0     0.558678   \n",
       "\n",
       "           request_cnt  ...    geo_lat    geo_lon  population  dist_to_Moscow  \\\n",
       "31997270             1  ...  55.754047  37.620403    11514330        0.264119   \n",
       "81207635             1  ...  58.010258  56.234203     1000679     1158.343140   \n",
       "146145825            1  ...  59.407993  56.803944      156350     1212.513672   \n",
       "135108815            1  ...  51.533558  46.034256      836900      727.582153   \n",
       "81208091             1  ...  58.010258  56.234203     1000679     1158.343140   \n",
       "\n",
       "           dist_to_SaintP  dist_to_Novosibirsk  dist_to_Ekaterinburg  \\\n",
       "31997270       636.019714          2820.210938           1420.975342   \n",
       "81207635      1496.257812          1664.177246            292.776245   \n",
       "146145825     1483.777954          1639.137207            363.076721   \n",
       "135108815     1354.061401          2461.177979           1115.767944   \n",
       "81208091      1496.257812          1664.177246            292.776245   \n",
       "\n",
       "           dist_to_Vladivostok    domain  is_male  \n",
       "31997270           6433.896484  0.516162        0  \n",
       "81207635           5297.291504  0.520648        1  \n",
       "146145825          5223.483398  0.516162        0  \n",
       "135108815          6176.562012  0.520648        1  \n",
       "81208091           5297.291504  0.520648        1  \n",
       "\n",
       "[5 rows x 31 columns]"
      ]
     },
     "execution_count": 7,
     "metadata": {},
     "output_type": "execute_result"
    }
   ],
   "source": [
    "df = pandas_reduce_mem_usage(\n",
    "    pd.read_parquet(f\"{LOCAL_DATA_PATH}/version_5_is_male.parquet.gzip\")\n",
    ")\n",
    "df.head()"
   ]
  },
  {
   "cell_type": "code",
   "execution_count": 8,
   "id": "193efed5",
   "metadata": {},
   "outputs": [
    {
     "data": {
      "text/plain": [
       "21"
      ]
     },
     "execution_count": 8,
     "metadata": {},
     "output_type": "execute_result"
    }
   ],
   "source": [
    "gc.collect()"
   ]
  },
  {
   "cell_type": "code",
   "execution_count": 9,
   "id": "6176a280",
   "metadata": {},
   "outputs": [
    {
     "data": {
      "application/vnd.jupyter.widget-view+json": {
       "model_id": "438b6840d30d40228ebae9db227c045f",
       "version_major": 2,
       "version_minor": 0
      },
      "text/plain": [
       "  0%|          | 0/209603031 [00:00<?, ?it/s]"
      ]
     },
     "metadata": {},
     "output_type": "display_data"
    },
    {
     "data": {
      "text/plain": [
       "<seq2seq_modules.data.TargetDataset at 0x7f81dd6433a0>"
      ]
     },
     "execution_count": 9,
     "metadata": {},
     "output_type": "execute_result"
    }
   ],
   "source": [
    "dataset = TargetDataset(\n",
    "         df,\n",
    "         agg_column=\"user_id\", \n",
    "         time_column=\"timestamp\",\n",
    "         target_column=\"is_male\",\n",
    "         cat_features=[],\n",
    "         cont_features=continous_features + cat_features,\n",
    "         max_len=1024,\n",
    "         padding_side=\"left\",\n",
    ")\n",
    "user_ids = dataset.get_agg_col()\n",
    "dataset"
   ]
  },
  {
   "cell_type": "code",
   "execution_count": 10,
   "id": "4a0c584a",
   "metadata": {},
   "outputs": [
    {
     "data": {
      "text/html": [
       "<div>\n",
       "<style scoped>\n",
       "    .dataframe tbody tr th:only-of-type {\n",
       "        vertical-align: middle;\n",
       "    }\n",
       "\n",
       "    .dataframe tbody tr th {\n",
       "        vertical-align: top;\n",
       "    }\n",
       "\n",
       "    .dataframe thead th {\n",
       "        text-align: right;\n",
       "    }\n",
       "</style>\n",
       "<table border=\"1\" class=\"dataframe\">\n",
       "  <thead>\n",
       "    <tr style=\"text-align: right;\">\n",
       "      <th></th>\n",
       "      <th>region_name</th>\n",
       "      <th>city_name</th>\n",
       "      <th>cpe_manufacturer_name</th>\n",
       "      <th>cpe_model_name</th>\n",
       "      <th>url_host</th>\n",
       "      <th>cpe_type_cd</th>\n",
       "      <th>cpe_model_os_type</th>\n",
       "      <th>price</th>\n",
       "      <th>part_of_day</th>\n",
       "      <th>request_cnt</th>\n",
       "      <th>...</th>\n",
       "      <th>geo_lat</th>\n",
       "      <th>geo_lon</th>\n",
       "      <th>population</th>\n",
       "      <th>dist_to_Moscow</th>\n",
       "      <th>dist_to_SaintP</th>\n",
       "      <th>dist_to_Novosibirsk</th>\n",
       "      <th>dist_to_Ekaterinburg</th>\n",
       "      <th>dist_to_Vladivostok</th>\n",
       "      <th>domain</th>\n",
       "      <th>is_male</th>\n",
       "    </tr>\n",
       "  </thead>\n",
       "  <tbody>\n",
       "    <tr>\n",
       "      <th>31997270</th>\n",
       "      <td>0.579374</td>\n",
       "      <td>0.579374</td>\n",
       "      <td>0.497506</td>\n",
       "      <td>0.432235</td>\n",
       "      <td>0.552377</td>\n",
       "      <td>0.520281</td>\n",
       "      <td>0.497506</td>\n",
       "      <td>62682.0</td>\n",
       "      <td>0.558678</td>\n",
       "      <td>1</td>\n",
       "      <td>...</td>\n",
       "      <td>55.754047</td>\n",
       "      <td>37.620403</td>\n",
       "      <td>11514330</td>\n",
       "      <td>0.264119</td>\n",
       "      <td>636.019714</td>\n",
       "      <td>2820.210938</td>\n",
       "      <td>1420.975342</td>\n",
       "      <td>6433.896484</td>\n",
       "      <td>0.516162</td>\n",
       "      <td>0</td>\n",
       "    </tr>\n",
       "    <tr>\n",
       "      <th>81207635</th>\n",
       "      <td>0.498263</td>\n",
       "      <td>0.509906</td>\n",
       "      <td>0.497506</td>\n",
       "      <td>0.503072</td>\n",
       "      <td>0.357407</td>\n",
       "      <td>0.520281</td>\n",
       "      <td>0.497506</td>\n",
       "      <td>46582.0</td>\n",
       "      <td>0.558678</td>\n",
       "      <td>1</td>\n",
       "      <td>...</td>\n",
       "      <td>58.010258</td>\n",
       "      <td>56.234203</td>\n",
       "      <td>1000679</td>\n",
       "      <td>1158.343140</td>\n",
       "      <td>1496.257812</td>\n",
       "      <td>1664.177246</td>\n",
       "      <td>292.776245</td>\n",
       "      <td>5297.291504</td>\n",
       "      <td>0.520648</td>\n",
       "      <td>1</td>\n",
       "    </tr>\n",
       "    <tr>\n",
       "      <th>146145825</th>\n",
       "      <td>0.498263</td>\n",
       "      <td>0.464282</td>\n",
       "      <td>0.497506</td>\n",
       "      <td>0.503072</td>\n",
       "      <td>0.518750</td>\n",
       "      <td>0.520281</td>\n",
       "      <td>0.497506</td>\n",
       "      <td>50924.0</td>\n",
       "      <td>0.558678</td>\n",
       "      <td>1</td>\n",
       "      <td>...</td>\n",
       "      <td>59.407993</td>\n",
       "      <td>56.803944</td>\n",
       "      <td>156350</td>\n",
       "      <td>1212.513672</td>\n",
       "      <td>1483.777954</td>\n",
       "      <td>1639.137207</td>\n",
       "      <td>363.076721</td>\n",
       "      <td>5223.483398</td>\n",
       "      <td>0.516162</td>\n",
       "      <td>0</td>\n",
       "    </tr>\n",
       "    <tr>\n",
       "      <th>135108815</th>\n",
       "      <td>0.486671</td>\n",
       "      <td>0.501678</td>\n",
       "      <td>0.497506</td>\n",
       "      <td>0.544257</td>\n",
       "      <td>0.918161</td>\n",
       "      <td>0.520281</td>\n",
       "      <td>0.497506</td>\n",
       "      <td>26516.0</td>\n",
       "      <td>0.558678</td>\n",
       "      <td>1</td>\n",
       "      <td>...</td>\n",
       "      <td>51.533558</td>\n",
       "      <td>46.034256</td>\n",
       "      <td>836900</td>\n",
       "      <td>727.582153</td>\n",
       "      <td>1354.061401</td>\n",
       "      <td>2461.177979</td>\n",
       "      <td>1115.767944</td>\n",
       "      <td>6176.562012</td>\n",
       "      <td>0.520648</td>\n",
       "      <td>1</td>\n",
       "    </tr>\n",
       "    <tr>\n",
       "      <th>81208091</th>\n",
       "      <td>0.498263</td>\n",
       "      <td>0.509906</td>\n",
       "      <td>0.497506</td>\n",
       "      <td>0.503072</td>\n",
       "      <td>0.172348</td>\n",
       "      <td>0.520281</td>\n",
       "      <td>0.497506</td>\n",
       "      <td>46582.0</td>\n",
       "      <td>0.558678</td>\n",
       "      <td>1</td>\n",
       "      <td>...</td>\n",
       "      <td>58.010258</td>\n",
       "      <td>56.234203</td>\n",
       "      <td>1000679</td>\n",
       "      <td>1158.343140</td>\n",
       "      <td>1496.257812</td>\n",
       "      <td>1664.177246</td>\n",
       "      <td>292.776245</td>\n",
       "      <td>5297.291504</td>\n",
       "      <td>0.520648</td>\n",
       "      <td>1</td>\n",
       "    </tr>\n",
       "  </tbody>\n",
       "</table>\n",
       "<p>5 rows × 31 columns</p>\n",
       "</div>"
      ],
      "text/plain": [
       "           region_name  city_name  cpe_manufacturer_name  cpe_model_name  \\\n",
       "31997270      0.579374   0.579374               0.497506        0.432235   \n",
       "81207635      0.498263   0.509906               0.497506        0.503072   \n",
       "146145825     0.498263   0.464282               0.497506        0.503072   \n",
       "135108815     0.486671   0.501678               0.497506        0.544257   \n",
       "81208091      0.498263   0.509906               0.497506        0.503072   \n",
       "\n",
       "           url_host  cpe_type_cd  cpe_model_os_type    price  part_of_day  \\\n",
       "31997270   0.552377     0.520281           0.497506  62682.0     0.558678   \n",
       "81207635   0.357407     0.520281           0.497506  46582.0     0.558678   \n",
       "146145825  0.518750     0.520281           0.497506  50924.0     0.558678   \n",
       "135108815  0.918161     0.520281           0.497506  26516.0     0.558678   \n",
       "81208091   0.172348     0.520281           0.497506  46582.0     0.558678   \n",
       "\n",
       "           request_cnt  ...    geo_lat    geo_lon  population  dist_to_Moscow  \\\n",
       "31997270             1  ...  55.754047  37.620403    11514330        0.264119   \n",
       "81207635             1  ...  58.010258  56.234203     1000679     1158.343140   \n",
       "146145825            1  ...  59.407993  56.803944      156350     1212.513672   \n",
       "135108815            1  ...  51.533558  46.034256      836900      727.582153   \n",
       "81208091             1  ...  58.010258  56.234203     1000679     1158.343140   \n",
       "\n",
       "           dist_to_SaintP  dist_to_Novosibirsk  dist_to_Ekaterinburg  \\\n",
       "31997270       636.019714          2820.210938           1420.975342   \n",
       "81207635      1496.257812          1664.177246            292.776245   \n",
       "146145825     1483.777954          1639.137207            363.076721   \n",
       "135108815     1354.061401          2461.177979           1115.767944   \n",
       "81208091      1496.257812          1664.177246            292.776245   \n",
       "\n",
       "           dist_to_Vladivostok    domain  is_male  \n",
       "31997270           6433.896484  0.516162        0  \n",
       "81207635           5297.291504  0.520648        1  \n",
       "146145825          5223.483398  0.516162        0  \n",
       "135108815          6176.562012  0.520648        1  \n",
       "81208091           5297.291504  0.520648        1  \n",
       "\n",
       "[5 rows x 31 columns]"
      ]
     },
     "execution_count": 10,
     "metadata": {},
     "output_type": "execute_result"
    }
   ],
   "source": [
    "df.head()"
   ]
  },
  {
   "cell_type": "markdown",
   "id": "78f36334",
   "metadata": {},
   "source": [
    "## Feed to the model"
   ]
  },
  {
   "cell_type": "code",
   "execution_count": 11,
   "id": "23b5e8a3",
   "metadata": {
    "scrolled": true
   },
   "outputs": [
    {
     "name": "stderr",
     "output_type": "stream",
     "text": [
      "100%|███████████████████████████████████████| 23/23 [00:00<00:00, 742069.17it/s]\n"
     ]
    }
   ],
   "source": [
    "cat_feature_indexes = []\n",
    "cont_feature_indexes = []\n",
    "vocab_sizes = {}\n",
    "\n",
    "# for i in tqdm(range(len(cat_features))):\n",
    "#     cat_feature_indexes.append(i)\n",
    "#     vocab_sizes[i] = int(df[cat_features[i]].max() + 1)\n",
    "\n",
    "for i in tqdm(range(len(continous_features + cat_features))):\n",
    "    cont_feature_indexes.append(i)"
   ]
  },
  {
   "cell_type": "code",
   "execution_count": 12,
   "id": "69849399",
   "metadata": {},
   "outputs": [
    {
     "name": "stderr",
     "output_type": "stream",
     "text": [
      "100%|████████████████████████████████| 264324/264324 [00:17<00:00, 15309.89it/s]\n"
     ]
    },
    {
     "data": {
      "text/plain": [
       "tensor([0, 0, 0,  ..., 0, 1, 0])"
      ]
     },
     "execution_count": 12,
     "metadata": {},
     "output_type": "execute_result"
    }
   ],
   "source": [
    "targets = torch.cat([el[3].unsqueeze(0) for el in tqdm(dataset)], dim=0)\n",
    "targets"
   ]
  },
  {
   "cell_type": "code",
   "execution_count": 13,
   "id": "de39e685",
   "metadata": {},
   "outputs": [],
   "source": [
    "# model = AttentionPoolingBERTModel(\n",
    "#         cat_feature_indexes=cat_feature_indexes,\n",
    "#         vocab_sizes=vocab_sizes,\n",
    "#         cont_feature_indexes=cont_feature_indexes,\n",
    "#         encoder_hidden_dim=16,\n",
    "#         hidden_dim=256,\n",
    "#         dim_feedforward=512,\n",
    "#         output_dim=7,\n",
    "#         pe_type=\"trainable\",\n",
    "#         use_mask=False,\n",
    "#         max_len=1024,\n",
    "#         use_key_padding_mask=True,\n",
    "# )\n",
    "\n",
    "# model = StarterBERTModel(\n",
    "#         cat_feature_indexes=cat_feature_indexes,\n",
    "#         vocab_sizes=vocab_sizes,\n",
    "#         cont_feature_indexes=cont_feature_indexes,\n",
    "#         encoder_hidden_dim=16,\n",
    "#         hidden_dim=256,\n",
    "#         dim_feedforward=512,\n",
    "#         output_dim=2,\n",
    "#         pe_type=\"trainable\",\n",
    "#         use_mask=False,\n",
    "#         max_len=1024,\n",
    "#         use_key_padding_mask=False,\n",
    "#         starter=\"randn\",\n",
    "#         shared=False\n",
    "# )\n",
    "\n",
    "model = LSTMModel(\n",
    "        cat_feature_indexes=cat_feature_indexes,\n",
    "        vocab_sizes=vocab_sizes,\n",
    "        cont_feature_indexes=cont_feature_indexes,\n",
    "        encoder_hidden_dim=16,\n",
    "        hidden_dim=256,\n",
    "        num_layers=3,\n",
    "        output_dim=2,\n",
    ")\n",
    "\n",
    "weights_init_xavier(model)\n",
    "\n",
    "metric = GENDER_METRIC"
   ]
  },
  {
   "cell_type": "code",
   "execution_count": 14,
   "id": "9ec814fa",
   "metadata": {
    "scrolled": true
   },
   "outputs": [],
   "source": [
    "trainer = CVTrainer(\n",
    "            model_name=\"is_male_rnn_with_cbe_10_folds\",\n",
    "            model=model,\n",
    "            n_folds=10,\n",
    ")"
   ]
  },
  {
   "cell_type": "code",
   "execution_count": 15,
   "id": "2ad9817a",
   "metadata": {
    "scrolled": true
   },
   "outputs": [
    {
     "name": "stdout",
     "output_type": "stream",
     "text": [
      "FOLD 0\n",
      "--------------------------------\n"
     ]
    },
    {
     "data": {
      "application/vnd.jupyter.widget-view+json": {
       "model_id": "0e2e823f9bc245edb19408160a0db319",
       "version_major": 2,
       "version_minor": 0
      },
      "text/plain": [
       "  0%|          | 0/930 [00:00<?, ?it/s]"
      ]
     },
     "metadata": {},
     "output_type": "display_data"
    },
    {
     "data": {
      "application/vnd.jupyter.widget-view+json": {
       "model_id": "2eefd7b39d7746fab4953edc35138691",
       "version_major": 2,
       "version_minor": 0
      },
      "text/plain": [
       "  0%|          | 0/104 [00:00<?, ?it/s]"
      ]
     },
     "metadata": {},
     "output_type": "display_data"
    },
    {
     "name": "stdout",
     "output_type": "stream",
     "text": [
      "EPOCH: 0\n",
      "{'Gender GINI': 0.4632098738267212, 'loss': 0.5985584716611766}\n",
      "{'Gender GINI': 0.6977002297570625, 'loss': 0.5117003824405079}\n"
     ]
    },
    {
     "data": {
      "application/vnd.jupyter.widget-view+json": {
       "model_id": "541440c1ad924a89a7b10b2cee09abf9",
       "version_major": 2,
       "version_minor": 0
      },
      "text/plain": [
       "  0%|          | 0/930 [00:00<?, ?it/s]"
      ]
     },
     "metadata": {},
     "output_type": "display_data"
    },
    {
     "data": {
      "application/vnd.jupyter.widget-view+json": {
       "model_id": "ac59052dbe47415d986e83476aa4604f",
       "version_major": 2,
       "version_minor": 0
      },
      "text/plain": [
       "  0%|          | 0/104 [00:00<?, ?it/s]"
      ]
     },
     "metadata": {},
     "output_type": "display_data"
    },
    {
     "name": "stdout",
     "output_type": "stream",
     "text": [
      "EPOCH: 1\n",
      "{'Gender GINI': 0.6965556707413376, 'loss': 0.4833877591859913}\n",
      "{'Gender GINI': 0.7140056834943236, 'loss': 0.4773499072803918}\n"
     ]
    },
    {
     "data": {
      "application/vnd.jupyter.widget-view+json": {
       "model_id": "07c0f57803954a53ad85e6a69d4dc42e",
       "version_major": 2,
       "version_minor": 0
      },
      "text/plain": [
       "  0%|          | 0/930 [00:00<?, ?it/s]"
      ]
     },
     "metadata": {},
     "output_type": "display_data"
    },
    {
     "data": {
      "application/vnd.jupyter.widget-view+json": {
       "model_id": "32eb5e4fb2a142dfa869c2d63365c47a",
       "version_major": 2,
       "version_minor": 0
      },
      "text/plain": [
       "  0%|          | 0/104 [00:00<?, ?it/s]"
      ]
     },
     "metadata": {},
     "output_type": "display_data"
    },
    {
     "name": "stdout",
     "output_type": "stream",
     "text": [
      "EPOCH: 2\n",
      "{'Gender GINI': 0.7068812312769943, 'loss': 0.47594735530111515}\n",
      "{'Gender GINI': 0.720817679665612, 'loss': 0.4704619215537931}\n"
     ]
    },
    {
     "data": {
      "application/vnd.jupyter.widget-view+json": {
       "model_id": "929a2a1dcabb4d5fb1e7d846bc7a05f7",
       "version_major": 2,
       "version_minor": 0
      },
      "text/plain": [
       "  0%|          | 0/930 [00:00<?, ?it/s]"
      ]
     },
     "metadata": {},
     "output_type": "display_data"
    },
    {
     "data": {
      "application/vnd.jupyter.widget-view+json": {
       "model_id": "6ed01f6a840f4a26bf25967b8003346c",
       "version_major": 2,
       "version_minor": 0
      },
      "text/plain": [
       "  0%|          | 0/104 [00:00<?, ?it/s]"
      ]
     },
     "metadata": {},
     "output_type": "display_data"
    },
    {
     "name": "stdout",
     "output_type": "stream",
     "text": [
      "EPOCH: 3\n",
      "{'Gender GINI': 0.7129886111191375, 'loss': 0.4714787296906292}\n",
      "{'Gender GINI': 0.7235367808921862, 'loss': 0.4691978346945529}\n"
     ]
    },
    {
     "data": {
      "application/vnd.jupyter.widget-view+json": {
       "model_id": "c468d2d109c34a89a2158b7049210550",
       "version_major": 2,
       "version_minor": 0
      },
      "text/plain": [
       "  0%|          | 0/930 [00:00<?, ?it/s]"
      ]
     },
     "metadata": {},
     "output_type": "display_data"
    },
    {
     "data": {
      "application/vnd.jupyter.widget-view+json": {
       "model_id": "05e7e220507141b7913a45892f8da772",
       "version_major": 2,
       "version_minor": 0
      },
      "text/plain": [
       "  0%|          | 0/104 [00:00<?, ?it/s]"
      ]
     },
     "metadata": {},
     "output_type": "display_data"
    },
    {
     "name": "stdout",
     "output_type": "stream",
     "text": [
      "EPOCH: 4\n",
      "{'Gender GINI': 0.7180579409773269, 'loss': 0.46776016050518804}\n",
      "{'Gender GINI': 0.7271890074048106, 'loss': 0.46412409081917944}\n"
     ]
    },
    {
     "data": {
      "application/vnd.jupyter.widget-view+json": {
       "model_id": "c7c2546fb8e24b1fb40ac57ed4d8e1de",
       "version_major": 2,
       "version_minor": 0
      },
      "text/plain": [
       "  0%|          | 0/930 [00:00<?, ?it/s]"
      ]
     },
     "metadata": {},
     "output_type": "display_data"
    },
    {
     "data": {
      "application/vnd.jupyter.widget-view+json": {
       "model_id": "9538e00fec3441d78c3d8428336fe6c7",
       "version_major": 2,
       "version_minor": 0
      },
      "text/plain": [
       "  0%|          | 0/104 [00:00<?, ?it/s]"
      ]
     },
     "metadata": {},
     "output_type": "display_data"
    },
    {
     "name": "stdout",
     "output_type": "stream",
     "text": [
      "EPOCH: 5\n",
      "{'Gender GINI': 0.7217095084902798, 'loss': 0.46504213700004393}\n",
      "{'Gender GINI': 0.7249302967136892, 'loss': 0.4658839577614093}\n"
     ]
    },
    {
     "data": {
      "application/vnd.jupyter.widget-view+json": {
       "model_id": "a5684e1b9569417e89abdc86091693de",
       "version_major": 2,
       "version_minor": 0
      },
      "text/plain": [
       "  0%|          | 0/930 [00:00<?, ?it/s]"
      ]
     },
     "metadata": {},
     "output_type": "display_data"
    },
    {
     "data": {
      "application/vnd.jupyter.widget-view+json": {
       "model_id": "19db71bd33ad422a8dbca9124c74eb43",
       "version_major": 2,
       "version_minor": 0
      },
      "text/plain": [
       "  0%|          | 0/104 [00:00<?, ?it/s]"
      ]
     },
     "metadata": {},
     "output_type": "display_data"
    },
    {
     "name": "stdout",
     "output_type": "stream",
     "text": [
      "EPOCH: 6\n",
      "{'Gender GINI': 0.7253553695253006, 'loss': 0.4622712247054046}\n",
      "{'Gender GINI': 0.7299834513050785, 'loss': 0.46069231833940033}\n"
     ]
    },
    {
     "data": {
      "application/vnd.jupyter.widget-view+json": {
       "model_id": "d19a4f1e19134ac8824c05ecef31d908",
       "version_major": 2,
       "version_minor": 0
      },
      "text/plain": [
       "  0%|          | 0/930 [00:00<?, ?it/s]"
      ]
     },
     "metadata": {},
     "output_type": "display_data"
    },
    {
     "data": {
      "application/vnd.jupyter.widget-view+json": {
       "model_id": "355decc2e8e04ca488b3a29da9d7b82a",
       "version_major": 2,
       "version_minor": 0
      },
      "text/plain": [
       "  0%|          | 0/104 [00:00<?, ?it/s]"
      ]
     },
     "metadata": {},
     "output_type": "display_data"
    },
    {
     "name": "stdout",
     "output_type": "stream",
     "text": [
      "EPOCH: 7\n",
      "{'Gender GINI': 0.728700966100384, 'loss': 0.4596754708723746}\n",
      "{'Gender GINI': 0.7314618013847289, 'loss': 0.4593635270162257}\n"
     ]
    },
    {
     "data": {
      "application/vnd.jupyter.widget-view+json": {
       "model_id": "d4d9b89569cf45d0a7f6a98586bd49d1",
       "version_major": 2,
       "version_minor": 0
      },
      "text/plain": [
       "  0%|          | 0/930 [00:00<?, ?it/s]"
      ]
     },
     "metadata": {},
     "output_type": "display_data"
    },
    {
     "data": {
      "application/vnd.jupyter.widget-view+json": {
       "model_id": "1852fb45340c471ca2c1976eb51a7acf",
       "version_major": 2,
       "version_minor": 0
      },
      "text/plain": [
       "  0%|          | 0/104 [00:00<?, ?it/s]"
      ]
     },
     "metadata": {},
     "output_type": "display_data"
    },
    {
     "name": "stdout",
     "output_type": "stream",
     "text": [
      "EPOCH: 8\n",
      "{'Gender GINI': 0.7312351447811798, 'loss': 0.4577524673099622}\n",
      "{'Gender GINI': 0.7308161616994804, 'loss': 0.4602958660539263}\n"
     ]
    },
    {
     "data": {
      "application/vnd.jupyter.widget-view+json": {
       "model_id": "26eccc041dbf45b4a55d21b5f5c917a9",
       "version_major": 2,
       "version_minor": 0
      },
      "text/plain": [
       "  0%|          | 0/930 [00:00<?, ?it/s]"
      ]
     },
     "metadata": {},
     "output_type": "display_data"
    },
    {
     "data": {
      "application/vnd.jupyter.widget-view+json": {
       "model_id": "5241fd179e3d4619bd81d30a42cb8ec8",
       "version_major": 2,
       "version_minor": 0
      },
      "text/plain": [
       "  0%|          | 0/104 [00:00<?, ?it/s]"
      ]
     },
     "metadata": {},
     "output_type": "display_data"
    },
    {
     "name": "stdout",
     "output_type": "stream",
     "text": [
      "EPOCH: 9\n",
      "{'Gender GINI': 0.7326533065636056, 'loss': 0.4566286309195048}\n",
      "{'Gender GINI': 0.731253782742959, 'loss': 0.45897450007405244}\n",
      "FOLD 1\n",
      "--------------------------------\n"
     ]
    },
    {
     "data": {
      "application/vnd.jupyter.widget-view+json": {
       "model_id": "6a3ee6d1a98e4b60a6259734c26d5f57",
       "version_major": 2,
       "version_minor": 0
      },
      "text/plain": [
       "  0%|          | 0/930 [00:00<?, ?it/s]"
      ]
     },
     "metadata": {},
     "output_type": "display_data"
    },
    {
     "data": {
      "application/vnd.jupyter.widget-view+json": {
       "model_id": "b81534099f214c3a8074070b161ab842",
       "version_major": 2,
       "version_minor": 0
      },
      "text/plain": [
       "  0%|          | 0/104 [00:00<?, ?it/s]"
      ]
     },
     "metadata": {},
     "output_type": "display_data"
    },
    {
     "name": "stdout",
     "output_type": "stream",
     "text": [
      "EPOCH: 0\n",
      "{'Gender GINI': 0.43433102862879513, 'loss': 0.6106256825804466}\n",
      "{'Gender GINI': 0.700181966906047, 'loss': 0.48302247869968323}\n"
     ]
    },
    {
     "data": {
      "application/vnd.jupyter.widget-view+json": {
       "model_id": "3603199d6c5e4451813a89c688b40244",
       "version_major": 2,
       "version_minor": 0
      },
      "text/plain": [
       "  0%|          | 0/930 [00:00<?, ?it/s]"
      ]
     },
     "metadata": {},
     "output_type": "display_data"
    },
    {
     "data": {
      "application/vnd.jupyter.widget-view+json": {
       "model_id": "edbe8cbf1e484507b807a8b6bf92becb",
       "version_major": 2,
       "version_minor": 0
      },
      "text/plain": [
       "  0%|          | 0/104 [00:00<?, ?it/s]"
      ]
     },
     "metadata": {},
     "output_type": "display_data"
    },
    {
     "name": "stdout",
     "output_type": "stream",
     "text": [
      "EPOCH: 1\n",
      "{'Gender GINI': 0.6968881955534978, 'loss': 0.48280685286966957}\n",
      "{'Gender GINI': 0.6988793743917396, 'loss': 0.50743553878232}\n"
     ]
    },
    {
     "data": {
      "application/vnd.jupyter.widget-view+json": {
       "model_id": "f8299b82f23746f8955d55f3b2d6cba8",
       "version_major": 2,
       "version_minor": 0
      },
      "text/plain": [
       "  0%|          | 0/930 [00:00<?, ?it/s]"
      ]
     },
     "metadata": {},
     "output_type": "display_data"
    },
    {
     "data": {
      "application/vnd.jupyter.widget-view+json": {
       "model_id": "adc0f62af366437abbe7edfe1d4eb7b8",
       "version_major": 2,
       "version_minor": 0
      },
      "text/plain": [
       "  0%|          | 0/104 [00:00<?, ?it/s]"
      ]
     },
     "metadata": {},
     "output_type": "display_data"
    },
    {
     "name": "stdout",
     "output_type": "stream",
     "text": [
      "EPOCH: 2\n",
      "{'Gender GINI': 0.7052422061180914, 'loss': 0.4769587343624866}\n",
      "{'Gender GINI': 0.7109100579290246, 'loss': 0.485076797537585}\n"
     ]
    },
    {
     "data": {
      "application/vnd.jupyter.widget-view+json": {
       "model_id": "4ed446c2e4c44ecc844d950560b7c803",
       "version_major": 2,
       "version_minor": 0
      },
      "text/plain": [
       "  0%|          | 0/930 [00:00<?, ?it/s]"
      ]
     },
     "metadata": {},
     "output_type": "display_data"
    },
    {
     "data": {
      "application/vnd.jupyter.widget-view+json": {
       "model_id": "a73c6b9eb56d4510a14cc5827b6f479e",
       "version_major": 2,
       "version_minor": 0
      },
      "text/plain": [
       "  0%|          | 0/104 [00:00<?, ?it/s]"
      ]
     },
     "metadata": {},
     "output_type": "display_data"
    },
    {
     "name": "stdout",
     "output_type": "stream",
     "text": [
      "EPOCH: 3\n",
      "{'Gender GINI': 0.7116913256214459, 'loss': 0.47220852112639494}\n",
      "{'Gender GINI': 0.7188107737789398, 'loss': 0.47129062675917555}\n"
     ]
    },
    {
     "data": {
      "application/vnd.jupyter.widget-view+json": {
       "model_id": "c90cf131d4a343b8ab5cdcac7d63eab3",
       "version_major": 2,
       "version_minor": 0
      },
      "text/plain": [
       "  0%|          | 0/930 [00:00<?, ?it/s]"
      ]
     },
     "metadata": {},
     "output_type": "display_data"
    },
    {
     "data": {
      "application/vnd.jupyter.widget-view+json": {
       "model_id": "fe1acaca97da4ab0b58bcd3ffa8d1d22",
       "version_major": 2,
       "version_minor": 0
      },
      "text/plain": [
       "  0%|          | 0/104 [00:00<?, ?it/s]"
      ]
     },
     "metadata": {},
     "output_type": "display_data"
    },
    {
     "name": "stdout",
     "output_type": "stream",
     "text": [
      "EPOCH: 4\n",
      "{'Gender GINI': 0.71643362229233, 'loss': 0.46878772626078846}\n",
      "{'Gender GINI': 0.7176785715308602, 'loss': 0.4693659570579687}\n"
     ]
    },
    {
     "data": {
      "application/vnd.jupyter.widget-view+json": {
       "model_id": "efbb4c8b885a4da1b23fa216d37cec06",
       "version_major": 2,
       "version_minor": 0
      },
      "text/plain": [
       "  0%|          | 0/930 [00:00<?, ?it/s]"
      ]
     },
     "metadata": {},
     "output_type": "display_data"
    },
    {
     "data": {
      "application/vnd.jupyter.widget-view+json": {
       "model_id": "4e9cddd7746f4f2ea361eb98a5680404",
       "version_major": 2,
       "version_minor": 0
      },
      "text/plain": [
       "  0%|          | 0/104 [00:00<?, ?it/s]"
      ]
     },
     "metadata": {},
     "output_type": "display_data"
    },
    {
     "name": "stdout",
     "output_type": "stream",
     "text": [
      "EPOCH: 5\n",
      "{'Gender GINI': 0.721066749059432, 'loss': 0.46536012757860307}\n",
      "{'Gender GINI': 0.7200412772224312, 'loss': 0.46868663097113955}\n"
     ]
    },
    {
     "data": {
      "application/vnd.jupyter.widget-view+json": {
       "model_id": "739e74bd9da34600af0c3bb9a8274ae7",
       "version_major": 2,
       "version_minor": 0
      },
      "text/plain": [
       "  0%|          | 0/930 [00:00<?, ?it/s]"
      ]
     },
     "metadata": {},
     "output_type": "display_data"
    },
    {
     "data": {
      "application/vnd.jupyter.widget-view+json": {
       "model_id": "8b72be4d04484109beef7db444eab03b",
       "version_major": 2,
       "version_minor": 0
      },
      "text/plain": [
       "  0%|          | 0/104 [00:00<?, ?it/s]"
      ]
     },
     "metadata": {},
     "output_type": "display_data"
    },
    {
     "name": "stdout",
     "output_type": "stream",
     "text": [
      "EPOCH: 6\n",
      "{'Gender GINI': 0.7246939533791088, 'loss': 0.4626487988615614}\n",
      "{'Gender GINI': 0.7228865529394986, 'loss': 0.4659544325788754}\n"
     ]
    },
    {
     "data": {
      "application/vnd.jupyter.widget-view+json": {
       "model_id": "819ceb19111d46cc93b19a118adaf266",
       "version_major": 2,
       "version_minor": 0
      },
      "text/plain": [
       "  0%|          | 0/930 [00:00<?, ?it/s]"
      ]
     },
     "metadata": {},
     "output_type": "display_data"
    },
    {
     "data": {
      "application/vnd.jupyter.widget-view+json": {
       "model_id": "33889c0cdec342b89255571340c3f166",
       "version_major": 2,
       "version_minor": 0
      },
      "text/plain": [
       "  0%|          | 0/104 [00:00<?, ?it/s]"
      ]
     },
     "metadata": {},
     "output_type": "display_data"
    },
    {
     "name": "stdout",
     "output_type": "stream",
     "text": [
      "EPOCH: 7\n",
      "{'Gender GINI': 0.7281181599426809, 'loss': 0.46000254702331517}\n",
      "{'Gender GINI': 0.7243880620269603, 'loss': 0.46538254268027274}\n"
     ]
    },
    {
     "data": {
      "application/vnd.jupyter.widget-view+json": {
       "model_id": "929a13ca5bde4790aafa53f175c1ed51",
       "version_major": 2,
       "version_minor": 0
      },
      "text/plain": [
       "  0%|          | 0/930 [00:00<?, ?it/s]"
      ]
     },
     "metadata": {},
     "output_type": "display_data"
    },
    {
     "data": {
      "application/vnd.jupyter.widget-view+json": {
       "model_id": "a341018a66e540e6ac423792f4a33867",
       "version_major": 2,
       "version_minor": 0
      },
      "text/plain": [
       "  0%|          | 0/104 [00:00<?, ?it/s]"
      ]
     },
     "metadata": {},
     "output_type": "display_data"
    },
    {
     "name": "stdout",
     "output_type": "stream",
     "text": [
      "EPOCH: 8\n",
      "{'Gender GINI': 0.7306579140537612, 'loss': 0.4581211753425296}\n",
      "{'Gender GINI': 0.7246773691871207, 'loss': 0.46567022382037404}\n"
     ]
    },
    {
     "data": {
      "application/vnd.jupyter.widget-view+json": {
       "model_id": "12bce34af5774dd5806873ca3403bbfd",
       "version_major": 2,
       "version_minor": 0
      },
      "text/plain": [
       "  0%|          | 0/930 [00:00<?, ?it/s]"
      ]
     },
     "metadata": {},
     "output_type": "display_data"
    },
    {
     "data": {
      "application/vnd.jupyter.widget-view+json": {
       "model_id": "585c0455a25b4a72860952ac8bbef86a",
       "version_major": 2,
       "version_minor": 0
      },
      "text/plain": [
       "  0%|          | 0/104 [00:00<?, ?it/s]"
      ]
     },
     "metadata": {},
     "output_type": "display_data"
    },
    {
     "name": "stdout",
     "output_type": "stream",
     "text": [
      "EPOCH: 9\n",
      "{'Gender GINI': 0.7321271515329348, 'loss': 0.45702818287285385}\n",
      "{'Gender GINI': 0.7252323662457032, 'loss': 0.46405619388000147}\n",
      "FOLD 2\n",
      "--------------------------------\n"
     ]
    },
    {
     "data": {
      "application/vnd.jupyter.widget-view+json": {
       "model_id": "8cf6a21519ff4275b5ff6343f0ac2990",
       "version_major": 2,
       "version_minor": 0
      },
      "text/plain": [
       "  0%|          | 0/930 [00:00<?, ?it/s]"
      ]
     },
     "metadata": {},
     "output_type": "display_data"
    },
    {
     "data": {
      "application/vnd.jupyter.widget-view+json": {
       "model_id": "1cfae2d0cad84df0888c739abc0b2e82",
       "version_major": 2,
       "version_minor": 0
      },
      "text/plain": [
       "  0%|          | 0/104 [00:00<?, ?it/s]"
      ]
     },
     "metadata": {},
     "output_type": "display_data"
    },
    {
     "name": "stdout",
     "output_type": "stream",
     "text": [
      "EPOCH: 0\n",
      "{'Gender GINI': 0.4752730437030521, 'loss': 0.5933205491178635}\n",
      "{'Gender GINI': 0.6965681936260317, 'loss': 0.49083006659456935}\n"
     ]
    },
    {
     "data": {
      "application/vnd.jupyter.widget-view+json": {
       "model_id": "6af21fe3befe420bbe2cc36271f05fee",
       "version_major": 2,
       "version_minor": 0
      },
      "text/plain": [
       "  0%|          | 0/930 [00:00<?, ?it/s]"
      ]
     },
     "metadata": {},
     "output_type": "display_data"
    },
    {
     "data": {
      "application/vnd.jupyter.widget-view+json": {
       "model_id": "de050b88e52f4c6eb226cf0d886de53b",
       "version_major": 2,
       "version_minor": 0
      },
      "text/plain": [
       "  0%|          | 0/104 [00:00<?, ?it/s]"
      ]
     },
     "metadata": {},
     "output_type": "display_data"
    },
    {
     "name": "stdout",
     "output_type": "stream",
     "text": [
      "EPOCH: 1\n",
      "{'Gender GINI': 0.6981639739611156, 'loss': 0.4821954515120505}\n",
      "{'Gender GINI': 0.7069243142086785, 'loss': 0.4873516873239549}\n"
     ]
    },
    {
     "data": {
      "application/vnd.jupyter.widget-view+json": {
       "model_id": "55260b72f07a4d199779e75e77594cb0",
       "version_major": 2,
       "version_minor": 0
      },
      "text/plain": [
       "  0%|          | 0/930 [00:00<?, ?it/s]"
      ]
     },
     "metadata": {},
     "output_type": "display_data"
    },
    {
     "data": {
      "application/vnd.jupyter.widget-view+json": {
       "model_id": "9b1c6b328ffe40b4b74f51cc601fd7ae",
       "version_major": 2,
       "version_minor": 0
      },
      "text/plain": [
       "  0%|          | 0/104 [00:00<?, ?it/s]"
      ]
     },
     "metadata": {},
     "output_type": "display_data"
    },
    {
     "name": "stdout",
     "output_type": "stream",
     "text": [
      "EPOCH: 2\n",
      "{'Gender GINI': 0.7055187208263562, 'loss': 0.47696662645772503}\n",
      "{'Gender GINI': 0.7127683635236748, 'loss': 0.4800207404544053}\n"
     ]
    },
    {
     "data": {
      "application/vnd.jupyter.widget-view+json": {
       "model_id": "9dde7fb9d1f241d49c7932832a152074",
       "version_major": 2,
       "version_minor": 0
      },
      "text/plain": [
       "  0%|          | 0/930 [00:00<?, ?it/s]"
      ]
     },
     "metadata": {},
     "output_type": "display_data"
    },
    {
     "data": {
      "application/vnd.jupyter.widget-view+json": {
       "model_id": "43398bdab0404070b5f3b8f41db63a91",
       "version_major": 2,
       "version_minor": 0
      },
      "text/plain": [
       "  0%|          | 0/104 [00:00<?, ?it/s]"
      ]
     },
     "metadata": {},
     "output_type": "display_data"
    },
    {
     "name": "stdout",
     "output_type": "stream",
     "text": [
      "EPOCH: 3\n",
      "{'Gender GINI': 0.7139192340693679, 'loss': 0.47086988995192036}\n",
      "{'Gender GINI': 0.7174070732639191, 'loss': 0.47204907674551155}\n"
     ]
    },
    {
     "data": {
      "application/vnd.jupyter.widget-view+json": {
       "model_id": "1bfa2bd2a03e45b4810452d452000aec",
       "version_major": 2,
       "version_minor": 0
      },
      "text/plain": [
       "  0%|          | 0/930 [00:00<?, ?it/s]"
      ]
     },
     "metadata": {},
     "output_type": "display_data"
    },
    {
     "data": {
      "application/vnd.jupyter.widget-view+json": {
       "model_id": "0f4b1cfcb21b461b8161dcbcc57e67e3",
       "version_major": 2,
       "version_minor": 0
      },
      "text/plain": [
       "  0%|          | 0/104 [00:00<?, ?it/s]"
      ]
     },
     "metadata": {},
     "output_type": "display_data"
    },
    {
     "name": "stdout",
     "output_type": "stream",
     "text": [
      "EPOCH: 4\n",
      "{'Gender GINI': 0.7189825171359292, 'loss': 0.46708177951442587}\n",
      "{'Gender GINI': 0.7199721668021382, 'loss': 0.4676721677791142}\n"
     ]
    },
    {
     "data": {
      "application/vnd.jupyter.widget-view+json": {
       "model_id": "b8b19f5d6f914d46a6920ee0524d95b9",
       "version_major": 2,
       "version_minor": 0
      },
      "text/plain": [
       "  0%|          | 0/930 [00:00<?, ?it/s]"
      ]
     },
     "metadata": {},
     "output_type": "display_data"
    },
    {
     "data": {
      "application/vnd.jupyter.widget-view+json": {
       "model_id": "8b62906613fb4bac97662a4136c87797",
       "version_major": 2,
       "version_minor": 0
      },
      "text/plain": [
       "  0%|          | 0/104 [00:00<?, ?it/s]"
      ]
     },
     "metadata": {},
     "output_type": "display_data"
    },
    {
     "name": "stdout",
     "output_type": "stream",
     "text": [
      "EPOCH: 5\n",
      "{'Gender GINI': 0.7232849207308134, 'loss': 0.46383617310854897}\n",
      "{'Gender GINI': 0.7216393289558627, 'loss': 0.46741577127536615}\n"
     ]
    },
    {
     "data": {
      "application/vnd.jupyter.widget-view+json": {
       "model_id": "86f04b8536684a01aaf81f891f0e5c7e",
       "version_major": 2,
       "version_minor": 0
      },
      "text/plain": [
       "  0%|          | 0/930 [00:00<?, ?it/s]"
      ]
     },
     "metadata": {},
     "output_type": "display_data"
    },
    {
     "data": {
      "application/vnd.jupyter.widget-view+json": {
       "model_id": "9e5ecee1fe944e78bd3ab89a6ea457ee",
       "version_major": 2,
       "version_minor": 0
      },
      "text/plain": [
       "  0%|          | 0/104 [00:00<?, ?it/s]"
      ]
     },
     "metadata": {},
     "output_type": "display_data"
    },
    {
     "name": "stdout",
     "output_type": "stream",
     "text": [
      "EPOCH: 6\n",
      "{'Gender GINI': 0.7271760284206019, 'loss': 0.46086481886820635}\n",
      "{'Gender GINI': 0.7231203311801129, 'loss': 0.4658772262795}\n"
     ]
    },
    {
     "data": {
      "application/vnd.jupyter.widget-view+json": {
       "model_id": "a037266c1fcc47fb854510d8a1df2be3",
       "version_major": 2,
       "version_minor": 0
      },
      "text/plain": [
       "  0%|          | 0/930 [00:00<?, ?it/s]"
      ]
     },
     "metadata": {},
     "output_type": "display_data"
    },
    {
     "data": {
      "application/vnd.jupyter.widget-view+json": {
       "model_id": "6567273fa68e45ffb20a9708fe4097dc",
       "version_major": 2,
       "version_minor": 0
      },
      "text/plain": [
       "  0%|          | 0/104 [00:00<?, ?it/s]"
      ]
     },
     "metadata": {},
     "output_type": "display_data"
    },
    {
     "name": "stdout",
     "output_type": "stream",
     "text": [
      "EPOCH: 7\n",
      "{'Gender GINI': 0.7310029204294217, 'loss': 0.45790475344941123}\n",
      "{'Gender GINI': 0.7247734306664673, 'loss': 0.46436490562939503}\n"
     ]
    },
    {
     "data": {
      "application/vnd.jupyter.widget-view+json": {
       "model_id": "e0727eeb760944f8af74554b9d486af7",
       "version_major": 2,
       "version_minor": 0
      },
      "text/plain": [
       "  0%|          | 0/930 [00:00<?, ?it/s]"
      ]
     },
     "metadata": {},
     "output_type": "display_data"
    },
    {
     "data": {
      "application/vnd.jupyter.widget-view+json": {
       "model_id": "ee2ce24b5bcb4b0fb7856ba52b2912c2",
       "version_major": 2,
       "version_minor": 0
      },
      "text/plain": [
       "  0%|          | 0/104 [00:00<?, ?it/s]"
      ]
     },
     "metadata": {},
     "output_type": "display_data"
    },
    {
     "name": "stdout",
     "output_type": "stream",
     "text": [
      "EPOCH: 8\n",
      "{'Gender GINI': 0.7337095290301774, 'loss': 0.4557658904081361}\n",
      "{'Gender GINI': 0.7249426867542277, 'loss': 0.4646193922574232}\n"
     ]
    },
    {
     "data": {
      "application/vnd.jupyter.widget-view+json": {
       "model_id": "612795389540473b9821524450d8dc5b",
       "version_major": 2,
       "version_minor": 0
      },
      "text/plain": [
       "  0%|          | 0/930 [00:00<?, ?it/s]"
      ]
     },
     "metadata": {},
     "output_type": "display_data"
    },
    {
     "data": {
      "application/vnd.jupyter.widget-view+json": {
       "model_id": "8b3c764d26434712955675f0f371e5e7",
       "version_major": 2,
       "version_minor": 0
      },
      "text/plain": [
       "  0%|          | 0/104 [00:00<?, ?it/s]"
      ]
     },
     "metadata": {},
     "output_type": "display_data"
    },
    {
     "name": "stdout",
     "output_type": "stream",
     "text": [
      "EPOCH: 9\n",
      "{'Gender GINI': 0.735236710008055, 'loss': 0.45460101407341375}\n",
      "{'Gender GINI': 0.725091000637546, 'loss': 0.4640373668482255}\n",
      "FOLD 3\n",
      "--------------------------------\n"
     ]
    },
    {
     "data": {
      "application/vnd.jupyter.widget-view+json": {
       "model_id": "5efedbb7e5244097b2c2255df564c335",
       "version_major": 2,
       "version_minor": 0
      },
      "text/plain": [
       "  0%|          | 0/930 [00:00<?, ?it/s]"
      ]
     },
     "metadata": {},
     "output_type": "display_data"
    },
    {
     "ename": "KeyboardInterrupt",
     "evalue": "",
     "output_type": "error",
     "traceback": [
      "\u001b[0;31m---------------------------------------------------------------------------\u001b[0m",
      "\u001b[0;31mKeyboardInterrupt\u001b[0m                         Traceback (most recent call last)",
      "Cell \u001b[0;32mIn[15], line 1\u001b[0m\n\u001b[0;32m----> 1\u001b[0m train_fold_metrics, eval_fold_metrics, embeddings_df, logits_df \u001b[38;5;241m=\u001b[39m \u001b[43mtrainer\u001b[49m\u001b[38;5;241;43m.\u001b[39;49m\u001b[43mfit_transform\u001b[49m\u001b[43m(\u001b[49m\n\u001b[1;32m      2\u001b[0m \u001b[43m                          \u001b[49m\u001b[43mdataset\u001b[49m\u001b[38;5;241;43m=\u001b[39;49m\u001b[43mdataset\u001b[49m\u001b[43m,\u001b[49m\n\u001b[1;32m      3\u001b[0m \u001b[43m                          \u001b[49m\u001b[43mloss_function\u001b[49m\u001b[38;5;241;43m=\u001b[39;49m\u001b[43mnn\u001b[49m\u001b[38;5;241;43m.\u001b[39;49m\u001b[43mCrossEntropyLoss\u001b[49m\u001b[43m,\u001b[49m\n\u001b[1;32m      4\u001b[0m \u001b[43m                          \u001b[49m\u001b[43mmetric_func\u001b[49m\u001b[38;5;241;43m=\u001b[39;49m\u001b[43mmetric\u001b[49m\u001b[43m,\u001b[49m\n\u001b[1;32m      5\u001b[0m \u001b[43m                          \u001b[49m\u001b[43moptimizer\u001b[49m\u001b[38;5;241;43m=\u001b[39;49m\u001b[43mtorch\u001b[49m\u001b[38;5;241;43m.\u001b[39;49m\u001b[43moptim\u001b[49m\u001b[38;5;241;43m.\u001b[39;49m\u001b[43mAdamW\u001b[49m\u001b[43m,\u001b[49m\n\u001b[1;32m      6\u001b[0m \u001b[43m                          \u001b[49m\u001b[43mget_scheduler\u001b[49m\u001b[38;5;241;43m=\u001b[39;49m\u001b[43mget_cosine_schedule_with_warmup\u001b[49m\u001b[43m,\u001b[49m\n\u001b[1;32m      7\u001b[0m \u001b[43m                          \u001b[49m\u001b[43mstrat_array\u001b[49m\u001b[38;5;241;43m=\u001b[39;49m\u001b[43mtargets\u001b[49m\u001b[43m,\u001b[49m\n\u001b[1;32m      8\u001b[0m \u001b[43m                          \u001b[49m\u001b[43mtarget_name\u001b[49m\u001b[38;5;241;43m=\u001b[39;49m\u001b[38;5;124;43m\"\u001b[39;49m\u001b[38;5;124;43mis_male\u001b[39;49m\u001b[38;5;124;43m\"\u001b[39;49m\u001b[43m,\u001b[49m\n\u001b[1;32m      9\u001b[0m \u001b[43m                          \u001b[49m\u001b[43muser_ids\u001b[49m\u001b[38;5;241;43m=\u001b[39;49m\u001b[43muser_ids\u001b[49m\u001b[43m,\u001b[49m\n\u001b[1;32m     10\u001b[0m \u001b[43m                          \u001b[49m\u001b[43mshuffle\u001b[49m\u001b[38;5;241;43m=\u001b[39;49m\u001b[38;5;28;43;01mTrue\u001b[39;49;00m\u001b[43m,\u001b[49m\n\u001b[1;32m     11\u001b[0m \u001b[43m                          \u001b[49m\u001b[43mepochs\u001b[49m\u001b[38;5;241;43m=\u001b[39;49m\u001b[38;5;241;43m10\u001b[39;49m\u001b[43m,\u001b[49m\n\u001b[1;32m     12\u001b[0m \u001b[43m                          \u001b[49m\u001b[43mlr\u001b[49m\u001b[38;5;241;43m=\u001b[39;49m\u001b[38;5;241;43m1e-3\u001b[39;49m\u001b[43m,\u001b[49m\n\u001b[1;32m     13\u001b[0m \u001b[43m                          \u001b[49m\u001b[43mweight_decay\u001b[49m\u001b[38;5;241;43m=\u001b[39;49m\u001b[38;5;241;43m1e-2\u001b[39;49m\u001b[43m,\u001b[49m\n\u001b[1;32m     14\u001b[0m \u001b[43m                          \u001b[49m\u001b[43mnum_warmup_steps\u001b[49m\u001b[38;5;241;43m=\u001b[39;49m\u001b[38;5;241;43m0\u001b[39;49m\u001b[43m,\u001b[49m\n\u001b[1;32m     15\u001b[0m \u001b[43m                          \u001b[49m\u001b[43mbatch_size\u001b[49m\u001b[38;5;241;43m=\u001b[39;49m\u001b[38;5;241;43m256\u001b[39;49m\u001b[43m,\u001b[49m\n\u001b[1;32m     16\u001b[0m \u001b[43m                          \u001b[49m\u001b[43mrandom_state\u001b[49m\u001b[38;5;241;43m=\u001b[39;49m\u001b[38;5;241;43m69\u001b[39;49m\u001b[43m,\u001b[49m\n\u001b[1;32m     17\u001b[0m \u001b[43m                          \u001b[49m\u001b[43mdevice\u001b[49m\u001b[38;5;241;43m=\u001b[39;49m\u001b[43m \u001b[49m\u001b[38;5;124;43m\"\u001b[39;49m\u001b[38;5;124;43mcuda\u001b[39;49m\u001b[38;5;124;43m\"\u001b[39;49m\n\u001b[1;32m     18\u001b[0m \u001b[43m)\u001b[49m\n",
      "File \u001b[0;32m~/PycharmProjects/mts-ml-cup/seq2seq_modules/trainer.py:118\u001b[0m, in \u001b[0;36mCVTrainer.fit_transform\u001b[0;34m(self, dataset, loss_function, metric_func, optimizer, get_scheduler, target_name, user_ids, strat_array, shuffle, epochs, lr, weight_decay, num_warmup_steps, batch_size, random_state, device)\u001b[0m\n\u001b[1;32m    115\u001b[0m eval_epoch_metrics \u001b[38;5;241m=\u001b[39m []\n\u001b[1;32m    117\u001b[0m \u001b[38;5;28;01mfor\u001b[39;00m epoch_i \u001b[38;5;129;01min\u001b[39;00m \u001b[38;5;28mrange\u001b[39m(epochs):\n\u001b[0;32m--> 118\u001b[0m     train_metrics, train_embeddings, train_logits, train_targets \u001b[38;5;241m=\u001b[39m \u001b[43mtrain_epoch\u001b[49m\u001b[43m(\u001b[49m\n\u001b[1;32m    119\u001b[0m \u001b[43m        \u001b[49m\u001b[43mfold_model\u001b[49m\u001b[43m,\u001b[49m\n\u001b[1;32m    120\u001b[0m \u001b[43m        \u001b[49m\u001b[43mtrain_loader\u001b[49m\u001b[43m,\u001b[49m\n\u001b[1;32m    121\u001b[0m \u001b[43m        \u001b[49m\u001b[43mfold_loss_function\u001b[49m\u001b[43m,\u001b[49m\n\u001b[1;32m    122\u001b[0m \u001b[43m        \u001b[49m\u001b[43mfold_optimizer\u001b[49m\u001b[43m,\u001b[49m\n\u001b[1;32m    123\u001b[0m \u001b[43m        \u001b[49m\u001b[43mscheduler\u001b[49m\u001b[43m,\u001b[49m\n\u001b[1;32m    124\u001b[0m \u001b[43m        \u001b[49m\u001b[43mdevice\u001b[49m\u001b[43m,\u001b[49m\n\u001b[1;32m    125\u001b[0m \u001b[43m        \u001b[49m\u001b[43mmetric_func\u001b[49m\u001b[43m,\u001b[49m\n\u001b[1;32m    126\u001b[0m \u001b[43m    \u001b[49m\u001b[43m)\u001b[49m\n\u001b[1;32m    127\u001b[0m     eval_metrics, eval_embeddings, eval_logits, eval_targets \u001b[38;5;241m=\u001b[39m eval_epoch(\n\u001b[1;32m    128\u001b[0m         fold_model,\n\u001b[1;32m    129\u001b[0m         eval_loader,\n\u001b[0;32m   (...)\u001b[0m\n\u001b[1;32m    132\u001b[0m         metric_func\n\u001b[1;32m    133\u001b[0m     )\n\u001b[1;32m    135\u001b[0m     train_epoch_metrics\u001b[38;5;241m.\u001b[39mappend(train_metrics)\n",
      "File \u001b[0;32m~/PycharmProjects/mts-ml-cup/seq2seq_modules/loops.py:35\u001b[0m, in \u001b[0;36mtrain_epoch\u001b[0;34m(model, data_loader, loss_function, optimizer, scheduler, device, metric_func, pass_logits)\u001b[0m\n\u001b[1;32m     27\u001b[0m cat_features, cont_features, attention_mask, batch_target \u001b[38;5;241m=\u001b[39m (\n\u001b[1;32m     28\u001b[0m     cat_features\u001b[38;5;241m.\u001b[39mto(device),\n\u001b[1;32m     29\u001b[0m     cont_features\u001b[38;5;241m.\u001b[39mto(device),\n\u001b[1;32m     30\u001b[0m     attention_mask\u001b[38;5;241m.\u001b[39mto(device),\n\u001b[1;32m     31\u001b[0m     batch_target\u001b[38;5;241m.\u001b[39mto(device),\n\u001b[1;32m     32\u001b[0m )\n\u001b[1;32m     34\u001b[0m optimizer\u001b[38;5;241m.\u001b[39mzero_grad()\n\u001b[0;32m---> 35\u001b[0m batch_embeddings, batch_logits \u001b[38;5;241m=\u001b[39m \u001b[43mmodel\u001b[49m\u001b[43m(\u001b[49m\u001b[43mcat_features\u001b[49m\u001b[43m,\u001b[49m\u001b[43m \u001b[49m\u001b[43mcont_features\u001b[49m\u001b[43m,\u001b[49m\u001b[43m \u001b[49m\u001b[43mattention_mask\u001b[49m\u001b[43m)\u001b[49m\n\u001b[1;32m     36\u001b[0m embeddings\u001b[38;5;241m.\u001b[39mappend(batch_embeddings\u001b[38;5;241m.\u001b[39mdetach()\u001b[38;5;241m.\u001b[39mcpu())\n\u001b[1;32m     37\u001b[0m logits\u001b[38;5;241m.\u001b[39mappend(batch_logits\u001b[38;5;241m.\u001b[39mdetach()\u001b[38;5;241m.\u001b[39mcpu())\n",
      "File \u001b[0;32m~/PycharmProjects/mts-ml-cup/venv/lib/python3.10/site-packages/torch/nn/modules/module.py:1194\u001b[0m, in \u001b[0;36mModule._call_impl\u001b[0;34m(self, *input, **kwargs)\u001b[0m\n\u001b[1;32m   1190\u001b[0m \u001b[38;5;66;03m# If we don't have any hooks, we want to skip the rest of the logic in\u001b[39;00m\n\u001b[1;32m   1191\u001b[0m \u001b[38;5;66;03m# this function, and just call forward.\u001b[39;00m\n\u001b[1;32m   1192\u001b[0m \u001b[38;5;28;01mif\u001b[39;00m \u001b[38;5;129;01mnot\u001b[39;00m (\u001b[38;5;28mself\u001b[39m\u001b[38;5;241m.\u001b[39m_backward_hooks \u001b[38;5;129;01mor\u001b[39;00m \u001b[38;5;28mself\u001b[39m\u001b[38;5;241m.\u001b[39m_forward_hooks \u001b[38;5;129;01mor\u001b[39;00m \u001b[38;5;28mself\u001b[39m\u001b[38;5;241m.\u001b[39m_forward_pre_hooks \u001b[38;5;129;01mor\u001b[39;00m _global_backward_hooks\n\u001b[1;32m   1193\u001b[0m         \u001b[38;5;129;01mor\u001b[39;00m _global_forward_hooks \u001b[38;5;129;01mor\u001b[39;00m _global_forward_pre_hooks):\n\u001b[0;32m-> 1194\u001b[0m     \u001b[38;5;28;01mreturn\u001b[39;00m \u001b[43mforward_call\u001b[49m\u001b[43m(\u001b[49m\u001b[38;5;241;43m*\u001b[39;49m\u001b[38;5;28;43minput\u001b[39;49m\u001b[43m,\u001b[49m\u001b[43m \u001b[49m\u001b[38;5;241;43m*\u001b[39;49m\u001b[38;5;241;43m*\u001b[39;49m\u001b[43mkwargs\u001b[49m\u001b[43m)\u001b[49m\n\u001b[1;32m   1195\u001b[0m \u001b[38;5;66;03m# Do not call functions when jit is used\u001b[39;00m\n\u001b[1;32m   1196\u001b[0m full_backward_hooks, non_full_backward_hooks \u001b[38;5;241m=\u001b[39m [], []\n",
      "File \u001b[0;32m~/PycharmProjects/mts-ml-cup/seq2seq_modules/models.py:59\u001b[0m, in \u001b[0;36mLSTMModel.forward\u001b[0;34m(self, cat_features, cont_features, attention_mask)\u001b[0m\n\u001b[1;32m     57\u001b[0m \u001b[38;5;28;01mdef\u001b[39;00m \u001b[38;5;21mforward\u001b[39m(\u001b[38;5;28mself\u001b[39m, cat_features: torch\u001b[38;5;241m.\u001b[39mTensor, cont_features: torch\u001b[38;5;241m.\u001b[39mTensor,\n\u001b[1;32m     58\u001b[0m             attention_mask: torch\u001b[38;5;241m.\u001b[39mLongTensor) \u001b[38;5;241m-\u001b[39m\u001b[38;5;241m>\u001b[39m torch\u001b[38;5;241m.\u001b[39mTensor:\n\u001b[0;32m---> 59\u001b[0m     event_embeddings \u001b[38;5;241m=\u001b[39m \u001b[38;5;28;43mself\u001b[39;49m\u001b[38;5;241;43m.\u001b[39;49m\u001b[43mevent_embedding\u001b[49m\u001b[43m(\u001b[49m\u001b[43mcat_features\u001b[49m\u001b[43m,\u001b[49m\u001b[43m \u001b[49m\u001b[43mcont_features\u001b[49m\u001b[43m)\u001b[49m\n\u001b[1;32m     60\u001b[0m     event_embeddings \u001b[38;5;241m=\u001b[39m event_embeddings \u001b[38;5;241m*\u001b[39m attention_mask\u001b[38;5;241m.\u001b[39munsqueeze(\u001b[38;5;241m2\u001b[39m)\n\u001b[1;32m     61\u001b[0m     x, (h, c) \u001b[38;5;241m=\u001b[39m \u001b[38;5;28mself\u001b[39m\u001b[38;5;241m.\u001b[39mseq2seq(event_embeddings)\n",
      "File \u001b[0;32m~/PycharmProjects/mts-ml-cup/venv/lib/python3.10/site-packages/torch/nn/modules/module.py:1194\u001b[0m, in \u001b[0;36mModule._call_impl\u001b[0;34m(self, *input, **kwargs)\u001b[0m\n\u001b[1;32m   1190\u001b[0m \u001b[38;5;66;03m# If we don't have any hooks, we want to skip the rest of the logic in\u001b[39;00m\n\u001b[1;32m   1191\u001b[0m \u001b[38;5;66;03m# this function, and just call forward.\u001b[39;00m\n\u001b[1;32m   1192\u001b[0m \u001b[38;5;28;01mif\u001b[39;00m \u001b[38;5;129;01mnot\u001b[39;00m (\u001b[38;5;28mself\u001b[39m\u001b[38;5;241m.\u001b[39m_backward_hooks \u001b[38;5;129;01mor\u001b[39;00m \u001b[38;5;28mself\u001b[39m\u001b[38;5;241m.\u001b[39m_forward_hooks \u001b[38;5;129;01mor\u001b[39;00m \u001b[38;5;28mself\u001b[39m\u001b[38;5;241m.\u001b[39m_forward_pre_hooks \u001b[38;5;129;01mor\u001b[39;00m _global_backward_hooks\n\u001b[1;32m   1193\u001b[0m         \u001b[38;5;129;01mor\u001b[39;00m _global_forward_hooks \u001b[38;5;129;01mor\u001b[39;00m _global_forward_pre_hooks):\n\u001b[0;32m-> 1194\u001b[0m     \u001b[38;5;28;01mreturn\u001b[39;00m \u001b[43mforward_call\u001b[49m\u001b[43m(\u001b[49m\u001b[38;5;241;43m*\u001b[39;49m\u001b[38;5;28;43minput\u001b[39;49m\u001b[43m,\u001b[49m\u001b[43m \u001b[49m\u001b[38;5;241;43m*\u001b[39;49m\u001b[38;5;241;43m*\u001b[39;49m\u001b[43mkwargs\u001b[49m\u001b[43m)\u001b[49m\n\u001b[1;32m   1195\u001b[0m \u001b[38;5;66;03m# Do not call functions when jit is used\u001b[39;00m\n\u001b[1;32m   1196\u001b[0m full_backward_hooks, non_full_backward_hooks \u001b[38;5;241m=\u001b[39m [], []\n",
      "File \u001b[0;32m~/PycharmProjects/mts-ml-cup/seq2seq_modules/layers.py:43\u001b[0m, in \u001b[0;36mEventEncoder.forward\u001b[0;34m(self, cat_features, cont_features)\u001b[0m\n\u001b[1;32m     37\u001b[0m \u001b[38;5;28;01mdef\u001b[39;00m \u001b[38;5;21mforward\u001b[39m(\u001b[38;5;28mself\u001b[39m, cat_features: torch\u001b[38;5;241m.\u001b[39mTensor, cont_features: torch\u001b[38;5;241m.\u001b[39mTensor) \u001b[38;5;241m-\u001b[39m\u001b[38;5;241m>\u001b[39m torch\u001b[38;5;241m.\u001b[39mTensor:\n\u001b[1;32m     38\u001b[0m \u001b[38;5;250m    \u001b[39m\u001b[38;5;124;03m\"\"\"\u001b[39;00m\n\u001b[1;32m     39\u001b[0m \u001b[38;5;124;03m    :praram input_features:\u001b[39;00m\n\u001b[1;32m     40\u001b[0m \u001b[38;5;124;03m    :returns:\u001b[39;00m\n\u001b[1;32m     41\u001b[0m \u001b[38;5;124;03m    \"\"\"\u001b[39;00m\n\u001b[1;32m     42\u001b[0m     cont_embeddings \u001b[38;5;241m=\u001b[39m \u001b[38;5;28mself\u001b[39m\u001b[38;5;241m.\u001b[39mcont_embeddings(\n\u001b[0;32m---> 43\u001b[0m         \u001b[38;5;28;43mself\u001b[39;49m\u001b[38;5;241;43m.\u001b[39;49m\u001b[43mbatch_norm\u001b[49m\u001b[43m(\u001b[49m\u001b[43mcont_features\u001b[49m\u001b[43m[\u001b[49m\u001b[43m:\u001b[49m\u001b[43m,\u001b[49m\u001b[43m \u001b[49m\u001b[43m:\u001b[49m\u001b[43m,\u001b[49m\u001b[43m \u001b[49m\u001b[38;5;28;43mself\u001b[39;49m\u001b[38;5;241;43m.\u001b[39;49m\u001b[43mcont_feature_indexes\u001b[49m\u001b[43m]\u001b[49m\u001b[38;5;241;43m.\u001b[39;49m\u001b[43mpermute\u001b[49m\u001b[43m(\u001b[49m\u001b[38;5;241;43m0\u001b[39;49m\u001b[43m,\u001b[49m\u001b[43m \u001b[49m\u001b[38;5;241;43m2\u001b[39;49m\u001b[43m,\u001b[49m\u001b[43m \u001b[49m\u001b[38;5;241;43m1\u001b[39;49m\u001b[43m)\u001b[49m\u001b[38;5;241;43m.\u001b[39;49m\u001b[43mfloat\u001b[49m\u001b[43m(\u001b[49m\u001b[43m)\u001b[49m\u001b[43m)\u001b[49m\u001b[38;5;241m.\u001b[39mpermute(\u001b[38;5;241m0\u001b[39m, \u001b[38;5;241m2\u001b[39m, \u001b[38;5;241m1\u001b[39m)\n\u001b[1;32m     44\u001b[0m     )\n\u001b[1;32m     46\u001b[0m     \u001b[38;5;28;01mif\u001b[39;00m \u001b[38;5;28mlen\u001b[39m(\u001b[38;5;28mself\u001b[39m\u001b[38;5;241m.\u001b[39mcat_feature_indexes) \u001b[38;5;241m>\u001b[39m \u001b[38;5;241m0\u001b[39m:\n\u001b[1;32m     47\u001b[0m         cat_embeddings \u001b[38;5;241m=\u001b[39m torch\u001b[38;5;241m.\u001b[39mcat([\n\u001b[1;32m     48\u001b[0m                 \u001b[38;5;28mself\u001b[39m\u001b[38;5;241m.\u001b[39mcat_embeddings[i](\n\u001b[1;32m     49\u001b[0m                     cat_features[:, :, \u001b[38;5;28mself\u001b[39m\u001b[38;5;241m.\u001b[39mcat_feature_indexes[i]]\u001b[38;5;241m.\u001b[39mlong()\n\u001b[0;32m   (...)\u001b[0m\n\u001b[1;32m     52\u001b[0m             ], dim\u001b[38;5;241m=\u001b[39m\u001b[38;5;241m2\u001b[39m\n\u001b[1;32m     53\u001b[0m         )\n",
      "File \u001b[0;32m~/PycharmProjects/mts-ml-cup/venv/lib/python3.10/site-packages/torch/nn/modules/module.py:1194\u001b[0m, in \u001b[0;36mModule._call_impl\u001b[0;34m(self, *input, **kwargs)\u001b[0m\n\u001b[1;32m   1190\u001b[0m \u001b[38;5;66;03m# If we don't have any hooks, we want to skip the rest of the logic in\u001b[39;00m\n\u001b[1;32m   1191\u001b[0m \u001b[38;5;66;03m# this function, and just call forward.\u001b[39;00m\n\u001b[1;32m   1192\u001b[0m \u001b[38;5;28;01mif\u001b[39;00m \u001b[38;5;129;01mnot\u001b[39;00m (\u001b[38;5;28mself\u001b[39m\u001b[38;5;241m.\u001b[39m_backward_hooks \u001b[38;5;129;01mor\u001b[39;00m \u001b[38;5;28mself\u001b[39m\u001b[38;5;241m.\u001b[39m_forward_hooks \u001b[38;5;129;01mor\u001b[39;00m \u001b[38;5;28mself\u001b[39m\u001b[38;5;241m.\u001b[39m_forward_pre_hooks \u001b[38;5;129;01mor\u001b[39;00m _global_backward_hooks\n\u001b[1;32m   1193\u001b[0m         \u001b[38;5;129;01mor\u001b[39;00m _global_forward_hooks \u001b[38;5;129;01mor\u001b[39;00m _global_forward_pre_hooks):\n\u001b[0;32m-> 1194\u001b[0m     \u001b[38;5;28;01mreturn\u001b[39;00m \u001b[43mforward_call\u001b[49m\u001b[43m(\u001b[49m\u001b[38;5;241;43m*\u001b[39;49m\u001b[38;5;28;43minput\u001b[39;49m\u001b[43m,\u001b[49m\u001b[43m \u001b[49m\u001b[38;5;241;43m*\u001b[39;49m\u001b[38;5;241;43m*\u001b[39;49m\u001b[43mkwargs\u001b[49m\u001b[43m)\u001b[49m\n\u001b[1;32m   1195\u001b[0m \u001b[38;5;66;03m# Do not call functions when jit is used\u001b[39;00m\n\u001b[1;32m   1196\u001b[0m full_backward_hooks, non_full_backward_hooks \u001b[38;5;241m=\u001b[39m [], []\n",
      "File \u001b[0;32m~/PycharmProjects/mts-ml-cup/venv/lib/python3.10/site-packages/torch/nn/modules/batchnorm.py:143\u001b[0m, in \u001b[0;36m_BatchNorm.forward\u001b[0;34m(self, input)\u001b[0m\n\u001b[1;32m    138\u001b[0m \u001b[38;5;28mself\u001b[39m\u001b[38;5;241m.\u001b[39m_check_input_dim(\u001b[38;5;28minput\u001b[39m)\n\u001b[1;32m    140\u001b[0m \u001b[38;5;66;03m# exponential_average_factor is set to self.momentum\u001b[39;00m\n\u001b[1;32m    141\u001b[0m \u001b[38;5;66;03m# (when it is available) only so that it gets updated\u001b[39;00m\n\u001b[1;32m    142\u001b[0m \u001b[38;5;66;03m# in ONNX graph when this node is exported to ONNX.\u001b[39;00m\n\u001b[0;32m--> 143\u001b[0m \u001b[38;5;28;01mif\u001b[39;00m \u001b[38;5;28mself\u001b[39m\u001b[38;5;241m.\u001b[39mmomentum \u001b[38;5;129;01mis\u001b[39;00m \u001b[38;5;28;01mNone\u001b[39;00m:\n\u001b[1;32m    144\u001b[0m     exponential_average_factor \u001b[38;5;241m=\u001b[39m \u001b[38;5;241m0.0\u001b[39m\n\u001b[1;32m    145\u001b[0m \u001b[38;5;28;01melse\u001b[39;00m:\n",
      "\u001b[0;31mKeyboardInterrupt\u001b[0m: "
     ]
    }
   ],
   "source": [
    "train_fold_metrics, eval_fold_metrics, embeddings_df, logits_df = trainer.fit_transform(\n",
    "                          dataset=dataset,\n",
    "                          loss_function=nn.CrossEntropyLoss,\n",
    "                          metric_func=metric,\n",
    "                          optimizer=torch.optim.AdamW,\n",
    "                          get_scheduler=get_cosine_schedule_with_warmup,\n",
    "                          strat_array=targets,\n",
    "                          target_name=\"is_male\",\n",
    "                          user_ids=user_ids,\n",
    "                          shuffle=True,\n",
    "                          epochs=10,\n",
    "                          lr=1e-3,\n",
    "                          weight_decay=1e-2,\n",
    "                          num_warmup_steps=0,\n",
    "                          batch_size=256,\n",
    "                          random_state=69,\n",
    "                          device= \"cuda\"\n",
    ")"
   ]
  },
  {
   "cell_type": "code",
   "execution_count": null,
   "id": "04506645",
   "metadata": {},
   "outputs": [],
   "source": [
    "CV_FEATURES = \"../cv_data/\"\n",
    "MODEL_ZOO = \"../model_zoo/\""
   ]
  },
  {
   "cell_type": "code",
   "execution_count": 20,
   "id": "58e227de",
   "metadata": {},
   "outputs": [],
   "source": [
    "trainer.save_model(model_name=MODEL_ZOO + trainer.model_name)"
   ]
  },
  {
   "cell_type": "code",
   "execution_count": 21,
   "id": "f0fbc293",
   "metadata": {},
   "outputs": [],
   "source": [
    "embeddings_df.to_parquet(f\"{CV_FEATURES}/is_male_cv_embeddings_10_folds.parquet.gzip\",\n",
    "                          compression='gzip')\n",
    "logits_df.to_parquet(f\"{CV_FEATURES}/is_male_cv_logits_10_folds.parquet.gzip\",\n",
    "                          compression='gzip')"
   ]
  }
 ],
 "metadata": {
  "hide_input": false,
  "kernelspec": {
   "display_name": "Python 3 (ipykernel)",
   "language": "python",
   "name": "python3"
  },
  "language_info": {
   "codemirror_mode": {
    "name": "ipython",
    "version": 3
   },
   "file_extension": ".py",
   "mimetype": "text/x-python",
   "name": "python",
   "nbconvert_exporter": "python",
   "pygments_lexer": "ipython3",
   "version": "3.10.6"
  },
  "toc": {
   "base_numbering": 1,
   "nav_menu": {},
   "number_sections": true,
   "sideBar": true,
   "skip_h1_title": false,
   "title_cell": "Table of Contents",
   "title_sidebar": "Contents",
   "toc_cell": false,
   "toc_position": {},
   "toc_section_display": true,
   "toc_window_display": false
  },
  "varInspector": {
   "cols": {
    "lenName": 16,
    "lenType": 16,
    "lenVar": 40
   },
   "kernels_config": {
    "python": {
     "delete_cmd_postfix": "",
     "delete_cmd_prefix": "del ",
     "library": "var_list.py",
     "varRefreshCmd": "print(var_dic_list())"
    },
    "r": {
     "delete_cmd_postfix": ") ",
     "delete_cmd_prefix": "rm(",
     "library": "var_list.r",
     "varRefreshCmd": "cat(var_dic_list()) "
    }
   },
   "types_to_exclude": [
    "module",
    "function",
    "builtin_function_or_method",
    "instance",
    "_Feature"
   ],
   "window_display": false
  }
 },
 "nbformat": 4,
 "nbformat_minor": 5
}
