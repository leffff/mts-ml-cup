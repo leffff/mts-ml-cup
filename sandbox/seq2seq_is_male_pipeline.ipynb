{
 "cells": [
  {
   "cell_type": "markdown",
   "id": "3c646f0c",
   "metadata": {},
   "source": [
    "# seq2seq"
   ]
  },
  {
   "cell_type": "code",
   "execution_count": 11,
   "id": "88993512",
   "metadata": {},
   "outputs": [],
   "source": [
    "import gc\n",
    "import sys\n",
    "import os\n",
    "import warnings\n",
    "from tqdm import tqdm\n",
    "\n",
    "sys.path.append(os.path.abspath(\"../\"))\n",
    "os.environ['OPENBLAS_NUM_THREADS'] = '1'\n",
    "warnings.filterwarnings('ignore')\n",
    "tqdm.pandas()"
   ]
  },
  {
   "cell_type": "code",
   "execution_count": 12,
   "id": "179dfb36",
   "metadata": {},
   "outputs": [],
   "source": [
    "import pandas as pd\n",
    "import numpy as np\n",
    "import time\n",
    "import polars as pl\n",
    "import scipy\n",
    "import implicit\n",
    "import bisect\n",
    "import sklearn.metrics as m\n",
    "from catboost import CatBoostClassifier, CatBoostRegressor, Pool\n",
    "\n",
    "from sklearn.model_selection import train_test_split\n",
    "from sklearn.calibration import calibration_curve, CalibratedClassifierCV\n",
    "from sklearn.utils.class_weight import compute_class_weight\n",
    "\n",
    "import torch\n",
    "from torch.utils.data import TensorDataset, DataLoader\n",
    "from torch import nn\n",
    "\n",
    "from transformers import get_constant_schedule"
   ]
  },
  {
   "cell_type": "code",
   "execution_count": 13,
   "id": "08884ce0",
   "metadata": {},
   "outputs": [],
   "source": [
    "import importlib\n",
    "\n",
    "import modules\n",
    "import fe_modules\n",
    "import seq2seq_modules\n",
    "\n",
    "importlib.reload(modules)\n",
    "importlib.reload(fe_modules)\n",
    "importlib.reload(seq2seq_modules)\n",
    "\n",
    "from modules.memory_utils import pandas_reduce_mem_usage, pandas_string_to_cat\n",
    "from seq2seq_modules.models import LSTMModel\n",
    "from seq2seq_modules.weight_initialization import weights_init_uniform_rule\n",
    "from seq2seq_modules.loops import cross_validation, single_model_training\n",
    "from seq2seq_modules.utils import age_bucket\n",
    "from seq2seq_modules.metrics import AGE_METRIC\n",
    "from fe_modules.encoders import CatBoostEncoderWrapper"
   ]
  },
  {
   "cell_type": "code",
   "execution_count": 14,
   "id": "eed31e56",
   "metadata": {},
   "outputs": [],
   "source": [
    "def my_reset(*varnames):\n",
    "    \"\"\"\n",
    "    varnames are what you want to keep\n",
    "    \"\"\"\n",
    "    globals_ = globals()\n",
    "    to_save = {v: globals_[v] for v in varnames}\n",
    "    to_save['my_reset'] = my_reset  # lets keep this function by default\n",
    "    del globals_\n",
    "    get_ipython().magic(\"reset\")\n",
    "    globals().update(to_save)"
   ]
  },
  {
   "cell_type": "markdown",
   "id": "47431eb8",
   "metadata": {},
   "source": [
    "## Read and process"
   ]
  },
  {
   "cell_type": "code",
   "execution_count": 20,
   "id": "a17c3983",
   "metadata": {},
   "outputs": [],
   "source": [
    "LOCAL_DATA_PATH = '../data/'\n",
    "SEQ2SEQ_DATA_PATH = '../seq2seq_data/'\n",
    "\n",
    "SPLIT_SEED = 42"
   ]
  },
  {
   "cell_type": "code",
   "execution_count": 6,
   "id": "8bd60063",
   "metadata": {},
   "outputs": [
    {
     "name": "stdout",
     "output_type": "stream",
     "text": [
      "Memory usage of dataframe is 26346.12 MB\n"
     ]
    },
    {
     "data": {
      "application/vnd.jupyter.widget-view+json": {
       "model_id": "e0e5c248fe444842a053cc487da742bf",
       "version_major": 2,
       "version_minor": 0
      },
      "text/plain": [
       "  0%|          | 0/30 [00:00<?, ?it/s]"
      ]
     },
     "metadata": {},
     "output_type": "display_data"
    },
    {
     "name": "stdout",
     "output_type": "stream",
     "text": [
      "Memory usage after optimization is: 26346.12 MB\n",
      "Decreased by 0.0%\n"
     ]
    },
    {
     "data": {
      "text/html": [
       "<div>\n",
       "<style scoped>\n",
       "    .dataframe tbody tr th:only-of-type {\n",
       "        vertical-align: middle;\n",
       "    }\n",
       "\n",
       "    .dataframe tbody tr th {\n",
       "        vertical-align: top;\n",
       "    }\n",
       "\n",
       "    .dataframe thead th {\n",
       "        text-align: right;\n",
       "    }\n",
       "</style>\n",
       "<table border=\"1\" class=\"dataframe\">\n",
       "  <thead>\n",
       "    <tr style=\"text-align: right;\">\n",
       "      <th></th>\n",
       "      <th>region_name</th>\n",
       "      <th>city_name</th>\n",
       "      <th>cpe_manufacturer_name</th>\n",
       "      <th>cpe_model_name</th>\n",
       "      <th>url_host</th>\n",
       "      <th>cpe_type_cd</th>\n",
       "      <th>cpe_model_os_type</th>\n",
       "      <th>price</th>\n",
       "      <th>part_of_day</th>\n",
       "      <th>request_cnt</th>\n",
       "      <th>...</th>\n",
       "      <th>timezone</th>\n",
       "      <th>geo_lat</th>\n",
       "      <th>geo_lon</th>\n",
       "      <th>population</th>\n",
       "      <th>dist_to_Moscow</th>\n",
       "      <th>dist_to_SaintP</th>\n",
       "      <th>dist_to_Novosibirsk</th>\n",
       "      <th>dist_to_Ekaterinburg</th>\n",
       "      <th>dist_to_Vladivostok</th>\n",
       "      <th>domain</th>\n",
       "    </tr>\n",
       "  </thead>\n",
       "  <tbody>\n",
       "    <tr>\n",
       "      <th>0</th>\n",
       "      <td>21</td>\n",
       "      <td>409</td>\n",
       "      <td>1</td>\n",
       "      <td>589</td>\n",
       "      <td>5788</td>\n",
       "      <td>2</td>\n",
       "      <td>1</td>\n",
       "      <td>20368.0</td>\n",
       "      <td>2</td>\n",
       "      <td>1</td>\n",
       "      <td>...</td>\n",
       "      <td>3</td>\n",
       "      <td>45.040161</td>\n",
       "      <td>38.975964</td>\n",
       "      <td>744933</td>\n",
       "      <td>1195.817871</td>\n",
       "      <td>1755.62085</td>\n",
       "      <td>3275.137451</td>\n",
       "      <td>1992.558472</td>\n",
       "      <td>6999.525391</td>\n",
       "      <td>761</td>\n",
       "    </tr>\n",
       "    <tr>\n",
       "      <th>1</th>\n",
       "      <td>21</td>\n",
       "      <td>409</td>\n",
       "      <td>1</td>\n",
       "      <td>589</td>\n",
       "      <td>12900</td>\n",
       "      <td>2</td>\n",
       "      <td>1</td>\n",
       "      <td>20368.0</td>\n",
       "      <td>2</td>\n",
       "      <td>1</td>\n",
       "      <td>...</td>\n",
       "      <td>3</td>\n",
       "      <td>45.040161</td>\n",
       "      <td>38.975964</td>\n",
       "      <td>744933</td>\n",
       "      <td>1195.817871</td>\n",
       "      <td>1755.62085</td>\n",
       "      <td>3275.137451</td>\n",
       "      <td>1992.558472</td>\n",
       "      <td>6999.525391</td>\n",
       "      <td>549</td>\n",
       "    </tr>\n",
       "    <tr>\n",
       "      <th>2</th>\n",
       "      <td>21</td>\n",
       "      <td>409</td>\n",
       "      <td>1</td>\n",
       "      <td>589</td>\n",
       "      <td>17626</td>\n",
       "      <td>2</td>\n",
       "      <td>1</td>\n",
       "      <td>20368.0</td>\n",
       "      <td>0</td>\n",
       "      <td>1</td>\n",
       "      <td>...</td>\n",
       "      <td>3</td>\n",
       "      <td>45.040161</td>\n",
       "      <td>38.975964</td>\n",
       "      <td>744933</td>\n",
       "      <td>1195.817871</td>\n",
       "      <td>1755.62085</td>\n",
       "      <td>3275.137451</td>\n",
       "      <td>1992.558472</td>\n",
       "      <td>6999.525391</td>\n",
       "      <td>712</td>\n",
       "    </tr>\n",
       "    <tr>\n",
       "      <th>3</th>\n",
       "      <td>21</td>\n",
       "      <td>409</td>\n",
       "      <td>1</td>\n",
       "      <td>589</td>\n",
       "      <td>59366</td>\n",
       "      <td>2</td>\n",
       "      <td>1</td>\n",
       "      <td>20368.0</td>\n",
       "      <td>0</td>\n",
       "      <td>1</td>\n",
       "      <td>...</td>\n",
       "      <td>3</td>\n",
       "      <td>45.040161</td>\n",
       "      <td>38.975964</td>\n",
       "      <td>744933</td>\n",
       "      <td>1195.817871</td>\n",
       "      <td>1755.62085</td>\n",
       "      <td>3275.137451</td>\n",
       "      <td>1992.558472</td>\n",
       "      <td>6999.525391</td>\n",
       "      <td>712</td>\n",
       "    </tr>\n",
       "    <tr>\n",
       "      <th>4</th>\n",
       "      <td>21</td>\n",
       "      <td>409</td>\n",
       "      <td>1</td>\n",
       "      <td>589</td>\n",
       "      <td>59366</td>\n",
       "      <td>2</td>\n",
       "      <td>1</td>\n",
       "      <td>20368.0</td>\n",
       "      <td>0</td>\n",
       "      <td>1</td>\n",
       "      <td>...</td>\n",
       "      <td>3</td>\n",
       "      <td>45.040161</td>\n",
       "      <td>38.975964</td>\n",
       "      <td>744933</td>\n",
       "      <td>1195.817871</td>\n",
       "      <td>1755.62085</td>\n",
       "      <td>3275.137451</td>\n",
       "      <td>1992.558472</td>\n",
       "      <td>6999.525391</td>\n",
       "      <td>712</td>\n",
       "    </tr>\n",
       "  </tbody>\n",
       "</table>\n",
       "<p>5 rows × 30 columns</p>\n",
       "</div>"
      ],
      "text/plain": [
       "   region_name  city_name  cpe_manufacturer_name  cpe_model_name  url_host  \\\n",
       "0           21        409                      1             589      5788   \n",
       "1           21        409                      1             589     12900   \n",
       "2           21        409                      1             589     17626   \n",
       "3           21        409                      1             589     59366   \n",
       "4           21        409                      1             589     59366   \n",
       "\n",
       "   cpe_type_cd  cpe_model_os_type    price  part_of_day  request_cnt  ...  \\\n",
       "0            2                  1  20368.0            2            1  ...   \n",
       "1            2                  1  20368.0            2            1  ...   \n",
       "2            2                  1  20368.0            0            1  ...   \n",
       "3            2                  1  20368.0            0            1  ...   \n",
       "4            2                  1  20368.0            0            1  ...   \n",
       "\n",
       "   timezone    geo_lat    geo_lon  population  dist_to_Moscow  dist_to_SaintP  \\\n",
       "0         3  45.040161  38.975964      744933     1195.817871      1755.62085   \n",
       "1         3  45.040161  38.975964      744933     1195.817871      1755.62085   \n",
       "2         3  45.040161  38.975964      744933     1195.817871      1755.62085   \n",
       "3         3  45.040161  38.975964      744933     1195.817871      1755.62085   \n",
       "4         3  45.040161  38.975964      744933     1195.817871      1755.62085   \n",
       "\n",
       "   dist_to_Novosibirsk  dist_to_Ekaterinburg  dist_to_Vladivostok  domain  \n",
       "0          3275.137451           1992.558472          6999.525391     761  \n",
       "1          3275.137451           1992.558472          6999.525391     549  \n",
       "2          3275.137451           1992.558472          6999.525391     712  \n",
       "3          3275.137451           1992.558472          6999.525391     712  \n",
       "4          3275.137451           1992.558472          6999.525391     712  \n",
       "\n",
       "[5 rows x 30 columns]"
      ]
     },
     "execution_count": 6,
     "metadata": {},
     "output_type": "execute_result"
    }
   ],
   "source": [
    "df = pandas_reduce_mem_usage(\n",
    "    pd.read_parquet(f\"{SEQ2SEQ_DATA_PATH}/stages/stage_2.parquet.gzip\")\n",
    ")\n",
    "df.head()"
   ]
  },
  {
   "cell_type": "code",
   "execution_count": 7,
   "id": "f2908bf7",
   "metadata": {
    "scrolled": true
   },
   "outputs": [
    {
     "name": "stdout",
     "output_type": "stream",
     "text": [
      "Memory usage of dataframe is 5.04 MB\n"
     ]
    },
    {
     "data": {
      "application/vnd.jupyter.widget-view+json": {
       "model_id": "6c9b39e4af8e44e28f3a7ea687056009",
       "version_major": 2,
       "version_minor": 0
      },
      "text/plain": [
       "  0%|          | 0/2 [00:00<?, ?it/s]"
      ]
     },
     "metadata": {},
     "output_type": "display_data"
    },
    {
     "name": "stdout",
     "output_type": "stream",
     "text": [
      "Memory usage after optimization is: 3.28 MB\n",
      "Decreased by 35.0%\n"
     ]
    },
    {
     "data": {
      "text/html": [
       "<div>\n",
       "<style scoped>\n",
       "    .dataframe tbody tr th:only-of-type {\n",
       "        vertical-align: middle;\n",
       "    }\n",
       "\n",
       "    .dataframe tbody tr th {\n",
       "        vertical-align: top;\n",
       "    }\n",
       "\n",
       "    .dataframe thead th {\n",
       "        text-align: right;\n",
       "    }\n",
       "</style>\n",
       "<table border=\"1\" class=\"dataframe\">\n",
       "  <thead>\n",
       "    <tr style=\"text-align: right;\">\n",
       "      <th></th>\n",
       "      <th>user_id</th>\n",
       "      <th>is_male</th>\n",
       "    </tr>\n",
       "  </thead>\n",
       "  <tbody>\n",
       "    <tr>\n",
       "      <th>350459</th>\n",
       "      <td>350459</td>\n",
       "      <td>1</td>\n",
       "    </tr>\n",
       "    <tr>\n",
       "      <th>188276</th>\n",
       "      <td>188276</td>\n",
       "      <td>1</td>\n",
       "    </tr>\n",
       "    <tr>\n",
       "      <th>99002</th>\n",
       "      <td>99002</td>\n",
       "      <td>0</td>\n",
       "    </tr>\n",
       "    <tr>\n",
       "      <th>155506</th>\n",
       "      <td>155506</td>\n",
       "      <td>0</td>\n",
       "    </tr>\n",
       "    <tr>\n",
       "      <th>213873</th>\n",
       "      <td>213873</td>\n",
       "      <td>0</td>\n",
       "    </tr>\n",
       "  </tbody>\n",
       "</table>\n",
       "</div>"
      ],
      "text/plain": [
       "        user_id  is_male\n",
       "350459   350459        1\n",
       "188276   188276        1\n",
       "99002     99002        0\n",
       "155506   155506        0\n",
       "213873   213873        0"
      ]
     },
     "execution_count": 7,
     "metadata": {},
     "output_type": "execute_result"
    }
   ],
   "source": [
    "target = pd.read_parquet(\n",
    "             f'{LOCAL_DATA_PATH}public_train.pqt', columns=[\"user_id\", \"is_male\"]\n",
    "         ).dropna()\n",
    "target = target[target[\"is_male\"] != \"NA\"]\n",
    "target[\"is_male\"] = target[\"is_male\"].astype(np.int32)\n",
    "target = pandas_reduce_mem_usage(target)\n",
    "\n",
    "target.head()"
   ]
  },
  {
   "cell_type": "code",
   "execution_count": 8,
   "id": "a348681b",
   "metadata": {},
   "outputs": [
    {
     "name": "stdout",
     "output_type": "stream",
     "text": [
      "Memory usage of dataframe is 17680.39 MB\n"
     ]
    },
    {
     "data": {
      "application/vnd.jupyter.widget-view+json": {
       "model_id": "4b850647012042859a4093721622bc08",
       "version_major": 2,
       "version_minor": 0
      },
      "text/plain": [
       "  0%|          | 0/31 [00:00<?, ?it/s]"
      ]
     },
     "metadata": {},
     "output_type": "display_data"
    },
    {
     "name": "stdout",
     "output_type": "stream",
     "text": [
      "Memory usage after optimization is: 17077.65 MB\n",
      "Decreased by 3.4%\n"
     ]
    },
    {
     "data": {
      "text/html": [
       "<div>\n",
       "<style scoped>\n",
       "    .dataframe tbody tr th:only-of-type {\n",
       "        vertical-align: middle;\n",
       "    }\n",
       "\n",
       "    .dataframe tbody tr th {\n",
       "        vertical-align: top;\n",
       "    }\n",
       "\n",
       "    .dataframe thead th {\n",
       "        text-align: right;\n",
       "    }\n",
       "</style>\n",
       "<table border=\"1\" class=\"dataframe\">\n",
       "  <thead>\n",
       "    <tr style=\"text-align: right;\">\n",
       "      <th></th>\n",
       "      <th>region_name</th>\n",
       "      <th>city_name</th>\n",
       "      <th>cpe_manufacturer_name</th>\n",
       "      <th>cpe_model_name</th>\n",
       "      <th>url_host</th>\n",
       "      <th>cpe_type_cd</th>\n",
       "      <th>cpe_model_os_type</th>\n",
       "      <th>price</th>\n",
       "      <th>part_of_day</th>\n",
       "      <th>request_cnt</th>\n",
       "      <th>...</th>\n",
       "      <th>geo_lat</th>\n",
       "      <th>geo_lon</th>\n",
       "      <th>population</th>\n",
       "      <th>dist_to_Moscow</th>\n",
       "      <th>dist_to_SaintP</th>\n",
       "      <th>dist_to_Novosibirsk</th>\n",
       "      <th>dist_to_Ekaterinburg</th>\n",
       "      <th>dist_to_Vladivostok</th>\n",
       "      <th>domain</th>\n",
       "      <th>is_male</th>\n",
       "    </tr>\n",
       "  </thead>\n",
       "  <tbody>\n",
       "    <tr>\n",
       "      <th>2272</th>\n",
       "      <td>60</td>\n",
       "      <td>732</td>\n",
       "      <td>27</td>\n",
       "      <td>211</td>\n",
       "      <td>5790</td>\n",
       "      <td>2</td>\n",
       "      <td>0</td>\n",
       "      <td>74259.0</td>\n",
       "      <td>3</td>\n",
       "      <td>1</td>\n",
       "      <td>...</td>\n",
       "      <td>59.939133</td>\n",
       "      <td>30.315901</td>\n",
       "      <td>4848742</td>\n",
       "      <td>635.758972</td>\n",
       "      <td>0.024454</td>\n",
       "      <td>3115.404541</td>\n",
       "      <td>1787.926147</td>\n",
       "      <td>6555.964355</td>\n",
       "      <td>761</td>\n",
       "      <td>1</td>\n",
       "    </tr>\n",
       "    <tr>\n",
       "      <th>2273</th>\n",
       "      <td>60</td>\n",
       "      <td>732</td>\n",
       "      <td>27</td>\n",
       "      <td>211</td>\n",
       "      <td>65865</td>\n",
       "      <td>2</td>\n",
       "      <td>0</td>\n",
       "      <td>74259.0</td>\n",
       "      <td>0</td>\n",
       "      <td>3</td>\n",
       "      <td>...</td>\n",
       "      <td>59.939133</td>\n",
       "      <td>30.315901</td>\n",
       "      <td>4848742</td>\n",
       "      <td>635.758972</td>\n",
       "      <td>0.024454</td>\n",
       "      <td>3115.404541</td>\n",
       "      <td>1787.926147</td>\n",
       "      <td>6555.964355</td>\n",
       "      <td>549</td>\n",
       "      <td>1</td>\n",
       "    </tr>\n",
       "    <tr>\n",
       "      <th>2274</th>\n",
       "      <td>60</td>\n",
       "      <td>732</td>\n",
       "      <td>27</td>\n",
       "      <td>211</td>\n",
       "      <td>111474</td>\n",
       "      <td>2</td>\n",
       "      <td>0</td>\n",
       "      <td>74259.0</td>\n",
       "      <td>0</td>\n",
       "      <td>3</td>\n",
       "      <td>...</td>\n",
       "      <td>59.939133</td>\n",
       "      <td>30.315901</td>\n",
       "      <td>4848742</td>\n",
       "      <td>635.758972</td>\n",
       "      <td>0.024454</td>\n",
       "      <td>3115.404541</td>\n",
       "      <td>1787.926147</td>\n",
       "      <td>6555.964355</td>\n",
       "      <td>761</td>\n",
       "      <td>1</td>\n",
       "    </tr>\n",
       "    <tr>\n",
       "      <th>2275</th>\n",
       "      <td>14</td>\n",
       "      <td>311</td>\n",
       "      <td>27</td>\n",
       "      <td>211</td>\n",
       "      <td>111474</td>\n",
       "      <td>2</td>\n",
       "      <td>0</td>\n",
       "      <td>74259.0</td>\n",
       "      <td>1</td>\n",
       "      <td>2</td>\n",
       "      <td>...</td>\n",
       "      <td>54.707470</td>\n",
       "      <td>20.507324</td>\n",
       "      <td>431491</td>\n",
       "      <td>1092.055054</td>\n",
       "      <td>828.233154</td>\n",
       "      <td>3870.873535</td>\n",
       "      <td>2490.750244</td>\n",
       "      <td>7378.328613</td>\n",
       "      <td>761</td>\n",
       "      <td>1</td>\n",
       "    </tr>\n",
       "    <tr>\n",
       "      <th>2276</th>\n",
       "      <td>60</td>\n",
       "      <td>732</td>\n",
       "      <td>27</td>\n",
       "      <td>211</td>\n",
       "      <td>125409</td>\n",
       "      <td>2</td>\n",
       "      <td>0</td>\n",
       "      <td>74259.0</td>\n",
       "      <td>0</td>\n",
       "      <td>1</td>\n",
       "      <td>...</td>\n",
       "      <td>59.939133</td>\n",
       "      <td>30.315901</td>\n",
       "      <td>4848742</td>\n",
       "      <td>635.758972</td>\n",
       "      <td>0.024454</td>\n",
       "      <td>3115.404541</td>\n",
       "      <td>1787.926147</td>\n",
       "      <td>6555.964355</td>\n",
       "      <td>549</td>\n",
       "      <td>1</td>\n",
       "    </tr>\n",
       "  </tbody>\n",
       "</table>\n",
       "<p>5 rows × 31 columns</p>\n",
       "</div>"
      ],
      "text/plain": [
       "      region_name  city_name  cpe_manufacturer_name  cpe_model_name  url_host  \\\n",
       "2272           60        732                     27             211      5790   \n",
       "2273           60        732                     27             211     65865   \n",
       "2274           60        732                     27             211    111474   \n",
       "2275           14        311                     27             211    111474   \n",
       "2276           60        732                     27             211    125409   \n",
       "\n",
       "      cpe_type_cd  cpe_model_os_type    price  part_of_day  request_cnt  ...  \\\n",
       "2272            2                  0  74259.0            3            1  ...   \n",
       "2273            2                  0  74259.0            0            3  ...   \n",
       "2274            2                  0  74259.0            0            3  ...   \n",
       "2275            2                  0  74259.0            1            2  ...   \n",
       "2276            2                  0  74259.0            0            1  ...   \n",
       "\n",
       "        geo_lat    geo_lon  population  dist_to_Moscow  dist_to_SaintP  \\\n",
       "2272  59.939133  30.315901     4848742      635.758972        0.024454   \n",
       "2273  59.939133  30.315901     4848742      635.758972        0.024454   \n",
       "2274  59.939133  30.315901     4848742      635.758972        0.024454   \n",
       "2275  54.707470  20.507324      431491     1092.055054      828.233154   \n",
       "2276  59.939133  30.315901     4848742      635.758972        0.024454   \n",
       "\n",
       "      dist_to_Novosibirsk  dist_to_Ekaterinburg  dist_to_Vladivostok  domain  \\\n",
       "2272          3115.404541           1787.926147          6555.964355     761   \n",
       "2273          3115.404541           1787.926147          6555.964355     549   \n",
       "2274          3115.404541           1787.926147          6555.964355     761   \n",
       "2275          3870.873535           2490.750244          7378.328613     761   \n",
       "2276          3115.404541           1787.926147          6555.964355     549   \n",
       "\n",
       "      is_male  \n",
       "2272        1  \n",
       "2273        1  \n",
       "2274        1  \n",
       "2275        1  \n",
       "2276        1  \n",
       "\n",
       "[5 rows x 31 columns]"
      ]
     },
     "execution_count": 8,
     "metadata": {},
     "output_type": "execute_result"
    }
   ],
   "source": [
    "df = df.merge(target, how=\"left\", on=\"user_id\").dropna(subset=[\"is_male\"])\n",
    "df[\"is_male\"] = df[\"is_male\"].astype(np.int32)\n",
    "df = pandas_reduce_mem_usage(df)\n",
    "df.head()"
   ]
  },
  {
   "cell_type": "markdown",
   "id": "5c24f8ef",
   "metadata": {},
   "source": [
    "## CatBoostEncoder"
   ]
  },
  {
   "cell_type": "code",
   "execution_count": 9,
   "id": "9f971f14",
   "metadata": {},
   "outputs": [
    {
     "name": "stdout",
     "output_type": "stream",
     "text": [
      "Once deleted, variables cannot be recovered. Proceed (y/[n])? y\n"
     ]
    }
   ],
   "source": [
    "my_reset(\"df\")"
   ]
  },
  {
   "cell_type": "code",
   "execution_count": 10,
   "id": "add7c5b5",
   "metadata": {},
   "outputs": [],
   "source": [
    "ids = [\"user_id\"]\n",
    "\n",
    "cat_features = [\n",
    "    \"region_name\",\n",
    "    \"city_name\",\n",
    "    \"cpe_manufacturer_name\",\n",
    "    \"cpe_model_name\",\n",
    "    \"url_host\",\n",
    "    \"cpe_type_cd\",\n",
    "    \"cpe_model_os_type\",\n",
    "    \"part_of_day\",\n",
    "    \"domain\",\n",
    "    \"capital_marker\"\n",
    "]\n",
    "\n",
    "continous_features = [\n",
    "    \"request_cnt\",\n",
    "    \"price\",\n",
    "    \"timestamp\",\n",
    "    \"relative_timestamp\",\n",
    "    \"geo_lat\",\n",
    "    \"geo_lon\",\n",
    "    \"population\",\n",
    "    \"timezone\",\n",
    "    \"dist_to_Moscow\",\n",
    "    \"dist_to_SaintP\",\n",
    "    \"dist_to_Novosibirsk\",\n",
    "    \"dist_to_Ekaterinburg\",\n",
    "    \"dist_to_Vladivostok\",\n",
    "]"
   ]
  },
  {
   "cell_type": "code",
   "execution_count": 15,
   "id": "064e3510",
   "metadata": {},
   "outputs": [],
   "source": [
    "cbe = CatBoostEncoderWrapper(cat_features=cat_features, sort_col=\"timestamp\")"
   ]
  },
  {
   "cell_type": "code",
   "execution_count": 16,
   "id": "52842669",
   "metadata": {},
   "outputs": [],
   "source": [
    "df = cbe.fit_transform(df, target_col=\"is_male\")"
   ]
  },
  {
   "cell_type": "code",
   "execution_count": 17,
   "id": "606687b3",
   "metadata": {},
   "outputs": [
    {
     "data": {
      "text/html": [
       "<div>\n",
       "<style scoped>\n",
       "    .dataframe tbody tr th:only-of-type {\n",
       "        vertical-align: middle;\n",
       "    }\n",
       "\n",
       "    .dataframe tbody tr th {\n",
       "        vertical-align: top;\n",
       "    }\n",
       "\n",
       "    .dataframe thead th {\n",
       "        text-align: right;\n",
       "    }\n",
       "</style>\n",
       "<table border=\"1\" class=\"dataframe\">\n",
       "  <thead>\n",
       "    <tr style=\"text-align: right;\">\n",
       "      <th></th>\n",
       "      <th>region_name</th>\n",
       "      <th>city_name</th>\n",
       "      <th>cpe_manufacturer_name</th>\n",
       "      <th>cpe_model_name</th>\n",
       "      <th>url_host</th>\n",
       "      <th>cpe_type_cd</th>\n",
       "      <th>cpe_model_os_type</th>\n",
       "      <th>price</th>\n",
       "      <th>part_of_day</th>\n",
       "      <th>request_cnt</th>\n",
       "      <th>...</th>\n",
       "      <th>geo_lat</th>\n",
       "      <th>geo_lon</th>\n",
       "      <th>population</th>\n",
       "      <th>dist_to_Moscow</th>\n",
       "      <th>dist_to_SaintP</th>\n",
       "      <th>dist_to_Novosibirsk</th>\n",
       "      <th>dist_to_Ekaterinburg</th>\n",
       "      <th>dist_to_Vladivostok</th>\n",
       "      <th>domain</th>\n",
       "      <th>is_male</th>\n",
       "    </tr>\n",
       "  </thead>\n",
       "  <tbody>\n",
       "    <tr>\n",
       "      <th>222920455</th>\n",
       "      <td>0.532138</td>\n",
       "      <td>0.546962</td>\n",
       "      <td>0.585743</td>\n",
       "      <td>0.465024</td>\n",
       "      <td>0.391117</td>\n",
       "      <td>0.520253</td>\n",
       "      <td>0.534561</td>\n",
       "      <td>7518.0</td>\n",
       "      <td>0.558622</td>\n",
       "      <td>3</td>\n",
       "      <td>...</td>\n",
       "      <td>56.838520</td>\n",
       "      <td>60.605492</td>\n",
       "      <td>1377738</td>\n",
       "      <td>1421.572632</td>\n",
       "      <td>1788.366211</td>\n",
       "      <td>1402.666992</td>\n",
       "      <td>0.492633</td>\n",
       "      <td>5078.970215</td>\n",
       "      <td>0.520468</td>\n",
       "      <td>1</td>\n",
       "    </tr>\n",
       "    <tr>\n",
       "      <th>297748971</th>\n",
       "      <td>0.507079</td>\n",
       "      <td>0.517030</td>\n",
       "      <td>0.585743</td>\n",
       "      <td>0.610906</td>\n",
       "      <td>0.507601</td>\n",
       "      <td>0.520253</td>\n",
       "      <td>0.534561</td>\n",
       "      <td>16506.0</td>\n",
       "      <td>0.558622</td>\n",
       "      <td>2</td>\n",
       "      <td>...</td>\n",
       "      <td>53.347996</td>\n",
       "      <td>83.779808</td>\n",
       "      <td>635585</td>\n",
       "      <td>2943.152344</td>\n",
       "      <td>3264.852539</td>\n",
       "      <td>195.463120</td>\n",
       "      <td>1522.064697</td>\n",
       "      <td>3671.712158</td>\n",
       "      <td>0.520468</td>\n",
       "      <td>1</td>\n",
       "    </tr>\n",
       "    <tr>\n",
       "      <th>297748923</th>\n",
       "      <td>0.507079</td>\n",
       "      <td>0.517030</td>\n",
       "      <td>0.585743</td>\n",
       "      <td>0.610906</td>\n",
       "      <td>0.841265</td>\n",
       "      <td>0.520253</td>\n",
       "      <td>0.534561</td>\n",
       "      <td>16506.0</td>\n",
       "      <td>0.558622</td>\n",
       "      <td>1</td>\n",
       "      <td>...</td>\n",
       "      <td>53.347996</td>\n",
       "      <td>83.779808</td>\n",
       "      <td>635585</td>\n",
       "      <td>2943.152344</td>\n",
       "      <td>3264.852539</td>\n",
       "      <td>195.463120</td>\n",
       "      <td>1522.064697</td>\n",
       "      <td>3671.712158</td>\n",
       "      <td>0.562050</td>\n",
       "      <td>1</td>\n",
       "    </tr>\n",
       "    <tr>\n",
       "      <th>165648271</th>\n",
       "      <td>0.542839</td>\n",
       "      <td>0.454799</td>\n",
       "      <td>0.523298</td>\n",
       "      <td>0.510829</td>\n",
       "      <td>0.507601</td>\n",
       "      <td>0.520253</td>\n",
       "      <td>0.534561</td>\n",
       "      <td>8837.0</td>\n",
       "      <td>0.558622</td>\n",
       "      <td>1</td>\n",
       "      <td>...</td>\n",
       "      <td>54.886272</td>\n",
       "      <td>38.078228</td>\n",
       "      <td>66942</td>\n",
       "      <td>101.128540</td>\n",
       "      <td>729.969788</td>\n",
       "      <td>2822.776367</td>\n",
       "      <td>1420.008057</td>\n",
       "      <td>6458.165527</td>\n",
       "      <td>0.520468</td>\n",
       "      <td>1</td>\n",
       "    </tr>\n",
       "    <tr>\n",
       "      <th>254399097</th>\n",
       "      <td>0.547100</td>\n",
       "      <td>0.578520</td>\n",
       "      <td>0.504982</td>\n",
       "      <td>0.471366</td>\n",
       "      <td>0.552496</td>\n",
       "      <td>0.520253</td>\n",
       "      <td>0.534561</td>\n",
       "      <td>24037.0</td>\n",
       "      <td>0.558622</td>\n",
       "      <td>1</td>\n",
       "      <td>...</td>\n",
       "      <td>47.267632</td>\n",
       "      <td>39.875687</td>\n",
       "      <td>41984</td>\n",
       "      <td>957.165527</td>\n",
       "      <td>1542.100586</td>\n",
       "      <td>3078.790283</td>\n",
       "      <td>1764.336426</td>\n",
       "      <td>6802.782715</td>\n",
       "      <td>0.516220</td>\n",
       "      <td>1</td>\n",
       "    </tr>\n",
       "  </tbody>\n",
       "</table>\n",
       "<p>5 rows × 31 columns</p>\n",
       "</div>"
      ],
      "text/plain": [
       "           region_name  city_name  cpe_manufacturer_name  cpe_model_name  \\\n",
       "222920455     0.532138   0.546962               0.585743        0.465024   \n",
       "297748971     0.507079   0.517030               0.585743        0.610906   \n",
       "297748923     0.507079   0.517030               0.585743        0.610906   \n",
       "165648271     0.542839   0.454799               0.523298        0.510829   \n",
       "254399097     0.547100   0.578520               0.504982        0.471366   \n",
       "\n",
       "           url_host  cpe_type_cd  cpe_model_os_type    price  part_of_day  \\\n",
       "222920455  0.391117     0.520253           0.534561   7518.0     0.558622   \n",
       "297748971  0.507601     0.520253           0.534561  16506.0     0.558622   \n",
       "297748923  0.841265     0.520253           0.534561  16506.0     0.558622   \n",
       "165648271  0.507601     0.520253           0.534561   8837.0     0.558622   \n",
       "254399097  0.552496     0.520253           0.534561  24037.0     0.558622   \n",
       "\n",
       "           request_cnt  ...    geo_lat    geo_lon  population  dist_to_Moscow  \\\n",
       "222920455            3  ...  56.838520  60.605492     1377738     1421.572632   \n",
       "297748971            2  ...  53.347996  83.779808      635585     2943.152344   \n",
       "297748923            1  ...  53.347996  83.779808      635585     2943.152344   \n",
       "165648271            1  ...  54.886272  38.078228       66942      101.128540   \n",
       "254399097            1  ...  47.267632  39.875687       41984      957.165527   \n",
       "\n",
       "           dist_to_SaintP  dist_to_Novosibirsk  dist_to_Ekaterinburg  \\\n",
       "222920455     1788.366211          1402.666992              0.492633   \n",
       "297748971     3264.852539           195.463120           1522.064697   \n",
       "297748923     3264.852539           195.463120           1522.064697   \n",
       "165648271      729.969788          2822.776367           1420.008057   \n",
       "254399097     1542.100586          3078.790283           1764.336426   \n",
       "\n",
       "           dist_to_Vladivostok    domain  is_male  \n",
       "222920455          5078.970215  0.520468        1  \n",
       "297748971          3671.712158  0.520468        1  \n",
       "297748923          3671.712158  0.562050        1  \n",
       "165648271          6458.165527  0.520468        1  \n",
       "254399097          6802.782715  0.516220        1  \n",
       "\n",
       "[5 rows x 31 columns]"
      ]
     },
     "execution_count": 17,
     "metadata": {},
     "output_type": "execute_result"
    }
   ],
   "source": [
    "df.head()"
   ]
  },
  {
   "cell_type": "code",
   "execution_count": 18,
   "id": "68d1e711",
   "metadata": {},
   "outputs": [],
   "source": [
    "cbe.save(\"../model_zoo\", \"is_male_cbe\")"
   ]
  },
  {
   "cell_type": "code",
   "execution_count": 21,
   "id": "9ed6ad3b",
   "metadata": {},
   "outputs": [],
   "source": [
    "df.to_parquet(f\"{SEQ2SEQ_DATA_PATH}/version_5_is_male.parquet.gzip\",\n",
    "              compression='gzip')"
   ]
  },
  {
   "cell_type": "markdown",
   "id": "019dc87e",
   "metadata": {},
   "source": [
    "## Make torch Dataset"
   ]
  },
  {
   "cell_type": "code",
   "execution_count": 1,
   "id": "a9a9b4b8",
   "metadata": {},
   "outputs": [],
   "source": [
    "import gc\n",
    "import sys\n",
    "import os\n",
    "import warnings\n",
    "from tqdm import tqdm\n",
    "\n",
    "sys.path.append(os.path.abspath(\"../\"))\n",
    "os.environ['OPENBLAS_NUM_THREADS'] = '1'\n",
    "warnings.filterwarnings('ignore')\n",
    "tqdm.pandas()"
   ]
  },
  {
   "cell_type": "code",
   "execution_count": 2,
   "id": "1be69dfc",
   "metadata": {},
   "outputs": [],
   "source": [
    "import pandas as pd\n",
    "import numpy as np\n",
    "import time\n",
    "import polars as pl\n",
    "import scipy\n",
    "import implicit\n",
    "import bisect\n",
    "import sklearn.metrics as m\n",
    "from catboost import CatBoostClassifier, CatBoostRegressor, Pool\n",
    "\n",
    "from sklearn.model_selection import train_test_split\n",
    "from sklearn.calibration import calibration_curve, CalibratedClassifierCV\n",
    "from sklearn.utils.class_weight import compute_class_weight\n",
    "\n",
    "import torch\n",
    "from torch.utils.data import TensorDataset, DataLoader\n",
    "from torch import nn\n",
    "\n",
    "from torch.optim.lr_scheduler import ReduceLROnPlateau\n",
    "from transformers import get_constant_schedule, get_cosine_schedule_with_warmup"
   ]
  },
  {
   "cell_type": "code",
   "execution_count": 3,
   "id": "5b1b7d8a",
   "metadata": {},
   "outputs": [],
   "source": [
    "import importlib\n",
    "\n",
    "import modules\n",
    "import fe_modules\n",
    "import seq2seq_modules\n",
    "\n",
    "importlib.reload(modules)\n",
    "importlib.reload(fe_modules)\n",
    "importlib.reload(seq2seq_modules)\n",
    "\n",
    "from modules.memory_utils import pandas_reduce_mem_usage, pandas_string_to_cat\n",
    "from seq2seq_modules.data import TargetDataset\n",
    "from seq2seq_modules.models import LSTMModel, StarterBERTModel, AttentionPoolingBERTModel\n",
    "from seq2seq_modules.weight_initialization import weights_init_uniform_rule, weights_init_xavier\n",
    "from seq2seq_modules.loops import cross_validation, single_model_training\n",
    "from seq2seq_modules.trainer import CVTrainer\n",
    "from seq2seq_modules.utils import age_bucket\n",
    "from seq2seq_modules.metrics import GENDER_METRIC\n",
    "from seq2seq_modules.utils import fix_random_state"
   ]
  },
  {
   "cell_type": "code",
   "execution_count": 4,
   "id": "2de54692",
   "metadata": {},
   "outputs": [],
   "source": [
    "def my_reset(*varnames):\n",
    "    \"\"\"\n",
    "    varnames are what you want to keep\n",
    "    \"\"\"\n",
    "    globals_ = globals()\n",
    "    to_save = {v: globals_[v] for v in varnames}\n",
    "    to_save['my_reset'] = my_reset  # lets keep this function by default\n",
    "    del globals_\n",
    "    get_ipython().magic(\"reset\")\n",
    "    globals().update(to_save)"
   ]
  },
  {
   "cell_type": "code",
   "execution_count": 5,
   "id": "3decfe44",
   "metadata": {},
   "outputs": [],
   "source": [
    "LOCAL_DATA_PATH = '../seq2seq_data/'\n",
    "SEED = 42\n",
    "fix_random_state(SEED)"
   ]
  },
  {
   "cell_type": "code",
   "execution_count": 6,
   "id": "71987699",
   "metadata": {},
   "outputs": [],
   "source": [
    "ids = [\"user_id\"]\n",
    "\n",
    "cat_features = [\n",
    "    \"region_name\",\n",
    "    \"city_name\",\n",
    "    \"cpe_manufacturer_name\",\n",
    "    \"cpe_model_name\",\n",
    "    \"url_host\",\n",
    "    \"cpe_type_cd\",\n",
    "    \"cpe_model_os_type\",\n",
    "    \"part_of_day\",\n",
    "    \"domain\",\n",
    "    \"capital_marker\"\n",
    "]\n",
    "\n",
    "continous_features = [\n",
    "    \"request_cnt\",\n",
    "    \"price\",\n",
    "    \"timestamp\",\n",
    "    \"relative_timestamp\",\n",
    "    \"geo_lat\",\n",
    "    \"geo_lon\",\n",
    "    \"population\",\n",
    "    \"timezone\",\n",
    "    \"dist_to_Moscow\",\n",
    "    \"dist_to_SaintP\",\n",
    "    \"dist_to_Novosibirsk\",\n",
    "    \"dist_to_Ekaterinburg\",\n",
    "    \"dist_to_Vladivostok\",\n",
    "]"
   ]
  },
  {
   "cell_type": "code",
   "execution_count": 7,
   "id": "15aef6c1",
   "metadata": {
    "scrolled": true
   },
   "outputs": [
    {
     "name": "stdout",
     "output_type": "stream",
     "text": [
      "Memory usage of dataframe is 29333.37 MB\n"
     ]
    },
    {
     "data": {
      "application/vnd.jupyter.widget-view+json": {
       "model_id": "0c42098197cf4752b177491398e417ad",
       "version_major": 2,
       "version_minor": 0
      },
      "text/plain": [
       "  0%|          | 0/31 [00:00<?, ?it/s]"
      ]
     },
     "metadata": {},
     "output_type": "display_data"
    },
    {
     "name": "stdout",
     "output_type": "stream",
     "text": [
      "Memory usage after optimization is: 29333.37 MB\n",
      "Decreased by 0.0%\n"
     ]
    },
    {
     "data": {
      "text/html": [
       "<div>\n",
       "<style scoped>\n",
       "    .dataframe tbody tr th:only-of-type {\n",
       "        vertical-align: middle;\n",
       "    }\n",
       "\n",
       "    .dataframe tbody tr th {\n",
       "        vertical-align: top;\n",
       "    }\n",
       "\n",
       "    .dataframe thead th {\n",
       "        text-align: right;\n",
       "    }\n",
       "</style>\n",
       "<table border=\"1\" class=\"dataframe\">\n",
       "  <thead>\n",
       "    <tr style=\"text-align: right;\">\n",
       "      <th></th>\n",
       "      <th>region_name</th>\n",
       "      <th>city_name</th>\n",
       "      <th>cpe_manufacturer_name</th>\n",
       "      <th>cpe_model_name</th>\n",
       "      <th>url_host</th>\n",
       "      <th>cpe_type_cd</th>\n",
       "      <th>cpe_model_os_type</th>\n",
       "      <th>price</th>\n",
       "      <th>part_of_day</th>\n",
       "      <th>request_cnt</th>\n",
       "      <th>...</th>\n",
       "      <th>geo_lat</th>\n",
       "      <th>geo_lon</th>\n",
       "      <th>population</th>\n",
       "      <th>dist_to_Moscow</th>\n",
       "      <th>dist_to_SaintP</th>\n",
       "      <th>dist_to_Novosibirsk</th>\n",
       "      <th>dist_to_Ekaterinburg</th>\n",
       "      <th>dist_to_Vladivostok</th>\n",
       "      <th>domain</th>\n",
       "      <th>is_male</th>\n",
       "    </tr>\n",
       "  </thead>\n",
       "  <tbody>\n",
       "    <tr>\n",
       "      <th>222920455</th>\n",
       "      <td>0.532138</td>\n",
       "      <td>0.546962</td>\n",
       "      <td>0.585743</td>\n",
       "      <td>0.465024</td>\n",
       "      <td>0.391117</td>\n",
       "      <td>0.520253</td>\n",
       "      <td>0.534561</td>\n",
       "      <td>7518.0</td>\n",
       "      <td>0.558622</td>\n",
       "      <td>3</td>\n",
       "      <td>...</td>\n",
       "      <td>56.838520</td>\n",
       "      <td>60.605492</td>\n",
       "      <td>1377738</td>\n",
       "      <td>1421.572632</td>\n",
       "      <td>1788.366211</td>\n",
       "      <td>1402.666992</td>\n",
       "      <td>0.492633</td>\n",
       "      <td>5078.970215</td>\n",
       "      <td>0.520468</td>\n",
       "      <td>1</td>\n",
       "    </tr>\n",
       "    <tr>\n",
       "      <th>297748971</th>\n",
       "      <td>0.507079</td>\n",
       "      <td>0.517030</td>\n",
       "      <td>0.585743</td>\n",
       "      <td>0.610906</td>\n",
       "      <td>0.507601</td>\n",
       "      <td>0.520253</td>\n",
       "      <td>0.534561</td>\n",
       "      <td>16506.0</td>\n",
       "      <td>0.558622</td>\n",
       "      <td>2</td>\n",
       "      <td>...</td>\n",
       "      <td>53.347996</td>\n",
       "      <td>83.779808</td>\n",
       "      <td>635585</td>\n",
       "      <td>2943.152344</td>\n",
       "      <td>3264.852539</td>\n",
       "      <td>195.463120</td>\n",
       "      <td>1522.064697</td>\n",
       "      <td>3671.712158</td>\n",
       "      <td>0.520468</td>\n",
       "      <td>1</td>\n",
       "    </tr>\n",
       "    <tr>\n",
       "      <th>297748923</th>\n",
       "      <td>0.507079</td>\n",
       "      <td>0.517030</td>\n",
       "      <td>0.585743</td>\n",
       "      <td>0.610906</td>\n",
       "      <td>0.841265</td>\n",
       "      <td>0.520253</td>\n",
       "      <td>0.534561</td>\n",
       "      <td>16506.0</td>\n",
       "      <td>0.558622</td>\n",
       "      <td>1</td>\n",
       "      <td>...</td>\n",
       "      <td>53.347996</td>\n",
       "      <td>83.779808</td>\n",
       "      <td>635585</td>\n",
       "      <td>2943.152344</td>\n",
       "      <td>3264.852539</td>\n",
       "      <td>195.463120</td>\n",
       "      <td>1522.064697</td>\n",
       "      <td>3671.712158</td>\n",
       "      <td>0.562050</td>\n",
       "      <td>1</td>\n",
       "    </tr>\n",
       "    <tr>\n",
       "      <th>165648271</th>\n",
       "      <td>0.542839</td>\n",
       "      <td>0.454799</td>\n",
       "      <td>0.523298</td>\n",
       "      <td>0.510829</td>\n",
       "      <td>0.507601</td>\n",
       "      <td>0.520253</td>\n",
       "      <td>0.534561</td>\n",
       "      <td>8837.0</td>\n",
       "      <td>0.558622</td>\n",
       "      <td>1</td>\n",
       "      <td>...</td>\n",
       "      <td>54.886272</td>\n",
       "      <td>38.078228</td>\n",
       "      <td>66942</td>\n",
       "      <td>101.128540</td>\n",
       "      <td>729.969788</td>\n",
       "      <td>2822.776367</td>\n",
       "      <td>1420.008057</td>\n",
       "      <td>6458.165527</td>\n",
       "      <td>0.520468</td>\n",
       "      <td>1</td>\n",
       "    </tr>\n",
       "    <tr>\n",
       "      <th>254399097</th>\n",
       "      <td>0.547100</td>\n",
       "      <td>0.578520</td>\n",
       "      <td>0.504982</td>\n",
       "      <td>0.471366</td>\n",
       "      <td>0.552496</td>\n",
       "      <td>0.520253</td>\n",
       "      <td>0.534561</td>\n",
       "      <td>24037.0</td>\n",
       "      <td>0.558622</td>\n",
       "      <td>1</td>\n",
       "      <td>...</td>\n",
       "      <td>47.267632</td>\n",
       "      <td>39.875687</td>\n",
       "      <td>41984</td>\n",
       "      <td>957.165527</td>\n",
       "      <td>1542.100586</td>\n",
       "      <td>3078.790283</td>\n",
       "      <td>1764.336426</td>\n",
       "      <td>6802.782715</td>\n",
       "      <td>0.516220</td>\n",
       "      <td>1</td>\n",
       "    </tr>\n",
       "  </tbody>\n",
       "</table>\n",
       "<p>5 rows × 31 columns</p>\n",
       "</div>"
      ],
      "text/plain": [
       "           region_name  city_name  cpe_manufacturer_name  cpe_model_name  \\\n",
       "222920455     0.532138   0.546962               0.585743        0.465024   \n",
       "297748971     0.507079   0.517030               0.585743        0.610906   \n",
       "297748923     0.507079   0.517030               0.585743        0.610906   \n",
       "165648271     0.542839   0.454799               0.523298        0.510829   \n",
       "254399097     0.547100   0.578520               0.504982        0.471366   \n",
       "\n",
       "           url_host  cpe_type_cd  cpe_model_os_type    price  part_of_day  \\\n",
       "222920455  0.391117     0.520253           0.534561   7518.0     0.558622   \n",
       "297748971  0.507601     0.520253           0.534561  16506.0     0.558622   \n",
       "297748923  0.841265     0.520253           0.534561  16506.0     0.558622   \n",
       "165648271  0.507601     0.520253           0.534561   8837.0     0.558622   \n",
       "254399097  0.552496     0.520253           0.534561  24037.0     0.558622   \n",
       "\n",
       "           request_cnt  ...    geo_lat    geo_lon  population  dist_to_Moscow  \\\n",
       "222920455            3  ...  56.838520  60.605492     1377738     1421.572632   \n",
       "297748971            2  ...  53.347996  83.779808      635585     2943.152344   \n",
       "297748923            1  ...  53.347996  83.779808      635585     2943.152344   \n",
       "165648271            1  ...  54.886272  38.078228       66942      101.128540   \n",
       "254399097            1  ...  47.267632  39.875687       41984      957.165527   \n",
       "\n",
       "           dist_to_SaintP  dist_to_Novosibirsk  dist_to_Ekaterinburg  \\\n",
       "222920455     1788.366211          1402.666992              0.492633   \n",
       "297748971     3264.852539           195.463120           1522.064697   \n",
       "297748923     3264.852539           195.463120           1522.064697   \n",
       "165648271      729.969788          2822.776367           1420.008057   \n",
       "254399097     1542.100586          3078.790283           1764.336426   \n",
       "\n",
       "           dist_to_Vladivostok    domain  is_male  \n",
       "222920455          5078.970215  0.520468        1  \n",
       "297748971          3671.712158  0.520468        1  \n",
       "297748923          3671.712158  0.562050        1  \n",
       "165648271          6458.165527  0.520468        1  \n",
       "254399097          6802.782715  0.516220        1  \n",
       "\n",
       "[5 rows x 31 columns]"
      ]
     },
     "execution_count": 7,
     "metadata": {},
     "output_type": "execute_result"
    }
   ],
   "source": [
    "df = pandas_reduce_mem_usage(\n",
    "    pd.read_parquet(f\"{LOCAL_DATA_PATH}/version_5_is_male.parquet.gzip\")\n",
    ")\n",
    "df.head()"
   ]
  },
  {
   "cell_type": "code",
   "execution_count": 8,
   "id": "193efed5",
   "metadata": {},
   "outputs": [
    {
     "data": {
      "text/plain": [
       "21"
      ]
     },
     "execution_count": 8,
     "metadata": {},
     "output_type": "execute_result"
    }
   ],
   "source": [
    "gc.collect()"
   ]
  },
  {
   "cell_type": "code",
   "execution_count": 9,
   "id": "6176a280",
   "metadata": {},
   "outputs": [
    {
     "data": {
      "application/vnd.jupyter.widget-view+json": {
       "model_id": "5c4053e605414371b115108d219f0cb0",
       "version_major": 2,
       "version_minor": 0
      },
      "text/plain": [
       "  0%|          | 0/210673077 [00:00<?, ?it/s]"
      ]
     },
     "metadata": {},
     "output_type": "display_data"
    },
    {
     "data": {
      "text/plain": [
       "<seq2seq_modules.data.TargetDataset at 0x7f2a28726aa0>"
      ]
     },
     "execution_count": 9,
     "metadata": {},
     "output_type": "execute_result"
    }
   ],
   "source": [
    "dataset = TargetDataset(\n",
    "         df,\n",
    "         agg_column=\"user_id\", \n",
    "         time_column=\"timestamp\",\n",
    "         target_column=\"is_male\",\n",
    "         cat_features=[],\n",
    "         cont_features=continous_features + cat_features,\n",
    "         max_len=1024,\n",
    "         padding_side=\"left\",\n",
    ")\n",
    "user_ids = dataset.get_agg_col()\n",
    "dataset"
   ]
  },
  {
   "cell_type": "code",
   "execution_count": 10,
   "id": "4a0c584a",
   "metadata": {},
   "outputs": [
    {
     "data": {
      "text/html": [
       "<div>\n",
       "<style scoped>\n",
       "    .dataframe tbody tr th:only-of-type {\n",
       "        vertical-align: middle;\n",
       "    }\n",
       "\n",
       "    .dataframe tbody tr th {\n",
       "        vertical-align: top;\n",
       "    }\n",
       "\n",
       "    .dataframe thead th {\n",
       "        text-align: right;\n",
       "    }\n",
       "</style>\n",
       "<table border=\"1\" class=\"dataframe\">\n",
       "  <thead>\n",
       "    <tr style=\"text-align: right;\">\n",
       "      <th></th>\n",
       "      <th>region_name</th>\n",
       "      <th>city_name</th>\n",
       "      <th>cpe_manufacturer_name</th>\n",
       "      <th>cpe_model_name</th>\n",
       "      <th>url_host</th>\n",
       "      <th>cpe_type_cd</th>\n",
       "      <th>cpe_model_os_type</th>\n",
       "      <th>price</th>\n",
       "      <th>part_of_day</th>\n",
       "      <th>request_cnt</th>\n",
       "      <th>...</th>\n",
       "      <th>geo_lat</th>\n",
       "      <th>geo_lon</th>\n",
       "      <th>population</th>\n",
       "      <th>dist_to_Moscow</th>\n",
       "      <th>dist_to_SaintP</th>\n",
       "      <th>dist_to_Novosibirsk</th>\n",
       "      <th>dist_to_Ekaterinburg</th>\n",
       "      <th>dist_to_Vladivostok</th>\n",
       "      <th>domain</th>\n",
       "      <th>is_male</th>\n",
       "    </tr>\n",
       "  </thead>\n",
       "  <tbody>\n",
       "    <tr>\n",
       "      <th>222920455</th>\n",
       "      <td>0.532138</td>\n",
       "      <td>0.546962</td>\n",
       "      <td>0.585743</td>\n",
       "      <td>0.465024</td>\n",
       "      <td>0.391117</td>\n",
       "      <td>0.520253</td>\n",
       "      <td>0.534561</td>\n",
       "      <td>7518.0</td>\n",
       "      <td>0.558622</td>\n",
       "      <td>3</td>\n",
       "      <td>...</td>\n",
       "      <td>56.838520</td>\n",
       "      <td>60.605492</td>\n",
       "      <td>1377738</td>\n",
       "      <td>1421.572632</td>\n",
       "      <td>1788.366211</td>\n",
       "      <td>1402.666992</td>\n",
       "      <td>0.492633</td>\n",
       "      <td>5078.970215</td>\n",
       "      <td>0.520468</td>\n",
       "      <td>1</td>\n",
       "    </tr>\n",
       "    <tr>\n",
       "      <th>297748971</th>\n",
       "      <td>0.507079</td>\n",
       "      <td>0.517030</td>\n",
       "      <td>0.585743</td>\n",
       "      <td>0.610906</td>\n",
       "      <td>0.507601</td>\n",
       "      <td>0.520253</td>\n",
       "      <td>0.534561</td>\n",
       "      <td>16506.0</td>\n",
       "      <td>0.558622</td>\n",
       "      <td>2</td>\n",
       "      <td>...</td>\n",
       "      <td>53.347996</td>\n",
       "      <td>83.779808</td>\n",
       "      <td>635585</td>\n",
       "      <td>2943.152344</td>\n",
       "      <td>3264.852539</td>\n",
       "      <td>195.463120</td>\n",
       "      <td>1522.064697</td>\n",
       "      <td>3671.712158</td>\n",
       "      <td>0.520468</td>\n",
       "      <td>1</td>\n",
       "    </tr>\n",
       "    <tr>\n",
       "      <th>297748923</th>\n",
       "      <td>0.507079</td>\n",
       "      <td>0.517030</td>\n",
       "      <td>0.585743</td>\n",
       "      <td>0.610906</td>\n",
       "      <td>0.841265</td>\n",
       "      <td>0.520253</td>\n",
       "      <td>0.534561</td>\n",
       "      <td>16506.0</td>\n",
       "      <td>0.558622</td>\n",
       "      <td>1</td>\n",
       "      <td>...</td>\n",
       "      <td>53.347996</td>\n",
       "      <td>83.779808</td>\n",
       "      <td>635585</td>\n",
       "      <td>2943.152344</td>\n",
       "      <td>3264.852539</td>\n",
       "      <td>195.463120</td>\n",
       "      <td>1522.064697</td>\n",
       "      <td>3671.712158</td>\n",
       "      <td>0.562050</td>\n",
       "      <td>1</td>\n",
       "    </tr>\n",
       "    <tr>\n",
       "      <th>165648271</th>\n",
       "      <td>0.542839</td>\n",
       "      <td>0.454799</td>\n",
       "      <td>0.523298</td>\n",
       "      <td>0.510829</td>\n",
       "      <td>0.507601</td>\n",
       "      <td>0.520253</td>\n",
       "      <td>0.534561</td>\n",
       "      <td>8837.0</td>\n",
       "      <td>0.558622</td>\n",
       "      <td>1</td>\n",
       "      <td>...</td>\n",
       "      <td>54.886272</td>\n",
       "      <td>38.078228</td>\n",
       "      <td>66942</td>\n",
       "      <td>101.128540</td>\n",
       "      <td>729.969788</td>\n",
       "      <td>2822.776367</td>\n",
       "      <td>1420.008057</td>\n",
       "      <td>6458.165527</td>\n",
       "      <td>0.520468</td>\n",
       "      <td>1</td>\n",
       "    </tr>\n",
       "    <tr>\n",
       "      <th>254399097</th>\n",
       "      <td>0.547100</td>\n",
       "      <td>0.578520</td>\n",
       "      <td>0.504982</td>\n",
       "      <td>0.471366</td>\n",
       "      <td>0.552496</td>\n",
       "      <td>0.520253</td>\n",
       "      <td>0.534561</td>\n",
       "      <td>24037.0</td>\n",
       "      <td>0.558622</td>\n",
       "      <td>1</td>\n",
       "      <td>...</td>\n",
       "      <td>47.267632</td>\n",
       "      <td>39.875687</td>\n",
       "      <td>41984</td>\n",
       "      <td>957.165527</td>\n",
       "      <td>1542.100586</td>\n",
       "      <td>3078.790283</td>\n",
       "      <td>1764.336426</td>\n",
       "      <td>6802.782715</td>\n",
       "      <td>0.516220</td>\n",
       "      <td>1</td>\n",
       "    </tr>\n",
       "  </tbody>\n",
       "</table>\n",
       "<p>5 rows × 31 columns</p>\n",
       "</div>"
      ],
      "text/plain": [
       "           region_name  city_name  cpe_manufacturer_name  cpe_model_name  \\\n",
       "222920455     0.532138   0.546962               0.585743        0.465024   \n",
       "297748971     0.507079   0.517030               0.585743        0.610906   \n",
       "297748923     0.507079   0.517030               0.585743        0.610906   \n",
       "165648271     0.542839   0.454799               0.523298        0.510829   \n",
       "254399097     0.547100   0.578520               0.504982        0.471366   \n",
       "\n",
       "           url_host  cpe_type_cd  cpe_model_os_type    price  part_of_day  \\\n",
       "222920455  0.391117     0.520253           0.534561   7518.0     0.558622   \n",
       "297748971  0.507601     0.520253           0.534561  16506.0     0.558622   \n",
       "297748923  0.841265     0.520253           0.534561  16506.0     0.558622   \n",
       "165648271  0.507601     0.520253           0.534561   8837.0     0.558622   \n",
       "254399097  0.552496     0.520253           0.534561  24037.0     0.558622   \n",
       "\n",
       "           request_cnt  ...    geo_lat    geo_lon  population  dist_to_Moscow  \\\n",
       "222920455            3  ...  56.838520  60.605492     1377738     1421.572632   \n",
       "297748971            2  ...  53.347996  83.779808      635585     2943.152344   \n",
       "297748923            1  ...  53.347996  83.779808      635585     2943.152344   \n",
       "165648271            1  ...  54.886272  38.078228       66942      101.128540   \n",
       "254399097            1  ...  47.267632  39.875687       41984      957.165527   \n",
       "\n",
       "           dist_to_SaintP  dist_to_Novosibirsk  dist_to_Ekaterinburg  \\\n",
       "222920455     1788.366211          1402.666992              0.492633   \n",
       "297748971     3264.852539           195.463120           1522.064697   \n",
       "297748923     3264.852539           195.463120           1522.064697   \n",
       "165648271      729.969788          2822.776367           1420.008057   \n",
       "254399097     1542.100586          3078.790283           1764.336426   \n",
       "\n",
       "           dist_to_Vladivostok    domain  is_male  \n",
       "222920455          5078.970215  0.520468        1  \n",
       "297748971          3671.712158  0.520468        1  \n",
       "297748923          3671.712158  0.562050        1  \n",
       "165648271          6458.165527  0.520468        1  \n",
       "254399097          6802.782715  0.516220        1  \n",
       "\n",
       "[5 rows x 31 columns]"
      ]
     },
     "execution_count": 10,
     "metadata": {},
     "output_type": "execute_result"
    }
   ],
   "source": [
    "df.head()"
   ]
  },
  {
   "cell_type": "markdown",
   "id": "78f36334",
   "metadata": {},
   "source": [
    "## Feed to the model"
   ]
  },
  {
   "cell_type": "code",
   "execution_count": 11,
   "id": "23b5e8a3",
   "metadata": {
    "scrolled": true
   },
   "outputs": [
    {
     "name": "stderr",
     "output_type": "stream",
     "text": [
      "100%|███████████████████████████████████████| 23/23 [00:00<00:00, 518650.49it/s]\n"
     ]
    }
   ],
   "source": [
    "cat_feature_indexes = []\n",
    "cont_feature_indexes = []\n",
    "vocab_sizes = {}\n",
    "\n",
    "# for i in tqdm(range(len(cat_features))):\n",
    "#     cat_feature_indexes.append(i)\n",
    "#     vocab_sizes[i] = int(df[cat_features[i]].max() + 1)\n",
    "\n",
    "for i in tqdm(range(len(continous_features + cat_features))):\n",
    "    cont_feature_indexes.append(i)"
   ]
  },
  {
   "cell_type": "code",
   "execution_count": 12,
   "id": "69849399",
   "metadata": {},
   "outputs": [
    {
     "name": "stderr",
     "output_type": "stream",
     "text": [
      "100%|████████████████████████████████| 264326/264326 [00:17<00:00, 14831.93it/s]\n"
     ]
    },
    {
     "data": {
      "text/plain": [
       "tensor([0, 0, 0,  ..., 0, 1, 0])"
      ]
     },
     "execution_count": 12,
     "metadata": {},
     "output_type": "execute_result"
    }
   ],
   "source": [
    "targets = torch.cat([el[3].unsqueeze(0) for el in tqdm(dataset)], dim=0)\n",
    "targets"
   ]
  },
  {
   "cell_type": "code",
   "execution_count": 13,
   "id": "de39e685",
   "metadata": {},
   "outputs": [],
   "source": [
    "# model = AttentionPoolingBERTModel(\n",
    "#         cat_feature_indexes=cat_feature_indexes,\n",
    "#         vocab_sizes=vocab_sizes,\n",
    "#         cont_feature_indexes=cont_feature_indexes,\n",
    "#         encoder_hidden_dim=16,\n",
    "#         hidden_dim=256,\n",
    "#         dim_feedforward=512,\n",
    "#         output_dim=7,\n",
    "#         pe_type=\"trainable\",\n",
    "#         use_mask=False,\n",
    "#         max_len=1024,\n",
    "#         use_key_padding_mask=True,\n",
    "# )\n",
    "\n",
    "# model = StarterBERTModel(\n",
    "#         cat_feature_indexes=cat_feature_indexes,\n",
    "#         vocab_sizes=vocab_sizes,\n",
    "#         cont_feature_indexes=cont_feature_indexes,\n",
    "#         encoder_hidden_dim=16,\n",
    "#         hidden_dim=256,\n",
    "#         dim_feedforward=512,\n",
    "#         output_dim=2,\n",
    "#         pe_type=\"trainable\",\n",
    "#         use_mask=False,\n",
    "#         max_len=1024,\n",
    "#         use_key_padding_mask=False,\n",
    "#         starter=\"randn\",\n",
    "#         shared=False\n",
    "# )\n",
    "\n",
    "model = LSTMModel(\n",
    "        cat_feature_indexes=cat_feature_indexes,\n",
    "        vocab_sizes=vocab_sizes,\n",
    "        cont_feature_indexes=cont_feature_indexes,\n",
    "        encoder_hidden_dim=16,\n",
    "        hidden_dim=256,\n",
    "        num_layers=3,\n",
    "        output_dim=2,\n",
    ")\n",
    "\n",
    "weights_init_xavier(model)\n",
    "\n",
    "metric = GENDER_METRIC"
   ]
  },
  {
   "cell_type": "code",
   "execution_count": 14,
   "id": "9ec814fa",
   "metadata": {
    "scrolled": true
   },
   "outputs": [],
   "source": [
    "trainer = CVTrainer(\n",
    "            model_name=\"is_male_rnn_with_cbe_10_folds\",\n",
    "            model=model,\n",
    "            n_folds=10,\n",
    ")"
   ]
  },
  {
   "cell_type": "code",
   "execution_count": 15,
   "id": "2ad9817a",
   "metadata": {
    "scrolled": true
   },
   "outputs": [
    {
     "name": "stdout",
     "output_type": "stream",
     "text": [
      "FOLD 0\n",
      "--------------------------------\n"
     ]
    },
    {
     "data": {
      "application/vnd.jupyter.widget-view+json": {
       "model_id": "2cc0cbfd1cf54245b0712e7db01bfce0",
       "version_major": 2,
       "version_minor": 0
      },
      "text/plain": [
       "  0%|          | 0/930 [00:00<?, ?it/s]"
      ]
     },
     "metadata": {},
     "output_type": "display_data"
    },
    {
     "data": {
      "application/vnd.jupyter.widget-view+json": {
       "model_id": "a0bdc073ecf44ff3977fba08ffb391be",
       "version_major": 2,
       "version_minor": 0
      },
      "text/plain": [
       "  0%|          | 0/104 [00:00<?, ?it/s]"
      ]
     },
     "metadata": {},
     "output_type": "display_data"
    },
    {
     "name": "stdout",
     "output_type": "stream",
     "text": [
      "EPOCH: 0\n",
      "{'Gender GINI': 0.48512133489671827, 'loss': 0.5884121303219665}\n",
      "{'Gender GINI': 0.7196322454957933, 'loss': 0.4997700890513718}\n"
     ]
    },
    {
     "data": {
      "application/vnd.jupyter.widget-view+json": {
       "model_id": "3d823a67abe3479f9154a2ed058d8589",
       "version_major": 2,
       "version_minor": 0
      },
      "text/plain": [
       "  0%|          | 0/930 [00:00<?, ?it/s]"
      ]
     },
     "metadata": {},
     "output_type": "display_data"
    },
    {
     "data": {
      "application/vnd.jupyter.widget-view+json": {
       "model_id": "70ea0afda12643cb8f67ea65c6dd85eb",
       "version_major": 2,
       "version_minor": 0
      },
      "text/plain": [
       "  0%|          | 0/104 [00:00<?, ?it/s]"
      ]
     },
     "metadata": {},
     "output_type": "display_data"
    },
    {
     "name": "stdout",
     "output_type": "stream",
     "text": [
      "EPOCH: 1\n",
      "{'Gender GINI': 0.7056408783568067, 'loss': 0.4766281182021655}\n",
      "{'Gender GINI': 0.7270104831313866, 'loss': 0.4722154434442069}\n"
     ]
    },
    {
     "data": {
      "application/vnd.jupyter.widget-view+json": {
       "model_id": "1df6fdcf657f452596868be10443491d",
       "version_major": 2,
       "version_minor": 0
      },
      "text/plain": [
       "  0%|          | 0/930 [00:00<?, ?it/s]"
      ]
     },
     "metadata": {},
     "output_type": "display_data"
    },
    {
     "data": {
      "application/vnd.jupyter.widget-view+json": {
       "model_id": "b17e33ecc0ed4d848f90b7cb437911cb",
       "version_major": 2,
       "version_minor": 0
      },
      "text/plain": [
       "  0%|          | 0/104 [00:00<?, ?it/s]"
      ]
     },
     "metadata": {},
     "output_type": "display_data"
    },
    {
     "name": "stdout",
     "output_type": "stream",
     "text": [
      "EPOCH: 2\n",
      "{'Gender GINI': 0.7162211893679185, 'loss': 0.4690430244533467}\n",
      "{'Gender GINI': 0.732613897581393, 'loss': 0.46155973075176127}\n"
     ]
    },
    {
     "data": {
      "application/vnd.jupyter.widget-view+json": {
       "model_id": "46ac6caf4d614b4bb7eea15633645166",
       "version_major": 2,
       "version_minor": 0
      },
      "text/plain": [
       "  0%|          | 0/930 [00:00<?, ?it/s]"
      ]
     },
     "metadata": {},
     "output_type": "display_data"
    },
    {
     "data": {
      "application/vnd.jupyter.widget-view+json": {
       "model_id": "70275255e92643e89f0f887eff861026",
       "version_major": 2,
       "version_minor": 0
      },
      "text/plain": [
       "  0%|          | 0/104 [00:00<?, ?it/s]"
      ]
     },
     "metadata": {},
     "output_type": "display_data"
    },
    {
     "name": "stdout",
     "output_type": "stream",
     "text": [
      "EPOCH: 3\n",
      "{'Gender GINI': 0.722729811197012, 'loss': 0.46415287794647964}\n",
      "{'Gender GINI': 0.7367330619324455, 'loss': 0.4576709548129134}\n"
     ]
    },
    {
     "data": {
      "application/vnd.jupyter.widget-view+json": {
       "model_id": "851b6164cc2e47cfa55c3f01ab2bdecf",
       "version_major": 2,
       "version_minor": 0
      },
      "text/plain": [
       "  0%|          | 0/930 [00:00<?, ?it/s]"
      ]
     },
     "metadata": {},
     "output_type": "display_data"
    },
    {
     "data": {
      "application/vnd.jupyter.widget-view+json": {
       "model_id": "f3b092ad2e7e42f58e5ebe5716cdbcd0",
       "version_major": 2,
       "version_minor": 0
      },
      "text/plain": [
       "  0%|          | 0/104 [00:00<?, ?it/s]"
      ]
     },
     "metadata": {},
     "output_type": "display_data"
    },
    {
     "name": "stdout",
     "output_type": "stream",
     "text": [
      "EPOCH: 4\n",
      "{'Gender GINI': 0.7247784892952194, 'loss': 0.4626129073984305}\n",
      "{'Gender GINI': 0.7385479250548614, 'loss': 0.4552191359806216}\n"
     ]
    },
    {
     "data": {
      "application/vnd.jupyter.widget-view+json": {
       "model_id": "3942d9e4dc27486bacbbc74b351801b4",
       "version_major": 2,
       "version_minor": 0
      },
      "text/plain": [
       "  0%|          | 0/930 [00:00<?, ?it/s]"
      ]
     },
     "metadata": {},
     "output_type": "display_data"
    },
    {
     "data": {
      "application/vnd.jupyter.widget-view+json": {
       "model_id": "59163d81e30e40619011bc274886a558",
       "version_major": 2,
       "version_minor": 0
      },
      "text/plain": [
       "  0%|          | 0/104 [00:00<?, ?it/s]"
      ]
     },
     "metadata": {},
     "output_type": "display_data"
    },
    {
     "name": "stdout",
     "output_type": "stream",
     "text": [
      "EPOCH: 5\n",
      "{'Gender GINI': 0.7320897887168729, 'loss': 0.45707468709188026}\n",
      "{'Gender GINI': 0.7391799660548402, 'loss': 0.4545026812969442}\n"
     ]
    },
    {
     "data": {
      "application/vnd.jupyter.widget-view+json": {
       "model_id": "c92b4b9ad79c446fbb4cf0c69064a48a",
       "version_major": 2,
       "version_minor": 0
      },
      "text/plain": [
       "  0%|          | 0/930 [00:00<?, ?it/s]"
      ]
     },
     "metadata": {},
     "output_type": "display_data"
    },
    {
     "data": {
      "application/vnd.jupyter.widget-view+json": {
       "model_id": "94b89ee1b2aa4ae59c768307b58abc63",
       "version_major": 2,
       "version_minor": 0
      },
      "text/plain": [
       "  0%|          | 0/104 [00:00<?, ?it/s]"
      ]
     },
     "metadata": {},
     "output_type": "display_data"
    },
    {
     "name": "stdout",
     "output_type": "stream",
     "text": [
      "EPOCH: 6\n",
      "{'Gender GINI': 0.7354502761071817, 'loss': 0.4544696287273475}\n",
      "{'Gender GINI': 0.7412494694278757, 'loss': 0.45197866885895854}\n"
     ]
    },
    {
     "data": {
      "application/vnd.jupyter.widget-view+json": {
       "model_id": "d5f0c7c0f6e94995b56d2e15a137c074",
       "version_major": 2,
       "version_minor": 0
      },
      "text/plain": [
       "  0%|          | 0/930 [00:00<?, ?it/s]"
      ]
     },
     "metadata": {},
     "output_type": "display_data"
    },
    {
     "data": {
      "application/vnd.jupyter.widget-view+json": {
       "model_id": "553627e6d068481cad69a696e65e529f",
       "version_major": 2,
       "version_minor": 0
      },
      "text/plain": [
       "  0%|          | 0/104 [00:00<?, ?it/s]"
      ]
     },
     "metadata": {},
     "output_type": "display_data"
    },
    {
     "name": "stdout",
     "output_type": "stream",
     "text": [
      "EPOCH: 7\n",
      "{'Gender GINI': 0.7384462896299979, 'loss': 0.45207282132438364}\n",
      "{'Gender GINI': 0.744095117476258, 'loss': 0.448741209125327}\n"
     ]
    },
    {
     "data": {
      "application/vnd.jupyter.widget-view+json": {
       "model_id": "1f06af160b9e4fc3a8b538ac166ccf2f",
       "version_major": 2,
       "version_minor": 0
      },
      "text/plain": [
       "  0%|          | 0/930 [00:00<?, ?it/s]"
      ]
     },
     "metadata": {},
     "output_type": "display_data"
    },
    {
     "data": {
      "application/vnd.jupyter.widget-view+json": {
       "model_id": "bba083fddc6f4445a5d65b0cf41669de",
       "version_major": 2,
       "version_minor": 0
      },
      "text/plain": [
       "  0%|          | 0/104 [00:00<?, ?it/s]"
      ]
     },
     "metadata": {},
     "output_type": "display_data"
    },
    {
     "name": "stdout",
     "output_type": "stream",
     "text": [
      "EPOCH: 8\n",
      "{'Gender GINI': 0.7409644991640294, 'loss': 0.4501094188146599}\n",
      "{'Gender GINI': 0.7445673767884076, 'loss': 0.4488327416140242}\n"
     ]
    },
    {
     "data": {
      "application/vnd.jupyter.widget-view+json": {
       "model_id": "8614238f987a4f5da6ba7a9563c336b9",
       "version_major": 2,
       "version_minor": 0
      },
      "text/plain": [
       "  0%|          | 0/930 [00:00<?, ?it/s]"
      ]
     },
     "metadata": {},
     "output_type": "display_data"
    },
    {
     "data": {
      "application/vnd.jupyter.widget-view+json": {
       "model_id": "66e512eb47554f008afd216eca7031ec",
       "version_major": 2,
       "version_minor": 0
      },
      "text/plain": [
       "  0%|          | 0/104 [00:00<?, ?it/s]"
      ]
     },
     "metadata": {},
     "output_type": "display_data"
    },
    {
     "name": "stdout",
     "output_type": "stream",
     "text": [
      "EPOCH: 9\n",
      "{'Gender GINI': 0.742429585513974, 'loss': 0.4489741570224349}\n",
      "{'Gender GINI': 0.7443592722240266, 'loss': 0.44820602847096225}\n",
      "FOLD 1\n",
      "--------------------------------\n"
     ]
    },
    {
     "data": {
      "application/vnd.jupyter.widget-view+json": {
       "model_id": "99889567d8f84048bc8af4ddbce31068",
       "version_major": 2,
       "version_minor": 0
      },
      "text/plain": [
       "  0%|          | 0/930 [00:00<?, ?it/s]"
      ]
     },
     "metadata": {},
     "output_type": "display_data"
    },
    {
     "data": {
      "application/vnd.jupyter.widget-view+json": {
       "model_id": "0f5e84f562ac482ab9f69073300f6388",
       "version_major": 2,
       "version_minor": 0
      },
      "text/plain": [
       "  0%|          | 0/104 [00:00<?, ?it/s]"
      ]
     },
     "metadata": {},
     "output_type": "display_data"
    },
    {
     "name": "stdout",
     "output_type": "stream",
     "text": [
      "EPOCH: 0\n",
      "{'Gender GINI': 0.49960096655684216, 'loss': 0.579896394790814}\n",
      "{'Gender GINI': 0.7123927385082802, 'loss': 0.49762609240702405}\n"
     ]
    },
    {
     "data": {
      "application/vnd.jupyter.widget-view+json": {
       "model_id": "e46e14589c9e40e89082437f7388234e",
       "version_major": 2,
       "version_minor": 0
      },
      "text/plain": [
       "  0%|          | 0/930 [00:00<?, ?it/s]"
      ]
     },
     "metadata": {},
     "output_type": "display_data"
    },
    {
     "data": {
      "application/vnd.jupyter.widget-view+json": {
       "model_id": "4c61fac9b1a345869ba4fecc4de9585d",
       "version_major": 2,
       "version_minor": 0
      },
      "text/plain": [
       "  0%|          | 0/104 [00:00<?, ?it/s]"
      ]
     },
     "metadata": {},
     "output_type": "display_data"
    },
    {
     "name": "stdout",
     "output_type": "stream",
     "text": [
      "EPOCH: 1\n",
      "{'Gender GINI': 0.7112189042783967, 'loss': 0.4727676835758945}\n",
      "{'Gender GINI': 0.7241572796213909, 'loss': 0.4820450294345454}\n"
     ]
    },
    {
     "data": {
      "application/vnd.jupyter.widget-view+json": {
       "model_id": "7104b7fa16424338a78b5c34581eef07",
       "version_major": 2,
       "version_minor": 0
      },
      "text/plain": [
       "  0%|          | 0/930 [00:00<?, ?it/s]"
      ]
     },
     "metadata": {},
     "output_type": "display_data"
    },
    {
     "data": {
      "application/vnd.jupyter.widget-view+json": {
       "model_id": "4c4352e889dd405d934fc3f8e39e3c82",
       "version_major": 2,
       "version_minor": 0
      },
      "text/plain": [
       "  0%|          | 0/104 [00:00<?, ?it/s]"
      ]
     },
     "metadata": {},
     "output_type": "display_data"
    },
    {
     "name": "stdout",
     "output_type": "stream",
     "text": [
      "EPOCH: 2\n",
      "{'Gender GINI': 0.7192564992676387, 'loss': 0.4667242204209184}\n",
      "{'Gender GINI': 0.7287870877791127, 'loss': 0.47799353842945635}\n"
     ]
    },
    {
     "data": {
      "application/vnd.jupyter.widget-view+json": {
       "model_id": "e5fe167eb1194be58e5e9ac28b71826b",
       "version_major": 2,
       "version_minor": 0
      },
      "text/plain": [
       "  0%|          | 0/930 [00:00<?, ?it/s]"
      ]
     },
     "metadata": {},
     "output_type": "display_data"
    },
    {
     "data": {
      "application/vnd.jupyter.widget-view+json": {
       "model_id": "ced53d1203c843f5909eca45c11cf677",
       "version_major": 2,
       "version_minor": 0
      },
      "text/plain": [
       "  0%|          | 0/104 [00:00<?, ?it/s]"
      ]
     },
     "metadata": {},
     "output_type": "display_data"
    },
    {
     "name": "stdout",
     "output_type": "stream",
     "text": [
      "EPOCH: 3\n",
      "{'Gender GINI': 0.7248993254986125, 'loss': 0.46231685845532955}\n",
      "{'Gender GINI': 0.7347371083146166, 'loss': 0.4606267887572772}\n"
     ]
    },
    {
     "data": {
      "application/vnd.jupyter.widget-view+json": {
       "model_id": "0f267a1ccdae4715af5e700eb1e6001e",
       "version_major": 2,
       "version_minor": 0
      },
      "text/plain": [
       "  0%|          | 0/930 [00:00<?, ?it/s]"
      ]
     },
     "metadata": {},
     "output_type": "display_data"
    },
    {
     "data": {
      "application/vnd.jupyter.widget-view+json": {
       "model_id": "957efb0c3890401e90a8f5c2d6b65147",
       "version_major": 2,
       "version_minor": 0
      },
      "text/plain": [
       "  0%|          | 0/104 [00:00<?, ?it/s]"
      ]
     },
     "metadata": {},
     "output_type": "display_data"
    },
    {
     "name": "stdout",
     "output_type": "stream",
     "text": [
      "EPOCH: 4\n",
      "{'Gender GINI': 0.730015873161753, 'loss': 0.458453119652658}\n",
      "{'Gender GINI': 0.7381911400040213, 'loss': 0.454557340505536}\n"
     ]
    },
    {
     "data": {
      "application/vnd.jupyter.widget-view+json": {
       "model_id": "166d8525b4ad43e4a01732afbb2a677b",
       "version_major": 2,
       "version_minor": 0
      },
      "text/plain": [
       "  0%|          | 0/930 [00:00<?, ?it/s]"
      ]
     },
     "metadata": {},
     "output_type": "display_data"
    },
    {
     "data": {
      "application/vnd.jupyter.widget-view+json": {
       "model_id": "114149d16809478f9bc1c7234b102814",
       "version_major": 2,
       "version_minor": 0
      },
      "text/plain": [
       "  0%|          | 0/104 [00:00<?, ?it/s]"
      ]
     },
     "metadata": {},
     "output_type": "display_data"
    },
    {
     "name": "stdout",
     "output_type": "stream",
     "text": [
      "EPOCH: 5\n",
      "{'Gender GINI': 0.734031020938255, 'loss': 0.45542912756626325}\n",
      "{'Gender GINI': 0.7389841999774309, 'loss': 0.4528870258099994}\n"
     ]
    },
    {
     "data": {
      "application/vnd.jupyter.widget-view+json": {
       "model_id": "0869bcb0d3194224a40d511d10de5048",
       "version_major": 2,
       "version_minor": 0
      },
      "text/plain": [
       "  0%|          | 0/930 [00:00<?, ?it/s]"
      ]
     },
     "metadata": {},
     "output_type": "display_data"
    },
    {
     "data": {
      "application/vnd.jupyter.widget-view+json": {
       "model_id": "4d4de52f97a0431692364e4ed96b99e6",
       "version_major": 2,
       "version_minor": 0
      },
      "text/plain": [
       "  0%|          | 0/104 [00:00<?, ?it/s]"
      ]
     },
     "metadata": {},
     "output_type": "display_data"
    },
    {
     "name": "stdout",
     "output_type": "stream",
     "text": [
      "EPOCH: 6\n",
      "{'Gender GINI': 0.7371739531629271, 'loss': 0.4530353863568648}\n",
      "{'Gender GINI': 0.7403115324755964, 'loss': 0.45154181994838477}\n"
     ]
    },
    {
     "data": {
      "application/vnd.jupyter.widget-view+json": {
       "model_id": "c62a87ff94d04ab6b42fde23bc092419",
       "version_major": 2,
       "version_minor": 0
      },
      "text/plain": [
       "  0%|          | 0/930 [00:00<?, ?it/s]"
      ]
     },
     "metadata": {},
     "output_type": "display_data"
    },
    {
     "data": {
      "application/vnd.jupyter.widget-view+json": {
       "model_id": "2376fb13cd93493aa5f3aebbb8551a6c",
       "version_major": 2,
       "version_minor": 0
      },
      "text/plain": [
       "  0%|          | 0/104 [00:00<?, ?it/s]"
      ]
     },
     "metadata": {},
     "output_type": "display_data"
    },
    {
     "name": "stdout",
     "output_type": "stream",
     "text": [
      "EPOCH: 7\n",
      "{'Gender GINI': 0.7407601308615293, 'loss': 0.45017048635397516}\n",
      "{'Gender GINI': 0.7413340631027114, 'loss': 0.45105080582886237}\n"
     ]
    },
    {
     "data": {
      "application/vnd.jupyter.widget-view+json": {
       "model_id": "d00b00447a69462c8b30afcc756e6ea6",
       "version_major": 2,
       "version_minor": 0
      },
      "text/plain": [
       "  0%|          | 0/930 [00:00<?, ?it/s]"
      ]
     },
     "metadata": {},
     "output_type": "display_data"
    },
    {
     "data": {
      "application/vnd.jupyter.widget-view+json": {
       "model_id": "72199f02950b40fea897b105e98cb011",
       "version_major": 2,
       "version_minor": 0
      },
      "text/plain": [
       "  0%|          | 0/104 [00:00<?, ?it/s]"
      ]
     },
     "metadata": {},
     "output_type": "display_data"
    },
    {
     "name": "stdout",
     "output_type": "stream",
     "text": [
      "EPOCH: 8\n",
      "{'Gender GINI': 0.7437317261559304, 'loss': 0.4477591421278447}\n",
      "{'Gender GINI': 0.7410039656149168, 'loss': 0.45139457456475723}\n"
     ]
    },
    {
     "data": {
      "application/vnd.jupyter.widget-view+json": {
       "model_id": "37609f7fd73e420180944e72e1802e2d",
       "version_major": 2,
       "version_minor": 0
      },
      "text/plain": [
       "  0%|          | 0/930 [00:00<?, ?it/s]"
      ]
     },
     "metadata": {},
     "output_type": "display_data"
    },
    {
     "data": {
      "application/vnd.jupyter.widget-view+json": {
       "model_id": "c5d3becd72f24e4a8b11ff802c18014f",
       "version_major": 2,
       "version_minor": 0
      },
      "text/plain": [
       "  0%|          | 0/104 [00:00<?, ?it/s]"
      ]
     },
     "metadata": {},
     "output_type": "display_data"
    },
    {
     "name": "stdout",
     "output_type": "stream",
     "text": [
      "EPOCH: 9\n",
      "{'Gender GINI': 0.7451738363430933, 'loss': 0.44662482025406525}\n",
      "{'Gender GINI': 0.7413784507236691, 'loss': 0.4504921525833092}\n",
      "FOLD 2\n",
      "--------------------------------\n"
     ]
    },
    {
     "data": {
      "application/vnd.jupyter.widget-view+json": {
       "model_id": "18f02f5236bb49c8ba5e8cd655b36601",
       "version_major": 2,
       "version_minor": 0
      },
      "text/plain": [
       "  0%|          | 0/930 [00:00<?, ?it/s]"
      ]
     },
     "metadata": {},
     "output_type": "display_data"
    },
    {
     "ename": "KeyboardInterrupt",
     "evalue": "",
     "output_type": "error",
     "traceback": [
      "\u001b[0;31m---------------------------------------------------------------------------\u001b[0m",
      "\u001b[0;31mKeyboardInterrupt\u001b[0m                         Traceback (most recent call last)",
      "Cell \u001b[0;32mIn[15], line 1\u001b[0m\n\u001b[0;32m----> 1\u001b[0m train_fold_metrics, eval_fold_metrics, embeddings_df, logits_df \u001b[38;5;241m=\u001b[39m \u001b[43mtrainer\u001b[49m\u001b[38;5;241;43m.\u001b[39;49m\u001b[43mfit_transform\u001b[49m\u001b[43m(\u001b[49m\n\u001b[1;32m      2\u001b[0m \u001b[43m                          \u001b[49m\u001b[43mdataset\u001b[49m\u001b[38;5;241;43m=\u001b[39;49m\u001b[43mdataset\u001b[49m\u001b[43m,\u001b[49m\n\u001b[1;32m      3\u001b[0m \u001b[43m                          \u001b[49m\u001b[43mloss_function\u001b[49m\u001b[38;5;241;43m=\u001b[39;49m\u001b[43mnn\u001b[49m\u001b[38;5;241;43m.\u001b[39;49m\u001b[43mCrossEntropyLoss\u001b[49m\u001b[43m,\u001b[49m\n\u001b[1;32m      4\u001b[0m \u001b[43m                          \u001b[49m\u001b[43mmetric_func\u001b[49m\u001b[38;5;241;43m=\u001b[39;49m\u001b[43mmetric\u001b[49m\u001b[43m,\u001b[49m\n\u001b[1;32m      5\u001b[0m \u001b[43m                          \u001b[49m\u001b[43moptimizer\u001b[49m\u001b[38;5;241;43m=\u001b[39;49m\u001b[43mtorch\u001b[49m\u001b[38;5;241;43m.\u001b[39;49m\u001b[43moptim\u001b[49m\u001b[38;5;241;43m.\u001b[39;49m\u001b[43mAdamW\u001b[49m\u001b[43m,\u001b[49m\n\u001b[1;32m      6\u001b[0m \u001b[43m                          \u001b[49m\u001b[43mget_scheduler\u001b[49m\u001b[38;5;241;43m=\u001b[39;49m\u001b[43mget_cosine_schedule_with_warmup\u001b[49m\u001b[43m,\u001b[49m\n\u001b[1;32m      7\u001b[0m \u001b[43m                          \u001b[49m\u001b[43mstrat_array\u001b[49m\u001b[38;5;241;43m=\u001b[39;49m\u001b[43mtargets\u001b[49m\u001b[43m,\u001b[49m\n\u001b[1;32m      8\u001b[0m \u001b[43m                          \u001b[49m\u001b[43mtarget_name\u001b[49m\u001b[38;5;241;43m=\u001b[39;49m\u001b[38;5;124;43m\"\u001b[39;49m\u001b[38;5;124;43mis_male\u001b[39;49m\u001b[38;5;124;43m\"\u001b[39;49m\u001b[43m,\u001b[49m\n\u001b[1;32m      9\u001b[0m \u001b[43m                          \u001b[49m\u001b[43muser_ids\u001b[49m\u001b[38;5;241;43m=\u001b[39;49m\u001b[43muser_ids\u001b[49m\u001b[43m,\u001b[49m\n\u001b[1;32m     10\u001b[0m \u001b[43m                          \u001b[49m\u001b[43mshuffle\u001b[49m\u001b[38;5;241;43m=\u001b[39;49m\u001b[38;5;28;43;01mTrue\u001b[39;49;00m\u001b[43m,\u001b[49m\n\u001b[1;32m     11\u001b[0m \u001b[43m                          \u001b[49m\u001b[43mepochs\u001b[49m\u001b[38;5;241;43m=\u001b[39;49m\u001b[38;5;241;43m10\u001b[39;49m\u001b[43m,\u001b[49m\n\u001b[1;32m     12\u001b[0m \u001b[43m                          \u001b[49m\u001b[43mlr\u001b[49m\u001b[38;5;241;43m=\u001b[39;49m\u001b[38;5;241;43m1e-3\u001b[39;49m\u001b[43m,\u001b[49m\n\u001b[1;32m     13\u001b[0m \u001b[43m                          \u001b[49m\u001b[43mweight_decay\u001b[49m\u001b[38;5;241;43m=\u001b[39;49m\u001b[38;5;241;43m1e-2\u001b[39;49m\u001b[43m,\u001b[49m\n\u001b[1;32m     14\u001b[0m \u001b[43m                          \u001b[49m\u001b[43mnum_warmup_steps\u001b[49m\u001b[38;5;241;43m=\u001b[39;49m\u001b[38;5;241;43m0\u001b[39;49m\u001b[43m,\u001b[49m\n\u001b[1;32m     15\u001b[0m \u001b[43m                          \u001b[49m\u001b[43mbatch_size\u001b[49m\u001b[38;5;241;43m=\u001b[39;49m\u001b[38;5;241;43m256\u001b[39;49m\u001b[43m,\u001b[49m\n\u001b[1;32m     16\u001b[0m \u001b[43m                          \u001b[49m\u001b[43mrandom_state\u001b[49m\u001b[38;5;241;43m=\u001b[39;49m\u001b[38;5;241;43m69\u001b[39;49m\u001b[43m,\u001b[49m\n\u001b[1;32m     17\u001b[0m \u001b[43m                          \u001b[49m\u001b[43mdevice\u001b[49m\u001b[38;5;241;43m=\u001b[39;49m\u001b[43m \u001b[49m\u001b[38;5;124;43m\"\u001b[39;49m\u001b[38;5;124;43mcuda\u001b[39;49m\u001b[38;5;124;43m\"\u001b[39;49m\n\u001b[1;32m     18\u001b[0m \u001b[43m)\u001b[49m\n",
      "File \u001b[0;32m~/PycharmProjects/mts-ml-cup/seq2seq_modules/trainer.py:118\u001b[0m, in \u001b[0;36mCVTrainer.fit_transform\u001b[0;34m(self, dataset, loss_function, metric_func, optimizer, get_scheduler, target_name, user_ids, strat_array, shuffle, epochs, lr, weight_decay, num_warmup_steps, batch_size, random_state, device)\u001b[0m\n\u001b[1;32m    115\u001b[0m eval_epoch_metrics \u001b[38;5;241m=\u001b[39m []\n\u001b[1;32m    117\u001b[0m \u001b[38;5;28;01mfor\u001b[39;00m epoch_i \u001b[38;5;129;01min\u001b[39;00m \u001b[38;5;28mrange\u001b[39m(epochs):\n\u001b[0;32m--> 118\u001b[0m     train_metrics, train_embeddings, train_logits, train_targets \u001b[38;5;241m=\u001b[39m \u001b[43mtrain_epoch\u001b[49m\u001b[43m(\u001b[49m\n\u001b[1;32m    119\u001b[0m \u001b[43m        \u001b[49m\u001b[43mfold_model\u001b[49m\u001b[43m,\u001b[49m\n\u001b[1;32m    120\u001b[0m \u001b[43m        \u001b[49m\u001b[43mtrain_loader\u001b[49m\u001b[43m,\u001b[49m\n\u001b[1;32m    121\u001b[0m \u001b[43m        \u001b[49m\u001b[43mfold_loss_function\u001b[49m\u001b[43m,\u001b[49m\n\u001b[1;32m    122\u001b[0m \u001b[43m        \u001b[49m\u001b[43mfold_optimizer\u001b[49m\u001b[43m,\u001b[49m\n\u001b[1;32m    123\u001b[0m \u001b[43m        \u001b[49m\u001b[43mscheduler\u001b[49m\u001b[43m,\u001b[49m\n\u001b[1;32m    124\u001b[0m \u001b[43m        \u001b[49m\u001b[43mdevice\u001b[49m\u001b[43m,\u001b[49m\n\u001b[1;32m    125\u001b[0m \u001b[43m        \u001b[49m\u001b[43mmetric_func\u001b[49m\u001b[43m,\u001b[49m\n\u001b[1;32m    126\u001b[0m \u001b[43m    \u001b[49m\u001b[43m)\u001b[49m\n\u001b[1;32m    127\u001b[0m     eval_metrics, eval_embeddings, eval_logits, eval_targets \u001b[38;5;241m=\u001b[39m eval_epoch(\n\u001b[1;32m    128\u001b[0m         fold_model,\n\u001b[1;32m    129\u001b[0m         eval_loader,\n\u001b[0;32m   (...)\u001b[0m\n\u001b[1;32m    132\u001b[0m         metric_func\n\u001b[1;32m    133\u001b[0m     )\n\u001b[1;32m    135\u001b[0m     train_epoch_metrics\u001b[38;5;241m.\u001b[39mappend(train_metrics)\n",
      "File \u001b[0;32m~/PycharmProjects/mts-ml-cup/seq2seq_modules/loops.py:29\u001b[0m, in \u001b[0;36mtrain_epoch\u001b[0;34m(model, data_loader, loss_function, optimizer, scheduler, device, metric_func, pass_logits)\u001b[0m\n\u001b[1;32m     25\u001b[0m \u001b[38;5;28;01mfor\u001b[39;00m batch \u001b[38;5;129;01min\u001b[39;00m tqdm(data_loader):\n\u001b[1;32m     26\u001b[0m     cat_features, cont_features, attention_mask, batch_target \u001b[38;5;241m=\u001b[39m batch\n\u001b[1;32m     27\u001b[0m     cat_features, cont_features, attention_mask, batch_target \u001b[38;5;241m=\u001b[39m (\n\u001b[1;32m     28\u001b[0m         cat_features\u001b[38;5;241m.\u001b[39mto(device),\n\u001b[0;32m---> 29\u001b[0m         \u001b[43mcont_features\u001b[49m\u001b[38;5;241;43m.\u001b[39;49m\u001b[43mto\u001b[49m\u001b[43m(\u001b[49m\u001b[43mdevice\u001b[49m\u001b[43m)\u001b[49m,\n\u001b[1;32m     30\u001b[0m         attention_mask\u001b[38;5;241m.\u001b[39mto(device),\n\u001b[1;32m     31\u001b[0m         batch_target\u001b[38;5;241m.\u001b[39mto(device),\n\u001b[1;32m     32\u001b[0m     )\n\u001b[1;32m     34\u001b[0m     optimizer\u001b[38;5;241m.\u001b[39mzero_grad()\n\u001b[1;32m     35\u001b[0m     batch_embeddings, batch_logits \u001b[38;5;241m=\u001b[39m model(cat_features, cont_features, attention_mask)\n",
      "\u001b[0;31mKeyboardInterrupt\u001b[0m: "
     ]
    }
   ],
   "source": [
    "train_fold_metrics, eval_fold_metrics, embeddings_df, logits_df = trainer.fit_transform(\n",
    "                          dataset=dataset,\n",
    "                          loss_function=nn.CrossEntropyLoss,\n",
    "                          metric_func=metric,\n",
    "                          optimizer=torch.optim.AdamW,\n",
    "                          get_scheduler=get_cosine_schedule_with_warmup,\n",
    "                          strat_array=targets,\n",
    "                          target_name=\"is_male\",\n",
    "                          user_ids=user_ids,\n",
    "                          shuffle=True,\n",
    "                          epochs=10,\n",
    "                          lr=1e-3,\n",
    "                          weight_decay=1e-2,\n",
    "                          num_warmup_steps=0,\n",
    "                          batch_size=256,\n",
    "                          random_state=69,\n",
    "                          device= \"cuda\"\n",
    ")"
   ]
  },
  {
   "cell_type": "code",
   "execution_count": 19,
   "id": "04506645",
   "metadata": {},
   "outputs": [],
   "source": [
    "CV_FEATURES = \"../cv_data/\"\n",
    "MODEL_ZOO = \"../model_zoo/\""
   ]
  },
  {
   "cell_type": "code",
   "execution_count": 20,
   "id": "58e227de",
   "metadata": {},
   "outputs": [],
   "source": [
    "trainer.save_model(model_name=MODEL_ZOO + trainer.model_name)"
   ]
  },
  {
   "cell_type": "code",
   "execution_count": 21,
   "id": "f0fbc293",
   "metadata": {},
   "outputs": [],
   "source": [
    "embeddings_df.to_parquet(f\"{CV_FEATURES}/is_male_cv_embeddings_10_folds.parquet.gzip\",\n",
    "                          compression='gzip')\n",
    "logits_df.to_parquet(f\"{CV_FEATURES}/is_male_cv_logits_10_folds.parquet.gzip\",\n",
    "                          compression='gzip')"
   ]
  }
 ],
 "metadata": {
  "hide_input": false,
  "kernelspec": {
   "display_name": "Python 3 (ipykernel)",
   "language": "python",
   "name": "python3"
  },
  "language_info": {
   "codemirror_mode": {
    "name": "ipython",
    "version": 3
   },
   "file_extension": ".py",
   "mimetype": "text/x-python",
   "name": "python",
   "nbconvert_exporter": "python",
   "pygments_lexer": "ipython3",
   "version": "3.10.6"
  },
  "toc": {
   "base_numbering": 1,
   "nav_menu": {},
   "number_sections": true,
   "sideBar": true,
   "skip_h1_title": false,
   "title_cell": "Table of Contents",
   "title_sidebar": "Contents",
   "toc_cell": false,
   "toc_position": {},
   "toc_section_display": true,
   "toc_window_display": false
  },
  "varInspector": {
   "cols": {
    "lenName": 16,
    "lenType": 16,
    "lenVar": 40
   },
   "kernels_config": {
    "python": {
     "delete_cmd_postfix": "",
     "delete_cmd_prefix": "del ",
     "library": "var_list.py",
     "varRefreshCmd": "print(var_dic_list())"
    },
    "r": {
     "delete_cmd_postfix": ") ",
     "delete_cmd_prefix": "rm(",
     "library": "var_list.r",
     "varRefreshCmd": "cat(var_dic_list()) "
    }
   },
   "types_to_exclude": [
    "module",
    "function",
    "builtin_function_or_method",
    "instance",
    "_Feature"
   ],
   "window_display": false
  }
 },
 "nbformat": 4,
 "nbformat_minor": 5
}
