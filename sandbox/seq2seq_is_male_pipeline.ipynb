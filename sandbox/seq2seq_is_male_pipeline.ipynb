{
 "cells": [
  {
   "cell_type": "markdown",
   "id": "3c646f0c",
   "metadata": {},
   "source": [
    "# seq2seq"
   ]
  },
  {
   "cell_type": "code",
   "execution_count": 22,
   "id": "88993512",
   "metadata": {},
   "outputs": [],
   "source": [
    "import gc\n",
    "import sys\n",
    "import os\n",
    "import warnings\n",
    "from tqdm import tqdm\n",
    "\n",
    "sys.path.append(os.path.abspath(\"../\"))\n",
    "os.environ['OPENBLAS_NUM_THREADS'] = '1'\n",
    "warnings.filterwarnings('ignore')\n",
    "tqdm.pandas()"
   ]
  },
  {
   "cell_type": "code",
   "execution_count": 23,
   "id": "179dfb36",
   "metadata": {},
   "outputs": [],
   "source": [
    "import pandas as pd\n",
    "import numpy as np\n",
    "import time\n",
    "import polars as pl\n",
    "import scipy\n",
    "import implicit\n",
    "import bisect\n",
    "import sklearn.metrics as m\n",
    "from catboost import CatBoostClassifier, CatBoostRegressor, Pool\n",
    "\n",
    "from sklearn.model_selection import train_test_split\n",
    "from sklearn.calibration import calibration_curve, CalibratedClassifierCV\n",
    "from sklearn.utils.class_weight import compute_class_weight\n",
    "\n",
    "import torch\n",
    "from torch.utils.data import TensorDataset, DataLoader\n",
    "from torch import nn\n",
    "\n",
    "from transformers import get_constant_schedule"
   ]
  },
  {
   "cell_type": "code",
   "execution_count": 24,
   "id": "08884ce0",
   "metadata": {},
   "outputs": [],
   "source": [
    "import importlib\n",
    "\n",
    "import modules\n",
    "import fe_modules\n",
    "import seq2seq_modules\n",
    "\n",
    "importlib.reload(modules)\n",
    "importlib.reload(fe_modules)\n",
    "importlib.reload(seq2seq_modules)\n",
    "\n",
    "from modules.memory_utils import pandas_reduce_mem_usage, pandas_string_to_cat\n",
    "from seq2seq_modules.models import LSTMModel\n",
    "from seq2seq_modules.weight_initialization import weights_init_uniform_rule\n",
    "from seq2seq_modules.loops import cross_validation, single_model_training\n",
    "from seq2seq_modules.utils import age_bucket\n",
    "from seq2seq_modules.metrics import AGE_METRIC\n",
    "from fe_modules.encoders import CatBoostEncoderWrapper\n",
    "from fe_modules.time_lags import generate_time_lags"
   ]
  },
  {
   "cell_type": "code",
   "execution_count": 25,
   "id": "eed31e56",
   "metadata": {},
   "outputs": [],
   "source": [
    "def my_reset(*varnames):\n",
    "    \"\"\"\n",
    "    varnames are what you want to keep\n",
    "    \"\"\"\n",
    "    globals_ = globals()\n",
    "    to_save = {v: globals_[v] for v in varnames}\n",
    "    to_save['my_reset'] = my_reset  # lets keep this function by default\n",
    "    del globals_\n",
    "    get_ipython().magic(\"reset\")\n",
    "    globals().update(to_save)"
   ]
  },
  {
   "cell_type": "markdown",
   "id": "47431eb8",
   "metadata": {},
   "source": [
    "## Read and process"
   ]
  },
  {
   "cell_type": "code",
   "execution_count": 26,
   "id": "a17c3983",
   "metadata": {},
   "outputs": [],
   "source": [
    "LOCAL_DATA_PATH = '../data/'\n",
    "SEQ2SEQ_DATA_PATH = '../seq2seq_data/'\n",
    "\n",
    "SPLIT_SEED = 42"
   ]
  },
  {
   "cell_type": "code",
   "execution_count": 6,
   "id": "8bd60063",
   "metadata": {},
   "outputs": [
    {
     "name": "stdout",
     "output_type": "stream",
     "text": [
      "Memory usage of dataframe is 45164.78 MB\n"
     ]
    },
    {
     "data": {
      "application/vnd.jupyter.widget-view+json": {
       "model_id": "9863f29ad1b14974a3fec3060464679d",
       "version_major": 2,
       "version_minor": 0
      },
      "text/plain": [
       "  0%|          | 0/45 [00:00<?, ?it/s]"
      ]
     },
     "metadata": {},
     "output_type": "display_data"
    },
    {
     "name": "stdout",
     "output_type": "stream",
     "text": [
      "Memory usage after optimization is: 45164.78 MB\n",
      "Decreased by 0.0%\n"
     ]
    },
    {
     "data": {
      "text/html": [
       "<div>\n",
       "<style scoped>\n",
       "    .dataframe tbody tr th:only-of-type {\n",
       "        vertical-align: middle;\n",
       "    }\n",
       "\n",
       "    .dataframe tbody tr th {\n",
       "        vertical-align: top;\n",
       "    }\n",
       "\n",
       "    .dataframe thead th {\n",
       "        text-align: right;\n",
       "    }\n",
       "</style>\n",
       "<table border=\"1\" class=\"dataframe\">\n",
       "  <thead>\n",
       "    <tr style=\"text-align: right;\">\n",
       "      <th></th>\n",
       "      <th>region_name</th>\n",
       "      <th>city_name</th>\n",
       "      <th>cpe_manufacturer_name</th>\n",
       "      <th>cpe_model_name</th>\n",
       "      <th>url_host</th>\n",
       "      <th>cpe_type_cd</th>\n",
       "      <th>cpe_model_os_type</th>\n",
       "      <th>price</th>\n",
       "      <th>part_of_day</th>\n",
       "      <th>request_cnt</th>\n",
       "      <th>...</th>\n",
       "      <th>Блог</th>\n",
       "      <th>Интернет-магазин</th>\n",
       "      <th>Интернет-форум</th>\n",
       "      <th>Информационный сайт</th>\n",
       "      <th>Корпоративный сайт</th>\n",
       "      <th>Поисковая система</th>\n",
       "      <th>Порно-сайт</th>\n",
       "      <th>Почтовый сервис</th>\n",
       "      <th>Сайт-сервис</th>\n",
       "      <th>Социальная сеть</th>\n",
       "    </tr>\n",
       "  </thead>\n",
       "  <tbody>\n",
       "    <tr>\n",
       "      <th>0</th>\n",
       "      <td>21</td>\n",
       "      <td>409</td>\n",
       "      <td>1</td>\n",
       "      <td>589</td>\n",
       "      <td>5788</td>\n",
       "      <td>2</td>\n",
       "      <td>1</td>\n",
       "      <td>20368.0</td>\n",
       "      <td>2</td>\n",
       "      <td>1</td>\n",
       "      <td>...</td>\n",
       "      <td>0.022060</td>\n",
       "      <td>0.010498</td>\n",
       "      <td>0.021562</td>\n",
       "      <td>0.127385</td>\n",
       "      <td>0.121726</td>\n",
       "      <td>0.079564</td>\n",
       "      <td>0.008757</td>\n",
       "      <td>0.008911</td>\n",
       "      <td>0.584294</td>\n",
       "      <td>0.015242</td>\n",
       "    </tr>\n",
       "    <tr>\n",
       "      <th>1</th>\n",
       "      <td>21</td>\n",
       "      <td>409</td>\n",
       "      <td>1</td>\n",
       "      <td>589</td>\n",
       "      <td>12900</td>\n",
       "      <td>2</td>\n",
       "      <td>1</td>\n",
       "      <td>20368.0</td>\n",
       "      <td>2</td>\n",
       "      <td>1</td>\n",
       "      <td>...</td>\n",
       "      <td>0.024201</td>\n",
       "      <td>0.734256</td>\n",
       "      <td>0.027490</td>\n",
       "      <td>0.034590</td>\n",
       "      <td>0.055687</td>\n",
       "      <td>0.025109</td>\n",
       "      <td>0.016231</td>\n",
       "      <td>0.016883</td>\n",
       "      <td>0.040856</td>\n",
       "      <td>0.024697</td>\n",
       "    </tr>\n",
       "    <tr>\n",
       "      <th>2</th>\n",
       "      <td>21</td>\n",
       "      <td>409</td>\n",
       "      <td>1</td>\n",
       "      <td>589</td>\n",
       "      <td>17626</td>\n",
       "      <td>2</td>\n",
       "      <td>1</td>\n",
       "      <td>20368.0</td>\n",
       "      <td>0</td>\n",
       "      <td>1</td>\n",
       "      <td>...</td>\n",
       "      <td>0.087170</td>\n",
       "      <td>0.082425</td>\n",
       "      <td>0.087657</td>\n",
       "      <td>0.096718</td>\n",
       "      <td>0.113347</td>\n",
       "      <td>0.138035</td>\n",
       "      <td>0.067645</td>\n",
       "      <td>0.076701</td>\n",
       "      <td>0.168411</td>\n",
       "      <td>0.081891</td>\n",
       "    </tr>\n",
       "    <tr>\n",
       "      <th>3</th>\n",
       "      <td>21</td>\n",
       "      <td>409</td>\n",
       "      <td>1</td>\n",
       "      <td>589</td>\n",
       "      <td>59366</td>\n",
       "      <td>2</td>\n",
       "      <td>1</td>\n",
       "      <td>20368.0</td>\n",
       "      <td>0</td>\n",
       "      <td>1</td>\n",
       "      <td>...</td>\n",
       "      <td>0.028243</td>\n",
       "      <td>0.056895</td>\n",
       "      <td>0.048744</td>\n",
       "      <td>0.062024</td>\n",
       "      <td>0.464972</td>\n",
       "      <td>0.193379</td>\n",
       "      <td>0.031416</td>\n",
       "      <td>0.018421</td>\n",
       "      <td>0.047987</td>\n",
       "      <td>0.047920</td>\n",
       "    </tr>\n",
       "    <tr>\n",
       "      <th>4</th>\n",
       "      <td>21</td>\n",
       "      <td>409</td>\n",
       "      <td>1</td>\n",
       "      <td>589</td>\n",
       "      <td>59366</td>\n",
       "      <td>2</td>\n",
       "      <td>1</td>\n",
       "      <td>20368.0</td>\n",
       "      <td>0</td>\n",
       "      <td>1</td>\n",
       "      <td>...</td>\n",
       "      <td>0.028243</td>\n",
       "      <td>0.056895</td>\n",
       "      <td>0.048744</td>\n",
       "      <td>0.062024</td>\n",
       "      <td>0.464972</td>\n",
       "      <td>0.193379</td>\n",
       "      <td>0.031416</td>\n",
       "      <td>0.018421</td>\n",
       "      <td>0.047987</td>\n",
       "      <td>0.047920</td>\n",
       "    </tr>\n",
       "  </tbody>\n",
       "</table>\n",
       "<p>5 rows × 40 columns</p>\n",
       "</div>"
      ],
      "text/plain": [
       "   region_name  city_name  cpe_manufacturer_name  cpe_model_name  url_host  \\\n",
       "0           21        409                      1             589      5788   \n",
       "1           21        409                      1             589     12900   \n",
       "2           21        409                      1             589     17626   \n",
       "3           21        409                      1             589     59366   \n",
       "4           21        409                      1             589     59366   \n",
       "\n",
       "   cpe_type_cd  cpe_model_os_type    price  part_of_day  request_cnt  ...  \\\n",
       "0            2                  1  20368.0            2            1  ...   \n",
       "1            2                  1  20368.0            2            1  ...   \n",
       "2            2                  1  20368.0            0            1  ...   \n",
       "3            2                  1  20368.0            0            1  ...   \n",
       "4            2                  1  20368.0            0            1  ...   \n",
       "\n",
       "       Блог  Интернет-магазин  Интернет-форум  Информационный сайт  \\\n",
       "0  0.022060          0.010498        0.021562             0.127385   \n",
       "1  0.024201          0.734256        0.027490             0.034590   \n",
       "2  0.087170          0.082425        0.087657             0.096718   \n",
       "3  0.028243          0.056895        0.048744             0.062024   \n",
       "4  0.028243          0.056895        0.048744             0.062024   \n",
       "\n",
       "   Корпоративный сайт  Поисковая система  Порно-сайт  Почтовый сервис  \\\n",
       "0            0.121726           0.079564    0.008757         0.008911   \n",
       "1            0.055687           0.025109    0.016231         0.016883   \n",
       "2            0.113347           0.138035    0.067645         0.076701   \n",
       "3            0.464972           0.193379    0.031416         0.018421   \n",
       "4            0.464972           0.193379    0.031416         0.018421   \n",
       "\n",
       "   Сайт-сервис  Социальная сеть  \n",
       "0     0.584294         0.015242  \n",
       "1     0.040856         0.024697  \n",
       "2     0.168411         0.081891  \n",
       "3     0.047987         0.047920  \n",
       "4     0.047987         0.047920  \n",
       "\n",
       "[5 rows x 40 columns]"
      ]
     },
     "execution_count": 6,
     "metadata": {},
     "output_type": "execute_result"
    }
   ],
   "source": [
    "df = pandas_reduce_mem_usage(\n",
    "    pd.read_parquet(f\"{SEQ2SEQ_DATA_PATH}/stages/stage_2.parquet.gzip\")\n",
    ").drop(columns=[\"Сайт для взрослых людей\", \n",
    "                \"Сайт для молодежи\", \n",
    "                \"Сайт для пенсионеров\", \n",
    "                'Сайты для женщин', \n",
    "                'Сайты для мужчин'])\n",
    "df.head()"
   ]
  },
  {
   "cell_type": "code",
   "execution_count": 7,
   "id": "f2908bf7",
   "metadata": {
    "scrolled": true
   },
   "outputs": [
    {
     "name": "stdout",
     "output_type": "stream",
     "text": [
      "Memory usage of dataframe is 6.18 MB\n"
     ]
    },
    {
     "data": {
      "application/vnd.jupyter.widget-view+json": {
       "model_id": "b06df0b9e08b49eb95ff2ca0953400cb",
       "version_major": 2,
       "version_minor": 0
      },
      "text/plain": [
       "  0%|          | 0/2 [00:00<?, ?it/s]"
      ]
     },
     "metadata": {},
     "output_type": "display_data"
    },
    {
     "name": "stdout",
     "output_type": "stream",
     "text": [
      "Memory usage after optimization is: 5.15 MB\n",
      "Decreased by 16.7%\n",
      "Memory usage of dataframe is 4.03 MB\n"
     ]
    },
    {
     "data": {
      "application/vnd.jupyter.widget-view+json": {
       "model_id": "1e63f50a34a1423a8ce794a621ab00c2",
       "version_major": 2,
       "version_minor": 0
      },
      "text/plain": [
       "  0%|          | 0/2 [00:00<?, ?it/s]"
      ]
     },
     "metadata": {},
     "output_type": "display_data"
    },
    {
     "name": "stdout",
     "output_type": "stream",
     "text": [
      "Memory usage after optimization is: 3.28 MB\n",
      "Decreased by 18.8%\n"
     ]
    },
    {
     "data": {
      "text/html": [
       "<div>\n",
       "<style scoped>\n",
       "    .dataframe tbody tr th:only-of-type {\n",
       "        vertical-align: middle;\n",
       "    }\n",
       "\n",
       "    .dataframe tbody tr th {\n",
       "        vertical-align: top;\n",
       "    }\n",
       "\n",
       "    .dataframe thead th {\n",
       "        text-align: right;\n",
       "    }\n",
       "</style>\n",
       "<table border=\"1\" class=\"dataframe\">\n",
       "  <thead>\n",
       "    <tr style=\"text-align: right;\">\n",
       "      <th></th>\n",
       "      <th>user_id</th>\n",
       "      <th>is_male</th>\n",
       "    </tr>\n",
       "  </thead>\n",
       "  <tbody>\n",
       "    <tr>\n",
       "      <th>350459</th>\n",
       "      <td>350459</td>\n",
       "      <td>1</td>\n",
       "    </tr>\n",
       "    <tr>\n",
       "      <th>188276</th>\n",
       "      <td>188276</td>\n",
       "      <td>1</td>\n",
       "    </tr>\n",
       "    <tr>\n",
       "      <th>99002</th>\n",
       "      <td>99002</td>\n",
       "      <td>0</td>\n",
       "    </tr>\n",
       "    <tr>\n",
       "      <th>155506</th>\n",
       "      <td>155506</td>\n",
       "      <td>0</td>\n",
       "    </tr>\n",
       "    <tr>\n",
       "      <th>213873</th>\n",
       "      <td>213873</td>\n",
       "      <td>0</td>\n",
       "    </tr>\n",
       "  </tbody>\n",
       "</table>\n",
       "</div>"
      ],
      "text/plain": [
       "        user_id  is_male\n",
       "350459   350459        1\n",
       "188276   188276        1\n",
       "99002     99002        0\n",
       "155506   155506        0\n",
       "213873   213873        0"
      ]
     },
     "execution_count": 7,
     "metadata": {},
     "output_type": "execute_result"
    }
   ],
   "source": [
    "target = pandas_reduce_mem_usage(pd.read_parquet(\n",
    "             f'{LOCAL_DATA_PATH}public_train.pqt', columns=[\"user_id\", \"is_male\"]\n",
    "         ).dropna())\n",
    "target = target[target[\"is_male\"] != \"NA\"]\n",
    "target[\"is_male\"] = target[\"is_male\"].astype(np.int32)\n",
    "target = pandas_reduce_mem_usage(target)\n",
    "\n",
    "target.head()"
   ]
  },
  {
   "cell_type": "code",
   "execution_count": 8,
   "id": "47679cad",
   "metadata": {},
   "outputs": [
    {
     "name": "stdout",
     "output_type": "stream",
     "text": [
      "Once deleted, variables cannot be recovered. Proceed (y/[n])? y\n"
     ]
    }
   ],
   "source": [
    "my_reset(\"df\", \"target\")"
   ]
  },
  {
   "cell_type": "code",
   "execution_count": 15,
   "id": "a348681b",
   "metadata": {},
   "outputs": [
    {
     "name": "stdout",
     "output_type": "stream",
     "text": [
      "Memory usage of dataframe is 25716.93 MB\n"
     ]
    },
    {
     "data": {
      "application/vnd.jupyter.widget-view+json": {
       "model_id": "e127c15bde3946da9fcaac3f503f476c",
       "version_major": 2,
       "version_minor": 0
      },
      "text/plain": [
       "  0%|          | 0/41 [00:00<?, ?it/s]"
      ]
     },
     "metadata": {},
     "output_type": "display_data"
    },
    {
     "name": "stdout",
     "output_type": "stream",
     "text": [
      "Memory usage after optimization is: 25114.19 MB\n",
      "Decreased by 2.3%\n"
     ]
    },
    {
     "data": {
      "text/html": [
       "<div>\n",
       "<style scoped>\n",
       "    .dataframe tbody tr th:only-of-type {\n",
       "        vertical-align: middle;\n",
       "    }\n",
       "\n",
       "    .dataframe tbody tr th {\n",
       "        vertical-align: top;\n",
       "    }\n",
       "\n",
       "    .dataframe thead th {\n",
       "        text-align: right;\n",
       "    }\n",
       "</style>\n",
       "<table border=\"1\" class=\"dataframe\">\n",
       "  <thead>\n",
       "    <tr style=\"text-align: right;\">\n",
       "      <th></th>\n",
       "      <th>region_name</th>\n",
       "      <th>city_name</th>\n",
       "      <th>cpe_manufacturer_name</th>\n",
       "      <th>cpe_model_name</th>\n",
       "      <th>url_host</th>\n",
       "      <th>cpe_type_cd</th>\n",
       "      <th>cpe_model_os_type</th>\n",
       "      <th>price</th>\n",
       "      <th>part_of_day</th>\n",
       "      <th>request_cnt</th>\n",
       "      <th>...</th>\n",
       "      <th>Интернет-магазин</th>\n",
       "      <th>Интернет-форум</th>\n",
       "      <th>Информационный сайт</th>\n",
       "      <th>Корпоративный сайт</th>\n",
       "      <th>Поисковая система</th>\n",
       "      <th>Порно-сайт</th>\n",
       "      <th>Почтовый сервис</th>\n",
       "      <th>Сайт-сервис</th>\n",
       "      <th>Социальная сеть</th>\n",
       "      <th>is_male</th>\n",
       "    </tr>\n",
       "  </thead>\n",
       "  <tbody>\n",
       "    <tr>\n",
       "      <th>2272</th>\n",
       "      <td>60</td>\n",
       "      <td>732</td>\n",
       "      <td>27</td>\n",
       "      <td>211</td>\n",
       "      <td>5790</td>\n",
       "      <td>2</td>\n",
       "      <td>0</td>\n",
       "      <td>74259.0</td>\n",
       "      <td>3</td>\n",
       "      <td>1</td>\n",
       "      <td>...</td>\n",
       "      <td>0.016404</td>\n",
       "      <td>0.025437</td>\n",
       "      <td>0.026872</td>\n",
       "      <td>0.042031</td>\n",
       "      <td>0.027271</td>\n",
       "      <td>0.013868</td>\n",
       "      <td>0.012945</td>\n",
       "      <td>0.788617</td>\n",
       "      <td>0.021409</td>\n",
       "      <td>1</td>\n",
       "    </tr>\n",
       "    <tr>\n",
       "      <th>2273</th>\n",
       "      <td>60</td>\n",
       "      <td>732</td>\n",
       "      <td>27</td>\n",
       "      <td>211</td>\n",
       "      <td>65865</td>\n",
       "      <td>2</td>\n",
       "      <td>0</td>\n",
       "      <td>74259.0</td>\n",
       "      <td>0</td>\n",
       "      <td>3</td>\n",
       "      <td>...</td>\n",
       "      <td>0.081871</td>\n",
       "      <td>0.068195</td>\n",
       "      <td>0.093617</td>\n",
       "      <td>0.091981</td>\n",
       "      <td>0.209684</td>\n",
       "      <td>0.077605</td>\n",
       "      <td>0.076367</td>\n",
       "      <td>0.123756</td>\n",
       "      <td>0.073332</td>\n",
       "      <td>1</td>\n",
       "    </tr>\n",
       "    <tr>\n",
       "      <th>2274</th>\n",
       "      <td>60</td>\n",
       "      <td>732</td>\n",
       "      <td>27</td>\n",
       "      <td>211</td>\n",
       "      <td>111474</td>\n",
       "      <td>2</td>\n",
       "      <td>0</td>\n",
       "      <td>74259.0</td>\n",
       "      <td>0</td>\n",
       "      <td>3</td>\n",
       "      <td>...</td>\n",
       "      <td>-1.000000</td>\n",
       "      <td>-1.000000</td>\n",
       "      <td>-1.000000</td>\n",
       "      <td>-1.000000</td>\n",
       "      <td>-1.000000</td>\n",
       "      <td>-1.000000</td>\n",
       "      <td>-1.000000</td>\n",
       "      <td>-1.000000</td>\n",
       "      <td>-1.000000</td>\n",
       "      <td>1</td>\n",
       "    </tr>\n",
       "    <tr>\n",
       "      <th>2275</th>\n",
       "      <td>14</td>\n",
       "      <td>311</td>\n",
       "      <td>27</td>\n",
       "      <td>211</td>\n",
       "      <td>111474</td>\n",
       "      <td>2</td>\n",
       "      <td>0</td>\n",
       "      <td>74259.0</td>\n",
       "      <td>1</td>\n",
       "      <td>2</td>\n",
       "      <td>...</td>\n",
       "      <td>-1.000000</td>\n",
       "      <td>-1.000000</td>\n",
       "      <td>-1.000000</td>\n",
       "      <td>-1.000000</td>\n",
       "      <td>-1.000000</td>\n",
       "      <td>-1.000000</td>\n",
       "      <td>-1.000000</td>\n",
       "      <td>-1.000000</td>\n",
       "      <td>-1.000000</td>\n",
       "      <td>1</td>\n",
       "    </tr>\n",
       "    <tr>\n",
       "      <th>2276</th>\n",
       "      <td>60</td>\n",
       "      <td>732</td>\n",
       "      <td>27</td>\n",
       "      <td>211</td>\n",
       "      <td>125409</td>\n",
       "      <td>2</td>\n",
       "      <td>0</td>\n",
       "      <td>74259.0</td>\n",
       "      <td>0</td>\n",
       "      <td>1</td>\n",
       "      <td>...</td>\n",
       "      <td>0.190411</td>\n",
       "      <td>0.065105</td>\n",
       "      <td>0.131912</td>\n",
       "      <td>0.076863</td>\n",
       "      <td>0.072595</td>\n",
       "      <td>0.035816</td>\n",
       "      <td>0.098164</td>\n",
       "      <td>0.086286</td>\n",
       "      <td>0.130622</td>\n",
       "      <td>1</td>\n",
       "    </tr>\n",
       "  </tbody>\n",
       "</table>\n",
       "<p>5 rows × 41 columns</p>\n",
       "</div>"
      ],
      "text/plain": [
       "      region_name  city_name  cpe_manufacturer_name  cpe_model_name  url_host  \\\n",
       "2272           60        732                     27             211      5790   \n",
       "2273           60        732                     27             211     65865   \n",
       "2274           60        732                     27             211    111474   \n",
       "2275           14        311                     27             211    111474   \n",
       "2276           60        732                     27             211    125409   \n",
       "\n",
       "      cpe_type_cd  cpe_model_os_type    price  part_of_day  request_cnt  ...  \\\n",
       "2272            2                  0  74259.0            3            1  ...   \n",
       "2273            2                  0  74259.0            0            3  ...   \n",
       "2274            2                  0  74259.0            0            3  ...   \n",
       "2275            2                  0  74259.0            1            2  ...   \n",
       "2276            2                  0  74259.0            0            1  ...   \n",
       "\n",
       "      Интернет-магазин  Интернет-форум  Информационный сайт  \\\n",
       "2272          0.016404        0.025437             0.026872   \n",
       "2273          0.081871        0.068195             0.093617   \n",
       "2274         -1.000000       -1.000000            -1.000000   \n",
       "2275         -1.000000       -1.000000            -1.000000   \n",
       "2276          0.190411        0.065105             0.131912   \n",
       "\n",
       "      Корпоративный сайт  Поисковая система  Порно-сайт  Почтовый сервис  \\\n",
       "2272            0.042031           0.027271    0.013868         0.012945   \n",
       "2273            0.091981           0.209684    0.077605         0.076367   \n",
       "2274           -1.000000          -1.000000   -1.000000        -1.000000   \n",
       "2275           -1.000000          -1.000000   -1.000000        -1.000000   \n",
       "2276            0.076863           0.072595    0.035816         0.098164   \n",
       "\n",
       "      Сайт-сервис  Социальная сеть  is_male  \n",
       "2272     0.788617         0.021409        1  \n",
       "2273     0.123756         0.073332        1  \n",
       "2274    -1.000000        -1.000000        1  \n",
       "2275    -1.000000        -1.000000        1  \n",
       "2276     0.086286         0.130622        1  \n",
       "\n",
       "[5 rows x 41 columns]"
      ]
     },
     "execution_count": 15,
     "metadata": {},
     "output_type": "execute_result"
    }
   ],
   "source": [
    "df = df.merge(target, how=\"left\", on=\"user_id\").dropna(subset=[\"is_male\"])\n",
    "df[\"is_male\"] = df[\"is_male\"].astype(np.int32)\n",
    "df = pandas_reduce_mem_usage(df)\n",
    "df.head()"
   ]
  },
  {
   "cell_type": "markdown",
   "id": "5c24f8ef",
   "metadata": {},
   "source": [
    "## CatBoostEncoder"
   ]
  },
  {
   "cell_type": "code",
   "execution_count": 16,
   "id": "add7c5b5",
   "metadata": {},
   "outputs": [],
   "source": [
    "ids = [\"user_id\"]\n",
    "\n",
    "cat_features = [\n",
    "    \"region_name\",\n",
    "    \"city_name\",\n",
    "    \"cpe_manufacturer_name\",\n",
    "    \"cpe_model_name\",\n",
    "    \"url_host\",\n",
    "    \"cpe_type_cd\",\n",
    "    \"cpe_model_os_type\",\n",
    "    \"part_of_day\",\n",
    "    \"domain\",\n",
    "    \"capital_marker\"\n",
    "]\n",
    "\n",
    "continous_features = [\n",
    "    \"request_cnt\",\n",
    "    \"price\",\n",
    "    \"timestamp\",\n",
    "    \"relative_timestamp\",\n",
    "    \"geo_lat\",\n",
    "    \"geo_lon\",\n",
    "    \"population\",\n",
    "    \"timezone\",\n",
    "    \"dist_to_Moscow\",\n",
    "    \"dist_to_SaintP\",\n",
    "    \"dist_to_Novosibirsk\",\n",
    "    \"dist_to_Ekaterinburg\",\n",
    "    \"dist_to_Vladivostok\",\n",
    "    'Блог', \n",
    "    'Интернет-магазин',\n",
    "    'Интернет-форум', \n",
    "    'Информационный сайт', \n",
    "    'Корпоративный сайт',\n",
    "    'Поисковая система', \n",
    "    'Порно-сайт', \n",
    "    'Почтовый сервис', \n",
    "    'Сайт-сервис',\n",
    "    'Социальная сеть'\n",
    "]"
   ]
  },
  {
   "cell_type": "code",
   "execution_count": 17,
   "id": "064e3510",
   "metadata": {},
   "outputs": [],
   "source": [
    "# cbe = CatBoostEncoderWrapper(cat_features=cat_features, sort_col=\"timestamp\", n_folds=10)"
   ]
  },
  {
   "cell_type": "code",
   "execution_count": 18,
   "id": "52842669",
   "metadata": {},
   "outputs": [],
   "source": [
    "# df = cbe.fit_transform(df, target_col=\"is_male\")"
   ]
  },
  {
   "cell_type": "code",
   "execution_count": 19,
   "id": "606687b3",
   "metadata": {},
   "outputs": [
    {
     "data": {
      "text/html": [
       "<div>\n",
       "<style scoped>\n",
       "    .dataframe tbody tr th:only-of-type {\n",
       "        vertical-align: middle;\n",
       "    }\n",
       "\n",
       "    .dataframe tbody tr th {\n",
       "        vertical-align: top;\n",
       "    }\n",
       "\n",
       "    .dataframe thead th {\n",
       "        text-align: right;\n",
       "    }\n",
       "</style>\n",
       "<table border=\"1\" class=\"dataframe\">\n",
       "  <thead>\n",
       "    <tr style=\"text-align: right;\">\n",
       "      <th></th>\n",
       "      <th>region_name</th>\n",
       "      <th>city_name</th>\n",
       "      <th>cpe_manufacturer_name</th>\n",
       "      <th>cpe_model_name</th>\n",
       "      <th>url_host</th>\n",
       "      <th>cpe_type_cd</th>\n",
       "      <th>cpe_model_os_type</th>\n",
       "      <th>price</th>\n",
       "      <th>part_of_day</th>\n",
       "      <th>request_cnt</th>\n",
       "      <th>...</th>\n",
       "      <th>Интернет-магазин</th>\n",
       "      <th>Интернет-форум</th>\n",
       "      <th>Информационный сайт</th>\n",
       "      <th>Корпоративный сайт</th>\n",
       "      <th>Поисковая система</th>\n",
       "      <th>Порно-сайт</th>\n",
       "      <th>Почтовый сервис</th>\n",
       "      <th>Сайт-сервис</th>\n",
       "      <th>Социальная сеть</th>\n",
       "      <th>is_male</th>\n",
       "    </tr>\n",
       "  </thead>\n",
       "  <tbody>\n",
       "    <tr>\n",
       "      <th>2272</th>\n",
       "      <td>60</td>\n",
       "      <td>732</td>\n",
       "      <td>27</td>\n",
       "      <td>211</td>\n",
       "      <td>5790</td>\n",
       "      <td>2</td>\n",
       "      <td>0</td>\n",
       "      <td>74259.0</td>\n",
       "      <td>3</td>\n",
       "      <td>1</td>\n",
       "      <td>...</td>\n",
       "      <td>0.016404</td>\n",
       "      <td>0.025437</td>\n",
       "      <td>0.026872</td>\n",
       "      <td>0.042031</td>\n",
       "      <td>0.027271</td>\n",
       "      <td>0.013868</td>\n",
       "      <td>0.012945</td>\n",
       "      <td>0.788617</td>\n",
       "      <td>0.021409</td>\n",
       "      <td>1</td>\n",
       "    </tr>\n",
       "    <tr>\n",
       "      <th>2273</th>\n",
       "      <td>60</td>\n",
       "      <td>732</td>\n",
       "      <td>27</td>\n",
       "      <td>211</td>\n",
       "      <td>65865</td>\n",
       "      <td>2</td>\n",
       "      <td>0</td>\n",
       "      <td>74259.0</td>\n",
       "      <td>0</td>\n",
       "      <td>3</td>\n",
       "      <td>...</td>\n",
       "      <td>0.081871</td>\n",
       "      <td>0.068195</td>\n",
       "      <td>0.093617</td>\n",
       "      <td>0.091981</td>\n",
       "      <td>0.209684</td>\n",
       "      <td>0.077605</td>\n",
       "      <td>0.076367</td>\n",
       "      <td>0.123756</td>\n",
       "      <td>0.073332</td>\n",
       "      <td>1</td>\n",
       "    </tr>\n",
       "    <tr>\n",
       "      <th>2274</th>\n",
       "      <td>60</td>\n",
       "      <td>732</td>\n",
       "      <td>27</td>\n",
       "      <td>211</td>\n",
       "      <td>111474</td>\n",
       "      <td>2</td>\n",
       "      <td>0</td>\n",
       "      <td>74259.0</td>\n",
       "      <td>0</td>\n",
       "      <td>3</td>\n",
       "      <td>...</td>\n",
       "      <td>-1.000000</td>\n",
       "      <td>-1.000000</td>\n",
       "      <td>-1.000000</td>\n",
       "      <td>-1.000000</td>\n",
       "      <td>-1.000000</td>\n",
       "      <td>-1.000000</td>\n",
       "      <td>-1.000000</td>\n",
       "      <td>-1.000000</td>\n",
       "      <td>-1.000000</td>\n",
       "      <td>1</td>\n",
       "    </tr>\n",
       "    <tr>\n",
       "      <th>2275</th>\n",
       "      <td>14</td>\n",
       "      <td>311</td>\n",
       "      <td>27</td>\n",
       "      <td>211</td>\n",
       "      <td>111474</td>\n",
       "      <td>2</td>\n",
       "      <td>0</td>\n",
       "      <td>74259.0</td>\n",
       "      <td>1</td>\n",
       "      <td>2</td>\n",
       "      <td>...</td>\n",
       "      <td>-1.000000</td>\n",
       "      <td>-1.000000</td>\n",
       "      <td>-1.000000</td>\n",
       "      <td>-1.000000</td>\n",
       "      <td>-1.000000</td>\n",
       "      <td>-1.000000</td>\n",
       "      <td>-1.000000</td>\n",
       "      <td>-1.000000</td>\n",
       "      <td>-1.000000</td>\n",
       "      <td>1</td>\n",
       "    </tr>\n",
       "    <tr>\n",
       "      <th>2276</th>\n",
       "      <td>60</td>\n",
       "      <td>732</td>\n",
       "      <td>27</td>\n",
       "      <td>211</td>\n",
       "      <td>125409</td>\n",
       "      <td>2</td>\n",
       "      <td>0</td>\n",
       "      <td>74259.0</td>\n",
       "      <td>0</td>\n",
       "      <td>1</td>\n",
       "      <td>...</td>\n",
       "      <td>0.190411</td>\n",
       "      <td>0.065105</td>\n",
       "      <td>0.131912</td>\n",
       "      <td>0.076863</td>\n",
       "      <td>0.072595</td>\n",
       "      <td>0.035816</td>\n",
       "      <td>0.098164</td>\n",
       "      <td>0.086286</td>\n",
       "      <td>0.130622</td>\n",
       "      <td>1</td>\n",
       "    </tr>\n",
       "  </tbody>\n",
       "</table>\n",
       "<p>5 rows × 41 columns</p>\n",
       "</div>"
      ],
      "text/plain": [
       "      region_name  city_name  cpe_manufacturer_name  cpe_model_name  url_host  \\\n",
       "2272           60        732                     27             211      5790   \n",
       "2273           60        732                     27             211     65865   \n",
       "2274           60        732                     27             211    111474   \n",
       "2275           14        311                     27             211    111474   \n",
       "2276           60        732                     27             211    125409   \n",
       "\n",
       "      cpe_type_cd  cpe_model_os_type    price  part_of_day  request_cnt  ...  \\\n",
       "2272            2                  0  74259.0            3            1  ...   \n",
       "2273            2                  0  74259.0            0            3  ...   \n",
       "2274            2                  0  74259.0            0            3  ...   \n",
       "2275            2                  0  74259.0            1            2  ...   \n",
       "2276            2                  0  74259.0            0            1  ...   \n",
       "\n",
       "      Интернет-магазин  Интернет-форум  Информационный сайт  \\\n",
       "2272          0.016404        0.025437             0.026872   \n",
       "2273          0.081871        0.068195             0.093617   \n",
       "2274         -1.000000       -1.000000            -1.000000   \n",
       "2275         -1.000000       -1.000000            -1.000000   \n",
       "2276          0.190411        0.065105             0.131912   \n",
       "\n",
       "      Корпоративный сайт  Поисковая система  Порно-сайт  Почтовый сервис  \\\n",
       "2272            0.042031           0.027271    0.013868         0.012945   \n",
       "2273            0.091981           0.209684    0.077605         0.076367   \n",
       "2274           -1.000000          -1.000000   -1.000000        -1.000000   \n",
       "2275           -1.000000          -1.000000   -1.000000        -1.000000   \n",
       "2276            0.076863           0.072595    0.035816         0.098164   \n",
       "\n",
       "      Сайт-сервис  Социальная сеть  is_male  \n",
       "2272     0.788617         0.021409        1  \n",
       "2273     0.123756         0.073332        1  \n",
       "2274    -1.000000        -1.000000        1  \n",
       "2275    -1.000000        -1.000000        1  \n",
       "2276     0.086286         0.130622        1  \n",
       "\n",
       "[5 rows x 41 columns]"
      ]
     },
     "execution_count": 19,
     "metadata": {},
     "output_type": "execute_result"
    }
   ],
   "source": [
    "df.head()"
   ]
  },
  {
   "cell_type": "code",
   "execution_count": 20,
   "id": "68d1e711",
   "metadata": {},
   "outputs": [],
   "source": [
    "# cbe.save(\"../model_zoo\", \"is_male_cbe\")"
   ]
  },
  {
   "cell_type": "code",
   "execution_count": 21,
   "id": "b08f997d",
   "metadata": {},
   "outputs": [
    {
     "name": "stdout",
     "output_type": "stream",
     "text": [
      "Once deleted, variables cannot be recovered. Proceed (y/[n])? y\n"
     ]
    }
   ],
   "source": [
    "my_reset(\"df\")"
   ]
  },
  {
   "cell_type": "code",
   "execution_count": 27,
   "id": "9ed6ad3b",
   "metadata": {},
   "outputs": [],
   "source": [
    "df.to_parquet(f\"{SEQ2SEQ_DATA_PATH}/stages/stage_3_is_male.parquet.gzip\",\n",
    "              compression='gzip')"
   ]
  },
  {
   "cell_type": "markdown",
   "id": "019dc87e",
   "metadata": {},
   "source": [
    "## Make torch Dataset"
   ]
  },
  {
   "cell_type": "code",
   "execution_count": 1,
   "id": "a9a9b4b8",
   "metadata": {},
   "outputs": [],
   "source": [
    "import gc\n",
    "import sys\n",
    "import os\n",
    "import warnings\n",
    "from tqdm import tqdm\n",
    "\n",
    "sys.path.append(os.path.abspath(\"../\"))\n",
    "os.environ['OPENBLAS_NUM_THREADS'] = '1'\n",
    "warnings.filterwarnings('ignore')\n",
    "tqdm.pandas()"
   ]
  },
  {
   "cell_type": "code",
   "execution_count": 2,
   "id": "1be69dfc",
   "metadata": {},
   "outputs": [],
   "source": [
    "import pandas as pd\n",
    "import numpy as np\n",
    "import time\n",
    "import polars as pl\n",
    "import scipy\n",
    "import implicit\n",
    "import bisect\n",
    "import sklearn.metrics as m\n",
    "from catboost import CatBoostClassifier, CatBoostRegressor, Pool\n",
    "\n",
    "from sklearn.model_selection import train_test_split\n",
    "from sklearn.calibration import calibration_curve, CalibratedClassifierCV\n",
    "from sklearn.utils.class_weight import compute_class_weight\n",
    "\n",
    "import torch\n",
    "from torch.utils.data import TensorDataset, DataLoader\n",
    "from torch import nn\n",
    "\n",
    "from torch.optim.lr_scheduler import ReduceLROnPlateau\n",
    "from transformers import get_constant_schedule, get_cosine_schedule_with_warmup"
   ]
  },
  {
   "cell_type": "code",
   "execution_count": 3,
   "id": "5b1b7d8a",
   "metadata": {},
   "outputs": [],
   "source": [
    "import importlib\n",
    "\n",
    "import modules\n",
    "import fe_modules\n",
    "import seq2seq_modules\n",
    "\n",
    "importlib.reload(modules)\n",
    "importlib.reload(fe_modules)\n",
    "importlib.reload(seq2seq_modules)\n",
    "\n",
    "from modules.memory_utils import pandas_reduce_mem_usage, pandas_string_to_cat\n",
    "from seq2seq_modules.data import TargetDataset\n",
    "from seq2seq_modules.models import LSTMModel, StarterBERTModel, AttnLSTMModel, AttentionPoolingBERTModel\n",
    "from seq2seq_modules.weight_initialization import weights_init_uniform_rule, weights_init_xavier\n",
    "from seq2seq_modules.loops import cross_validation, single_model_training\n",
    "from seq2seq_modules.trainer import CVTrainer\n",
    "from seq2seq_modules.utils import age_bucket\n",
    "from seq2seq_modules.metrics import GENDER_METRIC\n",
    "from seq2seq_modules.utils import fix_random_state"
   ]
  },
  {
   "cell_type": "code",
   "execution_count": 4,
   "id": "2de54692",
   "metadata": {},
   "outputs": [],
   "source": [
    "def my_reset(*varnames):\n",
    "    \"\"\"\n",
    "    varnames are what you want to keep\n",
    "    \"\"\"\n",
    "    globals_ = globals()\n",
    "    to_save = {v: globals_[v] for v in varnames}\n",
    "    to_save['my_reset'] = my_reset  # lets keep this function by default\n",
    "    del globals_\n",
    "    get_ipython().magic(\"reset\")\n",
    "    globals().update(to_save)"
   ]
  },
  {
   "cell_type": "code",
   "execution_count": 5,
   "id": "3decfe44",
   "metadata": {},
   "outputs": [],
   "source": [
    "LOCAL_DATA_PATH = '../seq2seq_data/'\n",
    "SEED = 42\n",
    "fix_random_state(SEED)"
   ]
  },
  {
   "cell_type": "code",
   "execution_count": 10,
   "id": "71987699",
   "metadata": {},
   "outputs": [],
   "source": [
    "ids = [\"user_id\"]\n",
    "\n",
    "cat_features = [\n",
    "    \"region_name\",\n",
    "    \"city_name\",\n",
    "    \"cpe_manufacturer_name\",\n",
    "    \"cpe_model_name\",\n",
    "    \"url_host\",\n",
    "    \"cpe_type_cd\",\n",
    "    \"cpe_model_os_type\",\n",
    "    \"part_of_day\",\n",
    "    \"domain\",\n",
    "    \"capital_marker\"\n",
    "]\n",
    "\n",
    "continous_features = [\n",
    "    \"request_cnt\",\n",
    "    \"price\",\n",
    "    \"timestamp\",\n",
    "    \"relative_timestamp\",\n",
    "    \"geo_lat\",\n",
    "    \"geo_lon\",\n",
    "    \"population\",\n",
    "    \"timezone\",\n",
    "    \"dist_to_Moscow\",\n",
    "    \"dist_to_SaintP\",\n",
    "    \"dist_to_Novosibirsk\",\n",
    "    \"dist_to_Ekaterinburg\",\n",
    "    \"dist_to_Vladivostok\",\n",
    "    'Блог', \n",
    "    'Интернет-магазин',\n",
    "    'Интернет-форум', \n",
    "    'Информационный сайт', \n",
    "    'Корпоративный сайт',\n",
    "    'Поисковая система', \n",
    "    'Порно-сайт', \n",
    "    'Почтовый сервис', \n",
    "    'Сайт-сервис',\n",
    "    'Социальная сеть'\n",
    "]"
   ]
  },
  {
   "cell_type": "code",
   "execution_count": 7,
   "id": "15aef6c1",
   "metadata": {
    "scrolled": true
   },
   "outputs": [
    {
     "name": "stdout",
     "output_type": "stream",
     "text": [
      "Memory usage of dataframe is 25114.19 MB\n"
     ]
    },
    {
     "data": {
      "application/vnd.jupyter.widget-view+json": {
       "model_id": "92169995fe764ba48c028fe54b07288e",
       "version_major": 2,
       "version_minor": 0
      },
      "text/plain": [
       "  0%|          | 0/41 [00:00<?, ?it/s]"
      ]
     },
     "metadata": {},
     "output_type": "display_data"
    },
    {
     "name": "stdout",
     "output_type": "stream",
     "text": [
      "Memory usage after optimization is: 25114.19 MB\n",
      "Decreased by 0.0%\n"
     ]
    },
    {
     "data": {
      "text/html": [
       "<div>\n",
       "<style scoped>\n",
       "    .dataframe tbody tr th:only-of-type {\n",
       "        vertical-align: middle;\n",
       "    }\n",
       "\n",
       "    .dataframe tbody tr th {\n",
       "        vertical-align: top;\n",
       "    }\n",
       "\n",
       "    .dataframe thead th {\n",
       "        text-align: right;\n",
       "    }\n",
       "</style>\n",
       "<table border=\"1\" class=\"dataframe\">\n",
       "  <thead>\n",
       "    <tr style=\"text-align: right;\">\n",
       "      <th></th>\n",
       "      <th>region_name</th>\n",
       "      <th>city_name</th>\n",
       "      <th>cpe_manufacturer_name</th>\n",
       "      <th>cpe_model_name</th>\n",
       "      <th>url_host</th>\n",
       "      <th>cpe_type_cd</th>\n",
       "      <th>cpe_model_os_type</th>\n",
       "      <th>price</th>\n",
       "      <th>part_of_day</th>\n",
       "      <th>request_cnt</th>\n",
       "      <th>...</th>\n",
       "      <th>Интернет-магазин</th>\n",
       "      <th>Интернет-форум</th>\n",
       "      <th>Информационный сайт</th>\n",
       "      <th>Корпоративный сайт</th>\n",
       "      <th>Поисковая система</th>\n",
       "      <th>Порно-сайт</th>\n",
       "      <th>Почтовый сервис</th>\n",
       "      <th>Сайт-сервис</th>\n",
       "      <th>Социальная сеть</th>\n",
       "      <th>is_male</th>\n",
       "    </tr>\n",
       "  </thead>\n",
       "  <tbody>\n",
       "    <tr>\n",
       "      <th>2272</th>\n",
       "      <td>60</td>\n",
       "      <td>732</td>\n",
       "      <td>27</td>\n",
       "      <td>211</td>\n",
       "      <td>5790</td>\n",
       "      <td>2</td>\n",
       "      <td>0</td>\n",
       "      <td>74259.0</td>\n",
       "      <td>3</td>\n",
       "      <td>1</td>\n",
       "      <td>...</td>\n",
       "      <td>0.016404</td>\n",
       "      <td>0.025437</td>\n",
       "      <td>0.026872</td>\n",
       "      <td>0.042031</td>\n",
       "      <td>0.027271</td>\n",
       "      <td>0.013868</td>\n",
       "      <td>0.012945</td>\n",
       "      <td>0.788617</td>\n",
       "      <td>0.021409</td>\n",
       "      <td>1</td>\n",
       "    </tr>\n",
       "    <tr>\n",
       "      <th>2273</th>\n",
       "      <td>60</td>\n",
       "      <td>732</td>\n",
       "      <td>27</td>\n",
       "      <td>211</td>\n",
       "      <td>65865</td>\n",
       "      <td>2</td>\n",
       "      <td>0</td>\n",
       "      <td>74259.0</td>\n",
       "      <td>0</td>\n",
       "      <td>3</td>\n",
       "      <td>...</td>\n",
       "      <td>0.081871</td>\n",
       "      <td>0.068195</td>\n",
       "      <td>0.093617</td>\n",
       "      <td>0.091981</td>\n",
       "      <td>0.209684</td>\n",
       "      <td>0.077605</td>\n",
       "      <td>0.076367</td>\n",
       "      <td>0.123756</td>\n",
       "      <td>0.073332</td>\n",
       "      <td>1</td>\n",
       "    </tr>\n",
       "    <tr>\n",
       "      <th>2274</th>\n",
       "      <td>60</td>\n",
       "      <td>732</td>\n",
       "      <td>27</td>\n",
       "      <td>211</td>\n",
       "      <td>111474</td>\n",
       "      <td>2</td>\n",
       "      <td>0</td>\n",
       "      <td>74259.0</td>\n",
       "      <td>0</td>\n",
       "      <td>3</td>\n",
       "      <td>...</td>\n",
       "      <td>-1.000000</td>\n",
       "      <td>-1.000000</td>\n",
       "      <td>-1.000000</td>\n",
       "      <td>-1.000000</td>\n",
       "      <td>-1.000000</td>\n",
       "      <td>-1.000000</td>\n",
       "      <td>-1.000000</td>\n",
       "      <td>-1.000000</td>\n",
       "      <td>-1.000000</td>\n",
       "      <td>1</td>\n",
       "    </tr>\n",
       "    <tr>\n",
       "      <th>2275</th>\n",
       "      <td>14</td>\n",
       "      <td>311</td>\n",
       "      <td>27</td>\n",
       "      <td>211</td>\n",
       "      <td>111474</td>\n",
       "      <td>2</td>\n",
       "      <td>0</td>\n",
       "      <td>74259.0</td>\n",
       "      <td>1</td>\n",
       "      <td>2</td>\n",
       "      <td>...</td>\n",
       "      <td>-1.000000</td>\n",
       "      <td>-1.000000</td>\n",
       "      <td>-1.000000</td>\n",
       "      <td>-1.000000</td>\n",
       "      <td>-1.000000</td>\n",
       "      <td>-1.000000</td>\n",
       "      <td>-1.000000</td>\n",
       "      <td>-1.000000</td>\n",
       "      <td>-1.000000</td>\n",
       "      <td>1</td>\n",
       "    </tr>\n",
       "    <tr>\n",
       "      <th>2276</th>\n",
       "      <td>60</td>\n",
       "      <td>732</td>\n",
       "      <td>27</td>\n",
       "      <td>211</td>\n",
       "      <td>125409</td>\n",
       "      <td>2</td>\n",
       "      <td>0</td>\n",
       "      <td>74259.0</td>\n",
       "      <td>0</td>\n",
       "      <td>1</td>\n",
       "      <td>...</td>\n",
       "      <td>0.190411</td>\n",
       "      <td>0.065105</td>\n",
       "      <td>0.131912</td>\n",
       "      <td>0.076863</td>\n",
       "      <td>0.072595</td>\n",
       "      <td>0.035816</td>\n",
       "      <td>0.098164</td>\n",
       "      <td>0.086286</td>\n",
       "      <td>0.130622</td>\n",
       "      <td>1</td>\n",
       "    </tr>\n",
       "  </tbody>\n",
       "</table>\n",
       "<p>5 rows × 41 columns</p>\n",
       "</div>"
      ],
      "text/plain": [
       "      region_name  city_name  cpe_manufacturer_name  cpe_model_name  url_host  \\\n",
       "2272           60        732                     27             211      5790   \n",
       "2273           60        732                     27             211     65865   \n",
       "2274           60        732                     27             211    111474   \n",
       "2275           14        311                     27             211    111474   \n",
       "2276           60        732                     27             211    125409   \n",
       "\n",
       "      cpe_type_cd  cpe_model_os_type    price  part_of_day  request_cnt  ...  \\\n",
       "2272            2                  0  74259.0            3            1  ...   \n",
       "2273            2                  0  74259.0            0            3  ...   \n",
       "2274            2                  0  74259.0            0            3  ...   \n",
       "2275            2                  0  74259.0            1            2  ...   \n",
       "2276            2                  0  74259.0            0            1  ...   \n",
       "\n",
       "      Интернет-магазин  Интернет-форум  Информационный сайт  \\\n",
       "2272          0.016404        0.025437             0.026872   \n",
       "2273          0.081871        0.068195             0.093617   \n",
       "2274         -1.000000       -1.000000            -1.000000   \n",
       "2275         -1.000000       -1.000000            -1.000000   \n",
       "2276          0.190411        0.065105             0.131912   \n",
       "\n",
       "      Корпоративный сайт  Поисковая система  Порно-сайт  Почтовый сервис  \\\n",
       "2272            0.042031           0.027271    0.013868         0.012945   \n",
       "2273            0.091981           0.209684    0.077605         0.076367   \n",
       "2274           -1.000000          -1.000000   -1.000000        -1.000000   \n",
       "2275           -1.000000          -1.000000   -1.000000        -1.000000   \n",
       "2276            0.076863           0.072595    0.035816         0.098164   \n",
       "\n",
       "      Сайт-сервис  Социальная сеть  is_male  \n",
       "2272     0.788617         0.021409        1  \n",
       "2273     0.123756         0.073332        1  \n",
       "2274    -1.000000        -1.000000        1  \n",
       "2275    -1.000000        -1.000000        1  \n",
       "2276     0.086286         0.130622        1  \n",
       "\n",
       "[5 rows x 41 columns]"
      ]
     },
     "execution_count": 7,
     "metadata": {},
     "output_type": "execute_result"
    }
   ],
   "source": [
    "df = pandas_reduce_mem_usage(\n",
    "    pd.read_parquet(f\"{LOCAL_DATA_PATH}/stages/stage_3_is_male.parquet.gzip\")\n",
    ")\n",
    "df.head()"
   ]
  },
  {
   "cell_type": "code",
   "execution_count": 11,
   "id": "193efed5",
   "metadata": {},
   "outputs": [
    {
     "data": {
      "text/plain": [
       "870"
      ]
     },
     "execution_count": 11,
     "metadata": {},
     "output_type": "execute_result"
    }
   ],
   "source": [
    "gc.collect()"
   ]
  },
  {
   "cell_type": "code",
   "execution_count": 12,
   "id": "6176a280",
   "metadata": {},
   "outputs": [
    {
     "data": {
      "application/vnd.jupyter.widget-view+json": {
       "model_id": "4d14e3389def4418aded444c83aba80e",
       "version_major": 2,
       "version_minor": 0
      },
      "text/plain": [
       "  0%|          | 0/210673077 [00:00<?, ?it/s]"
      ]
     },
     "metadata": {},
     "output_type": "display_data"
    },
    {
     "data": {
      "text/plain": [
       "<seq2seq_modules.data.TargetDataset at 0x7f91306276a0>"
      ]
     },
     "execution_count": 12,
     "metadata": {},
     "output_type": "execute_result"
    }
   ],
   "source": [
    "dataset = TargetDataset(\n",
    "         df,\n",
    "         agg_column=\"user_id\", \n",
    "         time_column=\"timestamp\",\n",
    "         target_column=\"is_male\",\n",
    "         cat_features=cat_features,\n",
    "         cont_features=continous_features,\n",
    "         max_len=1024,\n",
    "         padding_side=\"left\",\n",
    ")\n",
    "user_ids = dataset.get_agg_col()\n",
    "dataset"
   ]
  },
  {
   "cell_type": "markdown",
   "id": "78f36334",
   "metadata": {},
   "source": [
    "## Feed to the model"
   ]
  },
  {
   "cell_type": "code",
   "execution_count": 13,
   "id": "23b5e8a3",
   "metadata": {
    "scrolled": true
   },
   "outputs": [
    {
     "name": "stderr",
     "output_type": "stream",
     "text": [
      "100%|███████████████████████████████████████████| 10/10 [00:00<00:00, 36.59it/s]\n",
      "100%|███████████████████████████████████████| 23/23 [00:00<00:00, 810663.80it/s]\n"
     ]
    }
   ],
   "source": [
    "cat_feature_indexes = []\n",
    "cont_feature_indexes = []\n",
    "vocab_sizes = {}\n",
    "\n",
    "for i in tqdm(range(len(cat_features))):\n",
    "    cat_feature_indexes.append(i)\n",
    "    vocab_sizes[i] = int(df[cat_features[i]].max() + 1)\n",
    "\n",
    "for i in tqdm(range(len(continous_features))):\n",
    "    cont_feature_indexes.append(i)"
   ]
  },
  {
   "cell_type": "code",
   "execution_count": 14,
   "id": "69849399",
   "metadata": {},
   "outputs": [
    {
     "name": "stderr",
     "output_type": "stream",
     "text": [
      "100%|████████████████████████████████| 264326/264326 [00:20<00:00, 12844.15it/s]\n"
     ]
    },
    {
     "data": {
      "text/plain": [
       "tensor([0, 0, 0,  ..., 0, 1, 0])"
      ]
     },
     "execution_count": 14,
     "metadata": {},
     "output_type": "execute_result"
    }
   ],
   "source": [
    "targets = torch.cat([el[3].unsqueeze(0) for el in tqdm(dataset)], dim=0)\n",
    "targets"
   ]
  },
  {
   "cell_type": "code",
   "execution_count": 15,
   "id": "de39e685",
   "metadata": {},
   "outputs": [],
   "source": [
    "# model = AttentionPoolingBERTModel(\n",
    "#         cat_feature_indexes=cat_feature_indexes,\n",
    "#         vocab_sizes=vocab_sizes,\n",
    "#         cont_feature_indexes=cont_feature_indexes,\n",
    "#         encoder_hidden_dim=16,\n",
    "#         hidden_dim=256,\n",
    "#         dim_feedforward=512,\n",
    "#         output_dim=7,\n",
    "#         pe_type=\"trainable\",\n",
    "#         use_mask=False,\n",
    "#         max_len=1024,\n",
    "#         use_key_padding_mask=True,\n",
    "# )\n",
    "\n",
    "# model = StarterBERTModel(\n",
    "#         cat_feature_indexes=cat_feature_indexes,\n",
    "#         vocab_sizes=vocab_sizes,\n",
    "#         cont_feature_indexes=cont_feature_indexes,\n",
    "#         encoder_hidden_dim=16,\n",
    "#         hidden_dim=256,\n",
    "#         dim_feedforward=512,\n",
    "#         output_dim=2,\n",
    "#         pe_type=\"trainable\",\n",
    "#         use_mask=False,\n",
    "#         max_len=1024,\n",
    "#         use_key_padding_mask=False,\n",
    "#         starter=\"randn\",\n",
    "#         shared=False\n",
    "# )\n",
    "\n",
    "model = LSTMModel(\n",
    "        cat_feature_indexes=cat_feature_indexes,\n",
    "        vocab_sizes=vocab_sizes,\n",
    "        cont_feature_indexes=cont_feature_indexes,\n",
    "        encoder_hidden_dim=128,\n",
    "        hidden_dim=256,\n",
    "        num_layers=3,\n",
    "        output_dim=2,\n",
    "        dropout=0.2,\n",
    ")\n",
    "\n",
    "weights_init_xavier(model)\n",
    "\n",
    "metric = GENDER_METRIC"
   ]
  },
  {
   "cell_type": "code",
   "execution_count": 16,
   "id": "9ec814fa",
   "metadata": {
    "scrolled": true
   },
   "outputs": [],
   "source": [
    "trainer = CVTrainer(\n",
    "            model_name=\"is_male_attn_rnn_text_features_6_folds\",\n",
    "            model=model,\n",
    "            n_folds=6,\n",
    ")"
   ]
  },
  {
   "cell_type": "code",
   "execution_count": 17,
   "id": "2ad9817a",
   "metadata": {
    "scrolled": true
   },
   "outputs": [
    {
     "name": "stdout",
     "output_type": "stream",
     "text": [
      "FOLD 0\n",
      "--------------------------------\n"
     ]
    },
    {
     "data": {
      "application/vnd.jupyter.widget-view+json": {
       "model_id": "f610d980ff3740fe84c52e70b629d2ad",
       "version_major": 2,
       "version_minor": 0
      },
      "text/plain": [
       "  0%|          | 0/861 [00:00<?, ?it/s]"
      ]
     },
     "metadata": {},
     "output_type": "display_data"
    },
    {
     "data": {
      "application/vnd.jupyter.widget-view+json": {
       "model_id": "9f920fd10c47449997d792c59f33417d",
       "version_major": 2,
       "version_minor": 0
      },
      "text/plain": [
       "  0%|          | 0/173 [00:00<?, ?it/s]"
      ]
     },
     "metadata": {},
     "output_type": "display_data"
    },
    {
     "name": "stdout",
     "output_type": "stream",
     "text": [
      "EPOCH: 0\n",
      "{'Gender GINI': 0.341041885845627, 'loss': 0.6436580294127004}\n",
      "{'Gender GINI': 0.5698997856694976, 'loss': 0.5629423375032109}\n"
     ]
    },
    {
     "data": {
      "application/vnd.jupyter.widget-view+json": {
       "model_id": "bf12eee1d9b34d299c6e83a3571142cd",
       "version_major": 2,
       "version_minor": 0
      },
      "text/plain": [
       "  0%|          | 0/861 [00:00<?, ?it/s]"
      ]
     },
     "metadata": {},
     "output_type": "display_data"
    },
    {
     "data": {
      "application/vnd.jupyter.widget-view+json": {
       "model_id": "5a4a41720155403fa2e401901873ca8e",
       "version_major": 2,
       "version_minor": 0
      },
      "text/plain": [
       "  0%|          | 0/173 [00:00<?, ?it/s]"
      ]
     },
     "metadata": {},
     "output_type": "display_data"
    },
    {
     "name": "stdout",
     "output_type": "stream",
     "text": [
      "EPOCH: 1\n",
      "{'Gender GINI': 0.6405406942996863, 'loss': 0.5197133050991705}\n",
      "{'Gender GINI': 0.6899293356608984, 'loss': 0.49142748239940415}\n"
     ]
    },
    {
     "data": {
      "application/vnd.jupyter.widget-view+json": {
       "model_id": "e6a47017083243b9836778174e778731",
       "version_major": 2,
       "version_minor": 0
      },
      "text/plain": [
       "  0%|          | 0/861 [00:00<?, ?it/s]"
      ]
     },
     "metadata": {},
     "output_type": "display_data"
    },
    {
     "data": {
      "application/vnd.jupyter.widget-view+json": {
       "model_id": "8ac36721f23e48228be542c20f595930",
       "version_major": 2,
       "version_minor": 0
      },
      "text/plain": [
       "  0%|          | 0/173 [00:00<?, ?it/s]"
      ]
     },
     "metadata": {},
     "output_type": "display_data"
    },
    {
     "name": "stdout",
     "output_type": "stream",
     "text": [
      "EPOCH: 2\n",
      "{'Gender GINI': 0.7032836578778106, 'loss': 0.47846577544136487}\n",
      "{'Gender GINI': 0.7013654099114266, 'loss': 0.4830894497113078}\n"
     ]
    },
    {
     "data": {
      "application/vnd.jupyter.widget-view+json": {
       "model_id": "0a634574ea0c4a30a5f884617123cbc6",
       "version_major": 2,
       "version_minor": 0
      },
      "text/plain": [
       "  0%|          | 0/861 [00:00<?, ?it/s]"
      ]
     },
     "metadata": {},
     "output_type": "display_data"
    },
    {
     "data": {
      "application/vnd.jupyter.widget-view+json": {
       "model_id": "d2285c5c85274150a61aacb8ca9f7986",
       "version_major": 2,
       "version_minor": 0
      },
      "text/plain": [
       "  0%|          | 0/173 [00:00<?, ?it/s]"
      ]
     },
     "metadata": {},
     "output_type": "display_data"
    },
    {
     "name": "stdout",
     "output_type": "stream",
     "text": [
      "EPOCH: 3\n",
      "{'Gender GINI': 0.7310066244521263, 'loss': 0.45806115161932487}\n",
      "{'Gender GINI': 0.7095552211706033, 'loss': 0.4772160448441858}\n"
     ]
    },
    {
     "data": {
      "application/vnd.jupyter.widget-view+json": {
       "model_id": "204ec0dfc0e64be6b1aed30231348973",
       "version_major": 2,
       "version_minor": 0
      },
      "text/plain": [
       "  0%|          | 0/861 [00:00<?, ?it/s]"
      ]
     },
     "metadata": {},
     "output_type": "display_data"
    },
    {
     "data": {
      "application/vnd.jupyter.widget-view+json": {
       "model_id": "2db0301abc14443393fcbe8540c7b5cd",
       "version_major": 2,
       "version_minor": 0
      },
      "text/plain": [
       "  0%|          | 0/173 [00:00<?, ?it/s]"
      ]
     },
     "metadata": {},
     "output_type": "display_data"
    },
    {
     "name": "stdout",
     "output_type": "stream",
     "text": [
      "EPOCH: 4\n",
      "{'Gender GINI': 0.756028157661579, 'loss': 0.4382069750198308}\n",
      "{'Gender GINI': 0.703874399615134, 'loss': 0.48342964207293143}\n"
     ]
    },
    {
     "data": {
      "application/vnd.jupyter.widget-view+json": {
       "model_id": "e2c7cac79f724426b86f8bb141706bea",
       "version_major": 2,
       "version_minor": 0
      },
      "text/plain": [
       "  0%|          | 0/861 [00:00<?, ?it/s]"
      ]
     },
     "metadata": {},
     "output_type": "display_data"
    },
    {
     "data": {
      "application/vnd.jupyter.widget-view+json": {
       "model_id": "d2f1953594c94203bd7f9c8325eca0ac",
       "version_major": 2,
       "version_minor": 0
      },
      "text/plain": [
       "  0%|          | 0/173 [00:00<?, ?it/s]"
      ]
     },
     "metadata": {},
     "output_type": "display_data"
    },
    {
     "name": "stdout",
     "output_type": "stream",
     "text": [
      "EPOCH: 5\n",
      "{'Gender GINI': 0.7786964998640933, 'loss': 0.4189379297956428}\n",
      "{'Gender GINI': 0.7029514052299732, 'loss': 0.48851722700239253}\n"
     ]
    },
    {
     "data": {
      "application/vnd.jupyter.widget-view+json": {
       "model_id": "7daed3a45d2f41378c7480a3fbdf746b",
       "version_major": 2,
       "version_minor": 0
      },
      "text/plain": [
       "  0%|          | 0/861 [00:00<?, ?it/s]"
      ]
     },
     "metadata": {},
     "output_type": "display_data"
    },
    {
     "data": {
      "application/vnd.jupyter.widget-view+json": {
       "model_id": "6d22442d44e5458bb3a54fde1726b646",
       "version_major": 2,
       "version_minor": 0
      },
      "text/plain": [
       "  0%|          | 0/173 [00:00<?, ?it/s]"
      ]
     },
     "metadata": {},
     "output_type": "display_data"
    },
    {
     "name": "stdout",
     "output_type": "stream",
     "text": [
      "EPOCH: 6\n",
      "{'Gender GINI': 0.7948128011767577, 'loss': 0.4042036598313632}\n",
      "{'Gender GINI': 0.6980030954643559, 'loss': 0.49546727454569495}\n"
     ]
    },
    {
     "data": {
      "application/vnd.jupyter.widget-view+json": {
       "model_id": "ddf78ffabfce49b9a224d4143875b555",
       "version_major": 2,
       "version_minor": 0
      },
      "text/plain": [
       "  0%|          | 0/861 [00:00<?, ?it/s]"
      ]
     },
     "metadata": {},
     "output_type": "display_data"
    },
    {
     "data": {
      "application/vnd.jupyter.widget-view+json": {
       "model_id": "20466c3005054e6ba45bea4d68f2fe61",
       "version_major": 2,
       "version_minor": 0
      },
      "text/plain": [
       "  0%|          | 0/173 [00:00<?, ?it/s]"
      ]
     },
     "metadata": {},
     "output_type": "display_data"
    },
    {
     "name": "stdout",
     "output_type": "stream",
     "text": [
      "EPOCH: 7\n",
      "{'Gender GINI': 0.8064978610832512, 'loss': 0.39313067337200186}\n",
      "{'Gender GINI': 0.6925289381729594, 'loss': 0.5038989505365383}\n"
     ]
    },
    {
     "data": {
      "application/vnd.jupyter.widget-view+json": {
       "model_id": "01c7f4999798425f9069ea7a7e7d51b6",
       "version_major": 2,
       "version_minor": 0
      },
      "text/plain": [
       "  0%|          | 0/861 [00:00<?, ?it/s]"
      ]
     },
     "metadata": {},
     "output_type": "display_data"
    },
    {
     "data": {
      "application/vnd.jupyter.widget-view+json": {
       "model_id": "d863ed3ed4ac40949f35e6b6c8fd7d32",
       "version_major": 2,
       "version_minor": 0
      },
      "text/plain": [
       "  0%|          | 0/173 [00:00<?, ?it/s]"
      ]
     },
     "metadata": {},
     "output_type": "display_data"
    },
    {
     "name": "stdout",
     "output_type": "stream",
     "text": [
      "EPOCH: 8\n",
      "{'Gender GINI': 0.8166605441820587, 'loss': 0.38310465020602874}\n",
      "{'Gender GINI': 0.6886746180971512, 'loss': 0.5103732664547944}\n"
     ]
    },
    {
     "data": {
      "application/vnd.jupyter.widget-view+json": {
       "model_id": "6cb34a7a766d4e0c9453b8e02dc98033",
       "version_major": 2,
       "version_minor": 0
      },
      "text/plain": [
       "  0%|          | 0/861 [00:00<?, ?it/s]"
      ]
     },
     "metadata": {},
     "output_type": "display_data"
    },
    {
     "ename": "KeyboardInterrupt",
     "evalue": "",
     "output_type": "error",
     "traceback": [
      "\u001b[0;31m---------------------------------------------------------------------------\u001b[0m",
      "\u001b[0;31mKeyboardInterrupt\u001b[0m                         Traceback (most recent call last)",
      "Cell \u001b[0;32mIn[17], line 1\u001b[0m\n\u001b[0;32m----> 1\u001b[0m train_fold_metrics, eval_fold_metrics, embeddings_df, logits_df \u001b[38;5;241m=\u001b[39m \u001b[43mtrainer\u001b[49m\u001b[38;5;241;43m.\u001b[39;49m\u001b[43mfit_transform\u001b[49m\u001b[43m(\u001b[49m\n\u001b[1;32m      2\u001b[0m \u001b[43m                          \u001b[49m\u001b[43mdataset\u001b[49m\u001b[38;5;241;43m=\u001b[39;49m\u001b[43mdataset\u001b[49m\u001b[43m,\u001b[49m\n\u001b[1;32m      3\u001b[0m \u001b[43m                          \u001b[49m\u001b[43mloss_function\u001b[49m\u001b[38;5;241;43m=\u001b[39;49m\u001b[43mnn\u001b[49m\u001b[38;5;241;43m.\u001b[39;49m\u001b[43mCrossEntropyLoss\u001b[49m\u001b[43m,\u001b[49m\n\u001b[1;32m      4\u001b[0m \u001b[43m                          \u001b[49m\u001b[43mmetric_func\u001b[49m\u001b[38;5;241;43m=\u001b[39;49m\u001b[43mmetric\u001b[49m\u001b[43m,\u001b[49m\n\u001b[1;32m      5\u001b[0m \u001b[43m                          \u001b[49m\u001b[43moptimizer\u001b[49m\u001b[38;5;241;43m=\u001b[39;49m\u001b[43mtorch\u001b[49m\u001b[38;5;241;43m.\u001b[39;49m\u001b[43moptim\u001b[49m\u001b[38;5;241;43m.\u001b[39;49m\u001b[43mAdamW\u001b[49m\u001b[43m,\u001b[49m\n\u001b[1;32m      6\u001b[0m \u001b[43m                          \u001b[49m\u001b[43mget_scheduler\u001b[49m\u001b[38;5;241;43m=\u001b[39;49m\u001b[43mget_cosine_schedule_with_warmup\u001b[49m\u001b[43m,\u001b[49m\n\u001b[1;32m      7\u001b[0m \u001b[43m                          \u001b[49m\u001b[43mstrat_array\u001b[49m\u001b[38;5;241;43m=\u001b[39;49m\u001b[43mtargets\u001b[49m\u001b[43m,\u001b[49m\n\u001b[1;32m      8\u001b[0m \u001b[43m                          \u001b[49m\u001b[43mtarget_name\u001b[49m\u001b[38;5;241;43m=\u001b[39;49m\u001b[38;5;124;43m\"\u001b[39;49m\u001b[38;5;124;43mis_male\u001b[39;49m\u001b[38;5;124;43m\"\u001b[39;49m\u001b[43m,\u001b[49m\n\u001b[1;32m      9\u001b[0m \u001b[43m                          \u001b[49m\u001b[43muser_ids\u001b[49m\u001b[38;5;241;43m=\u001b[39;49m\u001b[43muser_ids\u001b[49m\u001b[43m,\u001b[49m\n\u001b[1;32m     10\u001b[0m \u001b[43m                          \u001b[49m\u001b[43mshuffle\u001b[49m\u001b[38;5;241;43m=\u001b[39;49m\u001b[38;5;28;43;01mTrue\u001b[39;49;00m\u001b[43m,\u001b[49m\n\u001b[1;32m     11\u001b[0m \u001b[43m                          \u001b[49m\u001b[43mepochs\u001b[49m\u001b[38;5;241;43m=\u001b[39;49m\u001b[38;5;241;43m10\u001b[39;49m\u001b[43m,\u001b[49m\n\u001b[1;32m     12\u001b[0m \u001b[43m                          \u001b[49m\u001b[43mlr\u001b[49m\u001b[38;5;241;43m=\u001b[39;49m\u001b[38;5;241;43m1e-3\u001b[39;49m\u001b[43m,\u001b[49m\n\u001b[1;32m     13\u001b[0m \u001b[43m                          \u001b[49m\u001b[43mweight_decay\u001b[49m\u001b[38;5;241;43m=\u001b[39;49m\u001b[38;5;241;43m1e-2\u001b[39;49m\u001b[43m,\u001b[49m\n\u001b[1;32m     14\u001b[0m \u001b[43m                          \u001b[49m\u001b[43mnum_warmup_steps\u001b[49m\u001b[38;5;241;43m=\u001b[39;49m\u001b[38;5;241;43m0\u001b[39;49m\u001b[43m,\u001b[49m\n\u001b[1;32m     15\u001b[0m \u001b[43m                          \u001b[49m\u001b[43mbatch_size\u001b[49m\u001b[38;5;241;43m=\u001b[39;49m\u001b[38;5;241;43m256\u001b[39;49m\u001b[43m,\u001b[49m\n\u001b[1;32m     16\u001b[0m \u001b[43m                          \u001b[49m\u001b[43mrandom_state\u001b[49m\u001b[38;5;241;43m=\u001b[39;49m\u001b[38;5;241;43m69\u001b[39;49m\u001b[43m,\u001b[49m\n\u001b[1;32m     17\u001b[0m \u001b[43m                          \u001b[49m\u001b[43mdevice\u001b[49m\u001b[38;5;241;43m=\u001b[39;49m\u001b[43m \u001b[49m\u001b[38;5;124;43m\"\u001b[39;49m\u001b[38;5;124;43mcuda\u001b[39;49m\u001b[38;5;124;43m\"\u001b[39;49m\n\u001b[1;32m     18\u001b[0m \u001b[43m)\u001b[49m\n",
      "File \u001b[0;32m~/PycharmProjects/mts-ml-cup/seq2seq_modules/trainer.py:118\u001b[0m, in \u001b[0;36mCVTrainer.fit_transform\u001b[0;34m(self, dataset, loss_function, metric_func, optimizer, get_scheduler, target_name, user_ids, strat_array, shuffle, epochs, lr, weight_decay, num_warmup_steps, batch_size, random_state, device)\u001b[0m\n\u001b[1;32m    115\u001b[0m eval_epoch_metrics \u001b[38;5;241m=\u001b[39m []\n\u001b[1;32m    117\u001b[0m \u001b[38;5;28;01mfor\u001b[39;00m epoch_i \u001b[38;5;129;01min\u001b[39;00m \u001b[38;5;28mrange\u001b[39m(epochs):\n\u001b[0;32m--> 118\u001b[0m     train_metrics, train_embeddings, train_logits, train_targets \u001b[38;5;241m=\u001b[39m \u001b[43mtrain_epoch\u001b[49m\u001b[43m(\u001b[49m\n\u001b[1;32m    119\u001b[0m \u001b[43m        \u001b[49m\u001b[43mfold_model\u001b[49m\u001b[43m,\u001b[49m\n\u001b[1;32m    120\u001b[0m \u001b[43m        \u001b[49m\u001b[43mtrain_loader\u001b[49m\u001b[43m,\u001b[49m\n\u001b[1;32m    121\u001b[0m \u001b[43m        \u001b[49m\u001b[43mfold_loss_function\u001b[49m\u001b[43m,\u001b[49m\n\u001b[1;32m    122\u001b[0m \u001b[43m        \u001b[49m\u001b[43mfold_optimizer\u001b[49m\u001b[43m,\u001b[49m\n\u001b[1;32m    123\u001b[0m \u001b[43m        \u001b[49m\u001b[43mscheduler\u001b[49m\u001b[43m,\u001b[49m\n\u001b[1;32m    124\u001b[0m \u001b[43m        \u001b[49m\u001b[43mdevice\u001b[49m\u001b[43m,\u001b[49m\n\u001b[1;32m    125\u001b[0m \u001b[43m        \u001b[49m\u001b[43mmetric_func\u001b[49m\u001b[43m,\u001b[49m\n\u001b[1;32m    126\u001b[0m \u001b[43m    \u001b[49m\u001b[43m)\u001b[49m\n\u001b[1;32m    127\u001b[0m     eval_metrics, eval_embeddings, eval_logits, eval_targets \u001b[38;5;241m=\u001b[39m eval_epoch(\n\u001b[1;32m    128\u001b[0m         fold_model,\n\u001b[1;32m    129\u001b[0m         eval_loader,\n\u001b[0;32m   (...)\u001b[0m\n\u001b[1;32m    132\u001b[0m         metric_func\n\u001b[1;32m    133\u001b[0m     )\n\u001b[1;32m    135\u001b[0m     train_epoch_metrics\u001b[38;5;241m.\u001b[39mappend(train_metrics)\n",
      "File \u001b[0;32m~/PycharmProjects/mts-ml-cup/seq2seq_modules/loops.py:47\u001b[0m, in \u001b[0;36mtrain_epoch\u001b[0;34m(model, data_loader, loss_function, optimizer, scheduler, device, metric_func, pass_logits)\u001b[0m\n\u001b[1;32m     43\u001b[0m     loss \u001b[38;5;241m=\u001b[39m loss_function(batch_embeddings\u001b[38;5;241m.\u001b[39mdouble(), batch_target)\n\u001b[1;32m     45\u001b[0m total_train_loss \u001b[38;5;241m+\u001b[39m\u001b[38;5;241m=\u001b[39m loss\u001b[38;5;241m.\u001b[39mitem()\n\u001b[0;32m---> 47\u001b[0m \u001b[43mloss\u001b[49m\u001b[38;5;241;43m.\u001b[39;49m\u001b[43mbackward\u001b[49m\u001b[43m(\u001b[49m\u001b[43m)\u001b[49m\n\u001b[1;32m     48\u001b[0m torch\u001b[38;5;241m.\u001b[39mnn\u001b[38;5;241m.\u001b[39mutils\u001b[38;5;241m.\u001b[39mclip_grad_norm_(model\u001b[38;5;241m.\u001b[39mparameters(), \u001b[38;5;241m1.0\u001b[39m)\n\u001b[1;32m     49\u001b[0m optimizer\u001b[38;5;241m.\u001b[39mstep()\n",
      "File \u001b[0;32m~/PycharmProjects/mts-ml-cup/venv/lib/python3.10/site-packages/torch/_tensor.py:488\u001b[0m, in \u001b[0;36mTensor.backward\u001b[0;34m(self, gradient, retain_graph, create_graph, inputs)\u001b[0m\n\u001b[1;32m    478\u001b[0m \u001b[38;5;28;01mif\u001b[39;00m has_torch_function_unary(\u001b[38;5;28mself\u001b[39m):\n\u001b[1;32m    479\u001b[0m     \u001b[38;5;28;01mreturn\u001b[39;00m handle_torch_function(\n\u001b[1;32m    480\u001b[0m         Tensor\u001b[38;5;241m.\u001b[39mbackward,\n\u001b[1;32m    481\u001b[0m         (\u001b[38;5;28mself\u001b[39m,),\n\u001b[0;32m   (...)\u001b[0m\n\u001b[1;32m    486\u001b[0m         inputs\u001b[38;5;241m=\u001b[39minputs,\n\u001b[1;32m    487\u001b[0m     )\n\u001b[0;32m--> 488\u001b[0m \u001b[43mtorch\u001b[49m\u001b[38;5;241;43m.\u001b[39;49m\u001b[43mautograd\u001b[49m\u001b[38;5;241;43m.\u001b[39;49m\u001b[43mbackward\u001b[49m\u001b[43m(\u001b[49m\n\u001b[1;32m    489\u001b[0m \u001b[43m    \u001b[49m\u001b[38;5;28;43mself\u001b[39;49m\u001b[43m,\u001b[49m\u001b[43m \u001b[49m\u001b[43mgradient\u001b[49m\u001b[43m,\u001b[49m\u001b[43m \u001b[49m\u001b[43mretain_graph\u001b[49m\u001b[43m,\u001b[49m\u001b[43m \u001b[49m\u001b[43mcreate_graph\u001b[49m\u001b[43m,\u001b[49m\u001b[43m \u001b[49m\u001b[43minputs\u001b[49m\u001b[38;5;241;43m=\u001b[39;49m\u001b[43minputs\u001b[49m\n\u001b[1;32m    490\u001b[0m \u001b[43m\u001b[49m\u001b[43m)\u001b[49m\n",
      "File \u001b[0;32m~/PycharmProjects/mts-ml-cup/venv/lib/python3.10/site-packages/torch/autograd/__init__.py:197\u001b[0m, in \u001b[0;36mbackward\u001b[0;34m(tensors, grad_tensors, retain_graph, create_graph, grad_variables, inputs)\u001b[0m\n\u001b[1;32m    192\u001b[0m     retain_graph \u001b[38;5;241m=\u001b[39m create_graph\n\u001b[1;32m    194\u001b[0m \u001b[38;5;66;03m# The reason we repeat same the comment below is that\u001b[39;00m\n\u001b[1;32m    195\u001b[0m \u001b[38;5;66;03m# some Python versions print out the first line of a multi-line function\u001b[39;00m\n\u001b[1;32m    196\u001b[0m \u001b[38;5;66;03m# calls in the traceback and some print out the last line\u001b[39;00m\n\u001b[0;32m--> 197\u001b[0m \u001b[43mVariable\u001b[49m\u001b[38;5;241;43m.\u001b[39;49m\u001b[43m_execution_engine\u001b[49m\u001b[38;5;241;43m.\u001b[39;49m\u001b[43mrun_backward\u001b[49m\u001b[43m(\u001b[49m\u001b[43m  \u001b[49m\u001b[38;5;66;43;03m# Calls into the C++ engine to run the backward pass\u001b[39;49;00m\n\u001b[1;32m    198\u001b[0m \u001b[43m    \u001b[49m\u001b[43mtensors\u001b[49m\u001b[43m,\u001b[49m\u001b[43m \u001b[49m\u001b[43mgrad_tensors_\u001b[49m\u001b[43m,\u001b[49m\u001b[43m \u001b[49m\u001b[43mretain_graph\u001b[49m\u001b[43m,\u001b[49m\u001b[43m \u001b[49m\u001b[43mcreate_graph\u001b[49m\u001b[43m,\u001b[49m\u001b[43m \u001b[49m\u001b[43minputs\u001b[49m\u001b[43m,\u001b[49m\n\u001b[1;32m    199\u001b[0m \u001b[43m    \u001b[49m\u001b[43mallow_unreachable\u001b[49m\u001b[38;5;241;43m=\u001b[39;49m\u001b[38;5;28;43;01mTrue\u001b[39;49;00m\u001b[43m,\u001b[49m\u001b[43m \u001b[49m\u001b[43maccumulate_grad\u001b[49m\u001b[38;5;241;43m=\u001b[39;49m\u001b[38;5;28;43;01mTrue\u001b[39;49;00m\u001b[43m)\u001b[49m\n",
      "\u001b[0;31mKeyboardInterrupt\u001b[0m: "
     ]
    }
   ],
   "source": [
    "train_fold_metrics, eval_fold_metrics, embeddings_df, logits_df = trainer.fit_transform(\n",
    "                          dataset=dataset,\n",
    "                          loss_function=nn.CrossEntropyLoss,\n",
    "                          metric_func=metric,\n",
    "                          optimizer=torch.optim.AdamW,\n",
    "                          get_scheduler=get_cosine_schedule_with_warmup,\n",
    "                          strat_array=targets,\n",
    "                          target_name=\"is_male\",\n",
    "                          user_ids=user_ids,\n",
    "                          shuffle=True,\n",
    "                          epochs=10,\n",
    "                          lr=1e-3,\n",
    "                          weight_decay=1e-2,\n",
    "                          num_warmup_steps=0,\n",
    "                          batch_size=256,\n",
    "                          random_state=69,\n",
    "                          device= \"cuda\"\n",
    ")"
   ]
  },
  {
   "cell_type": "code",
   "execution_count": 16,
   "id": "04506645",
   "metadata": {},
   "outputs": [],
   "source": [
    "CV_FEATURES = \"../cv_data/\"\n",
    "MODEL_ZOO = \"../model_zoo/\""
   ]
  },
  {
   "cell_type": "code",
   "execution_count": 17,
   "id": "58e227de",
   "metadata": {},
   "outputs": [],
   "source": [
    "trainer.save_model(model_name=MODEL_ZOO + trainer.model_name)"
   ]
  },
  {
   "cell_type": "code",
   "execution_count": 18,
   "id": "f0fbc293",
   "metadata": {},
   "outputs": [],
   "source": [
    "embeddings_df.to_parquet(f\"{CV_FEATURES}/is_male_cv_embeddings_20_folds.parquet.gzip\",\n",
    "                          compression='gzip')\n",
    "logits_df.to_parquet(f\"{CV_FEATURES}/is_male_cv_logits_20_folds.parquet.gzip\",\n",
    "                          compression='gzip')"
   ]
  },
  {
   "cell_type": "code",
   "execution_count": 15,
   "id": "42126d80",
   "metadata": {},
   "outputs": [],
   "source": [
    "1"
   ]
  },
  {
   "cell_type": "code",
   "execution_count": null,
   "id": "4b2cb94d",
   "metadata": {},
   "outputs": [],
   "source": []
  }
 ],
 "metadata": {
  "hide_input": false,
  "kernelspec": {
   "display_name": "Python 3 (ipykernel)",
   "language": "python",
   "name": "python3"
  },
  "language_info": {
   "codemirror_mode": {
    "name": "ipython",
    "version": 3
   },
   "file_extension": ".py",
   "mimetype": "text/x-python",
   "name": "python",
   "nbconvert_exporter": "python",
   "pygments_lexer": "ipython3",
   "version": "3.10.6"
  },
  "toc": {
   "base_numbering": 1,
   "nav_menu": {},
   "number_sections": true,
   "sideBar": true,
   "skip_h1_title": false,
   "title_cell": "Table of Contents",
   "title_sidebar": "Contents",
   "toc_cell": false,
   "toc_position": {},
   "toc_section_display": true,
   "toc_window_display": false
  },
  "varInspector": {
   "cols": {
    "lenName": 16,
    "lenType": 16,
    "lenVar": 40
   },
   "kernels_config": {
    "python": {
     "delete_cmd_postfix": "",
     "delete_cmd_prefix": "del ",
     "library": "var_list.py",
     "varRefreshCmd": "print(var_dic_list())"
    },
    "r": {
     "delete_cmd_postfix": ") ",
     "delete_cmd_prefix": "rm(",
     "library": "var_list.r",
     "varRefreshCmd": "cat(var_dic_list()) "
    }
   },
   "types_to_exclude": [
    "module",
    "function",
    "builtin_function_or_method",
    "instance",
    "_Feature"
   ],
   "window_display": false
  }
 },
 "nbformat": 4,
 "nbformat_minor": 5
}
