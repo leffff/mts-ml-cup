{
 "cells": [
  {
   "cell_type": "code",
   "execution_count": 1,
   "id": "4892701c",
   "metadata": {
    "ExecuteTime": {
     "end_time": "2023-02-02T12:28:14.431711Z",
     "start_time": "2023-02-02T12:28:14.425091Z"
    }
   },
   "outputs": [],
   "source": [
    "import gc\n",
    "import sys\n",
    "import os\n",
    "import warnings\n",
    "from tqdm import tqdm\n",
    "import seaborn as sns    \n",
    "\n",
    "sys.path.append(os.path.abspath(\"../\"))\n",
    "\n",
    "os.environ['OPENBLAS_NUM_THREADS'] = '1'\n",
    "warnings.filterwarnings('ignore')"
   ]
  },
  {
   "cell_type": "code",
   "execution_count": 2,
   "id": "c0e8bcea",
   "metadata": {
    "ExecuteTime": {
     "end_time": "2023-02-02T12:28:17.470282Z",
     "start_time": "2023-02-02T12:28:14.651171Z"
    }
   },
   "outputs": [],
   "source": [
    "import pandas as pd\n",
    "import numpy as np\n",
    "import time\n",
    "import polars as pl\n",
    "import scipy\n",
    "import implicit\n",
    "import bisect\n",
    "import sklearn.metrics as m\n",
    "from catboost import CatBoostClassifier, CatBoostRegressor, Pool\n",
    "from sklearn.model_selection import train_test_split\n",
    "from sklearn.calibration import calibration_curve, CalibratedClassifierCV"
   ]
  },
  {
   "cell_type": "code",
   "execution_count": 3,
   "id": "1c7aa5d5",
   "metadata": {
    "ExecuteTime": {
     "end_time": "2023-02-02T12:28:26.405251Z",
     "start_time": "2023-02-02T12:28:26.394474Z"
    }
   },
   "outputs": [],
   "source": [
    "import importlib\n",
    "\n",
    "import modules\n",
    "import fe_modules\n",
    "\n",
    "importlib.reload(modules)\n",
    "importlib.reload(fe_modules)\n",
    "\n",
    "from modules.memory_utils import pandas_reduce_mem_usage, pandas_string_to_cat\n",
    "from fe_modules.text_manipulation import get_domain\n",
    "from fe_modules.datetime_features import get_timestamp, get_relative_time, part_of_day_to_hour, add_hour_to_date\n",
    "from fe_modules.preprocessing import clean_os_type"
   ]
  },
  {
   "cell_type": "markdown",
   "id": "965c1531",
   "metadata": {},
   "source": [
    "# Load data"
   ]
  },
  {
   "cell_type": "code",
   "execution_count": 4,
   "id": "ed76998f",
   "metadata": {
    "ExecuteTime": {
     "end_time": "2023-02-02T12:28:30.947423Z",
     "start_time": "2023-02-02T12:28:30.940937Z"
    }
   },
   "outputs": [],
   "source": [
    "LOCAL_DATA_PATH = '../data/'\n",
    "SPLIT_SEED = 42"
   ]
  },
  {
   "cell_type": "code",
   "execution_count": 5,
   "id": "67f4618d",
   "metadata": {
    "ExecuteTime": {
     "end_time": "2023-02-02T12:28:44.266904Z",
     "start_time": "2023-02-02T12:28:31.172082Z"
    },
    "scrolled": true
   },
   "outputs": [
    {
     "name": "stdout",
     "output_type": "stream",
     "text": [
      "Memory usage of dataframe is 29562.33 MB\n"
     ]
    },
    {
     "data": {
      "application/vnd.jupyter.widget-view+json": {
       "model_id": "927646f511f34ff9b6540c7a3ee9c038",
       "version_major": 2,
       "version_minor": 0
      },
      "text/plain": [
       "  0%|          | 0/12 [00:00<?, ?it/s]"
      ]
     },
     "metadata": {},
     "output_type": "display_data"
    },
    {
     "name": "stdout",
     "output_type": "stream",
     "text": [
      "Memory usage after optimization is: 26174.98 MB\n",
      "Decreased by 11.5%\n"
     ]
    }
   ],
   "source": [
    "df = pandas_reduce_mem_usage( \n",
    "        pd.read_parquet(\n",
    "            f'{LOCAL_DATA_PATH}competition_data_final_pqt/'\n",
    "    ))\n",
    "df = clean_os_type(df)\n"
   ]
  },
  {
   "cell_type": "code",
   "execution_count": 6,
   "id": "c385a821",
   "metadata": {},
   "outputs": [
    {
     "name": "stdout",
     "output_type": "stream",
     "text": [
      "Memory usage of dataframe is 6.18 MB\n"
     ]
    },
    {
     "data": {
      "application/vnd.jupyter.widget-view+json": {
       "model_id": "8d03e44bb66e435e84e4fb638634f0c2",
       "version_major": 2,
       "version_minor": 0
      },
      "text/plain": [
       "  0%|          | 0/2 [00:00<?, ?it/s]"
      ]
     },
     "metadata": {},
     "output_type": "display_data"
    },
    {
     "name": "stdout",
     "output_type": "stream",
     "text": [
      "Memory usage after optimization is: 5.15 MB\n",
      "Decreased by 16.7%\n"
     ]
    }
   ],
   "source": [
    "target = pandas_reduce_mem_usage(\n",
    "    pd.read_parquet(\n",
    "        f'{LOCAL_DATA_PATH}public_train.pqt', columns=[\"user_id\", \"age\"]\n",
    "    )\n",
    ")"
   ]
  },
  {
   "cell_type": "code",
   "execution_count": null,
   "id": "8a100689",
   "metadata": {},
   "outputs": [],
   "source": [
    "df = pandas_reduce_mem_usage(df.merge(target, how=\"left\", on=\"user_id\").dropna(subset=[\"age\"]))\n",
    "\n",
    "df"
   ]
  },
  {
   "cell_type": "code",
   "execution_count": null,
   "id": "5b2d4158",
   "metadata": {},
   "outputs": [],
   "source": [
    "sns.displot(df, x=\"bill_length_mm\", y=\"bill_depth_mm\")"
   ]
  },
  {
   "cell_type": "code",
   "execution_count": null,
   "id": "6c4e5276",
   "metadata": {},
   "outputs": [],
   "source": []
  }
 ],
 "metadata": {
  "hide_input": false,
  "kernelspec": {
   "display_name": "Python 3 (ipykernel)",
   "language": "python",
   "name": "python3"
  },
  "language_info": {
   "codemirror_mode": {
    "name": "ipython",
    "version": 3
   },
   "file_extension": ".py",
   "mimetype": "text/x-python",
   "name": "python",
   "nbconvert_exporter": "python",
   "pygments_lexer": "ipython3",
   "version": "3.10.6"
  },
  "toc": {
   "base_numbering": 1,
   "nav_menu": {},
   "number_sections": true,
   "sideBar": true,
   "skip_h1_title": false,
   "title_cell": "Table of Contents",
   "title_sidebar": "Contents",
   "toc_cell": false,
   "toc_position": {},
   "toc_section_display": true,
   "toc_window_display": false
  },
  "varInspector": {
   "cols": {
    "lenName": 16,
    "lenType": 16,
    "lenVar": 40
   },
   "kernels_config": {
    "python": {
     "delete_cmd_postfix": "",
     "delete_cmd_prefix": "del ",
     "library": "var_list.py",
     "varRefreshCmd": "print(var_dic_list())"
    },
    "r": {
     "delete_cmd_postfix": ") ",
     "delete_cmd_prefix": "rm(",
     "library": "var_list.r",
     "varRefreshCmd": "cat(var_dic_list()) "
    }
   },
   "types_to_exclude": [
    "module",
    "function",
    "builtin_function_or_method",
    "instance",
    "_Feature"
   ],
   "window_display": false
  }
 },
 "nbformat": 4,
 "nbformat_minor": 5
}
