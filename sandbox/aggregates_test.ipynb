{
 "cells": [
  {
   "cell_type": "code",
   "execution_count": 1,
   "id": "41990d7e",
   "metadata": {},
   "outputs": [],
   "source": [
    "import gc\n",
    "import sys\n",
    "import os\n",
    "import warnings\n",
    "from tqdm import tqdm\n",
    "import seaborn as sns    \n",
    "\n",
    "warnings.filterwarnings('ignore')\n",
    "\n",
    "import pandas as pd\n",
    "import numpy as np\n",
    "\n",
    "\n",
    "import sys\n",
    "\n",
    "sys.path.append(os.path.abspath(\"modules/\"))\n",
    "sys.path.append(os.path.abspath(\"fe_modules/\"))\n",
    "sys.path.append(os.path.abspath(\"seq2seq_modules/\"))\n",
    "\n",
    "import modules\n",
    "import importlib\n",
    "importlib.reload(modules)\n",
    "\n",
    "from modules.memory_utils import pandas_reduce_mem_usage, pandas_string_to_cat"
   ]
  },
  {
   "cell_type": "code",
   "execution_count": 2,
   "id": "c28b8969",
   "metadata": {},
   "outputs": [],
   "source": [
    "LOCAL_DATA_PATH = './data/'\n",
    "SPLIT_SEED = 42"
   ]
  },
  {
   "cell_type": "code",
   "execution_count": 3,
   "id": "629ee9a3",
   "metadata": {},
   "outputs": [],
   "source": [
    "def get_agg_amount_of_travel(df: pd.DataFrame,\n",
    "                agg_col: str = \"user_id\",\n",
    "                target_col: str = 'city_name',\n",
    "                timestamp_col: str = 'timestamp',\n",
    "                alias: str = None,\n",
    "                sort: bool = False) -> pd.DataFrame:\n",
    "    if alias:\n",
    "        col_name = alias\n",
    "    else:\n",
    "        col_name = f'{agg_col}_amount_of_travel'\n",
    "\n",
    "    df = df.merge(df.sort_values(timestamp_col).groupby(agg_col)[target_col].agg(\n",
    "    amount_of_travel  = get_travel\n",
    "    ).rename(columns={'amount_of_travel':col_name})\n",
    "             , how='left', on=agg_col)\n",
    "    if sort:\n",
    "        return df.sort_values(by=agg_col)\n",
    "\n",
    "    return df"
   ]
  },
  {
   "cell_type": "code",
   "execution_count": 4,
   "id": "1de6fe86",
   "metadata": {},
   "outputs": [],
   "source": [
    "from datetime_features import get_timestamp\n",
    "from geopy.distance import geodesic as GD\n",
    "from geo_features import map_cities"
   ]
  },
  {
   "cell_type": "code",
   "execution_count": 5,
   "id": "33306553",
   "metadata": {},
   "outputs": [
    {
     "name": "stdout",
     "output_type": "stream",
     "text": [
      "Memory usage of dataframe is 2988.16 MB\n"
     ]
    },
    {
     "data": {
      "application/vnd.jupyter.widget-view+json": {
       "model_id": "a8cac3a8e1a14629b52df5ec2dac8368",
       "version_major": 2,
       "version_minor": 0
      },
      "text/plain": [
       "  0%|          | 0/12 [00:00<?, ?it/s]"
      ]
     },
     "metadata": {},
     "output_type": "display_data"
    },
    {
     "name": "stdout",
     "output_type": "stream",
     "text": [
      "Memory usage after optimization is: 2521.26 MB\n",
      "Decreased by 15.6%\n",
      "Memory usage of dataframe is 0.05 MB\n"
     ]
    },
    {
     "data": {
      "application/vnd.jupyter.widget-view+json": {
       "model_id": "a28b1ef9cb5f4b4d8c3deb3ff7b1ab56",
       "version_major": 2,
       "version_minor": 0
      },
      "text/plain": [
       "  0%|          | 0/6 [00:00<?, ?it/s]"
      ]
     },
     "metadata": {},
     "output_type": "display_data"
    },
    {
     "name": "stdout",
     "output_type": "stream",
     "text": [
      "Memory usage after optimization is: 0.03 MB\n",
      "Decreased by 47.8%\n",
      "Memory usage of dataframe is 3614.32 MB\n"
     ]
    },
    {
     "data": {
      "application/vnd.jupyter.widget-view+json": {
       "model_id": "50ded99751994ff88f9989d230ea94c8",
       "version_major": 2,
       "version_minor": 0
      },
      "text/plain": [
       "  0%|          | 0/18 [00:00<?, ?it/s]"
      ]
     },
     "metadata": {},
     "output_type": "display_data"
    },
    {
     "name": "stdout",
     "output_type": "stream",
     "text": [
      "Memory usage after optimization is: 3487.51 MB\n",
      "Decreased by 3.5%\n"
     ]
    }
   ],
   "source": [
    "df = pandas_reduce_mem_usage( \n",
    "        pd.read_parquet(\n",
    "            f'{LOCAL_DATA_PATH}competition_data_final_pqt/part-00000-aba60f69-2b63-4cc1-95ca-542598094698-c000.snappy.parquet'\n",
    "    ))\n",
    "df = map_cities(df, folder_path= \"external_data/\")\n",
    "df = get_timestamp(df, date_col='date')\n",
    "df = pandas_reduce_mem_usage(df)"
   ]
  },
  {
   "cell_type": "code",
   "execution_count": 6,
   "id": "7a919e36",
   "metadata": {},
   "outputs": [],
   "source": [
    "import geopandas"
   ]
  },
  {
   "cell_type": "code",
   "execution_count": 8,
   "id": "f311317c",
   "metadata": {},
   "outputs": [],
   "source": [
    "def get_dist(points_df):\n",
    "    temp = (points_df != points_df.shift(1))\n",
    "    points_df=points_df[temp].set_crs(epsg=4326)\n",
    "\n",
    "    points = points_df.distance(points_df.shift(1)).fillna(0)\n",
    "    return points.mean()\n",
    "\n",
    "def agg_get_dist(df, lat_col, lon_con):\n",
    "    gdf = geopandas.GeoDataFrame(\n",
    "        df[['user_id','city_name','timestamp']], \n",
    "        geometry=geopandas.points_from_xy(df[lat_col], df[lon_con]))\n",
    "    print('sorting started')\n",
    "    gdf=gdf.sort_values('timestamp')\n",
    "    print('agg started')\n",
    "    distances = gdf.groupby('user_id', as_index=True)['geometry'].agg(get_dist).astype(np.float32)\n",
    "    print('merging started')\n",
    "    df = df.merge(distances.rename({'geometry':'mean_travel_distance'}), how='left',on='user_id')\n",
    "    return df"
   ]
  },
  {
   "cell_type": "code",
   "execution_count": 9,
   "id": "893c21c6",
   "metadata": {},
   "outputs": [
    {
     "name": "stdout",
     "output_type": "stream",
     "text": [
      "sorting started\n",
      "agg started\n",
      "merging started\n"
     ]
    }
   ],
   "source": [
    "df = agg_get_dist(df,'geo_lat','geo_lon')"
   ]
  },
  {
   "cell_type": "code",
   "execution_count": null,
   "id": "2785de7e",
   "metadata": {},
   "outputs": [],
   "source": [
    "df.head()"
   ]
  },
  {
   "cell_type": "code",
   "execution_count": 45,
   "id": "9e0370fe",
   "metadata": {},
   "outputs": [],
   "source": [
    "df = df.merge(, how='left', on='user_id')"
   ]
  },
  {
   "cell_type": "code",
   "execution_count": 40,
   "id": "591a769c",
   "metadata": {},
   "outputs": [
    {
     "data": {
      "text/plain": [
       "user_id\n",
       "4         2.944318\n",
       "16        0.000000\n",
       "18        0.348726\n",
       "26        0.000000\n",
       "27        0.466315\n",
       "            ...   \n",
       "415251    0.000000\n",
       "415266    0.000000\n",
       "415273    0.000000\n",
       "415277    0.000000\n",
       "415305    0.000000\n",
       "Name: geometry, Length: 41594, dtype: float64"
      ]
     },
     "execution_count": 40,
     "metadata": {},
     "output_type": "execute_result"
    }
   ],
   "source": [
    "distances"
   ]
  },
  {
   "cell_type": "code",
   "execution_count": 49,
   "id": "b780a967",
   "metadata": {},
   "outputs": [],
   "source": [
    "def get_agg_aot(df: pd.DataFrame,\n",
    "                agg_col: str = \"user_id\",\n",
    "                target_col: str = 'city_name',\n",
    "                timestamp_col: str = 'timestamp',\n",
    "                alias: str = None,\n",
    "                sort: bool = False) -> pd.DataFrame:\n",
    "    if alias:\n",
    "        col_name = alias\n",
    "    else:\n",
    "        col_name = f'{agg_col}_amount_of_travel'\n",
    "\n",
    "    df = df.merge(df.sort_values(timestamp_col).groupby(agg_col)[target_col].agg(\n",
    "    amount_of_travel  = get_travel\n",
    "    ).rename(columns={'amount_of_travel':col_name})\n",
    "             , how='left', on=agg_col)\n",
    "    if sort:\n",
    "        return df.sort_values(by=agg_col)\n",
    "\n",
    "    return df"
   ]
  },
  {
   "cell_type": "code",
   "execution_count": 50,
   "id": "770d3829",
   "metadata": {},
   "outputs": [
    {
     "data": {
      "text/html": [
       "<div>\n",
       "<style scoped>\n",
       "    .dataframe tbody tr th:only-of-type {\n",
       "        vertical-align: middle;\n",
       "    }\n",
       "\n",
       "    .dataframe tbody tr th {\n",
       "        vertical-align: top;\n",
       "    }\n",
       "\n",
       "    .dataframe thead th {\n",
       "        text-align: right;\n",
       "    }\n",
       "</style>\n",
       "<table border=\"1\" class=\"dataframe\">\n",
       "  <thead>\n",
       "    <tr style=\"text-align: right;\">\n",
       "      <th></th>\n",
       "      <th>region_name</th>\n",
       "      <th>city_name</th>\n",
       "      <th>cpe_manufacturer_name</th>\n",
       "      <th>cpe_model_name</th>\n",
       "      <th>url_host</th>\n",
       "      <th>cpe_type_cd</th>\n",
       "      <th>cpe_model_os_type</th>\n",
       "      <th>price</th>\n",
       "      <th>date</th>\n",
       "      <th>part_of_day</th>\n",
       "      <th>request_cnt</th>\n",
       "      <th>user_id</th>\n",
       "      <th>timestamp</th>\n",
       "      <th>amount_of_travel</th>\n",
       "      <th>user_id_amount_of_travel</th>\n",
       "    </tr>\n",
       "  </thead>\n",
       "  <tbody>\n",
       "    <tr>\n",
       "      <th>0</th>\n",
       "      <td>Оренбургская область</td>\n",
       "      <td>Оренбург</td>\n",
       "      <td>Apple</td>\n",
       "      <td>iPhone XR</td>\n",
       "      <td>eda.ru</td>\n",
       "      <td>smartphone</td>\n",
       "      <td>iOS</td>\n",
       "      <td>47854.0</td>\n",
       "      <td>2021-06-16</td>\n",
       "      <td>day</td>\n",
       "      <td>1</td>\n",
       "      <td>55415</td>\n",
       "      <td>162380160.0</td>\n",
       "      <td>0</td>\n",
       "      <td>0</td>\n",
       "    </tr>\n",
       "    <tr>\n",
       "      <th>1</th>\n",
       "      <td>Ростовская область</td>\n",
       "      <td>Ростов-на-Дону</td>\n",
       "      <td>Apple</td>\n",
       "      <td>iPhone XR</td>\n",
       "      <td>o2.mail.ru</td>\n",
       "      <td>smartphone</td>\n",
       "      <td>iOS</td>\n",
       "      <td>51208.0</td>\n",
       "      <td>2021-06-16</td>\n",
       "      <td>day</td>\n",
       "      <td>1</td>\n",
       "      <td>389762</td>\n",
       "      <td>162380160.0</td>\n",
       "      <td>34</td>\n",
       "      <td>34</td>\n",
       "    </tr>\n",
       "    <tr>\n",
       "      <th>2</th>\n",
       "      <td>Московская область</td>\n",
       "      <td>Серпухов</td>\n",
       "      <td>Samsung</td>\n",
       "      <td>Galaxy S8 Dual</td>\n",
       "      <td>ria.ru</td>\n",
       "      <td>smartphone</td>\n",
       "      <td>Android</td>\n",
       "      <td>54990.0</td>\n",
       "      <td>2021-06-16</td>\n",
       "      <td>day</td>\n",
       "      <td>1</td>\n",
       "      <td>30551</td>\n",
       "      <td>162380160.0</td>\n",
       "      <td>64</td>\n",
       "      <td>64</td>\n",
       "    </tr>\n",
       "    <tr>\n",
       "      <th>3</th>\n",
       "      <td>Санкт-Петербург</td>\n",
       "      <td>Санкт-Петербург</td>\n",
       "      <td>Huawei</td>\n",
       "      <td>Y9 2018</td>\n",
       "      <td>sun9-29.userapi.com</td>\n",
       "      <td>smartphone</td>\n",
       "      <td>Android</td>\n",
       "      <td>13901.0</td>\n",
       "      <td>2021-06-16</td>\n",
       "      <td>day</td>\n",
       "      <td>1</td>\n",
       "      <td>153830</td>\n",
       "      <td>162380160.0</td>\n",
       "      <td>20</td>\n",
       "      <td>20</td>\n",
       "    </tr>\n",
       "    <tr>\n",
       "      <th>4</th>\n",
       "      <td>Санкт-Петербург</td>\n",
       "      <td>Санкт-Петербург</td>\n",
       "      <td>Huawei</td>\n",
       "      <td>Y9 2018</td>\n",
       "      <td>yastatic.net</td>\n",
       "      <td>smartphone</td>\n",
       "      <td>Android</td>\n",
       "      <td>13901.0</td>\n",
       "      <td>2021-06-16</td>\n",
       "      <td>day</td>\n",
       "      <td>2</td>\n",
       "      <td>153830</td>\n",
       "      <td>162380160.0</td>\n",
       "      <td>20</td>\n",
       "      <td>20</td>\n",
       "    </tr>\n",
       "    <tr>\n",
       "      <th>...</th>\n",
       "      <td>...</td>\n",
       "      <td>...</td>\n",
       "      <td>...</td>\n",
       "      <td>...</td>\n",
       "      <td>...</td>\n",
       "      <td>...</td>\n",
       "      <td>...</td>\n",
       "      <td>...</td>\n",
       "      <td>...</td>\n",
       "      <td>...</td>\n",
       "      <td>...</td>\n",
       "      <td>...</td>\n",
       "      <td>...</td>\n",
       "      <td>...</td>\n",
       "      <td>...</td>\n",
       "    </tr>\n",
       "    <tr>\n",
       "      <th>32638704</th>\n",
       "      <td>Омская область</td>\n",
       "      <td>Омск</td>\n",
       "      <td>Xiaomi</td>\n",
       "      <td>Redmi 6</td>\n",
       "      <td>yastatic.net</td>\n",
       "      <td>smartphone</td>\n",
       "      <td>Android</td>\n",
       "      <td>11663.0</td>\n",
       "      <td>2022-11-01</td>\n",
       "      <td>morning</td>\n",
       "      <td>1</td>\n",
       "      <td>220333</td>\n",
       "      <td>166726080.0</td>\n",
       "      <td>6</td>\n",
       "      <td>6</td>\n",
       "    </tr>\n",
       "    <tr>\n",
       "      <th>32638705</th>\n",
       "      <td>Омская область</td>\n",
       "      <td>Омск</td>\n",
       "      <td>Xiaomi</td>\n",
       "      <td>Redmi 6</td>\n",
       "      <td>yandex.ru</td>\n",
       "      <td>smartphone</td>\n",
       "      <td>Android</td>\n",
       "      <td>11663.0</td>\n",
       "      <td>2022-11-01</td>\n",
       "      <td>evening</td>\n",
       "      <td>5</td>\n",
       "      <td>220333</td>\n",
       "      <td>166726080.0</td>\n",
       "      <td>6</td>\n",
       "      <td>6</td>\n",
       "    </tr>\n",
       "    <tr>\n",
       "      <th>32638706</th>\n",
       "      <td>Омская область</td>\n",
       "      <td>Омск</td>\n",
       "      <td>Xiaomi</td>\n",
       "      <td>Redmi 6</td>\n",
       "      <td>yandex.ru</td>\n",
       "      <td>smartphone</td>\n",
       "      <td>Android</td>\n",
       "      <td>11663.0</td>\n",
       "      <td>2022-11-01</td>\n",
       "      <td>day</td>\n",
       "      <td>5</td>\n",
       "      <td>220333</td>\n",
       "      <td>166726080.0</td>\n",
       "      <td>6</td>\n",
       "      <td>6</td>\n",
       "    </tr>\n",
       "    <tr>\n",
       "      <th>32638707</th>\n",
       "      <td>Омская область</td>\n",
       "      <td>Омск</td>\n",
       "      <td>Xiaomi</td>\n",
       "      <td>Redmi 6</td>\n",
       "      <td>i.ytimg.com</td>\n",
       "      <td>smartphone</td>\n",
       "      <td>Android</td>\n",
       "      <td>11663.0</td>\n",
       "      <td>2022-11-01</td>\n",
       "      <td>night</td>\n",
       "      <td>1</td>\n",
       "      <td>220333</td>\n",
       "      <td>166726080.0</td>\n",
       "      <td>6</td>\n",
       "      <td>6</td>\n",
       "    </tr>\n",
       "    <tr>\n",
       "      <th>32638708</th>\n",
       "      <td>Омская область</td>\n",
       "      <td>Омск</td>\n",
       "      <td>Xiaomi</td>\n",
       "      <td>Redmi 6</td>\n",
       "      <td>vkcoffee.operator555.su</td>\n",
       "      <td>smartphone</td>\n",
       "      <td>Android</td>\n",
       "      <td>11663.0</td>\n",
       "      <td>2022-11-01</td>\n",
       "      <td>morning</td>\n",
       "      <td>1</td>\n",
       "      <td>220333</td>\n",
       "      <td>166726080.0</td>\n",
       "      <td>6</td>\n",
       "      <td>6</td>\n",
       "    </tr>\n",
       "  </tbody>\n",
       "</table>\n",
       "<p>32638709 rows × 15 columns</p>\n",
       "</div>"
      ],
      "text/plain": [
       "                   region_name        city_name cpe_manufacturer_name  \\\n",
       "0         Оренбургская область         Оренбург                 Apple   \n",
       "1           Ростовская область   Ростов-на-Дону                 Apple   \n",
       "2           Московская область         Серпухов               Samsung   \n",
       "3              Санкт-Петербург  Санкт-Петербург                Huawei   \n",
       "4              Санкт-Петербург  Санкт-Петербург                Huawei   \n",
       "...                        ...              ...                   ...   \n",
       "32638704        Омская область             Омск                Xiaomi   \n",
       "32638705        Омская область             Омск                Xiaomi   \n",
       "32638706        Омская область             Омск                Xiaomi   \n",
       "32638707        Омская область             Омск                Xiaomi   \n",
       "32638708        Омская область             Омск                Xiaomi   \n",
       "\n",
       "          cpe_model_name                 url_host cpe_type_cd  \\\n",
       "0              iPhone XR                   eda.ru  smartphone   \n",
       "1              iPhone XR               o2.mail.ru  smartphone   \n",
       "2         Galaxy S8 Dual                   ria.ru  smartphone   \n",
       "3                Y9 2018      sun9-29.userapi.com  smartphone   \n",
       "4                Y9 2018             yastatic.net  smartphone   \n",
       "...                  ...                      ...         ...   \n",
       "32638704         Redmi 6             yastatic.net  smartphone   \n",
       "32638705         Redmi 6                yandex.ru  smartphone   \n",
       "32638706         Redmi 6                yandex.ru  smartphone   \n",
       "32638707         Redmi 6              i.ytimg.com  smartphone   \n",
       "32638708         Redmi 6  vkcoffee.operator555.su  smartphone   \n",
       "\n",
       "         cpe_model_os_type    price        date part_of_day  request_cnt  \\\n",
       "0                      iOS  47854.0  2021-06-16         day            1   \n",
       "1                      iOS  51208.0  2021-06-16         day            1   \n",
       "2                  Android  54990.0  2021-06-16         day            1   \n",
       "3                  Android  13901.0  2021-06-16         day            1   \n",
       "4                  Android  13901.0  2021-06-16         day            2   \n",
       "...                    ...      ...         ...         ...          ...   \n",
       "32638704           Android  11663.0  2022-11-01     morning            1   \n",
       "32638705           Android  11663.0  2022-11-01     evening            5   \n",
       "32638706           Android  11663.0  2022-11-01         day            5   \n",
       "32638707           Android  11663.0  2022-11-01       night            1   \n",
       "32638708           Android  11663.0  2022-11-01     morning            1   \n",
       "\n",
       "          user_id    timestamp  amount_of_travel  user_id_amount_of_travel  \n",
       "0           55415  162380160.0                 0                         0  \n",
       "1          389762  162380160.0                34                        34  \n",
       "2           30551  162380160.0                64                        64  \n",
       "3          153830  162380160.0                20                        20  \n",
       "4          153830  162380160.0                20                        20  \n",
       "...           ...          ...               ...                       ...  \n",
       "32638704   220333  166726080.0                 6                         6  \n",
       "32638705   220333  166726080.0                 6                         6  \n",
       "32638706   220333  166726080.0                 6                         6  \n",
       "32638707   220333  166726080.0                 6                         6  \n",
       "32638708   220333  166726080.0                 6                         6  \n",
       "\n",
       "[32638709 rows x 15 columns]"
      ]
     },
     "execution_count": 50,
     "metadata": {},
     "output_type": "execute_result"
    }
   ],
   "source": [
    "get_agg_aot(df)"
   ]
  },
  {
   "cell_type": "code",
   "execution_count": null,
   "id": "69b30383",
   "metadata": {},
   "outputs": [],
   "source": []
  }
 ],
 "metadata": {
  "kernelspec": {
   "display_name": "Python 3 (ipykernel)",
   "language": "python",
   "name": "python3"
  },
  "language_info": {
   "codemirror_mode": {
    "name": "ipython",
    "version": 3
   },
   "file_extension": ".py",
   "mimetype": "text/x-python",
   "name": "python",
   "nbconvert_exporter": "python",
   "pygments_lexer": "ipython3",
   "version": "3.10.9"
  }
 },
 "nbformat": 4,
 "nbformat_minor": 5
}
